{
  "nbformat": 4,
  "nbformat_minor": 0,
  "metadata": {
    "colab": {
      "provenance": [],
      "include_colab_link": true
    },
    "kernelspec": {
      "name": "python3",
      "display_name": "Python 3"
    },
    "language_info": {
      "name": "python"
    }
  },
  "cells": [
    {
      "cell_type": "markdown",
      "metadata": {
        "id": "view-in-github",
        "colab_type": "text"
      },
      "source": [
        "<a href=\"https://colab.research.google.com/github/Sottix99/SMOS_Final_Project/blob/main/ESS8Dataset.ipynb\" target=\"_parent\"><img src=\"https://colab.research.google.com/assets/colab-badge.svg\" alt=\"Open In Colab\"/></a>"
      ]
    },
    {
      "cell_type": "markdown",
      "source": [
        "# Load the dataset"
      ],
      "metadata": {
        "id": "5WkwRAQLl7nK"
      }
    },
    {
      "cell_type": "code",
      "source": [
        "%%capture\n",
        "import numpy as np\n",
        "import pandas as pd \n",
        "from tqdm import tqdm\n",
        "import matplotlib.pyplot as plt\n",
        "import time\n",
        "import csv\n",
        "import os\n",
        "import missingno as msno\n",
        "from collections import Counter\n",
        "from datetime import datetime\n",
        "from scipy.cluster.hierarchy import dendrogram, linkage\n",
        "from collections import defaultdict\n",
        "import statistics\n",
        "from sklearn.preprocessing import Normalizer, StandardScaler\n",
        "from sklearn import preprocessing\n",
        "import plotly.express as px\n",
        "import seaborn as sns"
      ],
      "metadata": {
        "id": "m1QZ4Dr3sHso"
      },
      "execution_count": 1,
      "outputs": []
    },
    {
      "cell_type": "code",
      "execution_count": 2,
      "metadata": {
        "colab": {
          "base_uri": "https://localhost:8080/"
        },
        "id": "8R4YXIh9rzW9",
        "outputId": "5ee3c8f5-abaa-4e6a-dc52-0678048500d8"
      },
      "outputs": [
        {
          "output_type": "stream",
          "name": "stdout",
          "text": [
            "Mounted at /content/drive\n"
          ]
        }
      ],
      "source": [
        "from google.colab import drive\n",
        "drive.mount('/content/drive')"
      ]
    },
    {
      "cell_type": "code",
      "source": [
        "df= pd.read_csv(r'/content/drive/MyDrive/SMOS/ESS8e02_2.csv',low_memory=False)"
      ],
      "metadata": {
        "id": "UHUf1oFmr6-B"
      },
      "execution_count": 3,
      "outputs": []
    },
    {
      "cell_type": "code",
      "source": [
        "df.head()"
      ],
      "metadata": {
        "colab": {
          "base_uri": "https://localhost:8080/",
          "height": 235
        },
        "id": "Udm8UAHlsP7R",
        "outputId": "5fc0c0b1-6b24-40c6-d7ea-8fd8e0875ebf"
      },
      "execution_count": 4,
      "outputs": [
        {
          "output_type": "execute_result",
          "data": {
            "text/plain": [
              "        name  essround  edition    proddate  idno cntry   dweight   pspwght  \\\n",
              "0  ESS8e02_2         8      2.2  10.12.2020     1    AT  0.611677  1.178495   \n",
              "1  ESS8e02_2         8      2.2  10.12.2020     2    AT  1.223354  0.899471   \n",
              "2  ESS8e02_2         8      2.2  10.12.2020     4    AT  0.389058  0.315753   \n",
              "3  ESS8e02_2         8      2.2  10.12.2020     6    AT  0.642594  0.472467   \n",
              "4  ESS8e02_2         8      2.2  10.12.2020    10    AT  3.432402  2.246706   \n",
              "\n",
              "    pweight  anweight  ...  inwmms  inwyys  inwshh  inwsmm  inwdde  inwmme  \\\n",
              "0  0.370393  0.436506  ...      12    2016       7      37       5      12   \n",
              "1  0.370393  0.333158  ...      11    2016       9      39      25      11   \n",
              "2  0.370393  0.116953  ...      11    2016      17      17      22      11   \n",
              "3  0.370393  0.174999  ...      10    2016      19       9      11      10   \n",
              "4  0.370393  0.832164  ...      12    2016      10      31       1      12   \n",
              "\n",
              "   inwyye  inwehh  inwemm  inwtm  \n",
              "0    2016       8      33   50.0  \n",
              "1    2016      11      10   86.0  \n",
              "2    2016      18       0   38.0  \n",
              "3    2016      19      59   46.0  \n",
              "4    2016      11      49   70.0  \n",
              "\n",
              "[5 rows x 535 columns]"
            ],
            "text/html": [
              "\n",
              "  <div id=\"df-b04419a4-a890-4ae9-833b-0d0086541453\">\n",
              "    <div class=\"colab-df-container\">\n",
              "      <div>\n",
              "<style scoped>\n",
              "    .dataframe tbody tr th:only-of-type {\n",
              "        vertical-align: middle;\n",
              "    }\n",
              "\n",
              "    .dataframe tbody tr th {\n",
              "        vertical-align: top;\n",
              "    }\n",
              "\n",
              "    .dataframe thead th {\n",
              "        text-align: right;\n",
              "    }\n",
              "</style>\n",
              "<table border=\"1\" class=\"dataframe\">\n",
              "  <thead>\n",
              "    <tr style=\"text-align: right;\">\n",
              "      <th></th>\n",
              "      <th>name</th>\n",
              "      <th>essround</th>\n",
              "      <th>edition</th>\n",
              "      <th>proddate</th>\n",
              "      <th>idno</th>\n",
              "      <th>cntry</th>\n",
              "      <th>dweight</th>\n",
              "      <th>pspwght</th>\n",
              "      <th>pweight</th>\n",
              "      <th>anweight</th>\n",
              "      <th>...</th>\n",
              "      <th>inwmms</th>\n",
              "      <th>inwyys</th>\n",
              "      <th>inwshh</th>\n",
              "      <th>inwsmm</th>\n",
              "      <th>inwdde</th>\n",
              "      <th>inwmme</th>\n",
              "      <th>inwyye</th>\n",
              "      <th>inwehh</th>\n",
              "      <th>inwemm</th>\n",
              "      <th>inwtm</th>\n",
              "    </tr>\n",
              "  </thead>\n",
              "  <tbody>\n",
              "    <tr>\n",
              "      <th>0</th>\n",
              "      <td>ESS8e02_2</td>\n",
              "      <td>8</td>\n",
              "      <td>2.2</td>\n",
              "      <td>10.12.2020</td>\n",
              "      <td>1</td>\n",
              "      <td>AT</td>\n",
              "      <td>0.611677</td>\n",
              "      <td>1.178495</td>\n",
              "      <td>0.370393</td>\n",
              "      <td>0.436506</td>\n",
              "      <td>...</td>\n",
              "      <td>12</td>\n",
              "      <td>2016</td>\n",
              "      <td>7</td>\n",
              "      <td>37</td>\n",
              "      <td>5</td>\n",
              "      <td>12</td>\n",
              "      <td>2016</td>\n",
              "      <td>8</td>\n",
              "      <td>33</td>\n",
              "      <td>50.0</td>\n",
              "    </tr>\n",
              "    <tr>\n",
              "      <th>1</th>\n",
              "      <td>ESS8e02_2</td>\n",
              "      <td>8</td>\n",
              "      <td>2.2</td>\n",
              "      <td>10.12.2020</td>\n",
              "      <td>2</td>\n",
              "      <td>AT</td>\n",
              "      <td>1.223354</td>\n",
              "      <td>0.899471</td>\n",
              "      <td>0.370393</td>\n",
              "      <td>0.333158</td>\n",
              "      <td>...</td>\n",
              "      <td>11</td>\n",
              "      <td>2016</td>\n",
              "      <td>9</td>\n",
              "      <td>39</td>\n",
              "      <td>25</td>\n",
              "      <td>11</td>\n",
              "      <td>2016</td>\n",
              "      <td>11</td>\n",
              "      <td>10</td>\n",
              "      <td>86.0</td>\n",
              "    </tr>\n",
              "    <tr>\n",
              "      <th>2</th>\n",
              "      <td>ESS8e02_2</td>\n",
              "      <td>8</td>\n",
              "      <td>2.2</td>\n",
              "      <td>10.12.2020</td>\n",
              "      <td>4</td>\n",
              "      <td>AT</td>\n",
              "      <td>0.389058</td>\n",
              "      <td>0.315753</td>\n",
              "      <td>0.370393</td>\n",
              "      <td>0.116953</td>\n",
              "      <td>...</td>\n",
              "      <td>11</td>\n",
              "      <td>2016</td>\n",
              "      <td>17</td>\n",
              "      <td>17</td>\n",
              "      <td>22</td>\n",
              "      <td>11</td>\n",
              "      <td>2016</td>\n",
              "      <td>18</td>\n",
              "      <td>0</td>\n",
              "      <td>38.0</td>\n",
              "    </tr>\n",
              "    <tr>\n",
              "      <th>3</th>\n",
              "      <td>ESS8e02_2</td>\n",
              "      <td>8</td>\n",
              "      <td>2.2</td>\n",
              "      <td>10.12.2020</td>\n",
              "      <td>6</td>\n",
              "      <td>AT</td>\n",
              "      <td>0.642594</td>\n",
              "      <td>0.472467</td>\n",
              "      <td>0.370393</td>\n",
              "      <td>0.174999</td>\n",
              "      <td>...</td>\n",
              "      <td>10</td>\n",
              "      <td>2016</td>\n",
              "      <td>19</td>\n",
              "      <td>9</td>\n",
              "      <td>11</td>\n",
              "      <td>10</td>\n",
              "      <td>2016</td>\n",
              "      <td>19</td>\n",
              "      <td>59</td>\n",
              "      <td>46.0</td>\n",
              "    </tr>\n",
              "    <tr>\n",
              "      <th>4</th>\n",
              "      <td>ESS8e02_2</td>\n",
              "      <td>8</td>\n",
              "      <td>2.2</td>\n",
              "      <td>10.12.2020</td>\n",
              "      <td>10</td>\n",
              "      <td>AT</td>\n",
              "      <td>3.432402</td>\n",
              "      <td>2.246706</td>\n",
              "      <td>0.370393</td>\n",
              "      <td>0.832164</td>\n",
              "      <td>...</td>\n",
              "      <td>12</td>\n",
              "      <td>2016</td>\n",
              "      <td>10</td>\n",
              "      <td>31</td>\n",
              "      <td>1</td>\n",
              "      <td>12</td>\n",
              "      <td>2016</td>\n",
              "      <td>11</td>\n",
              "      <td>49</td>\n",
              "      <td>70.0</td>\n",
              "    </tr>\n",
              "  </tbody>\n",
              "</table>\n",
              "<p>5 rows × 535 columns</p>\n",
              "</div>\n",
              "      <button class=\"colab-df-convert\" onclick=\"convertToInteractive('df-b04419a4-a890-4ae9-833b-0d0086541453')\"\n",
              "              title=\"Convert this dataframe to an interactive table.\"\n",
              "              style=\"display:none;\">\n",
              "        \n",
              "  <svg xmlns=\"http://www.w3.org/2000/svg\" height=\"24px\"viewBox=\"0 0 24 24\"\n",
              "       width=\"24px\">\n",
              "    <path d=\"M0 0h24v24H0V0z\" fill=\"none\"/>\n",
              "    <path d=\"M18.56 5.44l.94 2.06.94-2.06 2.06-.94-2.06-.94-.94-2.06-.94 2.06-2.06.94zm-11 1L8.5 8.5l.94-2.06 2.06-.94-2.06-.94L8.5 2.5l-.94 2.06-2.06.94zm10 10l.94 2.06.94-2.06 2.06-.94-2.06-.94-.94-2.06-.94 2.06-2.06.94z\"/><path d=\"M17.41 7.96l-1.37-1.37c-.4-.4-.92-.59-1.43-.59-.52 0-1.04.2-1.43.59L10.3 9.45l-7.72 7.72c-.78.78-.78 2.05 0 2.83L4 21.41c.39.39.9.59 1.41.59.51 0 1.02-.2 1.41-.59l7.78-7.78 2.81-2.81c.8-.78.8-2.07 0-2.86zM5.41 20L4 18.59l7.72-7.72 1.47 1.35L5.41 20z\"/>\n",
              "  </svg>\n",
              "      </button>\n",
              "      \n",
              "  <style>\n",
              "    .colab-df-container {\n",
              "      display:flex;\n",
              "      flex-wrap:wrap;\n",
              "      gap: 12px;\n",
              "    }\n",
              "\n",
              "    .colab-df-convert {\n",
              "      background-color: #E8F0FE;\n",
              "      border: none;\n",
              "      border-radius: 50%;\n",
              "      cursor: pointer;\n",
              "      display: none;\n",
              "      fill: #1967D2;\n",
              "      height: 32px;\n",
              "      padding: 0 0 0 0;\n",
              "      width: 32px;\n",
              "    }\n",
              "\n",
              "    .colab-df-convert:hover {\n",
              "      background-color: #E2EBFA;\n",
              "      box-shadow: 0px 1px 2px rgba(60, 64, 67, 0.3), 0px 1px 3px 1px rgba(60, 64, 67, 0.15);\n",
              "      fill: #174EA6;\n",
              "    }\n",
              "\n",
              "    [theme=dark] .colab-df-convert {\n",
              "      background-color: #3B4455;\n",
              "      fill: #D2E3FC;\n",
              "    }\n",
              "\n",
              "    [theme=dark] .colab-df-convert:hover {\n",
              "      background-color: #434B5C;\n",
              "      box-shadow: 0px 1px 3px 1px rgba(0, 0, 0, 0.15);\n",
              "      filter: drop-shadow(0px 1px 2px rgba(0, 0, 0, 0.3));\n",
              "      fill: #FFFFFF;\n",
              "    }\n",
              "  </style>\n",
              "\n",
              "      <script>\n",
              "        const buttonEl =\n",
              "          document.querySelector('#df-b04419a4-a890-4ae9-833b-0d0086541453 button.colab-df-convert');\n",
              "        buttonEl.style.display =\n",
              "          google.colab.kernel.accessAllowed ? 'block' : 'none';\n",
              "\n",
              "        async function convertToInteractive(key) {\n",
              "          const element = document.querySelector('#df-b04419a4-a890-4ae9-833b-0d0086541453');\n",
              "          const dataTable =\n",
              "            await google.colab.kernel.invokeFunction('convertToInteractive',\n",
              "                                                     [key], {});\n",
              "          if (!dataTable) return;\n",
              "\n",
              "          const docLinkHtml = 'Like what you see? Visit the ' +\n",
              "            '<a target=\"_blank\" href=https://colab.research.google.com/notebooks/data_table.ipynb>data table notebook</a>'\n",
              "            + ' to learn more about interactive tables.';\n",
              "          element.innerHTML = '';\n",
              "          dataTable['output_type'] = 'display_data';\n",
              "          await google.colab.output.renderOutput(dataTable, element);\n",
              "          const docLink = document.createElement('div');\n",
              "          docLink.innerHTML = docLinkHtml;\n",
              "          element.appendChild(docLink);\n",
              "        }\n",
              "      </script>\n",
              "    </div>\n",
              "  </div>\n",
              "  "
            ]
          },
          "metadata": {},
          "execution_count": 4
        }
      ]
    },
    {
      "cell_type": "markdown",
      "source": [
        "In the ESS8 data there are 535 columns, we want to use only few of them, in particular:\n",
        "\n",
        "* `wrclmch`: How worried about climate change? {1\tNot at all worried,\n",
        "2\tNot very worried,\n",
        "3\tSomewhat worried,\n",
        "4\tVery worried,\n",
        "5\tExtremely worried,\n",
        "6\tNot applicable,\n",
        "7\tRefusal,\n",
        "8\tDon't know,\n",
        "9\tNo answer*}\n",
        "\n",
        "\n",
        "* `clmchng` : Do you think world's climate is changing? {1\tDefinitely changing,\n",
        "2\tProbably changing,\n",
        "3\tProbably not changing,\n",
        "4\tDefinitely not changing,\n",
        "7\tRefusal,\n",
        "8\tDon't know,\n",
        "9\tNo answer}\n",
        "\n",
        "* `impenv` : Important to care for nature and environment {1\tVery much like me,\n",
        "2\tLike me,\n",
        "3\tSomewhat like me,\n",
        "4\tA little like me,\n",
        "5\tNot like me,\n",
        "6\tNot like me at all,\n",
        "7\tRefusal,\n",
        "8\tDon't know,\n",
        "9\tNo answer*}\n",
        "\n",
        "* `ccgdbd` : Climate change good or bad impact across world {0\tExtremely bad,\n",
        "1,\t\n",
        "2\t,\n",
        "3\t,\n",
        "4\t,\n",
        "5\t,\n",
        "6\t,\n",
        "7\t,\n",
        "8\t,\n",
        "9\t,\n",
        "10\tExtremely good,\n",
        "66\tNot applicable\n",
        "77\tRefusal\n",
        "88\tDon't know\n",
        "99\tNo answer}\n",
        "\n",
        "\n",
        "* `ccnthum` : Climate change caused by natural processes, human activity, or both? {\n",
        "1\tEntirely by natural processes,\n",
        "2\tMainly by natural processes,\n",
        "3\tAbout equally by natural processes and human activity,\n",
        "4\tMainly by human activity,\n",
        "5\tEntirely by human activity,\n",
        "55\tI don't think climate change is happening,\n",
        "66\tNot applicable,\n",
        "77\tRefusal,\n",
        "88\tDon't know,\n",
        "99\tNo answer}\n",
        "\n",
        "\n",
        "* `lrscale` : In politics people sometimes talk of 'left' and 'right'. Using this card, where would you place yourself on this scale, where 0 means the left and 10 means the right? {0:\tLeft,\n",
        "\t1,\n",
        "\t2,\n",
        "\t3,\n",
        "\t4,\n",
        "\t5,\n",
        "6,\n",
        "\t7,\n",
        "\t8,\n",
        "\t9,\n",
        "10:\tRight,\n",
        "77\tRefusal,\n",
        "88\tDon't know,\n",
        "99\tNo answer}\n",
        "\n",
        "\n",
        "* `eisced`: Highest level of education, ES - ISCED {\n",
        "0\tNot possible to harmonise into ES-ISCED,\n",
        "1\tES-ISCED I , less than lower secondary,\n",
        "2\tES-ISCED II, lower secondary,\n",
        "3\tES-ISCED IIIb, lower tier upper secondary,\n",
        "4\tES-ISCED IIIa, upper tier upper secondary,\n",
        "5\tES-ISCED IV, advanced vocational, sub-degree,\n",
        "6\tES-ISCED V1, lower tertiary education, BA level,\n",
        "7\tES-ISCED V2, higher tertiary education, >= MA level,\n",
        "55\tOther,\n",
        "77\tRefusal,\n",
        "88\tDon't know,\n",
        "99\tNo answer}\n",
        "\n",
        "\n",
        "* `agea` : Age of respondent , calculated\n",
        "\n",
        "\n",
        "* `gndr` : Gender {1\tMale,\n",
        "2\tFemale,\n",
        "9\tNo answer}\n",
        "\n",
        "\n",
        "* `hinctnta` : Household's total net income, all sources {1\tJ - 1st decile,\n",
        "2\tR - 2nd decile,\n",
        "3\tC - 3rd decile,\n",
        "4\tM - 4th decile,\n",
        "5\tF - 5th decile,\n",
        "6\tS - 6th decile,\n",
        "7\tK - 7th decile,\n",
        "8\tP - 8th decile,\n",
        "9\tD - 9th decile,\n",
        "10\tH - 10th decile,\n",
        "77\tRefusal,\n",
        "88\tDon't know,\n",
        "99\tNo answer}\n",
        "\n",
        "\n",
        "* `cntry` : Country {AT\tAustria,\n",
        "BE\tBelgium,\n",
        "BG\tBulgaria,\n",
        "CH\tSwitzerland,\n",
        "CY\tCyprus,\n",
        "CZ\tCzechia,\n",
        "DE\tGermany,\n",
        "DK\tDenmark,\n",
        "EE\tEstonia,\n",
        "ES\tSpain,\n",
        "FI\tFinland,\n",
        "FR\tFrance,\n",
        "GB\tUnited Kingdom,\n",
        "HR\tCroatia,\n",
        "HU\tHungary,\n",
        "IE\tIreland,\n",
        "IS\tIceland,\n",
        "IT\tItaly,\n",
        "LT\tLithuania,\n",
        "LV\tLatvia,\n",
        "ME\tMontenegro,\n",
        "NL\tNetherlands,\n",
        "NO\tNorway,\n",
        "PL\tPoland,\n",
        "PT\tPortugal,\n",
        "RS\tSerbia,\n",
        "SE\tSweden,\n",
        "SI\tSlovenia,\n",
        "SK\tSlovakia}\n",
        "\n",
        "* `inctxff` : Favour increase taxes on fossil fuels to reduce climate change {1\tStrongly in favour,\n",
        "2\tSomewhat in favour,\n",
        "3\tNeither in favour nor against,\n",
        "4\tSomewhat against,\n",
        "5\tStrongly against,\n",
        "7\tRefusal,\n",
        "8\tDon't know,\n",
        "9\tNo answer}\n",
        "\n",
        "\n",
        "* `rdcenr` : How often do things to reduce energy use {1\tNever,\n",
        "2\tHardly ever,\n",
        "3\tSometimes,\n",
        "4\tOften,\n",
        "5\tVery often,\n",
        "6\tAlways,\n",
        "55\tCannot reduce energy use,\n",
        "77\tRefusal,\n",
        "88\tDon't know,\n",
        "99\tNo answer}\n",
        "\n",
        "\n",
        "* `anweight` : The Analysis weight computed directly from the European Social Survey"
      ],
      "metadata": {
        "id": "WLBapM-msf3C"
      }
    },
    {
      "cell_type": "markdown",
      "source": [
        "# Features Engeneering & Clean the dataset"
      ],
      "metadata": {
        "id": "HdCEZVgImAv6"
      }
    },
    {
      "cell_type": "code",
      "source": [
        "Selected_columns=['anweight','cntry','hinctnta', 'gndr', 'agea','inctxff','rdcenr','eisced','lrscale','ccnthum','clmchng','impenv','ccgdbd','wrclmch']"
      ],
      "metadata": {
        "id": "oYD4PrebsnET"
      },
      "execution_count": 5,
      "outputs": []
    },
    {
      "cell_type": "code",
      "source": [
        "d=df[Selected_columns]"
      ],
      "metadata": {
        "id": "n5KeQJXHu5Vm"
      },
      "execution_count": 6,
      "outputs": []
    },
    {
      "cell_type": "code",
      "source": [
        "msno.bar(d, color='orange')"
      ],
      "metadata": {
        "colab": {
          "base_uri": "https://localhost:8080/",
          "height": 715
        },
        "id": "425t19datfsd",
        "outputId": "e3e3e6e3-3f2e-4022-a1c8-2641f69cbb20"
      },
      "execution_count": 7,
      "outputs": [
        {
          "output_type": "execute_result",
          "data": {
            "text/plain": [
              "<matplotlib.axes._subplots.AxesSubplot at 0x7fbb5997d460>"
            ]
          },
          "metadata": {},
          "execution_count": 7
        },
        {
          "output_type": "display_data",
          "data": {
            "text/plain": [
              "<Figure size 1800x720 with 3 Axes>"
            ],
            "image/png": "[encoded data removed]"
          },
          "metadata": {
            "needs_background": "light"
          }
        }
      ]
    },
    {
      "cell_type": "code",
      "source": [
        "d.dropna(inplace=True)"
      ],
      "metadata": {
        "colab": {
          "base_uri": "https://localhost:8080/"
        },
        "id": "w6k6OezR4STW",
        "outputId": "01627c21-bb2c-48c0-d452-b4aca02696ca"
      },
      "execution_count": 8,
      "outputs": [
        {
          "output_type": "stream",
          "name": "stderr",
          "text": [
            "/usr/local/lib/python3.8/dist-packages/pandas/util/_decorators.py:311: SettingWithCopyWarning: \n",
            "A value is trying to be set on a copy of a slice from a DataFrame\n",
            "\n",
            "See the caveats in the documentation: https://pandas.pydata.org/pandas-docs/stable/user_guide/indexing.html#returning-a-view-versus-a-copy\n",
            "  return func(*args, **kwargs)\n"
          ]
        }
      ]
    },
    {
      "cell_type": "code",
      "source": [
        "d.cntry.value_counts()"
      ],
      "metadata": {
        "colab": {
          "base_uri": "https://localhost:8080/"
        },
        "id": "guJxfap570rY",
        "outputId": "781e4d73-1763-4e6f-e404-96368d35d752"
      },
      "execution_count": 9,
      "outputs": [
        {
          "output_type": "execute_result",
          "data": {
            "text/plain": [
              "DE    2852\n",
              "IE    2757\n",
              "IT    2626\n",
              "IL    2557\n",
              "RU    2430\n",
              "CZ    2269\n",
              "LT    2122\n",
              "FR    2070\n",
              "EE    2019\n",
              "AT    2010\n",
              "GB    1959\n",
              "ES    1958\n",
              "FI    1925\n",
              "BE    1766\n",
              "PL    1694\n",
              "NL    1681\n",
              "HU    1614\n",
              "SE    1551\n",
              "NO    1545\n",
              "CH    1525\n",
              "SI    1307\n",
              "PT    1270\n",
              "IS     880\n",
              "Name: cntry, dtype: int64"
            ]
          },
          "metadata": {},
          "execution_count": 9
        }
      ]
    },
    {
      "cell_type": "code",
      "source": [
        "d.hinctnta.value_counts()"
      ],
      "metadata": {
        "colab": {
          "base_uri": "https://localhost:8080/"
        },
        "id": "I0F1GTre4Xx3",
        "outputId": "1e2a5d0f-165a-44ae-82ec-4b7b4ea93613"
      },
      "execution_count": 10,
      "outputs": [
        {
          "output_type": "execute_result",
          "data": {
            "text/plain": [
              "77    4990\n",
              "3     4136\n",
              "2     4021\n",
              "4     4017\n",
              "5     3958\n",
              "7     3918\n",
              "6     3851\n",
              "8     3686\n",
              "1     3678\n",
              "88    2902\n",
              "9     2684\n",
              "10    2496\n",
              "99      50\n",
              "Name: hinctnta, dtype: int64"
            ]
          },
          "metadata": {},
          "execution_count": 10
        }
      ]
    },
    {
      "cell_type": "code",
      "source": [
        "d.hinctnta.median()"
      ],
      "metadata": {
        "id": "mvE1Dm2N44H8",
        "outputId": "f7902faa-f100-4094-f572-1061081244e9",
        "colab": {
          "base_uri": "https://localhost:8080/"
        }
      },
      "execution_count": 11,
      "outputs": [
        {
          "output_type": "execute_result",
          "data": {
            "text/plain": [
              "6.0"
            ]
          },
          "metadata": {},
          "execution_count": 11
        }
      ]
    },
    {
      "cell_type": "code",
      "source": [
        "d.gndr.value_counts()"
      ],
      "metadata": {
        "colab": {
          "base_uri": "https://localhost:8080/"
        },
        "id": "zgb1YSjK4Axq",
        "outputId": "5e359b9f-1923-4eba-a63a-522f9d6ea6ea"
      },
      "execution_count": 12,
      "outputs": [
        {
          "output_type": "execute_result",
          "data": {
            "text/plain": [
              "2    23351\n",
              "1    21027\n",
              "9        9\n",
              "Name: gndr, dtype: int64"
            ]
          },
          "metadata": {},
          "execution_count": 12
        }
      ]
    },
    {
      "cell_type": "code",
      "source": [
        "d.agea.value_counts()"
      ],
      "metadata": {
        "colab": {
          "base_uri": "https://localhost:8080/"
        },
        "id": "knnJiRWS39Cq",
        "outputId": "1d9474c8-4262-4a8a-f4c9-6e5b5c530bf3"
      },
      "execution_count": 13,
      "outputs": [
        {
          "output_type": "execute_result",
          "data": {
            "text/plain": [
              "60     821\n",
              "51     820\n",
              "59     806\n",
              "65     794\n",
              "52     793\n",
              "      ... \n",
              "96       5\n",
              "99       3\n",
              "98       3\n",
              "97       3\n",
              "100      1\n",
              "Name: agea, Length: 87, dtype: int64"
            ]
          },
          "metadata": {},
          "execution_count": 13
        }
      ]
    },
    {
      "cell_type": "code",
      "source": [
        "d=d[d.agea <= 120]"
      ],
      "metadata": {
        "id": "5pKU_mvYuqfT"
      },
      "execution_count": 14,
      "outputs": []
    },
    {
      "cell_type": "code",
      "source": [
        "d.eisced.value_counts()"
      ],
      "metadata": {
        "colab": {
          "base_uri": "https://localhost:8080/"
        },
        "id": "-yTypy8H4M4p",
        "outputId": "a80dcd56-6344-4de3-c224-99cc1fc5c4c4"
      },
      "execution_count": 15,
      "outputs": [
        {
          "output_type": "execute_result",
          "data": {
            "text/plain": [
              "4     8698\n",
              "2     7366\n",
              "3     7138\n",
              "5     6261\n",
              "7     5991\n",
              "6     4745\n",
              "1     3841\n",
              "55      86\n",
              "77      61\n",
              "88      39\n",
              "99       6\n",
              "Name: eisced, dtype: int64"
            ]
          },
          "metadata": {},
          "execution_count": 15
        }
      ]
    },
    {
      "cell_type": "code",
      "source": [
        "d.lrscale.value_counts()"
      ],
      "metadata": {
        "colab": {
          "base_uri": "https://localhost:8080/"
        },
        "id": "qTpZDL0k32EA",
        "outputId": "21a58464-3034-4dd0-8614-2e78fee242e3"
      },
      "execution_count": 16,
      "outputs": [
        {
          "output_type": "execute_result",
          "data": {
            "text/plain": [
              "5     12343\n",
              "88     4281\n",
              "7      4252\n",
              "6      4095\n",
              "4      3771\n",
              "3      3750\n",
              "8      3252\n",
              "2      2117\n",
              "10     1586\n",
              "77     1475\n",
              "0      1459\n",
              "9       998\n",
              "1       842\n",
              "99       11\n",
              "Name: lrscale, dtype: int64"
            ]
          },
          "metadata": {},
          "execution_count": 16
        }
      ]
    },
    {
      "cell_type": "code",
      "source": [
        "d.wrclmch.value_counts()"
      ],
      "metadata": {
        "colab": {
          "base_uri": "https://localhost:8080/"
        },
        "id": "qlOKuLLC389r",
        "outputId": "da9819bd-7a24-4301-e39b-e379098bd7d8"
      },
      "execution_count": 17,
      "outputs": [
        {
          "output_type": "execute_result",
          "data": {
            "text/plain": [
              "3    19670\n",
              "4     9628\n",
              "2     8457\n",
              "1     2576\n",
              "5     2186\n",
              "6     1305\n",
              "8      362\n",
              "7       26\n",
              "9       22\n",
              "Name: wrclmch, dtype: int64"
            ]
          },
          "metadata": {},
          "execution_count": 17
        }
      ]
    },
    {
      "cell_type": "code",
      "source": [
        "d.inctxff.value_counts()"
      ],
      "metadata": {
        "colab": {
          "base_uri": "https://localhost:8080/"
        },
        "id": "TZUq8ew_hgqy",
        "outputId": "5acde0e2-1f2a-4dd1-ff08-a0af4ad7849a"
      },
      "execution_count": 18,
      "outputs": [
        {
          "output_type": "execute_result",
          "data": {
            "text/plain": [
              "4    10741\n",
              "2    10532\n",
              "3     9662\n",
              "5     8012\n",
              "1     3320\n",
              "8     1856\n",
              "7      106\n",
              "9        3\n",
              "Name: inctxff, dtype: int64"
            ]
          },
          "metadata": {},
          "execution_count": 18
        }
      ]
    },
    {
      "cell_type": "code",
      "source": [
        "d.rdcenr.value_counts()"
      ],
      "metadata": {
        "colab": {
          "base_uri": "https://localhost:8080/"
        },
        "id": "xsKMTLKOhgvE",
        "outputId": "4ef30f58-0935-4518-b712-00f3d8ea66dc"
      },
      "execution_count": 19,
      "outputs": [
        {
          "output_type": "execute_result",
          "data": {
            "text/plain": [
              "4     13147\n",
              "5     10889\n",
              "3      9739\n",
              "6      6570\n",
              "2      2321\n",
              "1      1022\n",
              "88      283\n",
              "55      232\n",
              "77       21\n",
              "99        8\n",
              "Name: rdcenr, dtype: int64"
            ]
          },
          "metadata": {},
          "execution_count": 19
        }
      ]
    },
    {
      "cell_type": "code",
      "source": [
        "d.anweight.value_counts()"
      ],
      "metadata": {
        "colab": {
          "base_uri": "https://localhost:8080/"
        },
        "id": "cIe3WqK97VWA",
        "outputId": "15425977-6722-4e9c-8d73-d5ffcf2f0b51"
      },
      "execution_count": 20,
      "outputs": [
        {
          "output_type": "execute_result",
          "data": {
            "text/plain": [
              "0.123189    178\n",
              "0.143850    172\n",
              "0.117111    170\n",
              "0.065006    130\n",
              "0.090705    123\n",
              "           ... \n",
              "1.815962      1\n",
              "1.945779      1\n",
              "1.924175      1\n",
              "4.351175      1\n",
              "0.134491      1\n",
              "Name: anweight, Length: 15699, dtype: int64"
            ]
          },
          "metadata": {},
          "execution_count": 20
        }
      ]
    },
    {
      "cell_type": "code",
      "source": [
        "d.clmchng.value_counts()"
      ],
      "metadata": {
        "id": "M12HD_G-Q1an",
        "outputId": "eaa67ac6-e716-40da-eefc-d5733efa8b95",
        "colab": {
          "base_uri": "https://localhost:8080/"
        }
      },
      "execution_count": 21,
      "outputs": [
        {
          "output_type": "execute_result",
          "data": {
            "text/plain": [
              "1    24512\n",
              "2    15716\n",
              "3     1952\n",
              "8     1045\n",
              "4      970\n",
              "7       35\n",
              "9        2\n",
              "Name: clmchng, dtype: int64"
            ]
          },
          "metadata": {},
          "execution_count": 21
        }
      ]
    },
    {
      "cell_type": "code",
      "source": [
        "d.impenv.value_counts()"
      ],
      "metadata": {
        "id": "zATmu8s4SPPa",
        "outputId": "cf5d7ca2-6900-4e9c-f425-c5ef540914f0",
        "colab": {
          "base_uri": "https://localhost:8080/"
        }
      },
      "execution_count": 22,
      "outputs": [
        {
          "output_type": "execute_result",
          "data": {
            "text/plain": [
              "2    17070\n",
              "1    12609\n",
              "3     8977\n",
              "4     3521\n",
              "5     1101\n",
              "8      333\n",
              "6      217\n",
              "7      215\n",
              "9      189\n",
              "Name: impenv, dtype: int64"
            ]
          },
          "metadata": {},
          "execution_count": 22
        }
      ]
    },
    {
      "cell_type": "code",
      "source": [
        "d.ccgdbd.value_counts()"
      ],
      "metadata": {
        "id": "YrhknLVmVVbN",
        "outputId": "ef9d28ce-52b3-40af-a0d2-7797d9f97a43",
        "colab": {
          "base_uri": "https://localhost:8080/"
        }
      },
      "execution_count": 23,
      "outputs": [
        {
          "output_type": "execute_result",
          "data": {
            "text/plain": [
              "3     7865\n",
              "2     6835\n",
              "5     6577\n",
              "0     5442\n",
              "4     5170\n",
              "1     3594\n",
              "6     2175\n",
              "7     1801\n",
              "88    1751\n",
              "66    1305\n",
              "8     1090\n",
              "10     304\n",
              "9      259\n",
              "77      46\n",
              "99      18\n",
              "Name: ccgdbd, dtype: int64"
            ]
          },
          "metadata": {},
          "execution_count": 23
        }
      ]
    },
    {
      "cell_type": "code",
      "source": [
        "from sklearn.preprocessing import Normalizer, StandardScaler"
      ],
      "metadata": {
        "id": "eS2ExQegRYuc"
      },
      "execution_count": 24,
      "outputs": []
    },
    {
      "cell_type": "code",
      "source": [
        "cleanup = {\"hinctnta\":     {77: np.nan ,88: np.nan, 99: np.nan},\n",
        "           \"lrscale\":      {77: np.nan ,88: np.nan, 99: np.nan},\n",
        "           #1.0:0, 2.0:0, 3.0:1, 4.0:1, 5.0:1\n",
        "           \"ccnthum\":      {1.0:1, 2.0:1, 3.0:2, 4.0:2, 5.0:2,66:np.nan, 77: np.nan ,88: np.nan, 99: np.nan, 55:np.nan},\n",
        "           \"eisced\":       {77: np.nan ,88: np.nan, 99: np.nan, 55:np.nan},\n",
        "           \"gndr\":       {2: 0, 9:np.nan},\n",
        "           #\"cntry\": {'BG':1, 'FR': 2, 'CZ':3, 'FI': 4, 'EE':5, 'HU': 6, 'LT':7, 'HR': 8, 'SI':9, 'SK': 10 },\n",
        "           \"wrclmch\": {1:0,2:0,3:1,4:1,5:1, 6: np.nan ,7: np.nan, 8: np.nan, 9:np.nan},\n",
        "           \"rdcenr\": {1:0,2:0,3:0,4:1,5:1,6:1,55: np.nan ,77: np.nan ,88: np.nan, 99: np.nan},\n",
        "           \"inctxff\": {1:1,2:1,3:2,4:0,5:0,7: np.nan ,8: np.nan, 9: np.nan},\n",
        "           \"clmchng\": {1:1,2:1,3:0,4:0,7: np.nan ,8: np.nan, 9: np.nan},\n",
        "           \"impenv\": {1:1, 2:1, 3:2, 4:2, 5:3, 6:3, 7: np.nan ,8: np.nan, 9: np.nan},\n",
        "           \"ccgdbd\": {66: np.nan ,77: np.nan ,88: np.nan, 99: np.nan}\n",
        "           }"
      ],
      "metadata": {
        "id": "16pbhYOT5pki"
      },
      "execution_count": 25,
      "outputs": []
    },
    {
      "cell_type": "code",
      "source": [
        "d = d.replace(cleanup)"
      ],
      "metadata": {
        "id": "R_r2M57M59ss"
      },
      "execution_count": 26,
      "outputs": []
    },
    {
      "cell_type": "code",
      "source": [
        "d.dropna(inplace=True)"
      ],
      "metadata": {
        "id": "SmAmQ8bP6DeO"
      },
      "execution_count": 27,
      "outputs": []
    },
    {
      "cell_type": "code",
      "source": [
        "d['wrclmch'] = d['wrclmch'].astype(int)\n",
        "d['ccnthum'] = d['ccnthum'].astype(int)"
      ],
      "metadata": {
        "id": "5SEZ3E5iMJNB"
      },
      "execution_count": 28,
      "outputs": []
    },
    {
      "cell_type": "code",
      "source": [
        "d.ccnthum.value_counts() # 1 natural reason, 2 human"
      ],
      "metadata": {
        "colab": {
          "base_uri": "https://localhost:8080/"
        },
        "id": "RSveXsgGElLG",
        "outputId": "61a4c32f-ab23-4b1e-8d06-0c86bae4a32b"
      },
      "execution_count": 29,
      "outputs": [
        {
          "output_type": "execute_result",
          "data": {
            "text/plain": [
              "2    27056\n",
              "1     2424\n",
              "Name: ccnthum, dtype: int64"
            ]
          },
          "metadata": {},
          "execution_count": 29
        }
      ]
    },
    {
      "cell_type": "code",
      "source": [
        "d.wrclmch.value_counts() # 1 not worried , 0 worried"
      ],
      "metadata": {
        "colab": {
          "base_uri": "https://localhost:8080/"
        },
        "id": "r52Ncu7_gaad",
        "outputId": "776d6152-547b-4d1a-be5a-5868dc9fa419"
      },
      "execution_count": 30,
      "outputs": [
        {
          "output_type": "execute_result",
          "data": {
            "text/plain": [
              "1    22679\n",
              "0     6801\n",
              "Name: wrclmch, dtype: int64"
            ]
          },
          "metadata": {},
          "execution_count": 30
        }
      ]
    },
    {
      "cell_type": "code",
      "source": [
        "d['cntry']= d['cntry'].astype('category')"
      ],
      "metadata": {
        "id": "lyYa4HkL86MQ"
      },
      "execution_count": 31,
      "outputs": []
    },
    {
      "cell_type": "code",
      "source": [
        "d['cntry'] = d['cntry'].map({'DE': 'W', 'IE': 'W', 'IT': 'S', 'IL': np.nan, 'RU': 'CE', 'CZ': 'CE', 'LT': 'CE', 'FR': 'W', 'EE': 'CE', 'AT': 'W', \n",
        "                                                'GB': 'W', 'ES': 'S', 'FI': 'N', 'BE': 'W', 'PL': 'CE', 'NL': 'W', 'HU': 'CE', 'SE': 'N', 'NO': 'N', 'CH': 'W',\n",
        "                                                'SI': 'CE', 'PT': 'S', 'IS': 'N'})\n"
      ],
      "metadata": {
        "id": "OE-FaVK04kUs"
      },
      "execution_count": 32,
      "outputs": []
    },
    {
      "cell_type": "code",
      "source": [
        "d.dropna(inplace=True)"
      ],
      "metadata": {
        "id": "0H_5NGFuG4Jf"
      },
      "execution_count": 33,
      "outputs": []
    },
    {
      "cell_type": "code",
      "source": [
        "d.cntry = pd.Categorical(d.cntry)\n",
        "d['cntry'] = d.cntry.cat.codes"
      ],
      "metadata": {
        "id": "Ehq4asId_8Zv"
      },
      "execution_count": 34,
      "outputs": []
    },
    {
      "cell_type": "code",
      "source": [
        "d.to_csv('before_ss.csv',index=False)"
      ],
      "metadata": {
        "id": "eaLGpbn9qBhl"
      },
      "execution_count": 35,
      "outputs": []
    },
    {
      "cell_type": "code",
      "source": [
        "cols_to_norm = ['hinctnta',  'agea',\n",
        "       'eisced', 'lrscale','ccgdbd']"
      ],
      "metadata": {
        "id": "Aa8aEEcnRBfn"
      },
      "execution_count": 36,
      "outputs": []
    },
    {
      "cell_type": "code",
      "source": [
        "d[cols_to_norm]=StandardScaler().fit_transform(d[cols_to_norm])"
      ],
      "metadata": {
        "id": "ev8NJP8URRXi"
      },
      "execution_count": 37,
      "outputs": []
    },
    {
      "cell_type": "code",
      "source": [
        "d"
      ],
      "metadata": {
        "colab": {
          "base_uri": "https://localhost:8080/",
          "height": 423
        },
        "id": "U8vTCfbb60Ay",
        "outputId": "d1f6f8ec-8d4c-4432-9c7a-4da1d6799346"
      },
      "execution_count": 38,
      "outputs": [
        {
          "output_type": "execute_result",
          "data": {
            "text/plain": [
              "       anweight  cntry  hinctnta  gndr      agea  inctxff  rdcenr    eisced  \\\n",
              "1      0.333158      3 -0.166779   1.0  0.125392      1.0     1.0 -0.080561   \n",
              "2      0.116953      3 -1.275071   0.0  1.024868      0.0     1.0 -0.622971   \n",
              "3      0.174999      3 -0.536210   1.0  0.237826      2.0     1.0 -0.622971   \n",
              "4      0.832164      3 -1.275071   0.0 -1.673560      2.0     1.0 -0.622971   \n",
              "5      0.374608      3  1.680376   0.0  0.856216      0.0     1.0 -0.080561   \n",
              "...         ...    ...       ...   ...       ...      ...     ...       ...   \n",
              "44378  0.125447      0 -0.536210   1.0  0.912433      2.0     1.0 -0.622971   \n",
              "44379  0.101995      0  0.941514   1.0 -1.504909      0.0     1.0 -0.080561   \n",
              "44382  0.112359      0 -0.536210   0.0  0.856216      2.0     1.0 -0.080561   \n",
              "44384  0.115147      0  0.572083   1.0  0.743781      1.0     1.0  1.004258   \n",
              "44385  0.101719      0  1.680376   0.0 -0.268129      1.0     1.0  1.546668   \n",
              "\n",
              "        lrscale  ccnthum  clmchng  impenv    ccgdbd  wrclmch  \n",
              "1     -1.875100        2      1.0     1.0 -0.570007        1  \n",
              "2     -0.029923        2      1.0     1.0 -0.570007        1  \n",
              "3     -2.336394        2      1.0     2.0  1.760055        1  \n",
              "4     -0.029923        2      1.0     1.0  0.828030        1  \n",
              "5     -0.029923        2      1.0     1.0  0.828030        1  \n",
              "...         ...      ...      ...     ...       ...      ...  \n",
              "44378 -0.029923        2      1.0     1.0 -0.570007        1  \n",
              "44379 -0.029923        2      1.0     1.0  0.828030        1  \n",
              "44382 -1.875100        2      1.0     1.0  0.828030        1  \n",
              "44384 -2.336394        2      1.0     1.0 -1.036019        1  \n",
              "44385 -0.491217        2      1.0     1.0  0.362018        1  \n",
              "\n",
              "[28258 rows x 14 columns]"
            ],
            "text/html": [
              "\n",
              "  <div id=\"df-edeb55a0-700f-46c7-8a83-a03b1391968a\">\n",
              "    <div class=\"colab-df-container\">\n",
              "      <div>\n",
              "<style scoped>\n",
              "    .dataframe tbody tr th:only-of-type {\n",
              "        vertical-align: middle;\n",
              "    }\n",
              "\n",
              "    .dataframe tbody tr th {\n",
              "        vertical-align: top;\n",
              "    }\n",
              "\n",
              "    .dataframe thead th {\n",
              "        text-align: right;\n",
              "    }\n",
              "</style>\n",
              "<table border=\"1\" class=\"dataframe\">\n",
              "  <thead>\n",
              "    <tr style=\"text-align: right;\">\n",
              "      <th></th>\n",
              "      <th>anweight</th>\n",
              "      <th>cntry</th>\n",
              "      <th>hinctnta</th>\n",
              "      <th>gndr</th>\n",
              "      <th>agea</th>\n",
              "      <th>inctxff</th>\n",
              "      <th>rdcenr</th>\n",
              "      <th>eisced</th>\n",
              "      <th>lrscale</th>\n",
              "      <th>ccnthum</th>\n",
              "      <th>clmchng</th>\n",
              "      <th>impenv</th>\n",
              "      <th>ccgdbd</th>\n",
              "      <th>wrclmch</th>\n",
              "    </tr>\n",
              "  </thead>\n",
              "  <tbody>\n",
              "    <tr>\n",
              "      <th>1</th>\n",
              "      <td>0.333158</td>\n",
              "      <td>3</td>\n",
              "      <td>-0.166779</td>\n",
              "      <td>1.0</td>\n",
              "      <td>0.125392</td>\n",
              "      <td>1.0</td>\n",
              "      <td>1.0</td>\n",
              "      <td>-0.080561</td>\n",
              "      <td>-1.875100</td>\n",
              "      <td>2</td>\n",
              "      <td>1.0</td>\n",
              "      <td>1.0</td>\n",
              "      <td>-0.570007</td>\n",
              "      <td>1</td>\n",
              "    </tr>\n",
              "    <tr>\n",
              "      <th>2</th>\n",
              "      <td>0.116953</td>\n",
              "      <td>3</td>\n",
              "      <td>-1.275071</td>\n",
              "      <td>0.0</td>\n",
              "      <td>1.024868</td>\n",
              "      <td>0.0</td>\n",
              "      <td>1.0</td>\n",
              "      <td>-0.622971</td>\n",
              "      <td>-0.029923</td>\n",
              "      <td>2</td>\n",
              "      <td>1.0</td>\n",
              "      <td>1.0</td>\n",
              "      <td>-0.570007</td>\n",
              "      <td>1</td>\n",
              "    </tr>\n",
              "    <tr>\n",
              "      <th>3</th>\n",
              "      <td>0.174999</td>\n",
              "      <td>3</td>\n",
              "      <td>-0.536210</td>\n",
              "      <td>1.0</td>\n",
              "      <td>0.237826</td>\n",
              "      <td>2.0</td>\n",
              "      <td>1.0</td>\n",
              "      <td>-0.622971</td>\n",
              "      <td>-2.336394</td>\n",
              "      <td>2</td>\n",
              "      <td>1.0</td>\n",
              "      <td>2.0</td>\n",
              "      <td>1.760055</td>\n",
              "      <td>1</td>\n",
              "    </tr>\n",
              "    <tr>\n",
              "      <th>4</th>\n",
              "      <td>0.832164</td>\n",
              "      <td>3</td>\n",
              "      <td>-1.275071</td>\n",
              "      <td>0.0</td>\n",
              "      <td>-1.673560</td>\n",
              "      <td>2.0</td>\n",
              "      <td>1.0</td>\n",
              "      <td>-0.622971</td>\n",
              "      <td>-0.029923</td>\n",
              "      <td>2</td>\n",
              "      <td>1.0</td>\n",
              "      <td>1.0</td>\n",
              "      <td>0.828030</td>\n",
              "      <td>1</td>\n",
              "    </tr>\n",
              "    <tr>\n",
              "      <th>5</th>\n",
              "      <td>0.374608</td>\n",
              "      <td>3</td>\n",
              "      <td>1.680376</td>\n",
              "      <td>0.0</td>\n",
              "      <td>0.856216</td>\n",
              "      <td>0.0</td>\n",
              "      <td>1.0</td>\n",
              "      <td>-0.080561</td>\n",
              "      <td>-0.029923</td>\n",
              "      <td>2</td>\n",
              "      <td>1.0</td>\n",
              "      <td>1.0</td>\n",
              "      <td>0.828030</td>\n",
              "      <td>1</td>\n",
              "    </tr>\n",
              "    <tr>\n",
              "      <th>...</th>\n",
              "      <td>...</td>\n",
              "      <td>...</td>\n",
              "      <td>...</td>\n",
              "      <td>...</td>\n",
              "      <td>...</td>\n",
              "      <td>...</td>\n",
              "      <td>...</td>\n",
              "      <td>...</td>\n",
              "      <td>...</td>\n",
              "      <td>...</td>\n",
              "      <td>...</td>\n",
              "      <td>...</td>\n",
              "      <td>...</td>\n",
              "      <td>...</td>\n",
              "    </tr>\n",
              "    <tr>\n",
              "      <th>44378</th>\n",
              "      <td>0.125447</td>\n",
              "      <td>0</td>\n",
              "      <td>-0.536210</td>\n",
              "      <td>1.0</td>\n",
              "      <td>0.912433</td>\n",
              "      <td>2.0</td>\n",
              "      <td>1.0</td>\n",
              "      <td>-0.622971</td>\n",
              "      <td>-0.029923</td>\n",
              "      <td>2</td>\n",
              "      <td>1.0</td>\n",
              "      <td>1.0</td>\n",
              "      <td>-0.570007</td>\n",
              "      <td>1</td>\n",
              "    </tr>\n",
              "    <tr>\n",
              "      <th>44379</th>\n",
              "      <td>0.101995</td>\n",
              "      <td>0</td>\n",
              "      <td>0.941514</td>\n",
              "      <td>1.0</td>\n",
              "      <td>-1.504909</td>\n",
              "      <td>0.0</td>\n",
              "      <td>1.0</td>\n",
              "      <td>-0.080561</td>\n",
              "      <td>-0.029923</td>\n",
              "      <td>2</td>\n",
              "      <td>1.0</td>\n",
              "      <td>1.0</td>\n",
              "      <td>0.828030</td>\n",
              "      <td>1</td>\n",
              "    </tr>\n",
              "    <tr>\n",
              "      <th>44382</th>\n",
              "      <td>0.112359</td>\n",
              "      <td>0</td>\n",
              "      <td>-0.536210</td>\n",
              "      <td>0.0</td>\n",
              "      <td>0.856216</td>\n",
              "      <td>2.0</td>\n",
              "      <td>1.0</td>\n",
              "      <td>-0.080561</td>\n",
              "      <td>-1.875100</td>\n",
              "      <td>2</td>\n",
              "      <td>1.0</td>\n",
              "      <td>1.0</td>\n",
              "      <td>0.828030</td>\n",
              "      <td>1</td>\n",
              "    </tr>\n",
              "    <tr>\n",
              "      <th>44384</th>\n",
              "      <td>0.115147</td>\n",
              "      <td>0</td>\n",
              "      <td>0.572083</td>\n",
              "      <td>1.0</td>\n",
              "      <td>0.743781</td>\n",
              "      <td>1.0</td>\n",
              "      <td>1.0</td>\n",
              "      <td>1.004258</td>\n",
              "      <td>-2.336394</td>\n",
              "      <td>2</td>\n",
              "      <td>1.0</td>\n",
              "      <td>1.0</td>\n",
              "      <td>-1.036019</td>\n",
              "      <td>1</td>\n",
              "    </tr>\n",
              "    <tr>\n",
              "      <th>44385</th>\n",
              "      <td>0.101719</td>\n",
              "      <td>0</td>\n",
              "      <td>1.680376</td>\n",
              "      <td>0.0</td>\n",
              "      <td>-0.268129</td>\n",
              "      <td>1.0</td>\n",
              "      <td>1.0</td>\n",
              "      <td>1.546668</td>\n",
              "      <td>-0.491217</td>\n",
              "      <td>2</td>\n",
              "      <td>1.0</td>\n",
              "      <td>1.0</td>\n",
              "      <td>0.362018</td>\n",
              "      <td>1</td>\n",
              "    </tr>\n",
              "  </tbody>\n",
              "</table>\n",
              "<p>28258 rows × 14 columns</p>\n",
              "</div>\n",
              "      <button class=\"colab-df-convert\" onclick=\"convertToInteractive('df-edeb55a0-700f-46c7-8a83-a03b1391968a')\"\n",
              "              title=\"Convert this dataframe to an interactive table.\"\n",
              "              style=\"display:none;\">\n",
              "        \n",
              "  <svg xmlns=\"http://www.w3.org/2000/svg\" height=\"24px\"viewBox=\"0 0 24 24\"\n",
              "       width=\"24px\">\n",
              "    <path d=\"M0 0h24v24H0V0z\" fill=\"none\"/>\n",
              "    <path d=\"M18.56 5.44l.94 2.06.94-2.06 2.06-.94-2.06-.94-.94-2.06-.94 2.06-2.06.94zm-11 1L8.5 8.5l.94-2.06 2.06-.94-2.06-.94L8.5 2.5l-.94 2.06-2.06.94zm10 10l.94 2.06.94-2.06 2.06-.94-2.06-.94-.94-2.06-.94 2.06-2.06.94z\"/><path d=\"M17.41 7.96l-1.37-1.37c-.4-.4-.92-.59-1.43-.59-.52 0-1.04.2-1.43.59L10.3 9.45l-7.72 7.72c-.78.78-.78 2.05 0 2.83L4 21.41c.39.39.9.59 1.41.59.51 0 1.02-.2 1.41-.59l7.78-7.78 2.81-2.81c.8-.78.8-2.07 0-2.86zM5.41 20L4 18.59l7.72-7.72 1.47 1.35L5.41 20z\"/>\n",
              "  </svg>\n",
              "      </button>\n",
              "      \n",
              "  <style>\n",
              "    .colab-df-container {\n",
              "      display:flex;\n",
              "      flex-wrap:wrap;\n",
              "      gap: 12px;\n",
              "    }\n",
              "\n",
              "    .colab-df-convert {\n",
              "      background-color: #E8F0FE;\n",
              "      border: none;\n",
              "      border-radius: 50%;\n",
              "      cursor: pointer;\n",
              "      display: none;\n",
              "      fill: #1967D2;\n",
              "      height: 32px;\n",
              "      padding: 0 0 0 0;\n",
              "      width: 32px;\n",
              "    }\n",
              "\n",
              "    .colab-df-convert:hover {\n",
              "      background-color: #E2EBFA;\n",
              "      box-shadow: 0px 1px 2px rgba(60, 64, 67, 0.3), 0px 1px 3px 1px rgba(60, 64, 67, 0.15);\n",
              "      fill: #174EA6;\n",
              "    }\n",
              "\n",
              "    [theme=dark] .colab-df-convert {\n",
              "      background-color: #3B4455;\n",
              "      fill: #D2E3FC;\n",
              "    }\n",
              "\n",
              "    [theme=dark] .colab-df-convert:hover {\n",
              "      background-color: #434B5C;\n",
              "      box-shadow: 0px 1px 3px 1px rgba(0, 0, 0, 0.15);\n",
              "      filter: drop-shadow(0px 1px 2px rgba(0, 0, 0, 0.3));\n",
              "      fill: #FFFFFF;\n",
              "    }\n",
              "  </style>\n",
              "\n",
              "      <script>\n",
              "        const buttonEl =\n",
              "          document.querySelector('#df-edeb55a0-700f-46c7-8a83-a03b1391968a button.colab-df-convert');\n",
              "        buttonEl.style.display =\n",
              "          google.colab.kernel.accessAllowed ? 'block' : 'none';\n",
              "\n",
              "        async function convertToInteractive(key) {\n",
              "          const element = document.querySelector('#df-edeb55a0-700f-46c7-8a83-a03b1391968a');\n",
              "          const dataTable =\n",
              "            await google.colab.kernel.invokeFunction('convertToInteractive',\n",
              "                                                     [key], {});\n",
              "          if (!dataTable) return;\n",
              "\n",
              "          const docLinkHtml = 'Like what you see? Visit the ' +\n",
              "            '<a target=\"_blank\" href=https://colab.research.google.com/notebooks/data_table.ipynb>data table notebook</a>'\n",
              "            + ' to learn more about interactive tables.';\n",
              "          element.innerHTML = '';\n",
              "          dataTable['output_type'] = 'display_data';\n",
              "          await google.colab.output.renderOutput(dataTable, element);\n",
              "          const docLink = document.createElement('div');\n",
              "          docLink.innerHTML = docLinkHtml;\n",
              "          element.appendChild(docLink);\n",
              "        }\n",
              "      </script>\n",
              "    </div>\n",
              "  </div>\n",
              "  "
            ]
          },
          "metadata": {},
          "execution_count": 38
        }
      ]
    },
    {
      "cell_type": "code",
      "source": [
        "d.columns = ['W', 'Region', 'Income', 'Gender','Age','Increase_fuel_taxes','Reduce_energy','Education', 'Politics', 'CC_reasons', 'CC_ishappening', 'Care_nature', 'CC_isgood','Y']"
      ],
      "metadata": {
        "id": "Oo9MI2S9wrUR"
      },
      "execution_count": 39,
      "outputs": []
    },
    {
      "cell_type": "code",
      "source": [
        "df = pd.read_csv('before_ss.csv')\n",
        "df.columns = ['W', 'Region', 'Income', 'Gender','Age','Increase_fuel_taxes','Reduce_energy','Education', 'Politics', 'CC_reasons', 'CC_ishappening', 'Care_nature', 'CC_isgood','Y']"
      ],
      "metadata": {
        "id": "qXGjY4zOw2Ey"
      },
      "execution_count": 40,
      "outputs": []
    },
    {
      "cell_type": "code",
      "source": [
        "d.dropna(inplace=True)"
      ],
      "metadata": {
        "id": "ocEqTKq0y0oS"
      },
      "execution_count": 41,
      "outputs": []
    },
    {
      "cell_type": "markdown",
      "source": [
        "# Exploratory Data Analysis"
      ],
      "metadata": {
        "id": "ki_tw1OKrsW4"
      }
    },
    {
      "cell_type": "code",
      "source": [
        "df[df.columns[1:]].describe()"
      ],
      "metadata": {
        "id": "v0gYRYC-p3tQ",
        "outputId": "06936dd3-a238-4b84-bf48-596380153d3d",
        "colab": {
          "base_uri": "https://localhost:8080/",
          "height": 300
        }
      },
      "execution_count": 47,
      "outputs": [
        {
          "output_type": "execute_result",
          "data": {
            "text/plain": [
              "             Region        Income        Gender           Age  \\\n",
              "count  28258.000000  28258.000000  28258.000000  28258.000000   \n",
              "mean       1.731297      5.451447      0.490268     49.769517   \n",
              "std        1.267253      2.706914      0.499914     17.788449   \n",
              "min        0.000000      1.000000      0.000000     15.000000   \n",
              "25%        0.000000      3.000000      0.000000     35.000000   \n",
              "50%        2.000000      5.000000      0.000000     50.000000   \n",
              "75%        3.000000      8.000000      1.000000     64.000000   \n",
              "max        3.000000     10.000000      1.000000     99.000000   \n",
              "\n",
              "       Increase_fuel_taxes  Reduce_energy     Education      Politics  \\\n",
              "count         28258.000000   28258.000000  28258.000000  28258.000000   \n",
              "mean              0.795385       0.728466      4.148524      5.064867   \n",
              "std               0.774065       0.444759      1.843658      2.167852   \n",
              "min               0.000000       0.000000      1.000000      0.000000   \n",
              "25%               0.000000       0.000000      3.000000      4.000000   \n",
              "50%               1.000000       1.000000      4.000000      5.000000   \n",
              "75%               1.000000       1.000000      6.000000      6.000000   \n",
              "max               2.000000       1.000000      7.000000     10.000000   \n",
              "\n",
              "         CC_reasons  CC_ishappening   Care_nature     CC_isgood             Y  \n",
              "count  28258.000000    28258.000000  28258.000000  28258.000000  28258.000000  \n",
              "mean       1.919421        0.959622      1.325005      3.223158      0.773020  \n",
              "std        0.272192        0.196848      0.519948      2.145904      0.418887  \n",
              "min        1.000000        0.000000      1.000000      0.000000      0.000000  \n",
              "25%        2.000000        1.000000      1.000000      2.000000      1.000000  \n",
              "50%        2.000000        1.000000      1.000000      3.000000      1.000000  \n",
              "75%        2.000000        1.000000      2.000000      5.000000      1.000000  \n",
              "max        2.000000        1.000000      3.000000     10.000000      1.000000  "
            ],
            "text/html": [
              "\n",
              "  <div id=\"df-2574ea30-2ba9-4a6b-9a9c-4cf3ce00a500\">\n",
              "    <div class=\"colab-df-container\">\n",
              "      <div>\n",
              "<style scoped>\n",
              "    .dataframe tbody tr th:only-of-type {\n",
              "        vertical-align: middle;\n",
              "    }\n",
              "\n",
              "    .dataframe tbody tr th {\n",
              "        vertical-align: top;\n",
              "    }\n",
              "\n",
              "    .dataframe thead th {\n",
              "        text-align: right;\n",
              "    }\n",
              "</style>\n",
              "<table border=\"1\" class=\"dataframe\">\n",
              "  <thead>\n",
              "    <tr style=\"text-align: right;\">\n",
              "      <th></th>\n",
              "      <th>Region</th>\n",
              "      <th>Income</th>\n",
              "      <th>Gender</th>\n",
              "      <th>Age</th>\n",
              "      <th>Increase_fuel_taxes</th>\n",
              "      <th>Reduce_energy</th>\n",
              "      <th>Education</th>\n",
              "      <th>Politics</th>\n",
              "      <th>CC_reasons</th>\n",
              "      <th>CC_ishappening</th>\n",
              "      <th>Care_nature</th>\n",
              "      <th>CC_isgood</th>\n",
              "      <th>Y</th>\n",
              "    </tr>\n",
              "  </thead>\n",
              "  <tbody>\n",
              "    <tr>\n",
              "      <th>count</th>\n",
              "      <td>28258.000000</td>\n",
              "      <td>28258.000000</td>\n",
              "      <td>28258.000000</td>\n",
              "      <td>28258.000000</td>\n",
              "      <td>28258.000000</td>\n",
              "      <td>28258.000000</td>\n",
              "      <td>28258.000000</td>\n",
              "      <td>28258.000000</td>\n",
              "      <td>28258.000000</td>\n",
              "      <td>28258.000000</td>\n",
              "      <td>28258.000000</td>\n",
              "      <td>28258.000000</td>\n",
              "      <td>28258.000000</td>\n",
              "    </tr>\n",
              "    <tr>\n",
              "      <th>mean</th>\n",
              "      <td>1.731297</td>\n",
              "      <td>5.451447</td>\n",
              "      <td>0.490268</td>\n",
              "      <td>49.769517</td>\n",
              "      <td>0.795385</td>\n",
              "      <td>0.728466</td>\n",
              "      <td>4.148524</td>\n",
              "      <td>5.064867</td>\n",
              "      <td>1.919421</td>\n",
              "      <td>0.959622</td>\n",
              "      <td>1.325005</td>\n",
              "      <td>3.223158</td>\n",
              "      <td>0.773020</td>\n",
              "    </tr>\n",
              "    <tr>\n",
              "      <th>std</th>\n",
              "      <td>1.267253</td>\n",
              "      <td>2.706914</td>\n",
              "      <td>0.499914</td>\n",
              "      <td>17.788449</td>\n",
              "      <td>0.774065</td>\n",
              "      <td>0.444759</td>\n",
              "      <td>1.843658</td>\n",
              "      <td>2.167852</td>\n",
              "      <td>0.272192</td>\n",
              "      <td>0.196848</td>\n",
              "      <td>0.519948</td>\n",
              "      <td>2.145904</td>\n",
              "      <td>0.418887</td>\n",
              "    </tr>\n",
              "    <tr>\n",
              "      <th>min</th>\n",
              "      <td>0.000000</td>\n",
              "      <td>1.000000</td>\n",
              "      <td>0.000000</td>\n",
              "      <td>15.000000</td>\n",
              "      <td>0.000000</td>\n",
              "      <td>0.000000</td>\n",
              "      <td>1.000000</td>\n",
              "      <td>0.000000</td>\n",
              "      <td>1.000000</td>\n",
              "      <td>0.000000</td>\n",
              "      <td>1.000000</td>\n",
              "      <td>0.000000</td>\n",
              "      <td>0.000000</td>\n",
              "    </tr>\n",
              "    <tr>\n",
              "      <th>25%</th>\n",
              "      <td>0.000000</td>\n",
              "      <td>3.000000</td>\n",
              "      <td>0.000000</td>\n",
              "      <td>35.000000</td>\n",
              "      <td>0.000000</td>\n",
              "      <td>0.000000</td>\n",
              "      <td>3.000000</td>\n",
              "      <td>4.000000</td>\n",
              "      <td>2.000000</td>\n",
              "      <td>1.000000</td>\n",
              "      <td>1.000000</td>\n",
              "      <td>2.000000</td>\n",
              "      <td>1.000000</td>\n",
              "    </tr>\n",
              "    <tr>\n",
              "      <th>50%</th>\n",
              "      <td>2.000000</td>\n",
              "      <td>5.000000</td>\n",
              "      <td>0.000000</td>\n",
              "      <td>50.000000</td>\n",
              "      <td>1.000000</td>\n",
              "      <td>1.000000</td>\n",
              "      <td>4.000000</td>\n",
              "      <td>5.000000</td>\n",
              "      <td>2.000000</td>\n",
              "      <td>1.000000</td>\n",
              "      <td>1.000000</td>\n",
              "      <td>3.000000</td>\n",
              "      <td>1.000000</td>\n",
              "    </tr>\n",
              "    <tr>\n",
              "      <th>75%</th>\n",
              "      <td>3.000000</td>\n",
              "      <td>8.000000</td>\n",
              "      <td>1.000000</td>\n",
              "      <td>64.000000</td>\n",
              "      <td>1.000000</td>\n",
              "      <td>1.000000</td>\n",
              "      <td>6.000000</td>\n",
              "      <td>6.000000</td>\n",
              "      <td>2.000000</td>\n",
              "      <td>1.000000</td>\n",
              "      <td>2.000000</td>\n",
              "      <td>5.000000</td>\n",
              "      <td>1.000000</td>\n",
              "    </tr>\n",
              "    <tr>\n",
              "      <th>max</th>\n",
              "      <td>3.000000</td>\n",
              "      <td>10.000000</td>\n",
              "      <td>1.000000</td>\n",
              "      <td>99.000000</td>\n",
              "      <td>2.000000</td>\n",
              "      <td>1.000000</td>\n",
              "      <td>7.000000</td>\n",
              "      <td>10.000000</td>\n",
              "      <td>2.000000</td>\n",
              "      <td>1.000000</td>\n",
              "      <td>3.000000</td>\n",
              "      <td>10.000000</td>\n",
              "      <td>1.000000</td>\n",
              "    </tr>\n",
              "  </tbody>\n",
              "</table>\n",
              "</div>\n",
              "      <button class=\"colab-df-convert\" onclick=\"convertToInteractive('df-2574ea30-2ba9-4a6b-9a9c-4cf3ce00a500')\"\n",
              "              title=\"Convert this dataframe to an interactive table.\"\n",
              "              style=\"display:none;\">\n",
              "        \n",
              "  <svg xmlns=\"http://www.w3.org/2000/svg\" height=\"24px\"viewBox=\"0 0 24 24\"\n",
              "       width=\"24px\">\n",
              "    <path d=\"M0 0h24v24H0V0z\" fill=\"none\"/>\n",
              "    <path d=\"M18.56 5.44l.94 2.06.94-2.06 2.06-.94-2.06-.94-.94-2.06-.94 2.06-2.06.94zm-11 1L8.5 8.5l.94-2.06 2.06-.94-2.06-.94L8.5 2.5l-.94 2.06-2.06.94zm10 10l.94 2.06.94-2.06 2.06-.94-2.06-.94-.94-2.06-.94 2.06-2.06.94z\"/><path d=\"M17.41 7.96l-1.37-1.37c-.4-.4-.92-.59-1.43-.59-.52 0-1.04.2-1.43.59L10.3 9.45l-7.72 7.72c-.78.78-.78 2.05 0 2.83L4 21.41c.39.39.9.59 1.41.59.51 0 1.02-.2 1.41-.59l7.78-7.78 2.81-2.81c.8-.78.8-2.07 0-2.86zM5.41 20L4 18.59l7.72-7.72 1.47 1.35L5.41 20z\"/>\n",
              "  </svg>\n",
              "      </button>\n",
              "      \n",
              "  <style>\n",
              "    .colab-df-container {\n",
              "      display:flex;\n",
              "      flex-wrap:wrap;\n",
              "      gap: 12px;\n",
              "    }\n",
              "\n",
              "    .colab-df-convert {\n",
              "      background-color: #E8F0FE;\n",
              "      border: none;\n",
              "      border-radius: 50%;\n",
              "      cursor: pointer;\n",
              "      display: none;\n",
              "      fill: #1967D2;\n",
              "      height: 32px;\n",
              "      padding: 0 0 0 0;\n",
              "      width: 32px;\n",
              "    }\n",
              "\n",
              "    .colab-df-convert:hover {\n",
              "      background-color: #E2EBFA;\n",
              "      box-shadow: 0px 1px 2px rgba(60, 64, 67, 0.3), 0px 1px 3px 1px rgba(60, 64, 67, 0.15);\n",
              "      fill: #174EA6;\n",
              "    }\n",
              "\n",
              "    [theme=dark] .colab-df-convert {\n",
              "      background-color: #3B4455;\n",
              "      fill: #D2E3FC;\n",
              "    }\n",
              "\n",
              "    [theme=dark] .colab-df-convert:hover {\n",
              "      background-color: #434B5C;\n",
              "      box-shadow: 0px 1px 3px 1px rgba(0, 0, 0, 0.15);\n",
              "      filter: drop-shadow(0px 1px 2px rgba(0, 0, 0, 0.3));\n",
              "      fill: #FFFFFF;\n",
              "    }\n",
              "  </style>\n",
              "\n",
              "      <script>\n",
              "        const buttonEl =\n",
              "          document.querySelector('#df-2574ea30-2ba9-4a6b-9a9c-4cf3ce00a500 button.colab-df-convert');\n",
              "        buttonEl.style.display =\n",
              "          google.colab.kernel.accessAllowed ? 'block' : 'none';\n",
              "\n",
              "        async function convertToInteractive(key) {\n",
              "          const element = document.querySelector('#df-2574ea30-2ba9-4a6b-9a9c-4cf3ce00a500');\n",
              "          const dataTable =\n",
              "            await google.colab.kernel.invokeFunction('convertToInteractive',\n",
              "                                                     [key], {});\n",
              "          if (!dataTable) return;\n",
              "\n",
              "          const docLinkHtml = 'Like what you see? Visit the ' +\n",
              "            '<a target=\"_blank\" href=https://colab.research.google.com/notebooks/data_table.ipynb>data table notebook</a>'\n",
              "            + ' to learn more about interactive tables.';\n",
              "          element.innerHTML = '';\n",
              "          dataTable['output_type'] = 'display_data';\n",
              "          await google.colab.output.renderOutput(dataTable, element);\n",
              "          const docLink = document.createElement('div');\n",
              "          docLink.innerHTML = docLinkHtml;\n",
              "          element.appendChild(docLink);\n",
              "        }\n",
              "      </script>\n",
              "    </div>\n",
              "  </div>\n",
              "  "
            ]
          },
          "metadata": {},
          "execution_count": 47
        }
      ]
    },
    {
      "cell_type": "code",
      "source": [
        "d.Y[d.Region== 0].value_counts()/len(d.Y[d.Region== 0])"
      ],
      "metadata": {
        "colab": {
          "base_uri": "https://localhost:8080/"
        },
        "id": "AHXQB6lLIuO8",
        "outputId": "8b3820fb-5fc5-49b4-f8a7-193be729a31a"
      },
      "execution_count": 58,
      "outputs": [
        {
          "output_type": "execute_result",
          "data": {
            "text/plain": [
              "1    0.687257\n",
              "0    0.312743\n",
              "Name: Y, dtype: float64"
            ]
          },
          "metadata": {},
          "execution_count": 58
        }
      ]
    },
    {
      "cell_type": "code",
      "source": [
        "d.Y[d.Region== 1].value_counts()/len(d.Y[d.Region== 1])"
      ],
      "metadata": {
        "colab": {
          "base_uri": "https://localhost:8080/"
        },
        "id": "-AH1jQJrI496",
        "outputId": "8867e024-1b87-4763-f7dd-376a886bd45b"
      },
      "execution_count": 59,
      "outputs": [
        {
          "output_type": "execute_result",
          "data": {
            "text/plain": [
              "1    0.753533\n",
              "0    0.246467\n",
              "Name: Y, dtype: float64"
            ]
          },
          "metadata": {},
          "execution_count": 59
        }
      ]
    },
    {
      "cell_type": "code",
      "source": [
        "d.Y[d.Region== 2].value_counts()/len(d.Y[d.Region== 2])"
      ],
      "metadata": {
        "colab": {
          "base_uri": "https://localhost:8080/"
        },
        "id": "iMqXNjFYI6Eh",
        "outputId": "75410ce3-e5d8-4694-fb18-a7f602b772c5"
      },
      "execution_count": 60,
      "outputs": [
        {
          "output_type": "execute_result",
          "data": {
            "text/plain": [
              "1    0.908805\n",
              "0    0.091195\n",
              "Name: Y, dtype: float64"
            ]
          },
          "metadata": {},
          "execution_count": 60
        }
      ]
    },
    {
      "cell_type": "code",
      "source": [
        "d.Y[d.Region== 3].value_counts()/len(d.Y[d.Region== 3])"
      ],
      "metadata": {
        "colab": {
          "base_uri": "https://localhost:8080/"
        },
        "id": "iZtDCCorI7VR",
        "outputId": "bbdeeeae-2d7d-4856-94b8-8d135ccc2cb6"
      },
      "execution_count": 61,
      "outputs": [
        {
          "output_type": "execute_result",
          "data": {
            "text/plain": [
              "1    0.79769\n",
              "0    0.20231\n",
              "Name: Y, dtype: float64"
            ]
          },
          "metadata": {},
          "execution_count": 61
        }
      ]
    },
    {
      "cell_type": "code",
      "source": [
        "colors_green = ['#01411C','#4B6F44','#4F7942','#74C365','#D0F0C0']\n",
        "colors_blue = [\"#132C33\", \"#264D58\", '#17869E', '#51C4D3', '#B4DBE9']\n",
        "colors_red = [\"#132C33\", \"#264D58\", '#17869E', '#51C4D3', '#B4DBE9']"
      ],
      "metadata": {
        "id": "mZJJ33OxuT8p"
      },
      "execution_count": null,
      "outputs": []
    },
    {
      "cell_type": "code",
      "source": [
        "h= pd.DataFrame(d['Y'].value_counts())\n",
        "fig = px.pie(h,values='Y',names=['Not Worried','Worried'],hole=0.4,opacity=0.6,\n",
        "            color_discrete_sequence=[colors_green[3],'darkred'],\n",
        "             labels={'label':'Potability','Potability':'No. Of Samples'})\n",
        "fig.update_traces(textposition='outside', textinfo='percent+label')\n",
        "\n",
        "fig.update_layout(\n",
        "    font_family='monospace',\n",
        "    title=dict(text='Q. Are you worried about climate change?',x=0.47,y=0.98,\n",
        "               font=dict(size=20)),\n",
        "    legend=dict(x=0.37,y=-0.05,orientation='h',traceorder='reversed'),\n",
        "    hoverlabel=dict(bgcolor='white'))\n",
        "\n",
        "fig.show()"
      ],
      "metadata": {
        "colab": {
          "base_uri": "https://localhost:8080/",
          "height": 542
        },
        "id": "1i8TdoFirsCz",
        "outputId": "6d5a8dc3-9a04-41d5-e172-2e39604b0f78"
      },
      "execution_count": null,
      "outputs": [
        {
          "output_type": "display_data",
          "data": {
            "text/html": [
              "<html>\n",
              "<head><meta charset=\"utf-8\" /></head>\n",
              "<body>\n",
              "    <div>            <script src=\"https://cdnjs.cloudflare.com/ajax/libs/mathjax/2.7.5/MathJax.js?config=TeX-AMS-MML_SVG\"></script><script type=\"text/javascript\">if (window.MathJax) {MathJax.Hub.Config({SVG: {font: \"STIX-Web\"}});}</script>                <script type=\"text/javascript\">window.PlotlyConfig = {MathJaxConfig: 'local'};</script>\n",
              "        <script src=\"https://cdn.plot.ly/plotly-2.8.3.min.js\"></script>                <div id=\"8f361952-bd21-493b-bedc-829310ad2921\" class=\"plotly-graph-div\" style=\"height:525px; width:100%;\"></div>            <script type=\"text/javascript\">                                    window.PLOTLYENV=window.PLOTLYENV || {};                                    if (document.getElementById(\"8f361952-bd21-493b-bedc-829310ad2921\")) {                    Plotly.newPlot(                        \"8f361952-bd21-493b-bedc-829310ad2921\",                        [{\"domain\":{\"x\":[0.0,1.0],\"y\":[0.0,1.0]},\"hole\":0.4,\"hovertemplate\":\"label=%{label}<br>Y=%{value}<extra></extra>\",\"labels\":[\"Not Worried\",\"Worried\"],\"legendgroup\":\"\",\"name\":\"\",\"opacity\":0.6,\"showlegend\":true,\"values\":[20719,8789],\"type\":\"pie\",\"textinfo\":\"percent+label\",\"textposition\":\"outside\"}],                        {\"template\":{\"data\":{\"bar\":[{\"error_x\":{\"color\":\"#2a3f5f\"},\"error_y\":{\"color\":\"#2a3f5f\"},\"marker\":{\"line\":{\"color\":\"#E5ECF6\",\"width\":0.5},\"pattern\":{\"fillmode\":\"overlay\",\"size\":10,\"solidity\":0.2}},\"type\":\"bar\"}],\"barpolar\":[{\"marker\":{\"line\":{\"color\":\"#E5ECF6\",\"width\":0.5},\"pattern\":{\"fillmode\":\"overlay\",\"size\":10,\"solidity\":0.2}},\"type\":\"barpolar\"}],\"carpet\":[{\"aaxis\":{\"endlinecolor\":\"#2a3f5f\",\"gridcolor\":\"white\",\"linecolor\":\"white\",\"minorgridcolor\":\"white\",\"startlinecolor\":\"#2a3f5f\"},\"baxis\":{\"endlinecolor\":\"#2a3f5f\",\"gridcolor\":\"white\",\"linecolor\":\"white\",\"minorgridcolor\":\"white\",\"startlinecolor\":\"#2a3f5f\"},\"type\":\"carpet\"}],\"choropleth\":[{\"colorbar\":{\"outlinewidth\":0,\"ticks\":\"\"},\"type\":\"choropleth\"}],\"contour\":[{\"colorbar\":{\"outlinewidth\":0,\"ticks\":\"\"},\"colorscale\":[[0.0,\"#0d0887\"],[0.1111111111111111,\"#46039f\"],[0.2222222222222222,\"#7201a8\"],[0.3333333333333333,\"#9c179e\"],[0.4444444444444444,\"#bd3786\"],[0.5555555555555556,\"#d8576b\"],[0.6666666666666666,\"#ed7953\"],[0.7777777777777778,\"#fb9f3a\"],[0.8888888888888888,\"#fdca26\"],[1.0,\"#f0f921\"]],\"type\":\"contour\"}],\"contourcarpet\":[{\"colorbar\":{\"outlinewidth\":0,\"ticks\":\"\"},\"type\":\"contourcarpet\"}],\"heatmap\":[{\"colorbar\":{\"outlinewidth\":0,\"ticks\":\"\"},\"colorscale\":[[0.0,\"#0d0887\"],[0.1111111111111111,\"#46039f\"],[0.2222222222222222,\"#7201a8\"],[0.3333333333333333,\"#9c179e\"],[0.4444444444444444,\"#bd3786\"],[0.5555555555555556,\"#d8576b\"],[0.6666666666666666,\"#ed7953\"],[0.7777777777777778,\"#fb9f3a\"],[0.8888888888888888,\"#fdca26\"],[1.0,\"#f0f921\"]],\"type\":\"heatmap\"}],\"heatmapgl\":[{\"colorbar\":{\"outlinewidth\":0,\"ticks\":\"\"},\"colorscale\":[[0.0,\"#0d0887\"],[0.1111111111111111,\"#46039f\"],[0.2222222222222222,\"#7201a8\"],[0.3333333333333333,\"#9c179e\"],[0.4444444444444444,\"#bd3786\"],[0.5555555555555556,\"#d8576b\"],[0.6666666666666666,\"#ed7953\"],[0.7777777777777778,\"#fb9f3a\"],[0.8888888888888888,\"#fdca26\"],[1.0,\"#f0f921\"]],\"type\":\"heatmapgl\"}],\"histogram\":[{\"marker\":{\"pattern\":{\"fillmode\":\"overlay\",\"size\":10,\"solidity\":0.2}},\"type\":\"histogram\"}],\"histogram2d\":[{\"colorbar\":{\"outlinewidth\":0,\"ticks\":\"\"},\"colorscale\":[[0.0,\"#0d0887\"],[0.1111111111111111,\"#46039f\"],[0.2222222222222222,\"#7201a8\"],[0.3333333333333333,\"#9c179e\"],[0.4444444444444444,\"#bd3786\"],[0.5555555555555556,\"#d8576b\"],[0.6666666666666666,\"#ed7953\"],[0.7777777777777778,\"#fb9f3a\"],[0.8888888888888888,\"#fdca26\"],[1.0,\"#f0f921\"]],\"type\":\"histogram2d\"}],\"histogram2dcontour\":[{\"colorbar\":{\"outlinewidth\":0,\"ticks\":\"\"},\"colorscale\":[[0.0,\"#0d0887\"],[0.1111111111111111,\"#46039f\"],[0.2222222222222222,\"#7201a8\"],[0.3333333333333333,\"#9c179e\"],[0.4444444444444444,\"#bd3786\"],[0.5555555555555556,\"#d8576b\"],[0.6666666666666666,\"#ed7953\"],[0.7777777777777778,\"#fb9f3a\"],[0.8888888888888888,\"#fdca26\"],[1.0,\"#f0f921\"]],\"type\":\"histogram2dcontour\"}],\"mesh3d\":[{\"colorbar\":{\"outlinewidth\":0,\"ticks\":\"\"},\"type\":\"mesh3d\"}],\"parcoords\":[{\"line\":{\"colorbar\":{\"outlinewidth\":0,\"ticks\":\"\"}},\"type\":\"parcoords\"}],\"pie\":[{\"automargin\":true,\"type\":\"pie\"}],\"scatter\":[{\"marker\":{\"colorbar\":{\"outlinewidth\":0,\"ticks\":\"\"}},\"type\":\"scatter\"}],\"scatter3d\":[{\"line\":{\"colorbar\":{\"outlinewidth\":0,\"ticks\":\"\"}},\"marker\":{\"colorbar\":{\"outlinewidth\":0,\"ticks\":\"\"}},\"type\":\"scatter3d\"}],\"scattercarpet\":[{\"marker\":{\"colorbar\":{\"outlinewidth\":0,\"ticks\":\"\"}},\"type\":\"scattercarpet\"}],\"scattergeo\":[{\"marker\":{\"colorbar\":{\"outlinewidth\":0,\"ticks\":\"\"}},\"type\":\"scattergeo\"}],\"scattergl\":[{\"marker\":{\"colorbar\":{\"outlinewidth\":0,\"ticks\":\"\"}},\"type\":\"scattergl\"}],\"scattermapbox\":[{\"marker\":{\"colorbar\":{\"outlinewidth\":0,\"ticks\":\"\"}},\"type\":\"scattermapbox\"}],\"scatterpolar\":[{\"marker\":{\"colorbar\":{\"outlinewidth\":0,\"ticks\":\"\"}},\"type\":\"scatterpolar\"}],\"scatterpolargl\":[{\"marker\":{\"colorbar\":{\"outlinewidth\":0,\"ticks\":\"\"}},\"type\":\"scatterpolargl\"}],\"scatterternary\":[{\"marker\":{\"colorbar\":{\"outlinewidth\":0,\"ticks\":\"\"}},\"type\":\"scatterternary\"}],\"surface\":[{\"colorbar\":{\"outlinewidth\":0,\"ticks\":\"\"},\"colorscale\":[[0.0,\"#0d0887\"],[0.1111111111111111,\"#46039f\"],[0.2222222222222222,\"#7201a8\"],[0.3333333333333333,\"#9c179e\"],[0.4444444444444444,\"#bd3786\"],[0.5555555555555556,\"#d8576b\"],[0.6666666666666666,\"#ed7953\"],[0.7777777777777778,\"#fb9f3a\"],[0.8888888888888888,\"#fdca26\"],[1.0,\"#f0f921\"]],\"type\":\"surface\"}],\"table\":[{\"cells\":{\"fill\":{\"color\":\"#EBF0F8\"},\"line\":{\"color\":\"white\"}},\"header\":{\"fill\":{\"color\":\"#C8D4E3\"},\"line\":{\"color\":\"white\"}},\"type\":\"table\"}]},\"layout\":{\"annotationdefaults\":{\"arrowcolor\":\"#2a3f5f\",\"arrowhead\":0,\"arrowwidth\":1},\"autotypenumbers\":\"strict\",\"coloraxis\":{\"colorbar\":{\"outlinewidth\":0,\"ticks\":\"\"}},\"colorscale\":{\"diverging\":[[0,\"#8e0152\"],[0.1,\"#c51b7d\"],[0.2,\"#de77ae\"],[0.3,\"#f1b6da\"],[0.4,\"#fde0ef\"],[0.5,\"#f7f7f7\"],[0.6,\"#e6f5d0\"],[0.7,\"#b8e186\"],[0.8,\"#7fbc41\"],[0.9,\"#4d9221\"],[1,\"#276419\"]],\"sequential\":[[0.0,\"#0d0887\"],[0.1111111111111111,\"#46039f\"],[0.2222222222222222,\"#7201a8\"],[0.3333333333333333,\"#9c179e\"],[0.4444444444444444,\"#bd3786\"],[0.5555555555555556,\"#d8576b\"],[0.6666666666666666,\"#ed7953\"],[0.7777777777777778,\"#fb9f3a\"],[0.8888888888888888,\"#fdca26\"],[1.0,\"#f0f921\"]],\"sequentialminus\":[[0.0,\"#0d0887\"],[0.1111111111111111,\"#46039f\"],[0.2222222222222222,\"#7201a8\"],[0.3333333333333333,\"#9c179e\"],[0.4444444444444444,\"#bd3786\"],[0.5555555555555556,\"#d8576b\"],[0.6666666666666666,\"#ed7953\"],[0.7777777777777778,\"#fb9f3a\"],[0.8888888888888888,\"#fdca26\"],[1.0,\"#f0f921\"]]},\"colorway\":[\"#636efa\",\"#EF553B\",\"#00cc96\",\"#ab63fa\",\"#FFA15A\",\"#19d3f3\",\"#FF6692\",\"#B6E880\",\"#FF97FF\",\"#FECB52\"],\"font\":{\"color\":\"#2a3f5f\"},\"geo\":{\"bgcolor\":\"white\",\"lakecolor\":\"white\",\"landcolor\":\"#E5ECF6\",\"showlakes\":true,\"showland\":true,\"subunitcolor\":\"white\"},\"hoverlabel\":{\"align\":\"left\"},\"hovermode\":\"closest\",\"mapbox\":{\"style\":\"light\"},\"paper_bgcolor\":\"white\",\"plot_bgcolor\":\"#E5ECF6\",\"polar\":{\"angularaxis\":{\"gridcolor\":\"white\",\"linecolor\":\"white\",\"ticks\":\"\"},\"bgcolor\":\"#E5ECF6\",\"radialaxis\":{\"gridcolor\":\"white\",\"linecolor\":\"white\",\"ticks\":\"\"}},\"scene\":{\"xaxis\":{\"backgroundcolor\":\"#E5ECF6\",\"gridcolor\":\"white\",\"gridwidth\":2,\"linecolor\":\"white\",\"showbackground\":true,\"ticks\":\"\",\"zerolinecolor\":\"white\"},\"yaxis\":{\"backgroundcolor\":\"#E5ECF6\",\"gridcolor\":\"white\",\"gridwidth\":2,\"linecolor\":\"white\",\"showbackground\":true,\"ticks\":\"\",\"zerolinecolor\":\"white\"},\"zaxis\":{\"backgroundcolor\":\"#E5ECF6\",\"gridcolor\":\"white\",\"gridwidth\":2,\"linecolor\":\"white\",\"showbackground\":true,\"ticks\":\"\",\"zerolinecolor\":\"white\"}},\"shapedefaults\":{\"line\":{\"color\":\"#2a3f5f\"}},\"ternary\":{\"aaxis\":{\"gridcolor\":\"white\",\"linecolor\":\"white\",\"ticks\":\"\"},\"baxis\":{\"gridcolor\":\"white\",\"linecolor\":\"white\",\"ticks\":\"\"},\"bgcolor\":\"#E5ECF6\",\"caxis\":{\"gridcolor\":\"white\",\"linecolor\":\"white\",\"ticks\":\"\"}},\"title\":{\"x\":0.05},\"xaxis\":{\"automargin\":true,\"gridcolor\":\"white\",\"linecolor\":\"white\",\"ticks\":\"\",\"title\":{\"standoff\":15},\"zerolinecolor\":\"white\",\"zerolinewidth\":2},\"yaxis\":{\"automargin\":true,\"gridcolor\":\"white\",\"linecolor\":\"white\",\"ticks\":\"\",\"title\":{\"standoff\":15},\"zerolinecolor\":\"white\",\"zerolinewidth\":2}}},\"legend\":{\"tracegroupgap\":0,\"x\":0.37,\"y\":-0.05,\"orientation\":\"h\",\"traceorder\":\"reversed\"},\"margin\":{\"t\":60},\"piecolorway\":[\"#74C365\",\"darkred\"],\"font\":{\"family\":\"monospace\"},\"title\":{\"font\":{\"size\":20},\"text\":\"Q. Are you worried about climate change?\",\"x\":0.47,\"y\":0.98},\"hoverlabel\":{\"bgcolor\":\"white\"}},                        {\"responsive\": true}                    ).then(function(){\n",
              "                            \n",
              "var gd = document.getElementById('8f361952-bd21-493b-bedc-829310ad2921');\n",
              "var x = new MutationObserver(function (mutations, observer) {{\n",
              "        var display = window.getComputedStyle(gd).display;\n",
              "        if (!display || display === 'none') {{\n",
              "            console.log([gd, 'removed!']);\n",
              "            Plotly.purge(gd);\n",
              "            observer.disconnect();\n",
              "        }}\n",
              "}});\n",
              "\n",
              "// Listen for the removal of the full notebook cells\n",
              "var notebookContainer = gd.closest('#notebook-container');\n",
              "if (notebookContainer) {{\n",
              "    x.observe(notebookContainer, {childList: true});\n",
              "}}\n",
              "\n",
              "// Listen for the clearing of the current output cell\n",
              "var outputEl = gd.closest('.output');\n",
              "if (outputEl) {{\n",
              "    x.observe(outputEl, {childList: true});\n",
              "}}\n",
              "\n",
              "                        })                };                            </script>        </div>\n",
              "</body>\n",
              "</html>"
            ]
          },
          "metadata": {}
        }
      ]
    },
    {
      "cell_type": "code",
      "source": [
        "cor=d.drop('W',axis=1).corr()\n",
        "fig = px.imshow(cor,height=800,width=800,color_continuous_scale='rdylgn',template='plotly_white')\n",
        "\n",
        "fig.update_layout(font_family='monospace',\n",
        "                title=dict(text='Correlation Heatmap',x=0.5,y=0.93,\n",
        "                             font=dict(color='black',size=24)),\n",
        "                coloraxis_colorbar=dict(len=0.85,x=1.1) \n",
        "                 )\n",
        "\n",
        "fig.show()"
      ],
      "metadata": {
        "id": "lYnjXQCmvnEJ",
        "outputId": "04f8ace6-d866-4ccf-e457-51f14db23a2e",
        "colab": {
          "base_uri": "https://localhost:8080/",
          "height": 817
        }
      },
      "execution_count": null,
      "outputs": [
        {
          "output_type": "display_data",
          "data": {
            "text/html": [
              "<html>\n",
              "<head><meta charset=\"utf-8\" /></head>\n",
              "<body>\n",
              "    <div>            <script src=\"https://cdnjs.cloudflare.com/ajax/libs/mathjax/2.7.5/MathJax.js?config=TeX-AMS-MML_SVG\"></script><script type=\"text/javascript\">if (window.MathJax) {MathJax.Hub.Config({SVG: {font: \"STIX-Web\"}});}</script>                <script type=\"text/javascript\">window.PlotlyConfig = {MathJaxConfig: 'local'};</script>\n",
              "        <script src=\"https://cdn.plot.ly/plotly-2.8.3.min.js\"></script>                <div id=\"22e9c4b1-518c-4213-bea5-59d348479bd3\" class=\"plotly-graph-div\" style=\"height:800px; width:800px;\"></div>            <script type=\"text/javascript\">                                    window.PLOTLYENV=window.PLOTLYENV || {};                                    if (document.getElementById(\"22e9c4b1-518c-4213-bea5-59d348479bd3\")) {                    Plotly.newPlot(                        \"22e9c4b1-518c-4213-bea5-59d348479bd3\",                        [{\"coloraxis\":\"coloraxis\",\"name\":\"0\",\"x\":[\"Region\",\"Income\",\"Gender\",\"Age\",\"Increase_fuel_taxes\",\"Reduce_energy\",\"Education\",\"Politics\",\"CC_reasons\",\"CC_ishappening\",\"Care_nature\",\"CC_isgood\",\"Y\"],\"y\":[\"Region\",\"Income\",\"Gender\",\"Age\",\"Increase_fuel_taxes\",\"Reduce_energy\",\"Education\",\"Politics\",\"CC_reasons\",\"CC_ishappening\",\"Care_nature\",\"CC_isgood\",\"Y\"],\"z\":[[1.0,-0.006593953986337619,0.018244859382854396,0.026341298634849238,-0.023148569636674513,0.0734789661980686,-0.07148317913948077,-0.09061756328063428,0.06752571382722973,0.051697725804831035,-0.01553465500238031,-0.022768245131421606,0.11237074811262518],[-0.006593953986337619,1.0,0.07575299223843542,-0.1956245300234999,0.03494935318117245,-0.016051034662852653,0.37193488820183934,0.05959263430841549,0.04557903421974026,0.02624086834299642,0.01199151079035712,-0.051857549943910404,0.0383136640324358],[0.018244859382854396,0.07575299223843542,1.0,-0.019037985818611165,-0.055079733587531925,-0.03790919219515713,-0.03519690718623738,0.051540544355921536,-0.055047804192894345,-0.032223722818171305,0.040896383282644465,-8.681162762042814e-05,-0.07476803442534811],[0.026341298634849238,-0.1956245300234999,-0.019037985818611165,1.0,-0.03293302807473854,0.10944632430024558,-0.15054597849083523,0.03331336890196936,-0.052711390836716936,-0.015038465039012504,-0.15113501125368184,0.08463794393704246,-0.034771903314252416],[-0.023148569636674513,0.03494935318117245,-0.055079733587531925,-0.03293302807473854,1.0,-0.00740206942774764,0.06079889454520536,-0.021046123890532353,0.054100543231985786,0.01824015345973284,-0.009568484291691673,0.016049233523119794,0.06282348793493049],[0.0734789661980686,-0.016051034662852653,-0.03790919219515713,0.10944632430024558,-0.00740206942774764,1.0,0.04219320594874743,-0.053635590290778634,0.05370626600323089,0.04009072720599038,-0.21183597608886168,-0.06595445106612094,0.14481910202487544],[-0.07148317913948077,0.37193488820183934,-0.03519690718623738,-0.15054597849083523,0.06079889454520536,0.04219320594874743,1.0,-0.02337804674637237,0.04133864209645286,0.02715415301388932,-0.035996457525200004,-0.0945098925505656,0.05039011164557278],[-0.09061756328063428,0.05959263430841549,0.051540544355921536,0.03331336890196936,-0.021046123890532353,-0.053635590290778634,-0.02337804674637237,1.0,-0.06467072339706484,-0.04013731402946409,0.05671087101185702,0.1340565482050711,-0.09165892988698303],[0.06752571382722973,0.04557903421974026,-0.055047804192894345,-0.052711390836716936,0.054100543231985786,0.05370626600323089,0.04133864209645286,-0.06467072339706484,1.0,0.18035387989599616,-0.06100459101029524,-0.1526137148115637,0.22601235025449487],[0.051697725804831035,0.02624086834299642,-0.032223722818171305,-0.015038465039012504,0.01824015345973284,0.04009072720599038,0.02715415301388932,-0.04013731402946409,0.18035387989599616,1.0,-0.059184704397656863,-0.12008647455565191,0.1824115554615897],[-0.01553465500238031,0.01199151079035712,0.040896383282644465,-0.15113501125368184,-0.009568484291691673,-0.21183597608886168,-0.035996457525200004,0.05671087101185702,-0.06100459101029524,-0.059184704397656863,1.0,0.11940248050580385,-0.17766545818842902],[-0.022768245131421606,-0.051857549943910404,-8.681162762042814e-05,0.08463794393704246,0.016049233523119794,-0.06595445106612094,-0.0945098925505656,0.1340565482050711,-0.1526137148115637,-0.12008647455565191,0.11940248050580385,1.0,-0.21766423013454883],[0.11237074811262518,0.0383136640324358,-0.07476803442534811,-0.034771903314252416,0.06282348793493049,0.14481910202487544,0.05039011164557278,-0.09165892988698303,0.22601235025449487,0.1824115554615897,-0.17766545818842902,-0.21766423013454883,1.0]],\"type\":\"heatmap\",\"xaxis\":\"x\",\"yaxis\":\"y\",\"hovertemplate\":\"x: %{x}<br>y: %{y}<br>color: %{z}<extra></extra>\"}],                        {\"template\":{\"data\":{\"barpolar\":[{\"marker\":{\"line\":{\"color\":\"white\",\"width\":0.5},\"pattern\":{\"fillmode\":\"overlay\",\"size\":10,\"solidity\":0.2}},\"type\":\"barpolar\"}],\"bar\":[{\"error_x\":{\"color\":\"#2a3f5f\"},\"error_y\":{\"color\":\"#2a3f5f\"},\"marker\":{\"line\":{\"color\":\"white\",\"width\":0.5},\"pattern\":{\"fillmode\":\"overlay\",\"size\":10,\"solidity\":0.2}},\"type\":\"bar\"}],\"carpet\":[{\"aaxis\":{\"endlinecolor\":\"#2a3f5f\",\"gridcolor\":\"#C8D4E3\",\"linecolor\":\"#C8D4E3\",\"minorgridcolor\":\"#C8D4E3\",\"startlinecolor\":\"#2a3f5f\"},\"baxis\":{\"endlinecolor\":\"#2a3f5f\",\"gridcolor\":\"#C8D4E3\",\"linecolor\":\"#C8D4E3\",\"minorgridcolor\":\"#C8D4E3\",\"startlinecolor\":\"#2a3f5f\"},\"type\":\"carpet\"}],\"choropleth\":[{\"colorbar\":{\"outlinewidth\":0,\"ticks\":\"\"},\"type\":\"choropleth\"}],\"contourcarpet\":[{\"colorbar\":{\"outlinewidth\":0,\"ticks\":\"\"},\"type\":\"contourcarpet\"}],\"contour\":[{\"colorbar\":{\"outlinewidth\":0,\"ticks\":\"\"},\"colorscale\":[[0.0,\"#0d0887\"],[0.1111111111111111,\"#46039f\"],[0.2222222222222222,\"#7201a8\"],[0.3333333333333333,\"#9c179e\"],[0.4444444444444444,\"#bd3786\"],[0.5555555555555556,\"#d8576b\"],[0.6666666666666666,\"#ed7953\"],[0.7777777777777778,\"#fb9f3a\"],[0.8888888888888888,\"#fdca26\"],[1.0,\"#f0f921\"]],\"type\":\"contour\"}],\"heatmapgl\":[{\"colorbar\":{\"outlinewidth\":0,\"ticks\":\"\"},\"colorscale\":[[0.0,\"#0d0887\"],[0.1111111111111111,\"#46039f\"],[0.2222222222222222,\"#7201a8\"],[0.3333333333333333,\"#9c179e\"],[0.4444444444444444,\"#bd3786\"],[0.5555555555555556,\"#d8576b\"],[0.6666666666666666,\"#ed7953\"],[0.7777777777777778,\"#fb9f3a\"],[0.8888888888888888,\"#fdca26\"],[1.0,\"#f0f921\"]],\"type\":\"heatmapgl\"}],\"heatmap\":[{\"colorbar\":{\"outlinewidth\":0,\"ticks\":\"\"},\"colorscale\":[[0.0,\"#0d0887\"],[0.1111111111111111,\"#46039f\"],[0.2222222222222222,\"#7201a8\"],[0.3333333333333333,\"#9c179e\"],[0.4444444444444444,\"#bd3786\"],[0.5555555555555556,\"#d8576b\"],[0.6666666666666666,\"#ed7953\"],[0.7777777777777778,\"#fb9f3a\"],[0.8888888888888888,\"#fdca26\"],[1.0,\"#f0f921\"]],\"type\":\"heatmap\"}],\"histogram2dcontour\":[{\"colorbar\":{\"outlinewidth\":0,\"ticks\":\"\"},\"colorscale\":[[0.0,\"#0d0887\"],[0.1111111111111111,\"#46039f\"],[0.2222222222222222,\"#7201a8\"],[0.3333333333333333,\"#9c179e\"],[0.4444444444444444,\"#bd3786\"],[0.5555555555555556,\"#d8576b\"],[0.6666666666666666,\"#ed7953\"],[0.7777777777777778,\"#fb9f3a\"],[0.8888888888888888,\"#fdca26\"],[1.0,\"#f0f921\"]],\"type\":\"histogram2dcontour\"}],\"histogram2d\":[{\"colorbar\":{\"outlinewidth\":0,\"ticks\":\"\"},\"colorscale\":[[0.0,\"#0d0887\"],[0.1111111111111111,\"#46039f\"],[0.2222222222222222,\"#7201a8\"],[0.3333333333333333,\"#9c179e\"],[0.4444444444444444,\"#bd3786\"],[0.5555555555555556,\"#d8576b\"],[0.6666666666666666,\"#ed7953\"],[0.7777777777777778,\"#fb9f3a\"],[0.8888888888888888,\"#fdca26\"],[1.0,\"#f0f921\"]],\"type\":\"histogram2d\"}],\"histogram\":[{\"marker\":{\"pattern\":{\"fillmode\":\"overlay\",\"size\":10,\"solidity\":0.2}},\"type\":\"histogram\"}],\"mesh3d\":[{\"colorbar\":{\"outlinewidth\":0,\"ticks\":\"\"},\"type\":\"mesh3d\"}],\"parcoords\":[{\"line\":{\"colorbar\":{\"outlinewidth\":0,\"ticks\":\"\"}},\"type\":\"parcoords\"}],\"pie\":[{\"automargin\":true,\"type\":\"pie\"}],\"scatter3d\":[{\"line\":{\"colorbar\":{\"outlinewidth\":0,\"ticks\":\"\"}},\"marker\":{\"colorbar\":{\"outlinewidth\":0,\"ticks\":\"\"}},\"type\":\"scatter3d\"}],\"scattercarpet\":[{\"marker\":{\"colorbar\":{\"outlinewidth\":0,\"ticks\":\"\"}},\"type\":\"scattercarpet\"}],\"scattergeo\":[{\"marker\":{\"colorbar\":{\"outlinewidth\":0,\"ticks\":\"\"}},\"type\":\"scattergeo\"}],\"scattergl\":[{\"marker\":{\"colorbar\":{\"outlinewidth\":0,\"ticks\":\"\"}},\"type\":\"scattergl\"}],\"scattermapbox\":[{\"marker\":{\"colorbar\":{\"outlinewidth\":0,\"ticks\":\"\"}},\"type\":\"scattermapbox\"}],\"scatterpolargl\":[{\"marker\":{\"colorbar\":{\"outlinewidth\":0,\"ticks\":\"\"}},\"type\":\"scatterpolargl\"}],\"scatterpolar\":[{\"marker\":{\"colorbar\":{\"outlinewidth\":0,\"ticks\":\"\"}},\"type\":\"scatterpolar\"}],\"scatter\":[{\"marker\":{\"colorbar\":{\"outlinewidth\":0,\"ticks\":\"\"}},\"type\":\"scatter\"}],\"scatterternary\":[{\"marker\":{\"colorbar\":{\"outlinewidth\":0,\"ticks\":\"\"}},\"type\":\"scatterternary\"}],\"surface\":[{\"colorbar\":{\"outlinewidth\":0,\"ticks\":\"\"},\"colorscale\":[[0.0,\"#0d0887\"],[0.1111111111111111,\"#46039f\"],[0.2222222222222222,\"#7201a8\"],[0.3333333333333333,\"#9c179e\"],[0.4444444444444444,\"#bd3786\"],[0.5555555555555556,\"#d8576b\"],[0.6666666666666666,\"#ed7953\"],[0.7777777777777778,\"#fb9f3a\"],[0.8888888888888888,\"#fdca26\"],[1.0,\"#f0f921\"]],\"type\":\"surface\"}],\"table\":[{\"cells\":{\"fill\":{\"color\":\"#EBF0F8\"},\"line\":{\"color\":\"white\"}},\"header\":{\"fill\":{\"color\":\"#C8D4E3\"},\"line\":{\"color\":\"white\"}},\"type\":\"table\"}]},\"layout\":{\"annotationdefaults\":{\"arrowcolor\":\"#2a3f5f\",\"arrowhead\":0,\"arrowwidth\":1},\"autotypenumbers\":\"strict\",\"coloraxis\":{\"colorbar\":{\"outlinewidth\":0,\"ticks\":\"\"}},\"colorscale\":{\"diverging\":[[0,\"#8e0152\"],[0.1,\"#c51b7d\"],[0.2,\"#de77ae\"],[0.3,\"#f1b6da\"],[0.4,\"#fde0ef\"],[0.5,\"#f7f7f7\"],[0.6,\"#e6f5d0\"],[0.7,\"#b8e186\"],[0.8,\"#7fbc41\"],[0.9,\"#4d9221\"],[1,\"#276419\"]],\"sequential\":[[0.0,\"#0d0887\"],[0.1111111111111111,\"#46039f\"],[0.2222222222222222,\"#7201a8\"],[0.3333333333333333,\"#9c179e\"],[0.4444444444444444,\"#bd3786\"],[0.5555555555555556,\"#d8576b\"],[0.6666666666666666,\"#ed7953\"],[0.7777777777777778,\"#fb9f3a\"],[0.8888888888888888,\"#fdca26\"],[1.0,\"#f0f921\"]],\"sequentialminus\":[[0.0,\"#0d0887\"],[0.1111111111111111,\"#46039f\"],[0.2222222222222222,\"#7201a8\"],[0.3333333333333333,\"#9c179e\"],[0.4444444444444444,\"#bd3786\"],[0.5555555555555556,\"#d8576b\"],[0.6666666666666666,\"#ed7953\"],[0.7777777777777778,\"#fb9f3a\"],[0.8888888888888888,\"#fdca26\"],[1.0,\"#f0f921\"]]},\"colorway\":[\"#636efa\",\"#EF553B\",\"#00cc96\",\"#ab63fa\",\"#FFA15A\",\"#19d3f3\",\"#FF6692\",\"#B6E880\",\"#FF97FF\",\"#FECB52\"],\"font\":{\"color\":\"#2a3f5f\"},\"geo\":{\"bgcolor\":\"white\",\"lakecolor\":\"white\",\"landcolor\":\"white\",\"showlakes\":true,\"showland\":true,\"subunitcolor\":\"#C8D4E3\"},\"hoverlabel\":{\"align\":\"left\"},\"hovermode\":\"closest\",\"mapbox\":{\"style\":\"light\"},\"paper_bgcolor\":\"white\",\"plot_bgcolor\":\"white\",\"polar\":{\"angularaxis\":{\"gridcolor\":\"#EBF0F8\",\"linecolor\":\"#EBF0F8\",\"ticks\":\"\"},\"bgcolor\":\"white\",\"radialaxis\":{\"gridcolor\":\"#EBF0F8\",\"linecolor\":\"#EBF0F8\",\"ticks\":\"\"}},\"scene\":{\"xaxis\":{\"backgroundcolor\":\"white\",\"gridcolor\":\"#DFE8F3\",\"gridwidth\":2,\"linecolor\":\"#EBF0F8\",\"showbackground\":true,\"ticks\":\"\",\"zerolinecolor\":\"#EBF0F8\"},\"yaxis\":{\"backgroundcolor\":\"white\",\"gridcolor\":\"#DFE8F3\",\"gridwidth\":2,\"linecolor\":\"#EBF0F8\",\"showbackground\":true,\"ticks\":\"\",\"zerolinecolor\":\"#EBF0F8\"},\"zaxis\":{\"backgroundcolor\":\"white\",\"gridcolor\":\"#DFE8F3\",\"gridwidth\":2,\"linecolor\":\"#EBF0F8\",\"showbackground\":true,\"ticks\":\"\",\"zerolinecolor\":\"#EBF0F8\"}},\"shapedefaults\":{\"line\":{\"color\":\"#2a3f5f\"}},\"ternary\":{\"aaxis\":{\"gridcolor\":\"#DFE8F3\",\"linecolor\":\"#A2B1C6\",\"ticks\":\"\"},\"baxis\":{\"gridcolor\":\"#DFE8F3\",\"linecolor\":\"#A2B1C6\",\"ticks\":\"\"},\"bgcolor\":\"white\",\"caxis\":{\"gridcolor\":\"#DFE8F3\",\"linecolor\":\"#A2B1C6\",\"ticks\":\"\"}},\"title\":{\"x\":0.05},\"xaxis\":{\"automargin\":true,\"gridcolor\":\"#EBF0F8\",\"linecolor\":\"#EBF0F8\",\"ticks\":\"\",\"title\":{\"standoff\":15},\"zerolinecolor\":\"#EBF0F8\",\"zerolinewidth\":2},\"yaxis\":{\"automargin\":true,\"gridcolor\":\"#EBF0F8\",\"linecolor\":\"#EBF0F8\",\"ticks\":\"\",\"title\":{\"standoff\":15},\"zerolinecolor\":\"#EBF0F8\",\"zerolinewidth\":2}}},\"xaxis\":{\"anchor\":\"y\",\"domain\":[0.0,1.0],\"scaleanchor\":\"y\",\"constrain\":\"domain\"},\"yaxis\":{\"anchor\":\"x\",\"domain\":[0.0,1.0],\"autorange\":\"reversed\",\"constrain\":\"domain\"},\"coloraxis\":{\"colorscale\":[[0.0,\"rgb(165,0,38)\"],[0.1,\"rgb(215,48,39)\"],[0.2,\"rgb(244,109,67)\"],[0.3,\"rgb(253,174,97)\"],[0.4,\"rgb(254,224,139)\"],[0.5,\"rgb(255,255,191)\"],[0.6,\"rgb(217,239,139)\"],[0.7,\"rgb(166,217,106)\"],[0.8,\"rgb(102,189,99)\"],[0.9,\"rgb(26,152,80)\"],[1.0,\"rgb(0,104,55)\"]],\"colorbar\":{\"len\":0.85,\"x\":1.1}},\"margin\":{\"t\":60},\"height\":800,\"width\":800,\"font\":{\"family\":\"monospace\"},\"title\":{\"font\":{\"color\":\"black\",\"size\":24},\"text\":\"Correlation Heatmap\",\"x\":0.5,\"y\":0.93}},                        {\"responsive\": true}                    ).then(function(){\n",
              "                            \n",
              "var gd = document.getElementById('22e9c4b1-518c-4213-bea5-59d348479bd3');\n",
              "var x = new MutationObserver(function (mutations, observer) {{\n",
              "        var display = window.getComputedStyle(gd).display;\n",
              "        if (!display || display === 'none') {{\n",
              "            console.log([gd, 'removed!']);\n",
              "            Plotly.purge(gd);\n",
              "            observer.disconnect();\n",
              "        }}\n",
              "}});\n",
              "\n",
              "// Listen for the removal of the full notebook cells\n",
              "var notebookContainer = gd.closest('#notebook-container');\n",
              "if (notebookContainer) {{\n",
              "    x.observe(notebookContainer, {childList: true});\n",
              "}}\n",
              "\n",
              "// Listen for the clearing of the current output cell\n",
              "var outputEl = gd.closest('.output');\n",
              "if (outputEl) {{\n",
              "    x.observe(outputEl, {childList: true});\n",
              "}}\n",
              "\n",
              "                        })                };                            </script>        </div>\n",
              "</body>\n",
              "</html>"
            ]
          },
          "metadata": {}
        }
      ]
    },
    {
      "cell_type": "markdown",
      "source": [
        "# Modelling"
      ],
      "metadata": {
        "id": "k924XSVfma5O"
      }
    },
    {
      "cell_type": "code",
      "source": [
        "from sklearn.model_selection import KFold\n",
        "from sklearn.model_selection import cross_val_score\n",
        "import seaborn as sns\n",
        "from sklearn.naive_bayes import GaussianNB\n",
        "import statsmodels.formula.api as smf\n",
        "import statsmodels.api as sm\n",
        "from sklearn.linear_model import LogisticRegression\n",
        "from sklearn.metrics import classification_report, confusion_matrix, plot_confusion_matrix\n",
        "from sklearn.neighbors import KNeighborsClassifier\n",
        "from sklearn.tree import DecisionTreeClassifier\n",
        "from sklearn.ensemble import RandomForestClassifier\n",
        "from sklearn.svm import LinearSVC"
      ],
      "metadata": {
        "id": "iEF9z7b7I5K_"
      },
      "execution_count": null,
      "outputs": []
    },
    {
      "cell_type": "code",
      "source": [
        "train = d.sample(frac=0.8, random_state=25)\n",
        "test = d.drop(train.index)\n",
        "\n",
        "print(f\"Number of training examples: {train.shape[0]}\")\n",
        "print(f\"Number of testing examples: {test.shape[0]}\")"
      ],
      "metadata": {
        "colab": {
          "base_uri": "https://localhost:8080/"
        },
        "id": "zOzKzsLO-5Rm",
        "outputId": "a5769774-b413-49b3-b2cc-87845dfc392b"
      },
      "execution_count": null,
      "outputs": [
        {
          "output_type": "stream",
          "name": "stdout",
          "text": [
            "Number of training examples: 22606\n",
            "Number of testing examples: 5652\n"
          ]
        }
      ]
    },
    {
      "cell_type": "code",
      "source": [
        "W=train.W"
      ],
      "metadata": {
        "id": "YB9OV-r8A9pa"
      },
      "execution_count": null,
      "outputs": []
    },
    {
      "cell_type": "code",
      "source": [
        "train.drop('W', inplace=True, axis=1)\n",
        "test.drop('W', inplace=True, axis=1)"
      ],
      "metadata": {
        "id": "cdkNNl6mBL4L"
      },
      "execution_count": null,
      "outputs": []
    },
    {
      "cell_type": "code",
      "source": [
        "x_train = train[train.columns[0:len(train.columns)-1]]\n",
        "y_train = train[train.columns[-1]]\n",
        "\n",
        "\n",
        "x_test = test[test.columns[0:len(test.columns)-1]]\n",
        "y_test = test[test.columns[-1]]\n",
        "\n",
        "\n",
        "X = d[d.columns[1:len(d.columns)-1]]\n",
        "Y=d[d.columns[-1]]"
      ],
      "metadata": {
        "id": "K21BlB2__Wg3"
      },
      "execution_count": null,
      "outputs": []
    },
    {
      "cell_type": "markdown",
      "source": [
        "## Logistic regression\n"
      ],
      "metadata": {
        "id": "qtxNlhTYmeWa"
      }
    },
    {
      "cell_type": "markdown",
      "source": [
        "### From Statsmodels"
      ],
      "metadata": {
        "id": "H6wl3rDi_gms"
      }
    },
    {
      "cell_type": "markdown",
      "source": [
        "#### Without weight"
      ],
      "metadata": {
        "id": "Hc9JgD9D7tu8"
      }
    },
    {
      "cell_type": "code",
      "source": [
        "formula = \" Y ~ C(Region) + Income + C(Gender) + Age + Increase_fuel_taxes + Reduce_energy + Education + Politics + C(CC_reasons) + CC_ishappening + C(Care_nature) + CC_isgood\"\n",
        "log_reg = smf.glm(formula, data=train,family=sm.families.Binomial()).fit()"
      ],
      "metadata": {
        "id": "QZV0cU3dqn-u"
      },
      "execution_count": null,
      "outputs": []
    },
    {
      "cell_type": "code",
      "source": [
        "print(log_reg.summary())"
      ],
      "metadata": {
        "colab": {
          "base_uri": "https://localhost:8080/"
        },
        "id": "rQhp-RaDrn7O",
        "outputId": "db366ab8-9e8e-4e70-d70a-596d4a8eb1b1"
      },
      "execution_count": null,
      "outputs": [
        {
          "output_type": "stream",
          "name": "stdout",
          "text": [
            "                 Generalized Linear Model Regression Results                  \n",
            "==============================================================================\n",
            "Dep. Variable:                      Y   No. Observations:                22606\n",
            "Model:                            GLM   Df Residuals:                    22590\n",
            "Model Family:                Binomial   Df Model:                           15\n",
            "Link Function:                  logit   Scale:                          1.0000\n",
            "Method:                          IRLS   Log-Likelihood:                -10432.\n",
            "Date:                Thu, 15 Dec 2022   Deviance:                       20863.\n",
            "Time:                        12:26:05   Pearson chi2:                 2.16e+04\n",
            "No. Iterations:                     5                                         \n",
            "Covariance Type:            nonrobust                                         \n",
            "=========================================================================================\n",
            "                            coef    std err          z      P>|z|      [0.025      0.975]\n",
            "-----------------------------------------------------------------------------------------\n",
            "Intercept                -1.2249      0.094    -12.972      0.000      -1.410      -1.040\n",
            "C(Region)[T.1]            0.2566      0.050      5.148      0.000       0.159       0.354\n",
            "C(Region)[T.2]            1.3812      0.080     17.189      0.000       1.224       1.539\n",
            "C(Region)[T.3]            0.4992      0.041     12.222      0.000       0.419       0.579\n",
            "C(Gender)[T.1.0]         -0.3067      0.035     -8.746      0.000      -0.375      -0.238\n",
            "C(CC_reasons)[T.2]        1.0630      0.055     19.394      0.000       0.956       1.170\n",
            "C(Care_nature)[T.2.0]    -0.5538      0.038    -14.638      0.000      -0.628      -0.480\n",
            "C(Care_nature)[T.3.0]    -1.2188      0.094    -13.002      0.000      -1.403      -1.035\n",
            "Income                    0.0368      0.019      1.922      0.055      -0.001       0.074\n",
            "Age                      -0.0972      0.018     -5.403      0.000      -0.132      -0.062\n",
            "Increase_fuel_taxes       0.1840      0.022      8.208      0.000       0.140       0.228\n",
            "Reduce_energy             0.5246      0.038     13.978      0.000       0.451       0.598\n",
            "Education                 0.0728      0.019      3.738      0.000       0.035       0.111\n",
            "Politics                 -0.0884      0.018     -4.907      0.000      -0.124      -0.053\n",
            "CC_ishappening            1.1158      0.075     14.822      0.000       0.968       1.263\n",
            "CC_isgood                -0.4016      0.018    -22.580      0.000      -0.436      -0.367\n",
            "=========================================================================================\n"
          ]
        }
      ]
    },
    {
      "cell_type": "code",
      "source": [
        "sns.regplot(x='Age', y='Y', data=d, logistic=True)"
      ],
      "metadata": {
        "id": "CS3Xo10nCYnc",
        "outputId": "e433263a-0658-43dd-82a2-515b923aff57",
        "colab": {
          "base_uri": "https://localhost:8080/",
          "height": 296
        }
      },
      "execution_count": null,
      "outputs": [
        {
          "output_type": "execute_result",
          "data": {
            "text/plain": [
              "<matplotlib.axes._subplots.AxesSubplot at 0x7f8c2052bbe0>"
            ]
          },
          "metadata": {},
          "execution_count": 60
        },
        {
          "output_type": "display_data",
          "data": {
            "text/plain": [
              "<Figure size 432x288 with 1 Axes>"
            ],
            "image/png": "[encoded data removed]"
          },
          "metadata": {
            "needs_background": "light"
          }
        }
      ]
    },
    {
      "cell_type": "markdown",
      "source": [
        "#### With weight"
      ],
      "metadata": {
        "id": "4JJk0zOd72Bh"
      }
    },
    {
      "cell_type": "code",
      "source": [
        "formula1 = \" Y ~ C(Region) + Income + C(Gender) + Age + C(Increase_fuel_taxes) + C(Reduce_energy) + Education + Politics + C(CC_reasons) + C(CC_ishappening) + C(Care_nature) + CC_isgood\"\n",
        "log_reg1 = smf.glm(formula1, data=train,family=sm.families.Binomial(),freq_weights= W ).fit()"
      ],
      "metadata": {
        "id": "ZSYpotR9qoDH"
      },
      "execution_count": null,
      "outputs": []
    },
    {
      "cell_type": "code",
      "source": [
        "print(log_reg1.summary())"
      ],
      "metadata": {
        "colab": {
          "base_uri": "https://localhost:8080/"
        },
        "id": "cRqRMLle75Dv",
        "outputId": "9c8539ec-c8f7-46ed-d242-49f3ea0cb152"
      },
      "execution_count": null,
      "outputs": [
        {
          "output_type": "stream",
          "name": "stdout",
          "text": [
            "                 Generalized Linear Model Regression Results                  \n",
            "==============================================================================\n",
            "Dep. Variable:                      Y   No. Observations:                22606\n",
            "Model:                            GLM   Df Residuals:                 24631.13\n",
            "Model Family:                Binomial   Df Model:                           16\n",
            "Link Function:                  logit   Scale:                          1.0000\n",
            "Method:                          IRLS   Log-Likelihood:                -10673.\n",
            "Date:                Thu, 15 Dec 2022   Deviance:                       21346.\n",
            "Time:                        12:27:19   Pearson chi2:                 2.33e+04\n",
            "No. Iterations:                     6                                         \n",
            "Covariance Type:            nonrobust                                         \n",
            "=================================================================================================\n",
            "                                    coef    std err          z      P>|z|      [0.025      0.975]\n",
            "-------------------------------------------------------------------------------------------------\n",
            "Intercept                        -1.1339      0.092    -12.278      0.000      -1.315      -0.953\n",
            "C(Region)[T.1]                   -0.0775      0.078     -0.992      0.321      -0.231       0.076\n",
            "C(Region)[T.2]                    1.3206      0.068     19.561      0.000       1.188       1.453\n",
            "C(Region)[T.3]                    0.4932      0.040     12.200      0.000       0.414       0.572\n",
            "C(Gender)[T.1.0]                 -0.3218      0.035     -9.244      0.000      -0.390      -0.254\n",
            "C(Increase_fuel_taxes)[T.1.0]     0.6184      0.043     14.443      0.000       0.534       0.702\n",
            "C(Increase_fuel_taxes)[T.2.0]     0.4720      0.043     10.868      0.000       0.387       0.557\n",
            "C(Reduce_energy)[T.1.0]           0.5544      0.038     14.742      0.000       0.481       0.628\n",
            "C(CC_reasons)[T.2]                0.9402      0.055     16.997      0.000       0.832       1.049\n",
            "C(CC_ishappening)[T.1.0]          1.0487      0.074     14.109      0.000       0.903       1.194\n",
            "C(Care_nature)[T.2.0]            -0.5241      0.038    -13.843      0.000      -0.598      -0.450\n",
            "C(Care_nature)[T.3.0]            -1.3351      0.084    -15.985      0.000      -1.499      -1.171\n",
            "Income                           -0.0133      0.019     -0.713      0.476      -0.050       0.023\n",
            "Age                              -0.0413      0.018     -2.342      0.019      -0.076      -0.007\n",
            "Education                         0.0611      0.019      3.151      0.002       0.023       0.099\n",
            "Politics                         -0.0573      0.018     -3.162      0.002      -0.093      -0.022\n",
            "CC_isgood                        -0.3935      0.018    -22.280      0.000      -0.428      -0.359\n",
            "=================================================================================================\n"
          ]
        }
      ]
    },
    {
      "cell_type": "markdown",
      "source": [
        "### From sklearn"
      ],
      "metadata": {
        "id": "pmt32Vxx_ZmK"
      }
    },
    {
      "cell_type": "code",
      "source": [
        "# instantiate the model\n",
        "lr = LogisticRegression(solver='liblinear', random_state=0)\n",
        "\n",
        "\n",
        "# fit the model\n",
        "lr.fit(x_train, y_train)"
      ],
      "metadata": {
        "colab": {
          "base_uri": "https://localhost:8080/"
        },
        "id": "HVl2tblh-SKW",
        "outputId": "013bed09-3e68-4694-c2a4-505ba34657ea"
      },
      "execution_count": null,
      "outputs": [
        {
          "output_type": "execute_result",
          "data": {
            "text/plain": [
              "LogisticRegression(random_state=0, solver='liblinear')"
            ]
          },
          "metadata": {},
          "execution_count": 260
        }
      ]
    },
    {
      "cell_type": "code",
      "source": [
        "predictions = lr.predict(x_test)\n",
        "print(classification_report(y_test, predictions))"
      ],
      "metadata": {
        "colab": {
          "base_uri": "https://localhost:8080/"
        },
        "id": "wcG8B-Q8j5B7",
        "outputId": "924d4aef-434b-4187-a4ba-b6e042d894e3"
      },
      "execution_count": null,
      "outputs": [
        {
          "output_type": "stream",
          "name": "stdout",
          "text": [
            "              precision    recall  f1-score   support\n",
            "\n",
            "           0       0.60      0.19      0.28      1274\n",
            "           1       0.80      0.96      0.88      4378\n",
            "\n",
            "    accuracy                           0.79      5652\n",
            "   macro avg       0.70      0.57      0.58      5652\n",
            "weighted avg       0.76      0.79      0.74      5652\n",
            "\n"
          ]
        }
      ]
    },
    {
      "cell_type": "code",
      "source": [
        "plot_confusion_matrix(lr, x_test, y_test)"
      ],
      "metadata": {
        "colab": {
          "base_uri": "https://localhost:8080/",
          "height": 351
        },
        "id": "peAx4aB_j-_U",
        "outputId": "077c9933-8bf7-462c-b30a-f48e3ed467b4"
      },
      "execution_count": null,
      "outputs": [
        {
          "output_type": "stream",
          "name": "stderr",
          "text": [
            "/usr/local/lib/python3.8/dist-packages/sklearn/utils/deprecation.py:87: FutureWarning: Function plot_confusion_matrix is deprecated; Function `plot_confusion_matrix` is deprecated in 1.0 and will be removed in 1.2. Use one of the class methods: ConfusionMatrixDisplay.from_predictions or ConfusionMatrixDisplay.from_estimator.\n",
            "  warnings.warn(msg, category=FutureWarning)\n"
          ]
        },
        {
          "output_type": "execute_result",
          "data": {
            "text/plain": [
              "<sklearn.metrics._plot.confusion_matrix.ConfusionMatrixDisplay at 0x7f8c20740730>"
            ]
          },
          "metadata": {},
          "execution_count": 65
        },
        {
          "output_type": "display_data",
          "data": {
            "text/plain": [
              "<Figure size 432x288 with 2 Axes>"
            ],
            "image/png": "[encoded data removed]"
          },
          "metadata": {
            "needs_background": "light"
          }
        }
      ]
    },
    {
      "cell_type": "code",
      "source": [
        "kfold = KFold(n_splits=5, random_state=0, shuffle=True)\n",
        "model = LogisticRegression(solver='liblinear')\n",
        "results = cross_val_score(model, X, Y, cv=kfold)\n",
        "# Output the accuracy. Calculate the mean and std across all folds. \n",
        "print(\"Accuracy: %.3f%% (%.3f%%)\" % (results.mean()*100.0, results.std()*100.0))"
      ],
      "metadata": {
        "id": "RBfRdhMTJG_-",
        "outputId": "69b41c33-daf0-4269-c711-8509a096bfdc",
        "colab": {
          "base_uri": "https://localhost:8080/"
        }
      },
      "execution_count": null,
      "outputs": [
        {
          "output_type": "stream",
          "name": "stdout",
          "text": [
            "Accuracy: 78.525% (0.200%)\n"
          ]
        }
      ]
    },
    {
      "cell_type": "markdown",
      "source": [
        "## Naive Bayes"
      ],
      "metadata": {
        "id": "psZbC9_6nMOR"
      }
    },
    {
      "cell_type": "code",
      "source": [
        "# instantiate the model\n",
        "gnb = GaussianNB()\n",
        "\n",
        "\n",
        "# fit the model\n",
        "gnb.fit(x_train, y_train)"
      ],
      "metadata": {
        "colab": {
          "base_uri": "https://localhost:8080/"
        },
        "id": "OkrJ_mX3Hh-e",
        "outputId": "35908e0b-6441-44ad-b3a2-e18267fd2c55"
      },
      "execution_count": null,
      "outputs": [
        {
          "output_type": "execute_result",
          "data": {
            "text/plain": [
              "GaussianNB()"
            ]
          },
          "metadata": {},
          "execution_count": 67
        }
      ]
    },
    {
      "cell_type": "code",
      "source": [
        "predictions = gnb.predict(x_test)"
      ],
      "metadata": {
        "id": "4DNI0ZCQm0a9"
      },
      "execution_count": null,
      "outputs": []
    },
    {
      "cell_type": "code",
      "source": [
        "print(classification_report(y_test, predictions))"
      ],
      "metadata": {
        "colab": {
          "base_uri": "https://localhost:8080/"
        },
        "id": "UGgOvmA9m5Vf",
        "outputId": "87ca3af1-d7b0-44e4-bce8-186c471172a2"
      },
      "execution_count": null,
      "outputs": [
        {
          "output_type": "stream",
          "name": "stdout",
          "text": [
            "              precision    recall  f1-score   support\n",
            "\n",
            "           0       0.57      0.30      0.40      1330\n",
            "           1       0.81      0.93      0.87      4326\n",
            "\n",
            "    accuracy                           0.78      5656\n",
            "   macro avg       0.69      0.62      0.63      5656\n",
            "weighted avg       0.76      0.78      0.76      5656\n",
            "\n"
          ]
        }
      ]
    },
    {
      "cell_type": "code",
      "source": [
        "plot_confusion_matrix(gnb, x_test, y_test)"
      ],
      "metadata": {
        "colab": {
          "base_uri": "https://localhost:8080/",
          "height": 354
        },
        "id": "BOURHSx0HwKw",
        "outputId": "c3bbd1e7-dd4a-46fe-e1b9-0750938542dd"
      },
      "execution_count": null,
      "outputs": [
        {
          "output_type": "stream",
          "name": "stderr",
          "text": [
            "/usr/local/lib/python3.8/dist-packages/sklearn/utils/deprecation.py:87: FutureWarning: Function plot_confusion_matrix is deprecated; Function `plot_confusion_matrix` is deprecated in 1.0 and will be removed in 1.2. Use one of the class methods: ConfusionMatrixDisplay.from_predictions or ConfusionMatrixDisplay.from_estimator.\n",
            "  warnings.warn(msg, category=FutureWarning)\n"
          ]
        },
        {
          "output_type": "execute_result",
          "data": {
            "text/plain": [
              "<sklearn.metrics._plot.confusion_matrix.ConfusionMatrixDisplay at 0x7f8c206a97c0>"
            ]
          },
          "metadata": {},
          "execution_count": 70
        },
        {
          "output_type": "display_data",
          "data": {
            "text/plain": [
              "<Figure size 432x288 with 2 Axes>"
            ],
            "image/png": "[encoded data removed]"
          },
          "metadata": {
            "needs_background": "light"
          }
        }
      ]
    },
    {
      "cell_type": "code",
      "source": [
        "kfold = KFold(n_splits=5, random_state=0, shuffle=True)\n",
        "model = GaussianNB()\n",
        "results = cross_val_score(model, X, Y, cv=kfold)\n",
        "# Output the accuracy. Calculate the mean and std across all folds. \n",
        "print(\"Accuracy: %.3f%% (%.3f%%)\" % (results.mean()*100.0, results.std()*100.0))"
      ],
      "metadata": {
        "id": "HPG6MOc-KzjB",
        "outputId": "d01d6036-0b44-4e5d-8e2e-4e7aa7c4e508",
        "colab": {
          "base_uri": "https://localhost:8080/"
        }
      },
      "execution_count": null,
      "outputs": [
        {
          "output_type": "stream",
          "name": "stdout",
          "text": [
            "Accuracy: 78.267% (0.294%)\n"
          ]
        }
      ]
    },
    {
      "cell_type": "markdown",
      "source": [
        "## Altri  Algoritmi ML "
      ],
      "metadata": {
        "id": "WKqmVteTB6fA"
      }
    },
    {
      "cell_type": "code",
      "source": [
        "from sklearn.neighbors import KNeighborsClassifier\n",
        "from sklearn.tree import DecisionTreeClassifier\n",
        "from sklearn.ensemble import RandomForestClassifier\n",
        "from sklearn.svm import LinearSVC"
      ],
      "metadata": {
        "id": "56GlR5WlDq7Z"
      },
      "execution_count": null,
      "outputs": []
    },
    {
      "cell_type": "markdown",
      "source": [
        "#### KNN"
      ],
      "metadata": {
        "id": "4nuRQjChQ1o1"
      }
    },
    {
      "cell_type": "code",
      "source": [
        "knn = KNeighborsClassifier(algorithm = 'brute', n_jobs=-1)\n",
        "knn.fit(x_train, y_train)"
      ],
      "metadata": {
        "id": "KHkDW-JuDtER",
        "outputId": "90dbe654-c1e3-44f3-ccfe-b716e2f84bf4",
        "colab": {
          "base_uri": "https://localhost:8080/"
        }
      },
      "execution_count": null,
      "outputs": [
        {
          "output_type": "execute_result",
          "data": {
            "text/plain": [
              "KNeighborsClassifier(algorithm='brute', n_jobs=-1)"
            ]
          },
          "metadata": {},
          "execution_count": 73
        }
      ]
    },
    {
      "cell_type": "code",
      "source": [
        "predictions = knn.predict(x_test)\n",
        "print(classification_report(y_test, predictions))"
      ],
      "metadata": {
        "id": "bobeiESBD3Pa",
        "outputId": "51ddb404-cc92-4106-cdf2-a3225b018c23",
        "colab": {
          "base_uri": "https://localhost:8080/"
        }
      },
      "execution_count": null,
      "outputs": [
        {
          "output_type": "stream",
          "name": "stdout",
          "text": [
            "              precision    recall  f1-score   support\n",
            "\n",
            "           0       0.50      0.28      0.36      1330\n",
            "           1       0.81      0.91      0.86      4326\n",
            "\n",
            "    accuracy                           0.77      5656\n",
            "   macro avg       0.65      0.60      0.61      5656\n",
            "weighted avg       0.73      0.77      0.74      5656\n",
            "\n"
          ]
        }
      ]
    },
    {
      "cell_type": "markdown",
      "source": [
        "#### Decision Tree"
      ],
      "metadata": {
        "id": "IPf2kmCHQ6L3"
      }
    },
    {
      "cell_type": "code",
      "source": [
        "clf = DecisionTreeClassifier()\n",
        "clf.fit(x_train, y_train)"
      ],
      "metadata": {
        "id": "hjR3APVJECMx",
        "outputId": "a09d8686-d2e2-4d0f-fddb-21260d1deaa5",
        "colab": {
          "base_uri": "https://localhost:8080/"
        }
      },
      "execution_count": null,
      "outputs": [
        {
          "output_type": "execute_result",
          "data": {
            "text/plain": [
              "DecisionTreeClassifier()"
            ]
          },
          "metadata": {},
          "execution_count": 75
        }
      ]
    },
    {
      "cell_type": "code",
      "source": [
        "predictions = clf.predict(x_test)\n",
        "print(classification_report(y_test, predictions))"
      ],
      "metadata": {
        "id": "cAbd3f91EHic",
        "outputId": "e586d39a-b6c0-4507-a665-8d4c01de69fd",
        "colab": {
          "base_uri": "https://localhost:8080/"
        }
      },
      "execution_count": null,
      "outputs": [
        {
          "output_type": "stream",
          "name": "stdout",
          "text": [
            "              precision    recall  f1-score   support\n",
            "\n",
            "           0       0.37      0.38      0.37      1330\n",
            "           1       0.81      0.80      0.80      4326\n",
            "\n",
            "    accuracy                           0.70      5656\n",
            "   macro avg       0.59      0.59      0.59      5656\n",
            "weighted avg       0.70      0.70      0.70      5656\n",
            "\n"
          ]
        }
      ]
    },
    {
      "cell_type": "markdown",
      "source": [
        "#### Random Forest"
      ],
      "metadata": {
        "id": "a-X1OdnoRAK0"
      }
    },
    {
      "cell_type": "code",
      "source": [
        "rf = RandomForestClassifier(n_estimators=30, max_depth=9)\n",
        "rf.fit(x_train, y_train)"
      ],
      "metadata": {
        "id": "m3HJA3DiERzG",
        "outputId": "dde540a4-a5b0-41be-ee4a-fb6c70fe5a44",
        "colab": {
          "base_uri": "https://localhost:8080/"
        }
      },
      "execution_count": null,
      "outputs": [
        {
          "output_type": "execute_result",
          "data": {
            "text/plain": [
              "RandomForestClassifier(max_depth=9, n_estimators=30)"
            ]
          },
          "metadata": {},
          "execution_count": 119
        }
      ]
    },
    {
      "cell_type": "code",
      "source": [
        "predictions = rf.predict(x_test)\n",
        "print(classification_report(y_test, predictions))"
      ],
      "metadata": {
        "id": "dUyCapfiEV5r",
        "outputId": "2c1cf55a-0269-46f6-e029-4c5c6cbaa649",
        "colab": {
          "base_uri": "https://localhost:8080/"
        }
      },
      "execution_count": null,
      "outputs": [
        {
          "output_type": "stream",
          "name": "stdout",
          "text": [
            "              precision    recall  f1-score   support\n",
            "\n",
            "           0       0.67      0.20      0.31      1330\n",
            "           1       0.80      0.97      0.88      4326\n",
            "\n",
            "    accuracy                           0.79      5656\n",
            "   macro avg       0.73      0.58      0.59      5656\n",
            "weighted avg       0.77      0.79      0.74      5656\n",
            "\n"
          ]
        }
      ]
    },
    {
      "cell_type": "markdown",
      "source": [
        "#### SVM"
      ],
      "metadata": {
        "id": "oil1op03RFp-"
      }
    },
    {
      "cell_type": "code",
      "source": [
        "svm=LinearSVC(C=0.0001)\n",
        "svm.fit(x_train, y_train)"
      ],
      "metadata": {
        "id": "cxuv9YcgYovZ",
        "outputId": "87b8ec10-65ef-4f9a-d69e-4f5872699dcb",
        "colab": {
          "base_uri": "https://localhost:8080/"
        }
      },
      "execution_count": null,
      "outputs": [
        {
          "output_type": "execute_result",
          "data": {
            "text/plain": [
              "LinearSVC(C=0.0001)"
            ]
          },
          "metadata": {},
          "execution_count": 79
        }
      ]
    },
    {
      "cell_type": "code",
      "source": [
        "predictions = svm.predict(x_test)\n",
        "print(classification_report(y_test, predictions))"
      ],
      "metadata": {
        "id": "-WjYBeEWYr_D",
        "outputId": "bdd08897-691f-402c-8e29-8a16f42fe228",
        "colab": {
          "base_uri": "https://localhost:8080/"
        }
      },
      "execution_count": null,
      "outputs": [
        {
          "output_type": "stream",
          "name": "stdout",
          "text": [
            "              precision    recall  f1-score   support\n",
            "\n",
            "           0       0.62      0.03      0.07      1330\n",
            "           1       0.77      0.99      0.87      4326\n",
            "\n",
            "    accuracy                           0.77      5656\n",
            "   macro avg       0.70      0.51      0.47      5656\n",
            "weighted avg       0.74      0.77      0.68      5656\n",
            "\n"
          ]
        }
      ]
    },
    {
      "cell_type": "markdown",
      "source": [
        "#### MLP Classifier"
      ],
      "metadata": {
        "id": "KZbsoc_rRLRo"
      }
    },
    {
      "cell_type": "code",
      "source": [
        "from sklearn.neural_network import MLPClassifier"
      ],
      "metadata": {
        "id": "DDieuqeV93zR"
      },
      "execution_count": null,
      "outputs": []
    },
    {
      "cell_type": "code",
      "source": [
        "nns = MLPClassifier(hidden_layer_sizes=(20, 2), random_state=1,max_iter=100000)"
      ],
      "metadata": {
        "id": "P8UozuKX99Cp"
      },
      "execution_count": null,
      "outputs": []
    },
    {
      "cell_type": "code",
      "source": [
        "nns.fit(x_train, y_train)"
      ],
      "metadata": {
        "id": "H7NIuKvY-E1I",
        "outputId": "53e79816-98e1-42fa-dc7f-797cc449b3be",
        "colab": {
          "base_uri": "https://localhost:8080/"
        }
      },
      "execution_count": null,
      "outputs": [
        {
          "output_type": "execute_result",
          "data": {
            "text/plain": [
              "MLPClassifier(hidden_layer_sizes=(20, 2), max_iter=100000, random_state=1)"
            ]
          },
          "metadata": {},
          "execution_count": 85
        }
      ]
    },
    {
      "cell_type": "code",
      "source": [
        "predictions = nns.predict(x_test)\n",
        "print(classification_report(y_test, predictions))"
      ],
      "metadata": {
        "id": "sr2I3Yy3-mIg",
        "outputId": "ba9b91b0-475c-4eba-9e3d-7eb60bc8887e",
        "colab": {
          "base_uri": "https://localhost:8080/"
        }
      },
      "execution_count": null,
      "outputs": [
        {
          "output_type": "stream",
          "name": "stdout",
          "text": [
            "              precision    recall  f1-score   support\n",
            "\n",
            "           0       0.62      0.29      0.39      1330\n",
            "           1       0.81      0.95      0.87      4326\n",
            "\n",
            "    accuracy                           0.79      5656\n",
            "   macro avg       0.72      0.62      0.63      5656\n",
            "weighted avg       0.77      0.79      0.76      5656\n",
            "\n"
          ]
        }
      ]
    },
    {
      "cell_type": "markdown",
      "source": [
        "## SMOTE"
      ],
      "metadata": {
        "id": "P5RLGIv_UKio"
      }
    },
    {
      "cell_type": "code",
      "source": [
        "#  imbalanced-learn\n",
        "from imblearn.over_sampling import SMOTE\n",
        "\n",
        "#  SMOTE\n",
        "smote = SMOTE(random_state=0)\n",
        "\n",
        "#  SMOTE per generare nuovi esempi di dati \n",
        "X_res, y_res = smote.fit_resample(X, Y)"
      ],
      "metadata": {
        "id": "L322BF3vUYyp"
      },
      "execution_count": null,
      "outputs": []
    },
    {
      "cell_type": "code",
      "source": [
        "# scikit-learn\n",
        "from sklearn.model_selection import train_test_split\n",
        "\n",
        "\n",
        "# Utilizzare la funzione train_test_split per dividere i dati in training set e test set\n",
        "x_train_s, x_test_s, y_train_s, y_test_s = train_test_split(X_res, y_res, test_size=0.2, random_state=0)"
      ],
      "metadata": {
        "id": "6aIIGqNsUnHB"
      },
      "execution_count": null,
      "outputs": []
    },
    {
      "cell_type": "markdown",
      "source": [
        "### Logistic with smote"
      ],
      "metadata": {
        "id": "et9tH_gjnHqc"
      }
    },
    {
      "cell_type": "code",
      "source": [
        "#from imblearn.over_sampling import SMOTE"
      ],
      "metadata": {
        "id": "URnSyxrVR9LV"
      },
      "execution_count": null,
      "outputs": []
    },
    {
      "cell_type": "code",
      "source": [
        "#smt = SMOTE()\n",
        "#x_smote, y_smote = smt.fit_resample(x_train, y_train.ravel())"
      ],
      "metadata": {
        "id": "1d-uLckbR7VR"
      },
      "execution_count": null,
      "outputs": []
    },
    {
      "cell_type": "code",
      "source": [
        "print(\"Before OverSampling, counts of label '1': {}\".format(sum(y_train==1)))\n",
        "print(\"Before OverSampling, counts of label '0': {} \\n\".format(sum(y_train==0)))\n",
        "\n",
        "sm = SMOTE(random_state=2)\n",
        "x_train_res, y_train_res = sm.fit_resample(x_train, y_train.ravel())\n",
        "\n",
        "print('After OverSampling, the shape of train_X: {}'.format(x_train_res.shape))\n",
        "print('After OverSampling, the shape of train_y: {} \\n'.format(y_train_res.shape))\n",
        "\n",
        "print(\"After OverSampling, counts of label '1': {}\".format(sum(y_train_res==1)))\n",
        "print(\"After OverSampling, counts of label '0': {}\".format(sum(y_train_res==0)))\n"
      ],
      "metadata": {
        "id": "cQaTIYx_SfCz",
        "outputId": "810c337c-8d18-4f13-f3c2-9053cffcccd5",
        "colab": {
          "base_uri": "https://localhost:8080/"
        }
      },
      "execution_count": null,
      "outputs": [
        {
          "output_type": "stream",
          "name": "stdout",
          "text": [
            "Before OverSampling, counts of label '1': 19302\n",
            "Before OverSampling, counts of label '0': 8157 \n",
            "\n",
            "After OverSampling, the shape of train_X: (38604, 12)\n",
            "After OverSampling, the shape of train_y: (38604,) \n",
            "\n",
            "After OverSampling, counts of label '1': 19302\n",
            "After OverSampling, counts of label '0': 19302\n"
          ]
        }
      ]
    },
    {
      "cell_type": "code",
      "source": [
        "logreg = LogisticRegression(solver='liblinear', random_state=0)\n",
        "\n",
        "\n",
        "# fit the model\n",
        "logreg.fit( x_train_s, y_train_s)"
      ],
      "metadata": {
        "colab": {
          "base_uri": "https://localhost:8080/"
        },
        "id": "8pW352_FiLfe",
        "outputId": "3388cb6f-7a66-4365-c613-39ead0dd1b38"
      },
      "execution_count": null,
      "outputs": [
        {
          "output_type": "execute_result",
          "data": {
            "text/plain": [
              "LogisticRegression(random_state=0, solver='liblinear')"
            ]
          },
          "metadata": {},
          "execution_count": 92
        }
      ]
    },
    {
      "cell_type": "code",
      "source": [
        "predictions = logreg.predict(x_test_s)\n",
        "print(classification_report(y_test_s, predictions))"
      ],
      "metadata": {
        "colab": {
          "base_uri": "https://localhost:8080/"
        },
        "id": "MjUhcH3OniGE",
        "outputId": "30e7318f-c426-4942-c109-eb18f8a9fabd"
      },
      "execution_count": null,
      "outputs": [
        {
          "output_type": "stream",
          "name": "stdout",
          "text": [
            "              precision    recall  f1-score   support\n",
            "\n",
            "           0       0.70      0.66      0.68      4399\n",
            "           1       0.68      0.71      0.69      4345\n",
            "\n",
            "    accuracy                           0.69      8744\n",
            "   macro avg       0.69      0.69      0.69      8744\n",
            "weighted avg       0.69      0.69      0.69      8744\n",
            "\n"
          ]
        }
      ]
    },
    {
      "cell_type": "code",
      "source": [
        "plot_confusion_matrix(logreg, x_test_s, y_test_s)"
      ],
      "metadata": {
        "id": "4UsB3JXgSBl4",
        "outputId": "1dceced7-33c0-4cef-b558-da3e5151b10c",
        "colab": {
          "base_uri": "https://localhost:8080/",
          "height": 351
        }
      },
      "execution_count": null,
      "outputs": [
        {
          "output_type": "stream",
          "name": "stderr",
          "text": [
            "/usr/local/lib/python3.8/dist-packages/sklearn/utils/deprecation.py:87: FutureWarning: Function plot_confusion_matrix is deprecated; Function `plot_confusion_matrix` is deprecated in 1.0 and will be removed in 1.2. Use one of the class methods: ConfusionMatrixDisplay.from_predictions or ConfusionMatrixDisplay.from_estimator.\n",
            "  warnings.warn(msg, category=FutureWarning)\n"
          ]
        },
        {
          "output_type": "execute_result",
          "data": {
            "text/plain": [
              "<sklearn.metrics._plot.confusion_matrix.ConfusionMatrixDisplay at 0x7f8c203e7eb0>"
            ]
          },
          "metadata": {},
          "execution_count": 94
        },
        {
          "output_type": "display_data",
          "data": {
            "text/plain": [
              "<Figure size 432x288 with 2 Axes>"
            ],
            "image/png": "[encoded data removed]"
          },
          "metadata": {
            "needs_background": "light"
          }
        }
      ]
    },
    {
      "cell_type": "markdown",
      "source": [
        "### Naive Bayes with SMOTE"
      ],
      "metadata": {
        "id": "MXc8XtuToBNa"
      }
    },
    {
      "cell_type": "code",
      "source": [
        "gnb = GaussianNB()\n",
        "\n",
        "\n",
        "# fit the model\n",
        "gnb.fit(x_train_s, y_train_s)"
      ],
      "metadata": {
        "colab": {
          "base_uri": "https://localhost:8080/"
        },
        "id": "x6iBXNu_iETZ",
        "outputId": "f18f2993-cabe-44b9-e36b-e83098dfdb7e"
      },
      "execution_count": null,
      "outputs": [
        {
          "output_type": "execute_result",
          "data": {
            "text/plain": [
              "GaussianNB()"
            ]
          },
          "metadata": {},
          "execution_count": 126
        }
      ]
    },
    {
      "cell_type": "code",
      "source": [
        "predictions = gnb.predict(x_test_s)\n",
        "print(classification_report(y_test_s, predictions))"
      ],
      "metadata": {
        "colab": {
          "base_uri": "https://localhost:8080/"
        },
        "id": "oOt4VCELoFnc",
        "outputId": "8d4c87ad-66ab-4ced-f90e-b72c81297f6a"
      },
      "execution_count": null,
      "outputs": [
        {
          "output_type": "stream",
          "name": "stdout",
          "text": [
            "              precision    recall  f1-score   support\n",
            "\n",
            "           0       0.79      0.42      0.55      4399\n",
            "           1       0.60      0.88      0.72      4345\n",
            "\n",
            "    accuracy                           0.65      8744\n",
            "   macro avg       0.70      0.65      0.63      8744\n",
            "weighted avg       0.70      0.65      0.63      8744\n",
            "\n"
          ]
        }
      ]
    },
    {
      "cell_type": "code",
      "source": [
        "plot_confusion_matrix(gnb, x_test_s, y_test_s)"
      ],
      "metadata": {
        "id": "Q4C9V_3sTL4a",
        "outputId": "0f0fc5ba-f17d-42aa-9ca3-87e8ea4c3fec",
        "colab": {
          "base_uri": "https://localhost:8080/",
          "height": 351
        }
      },
      "execution_count": null,
      "outputs": [
        {
          "output_type": "stream",
          "name": "stderr",
          "text": [
            "/usr/local/lib/python3.8/dist-packages/sklearn/utils/deprecation.py:87: FutureWarning: Function plot_confusion_matrix is deprecated; Function `plot_confusion_matrix` is deprecated in 1.0 and will be removed in 1.2. Use one of the class methods: ConfusionMatrixDisplay.from_predictions or ConfusionMatrixDisplay.from_estimator.\n",
            "  warnings.warn(msg, category=FutureWarning)\n"
          ]
        },
        {
          "output_type": "execute_result",
          "data": {
            "text/plain": [
              "<sklearn.metrics._plot.confusion_matrix.ConfusionMatrixDisplay at 0x7f8c2041f0a0>"
            ]
          },
          "metadata": {},
          "execution_count": 97
        },
        {
          "output_type": "display_data",
          "data": {
            "text/plain": [
              "<Figure size 432x288 with 2 Axes>"
            ],
            "image/png": "[encoded data removed]"
          },
          "metadata": {
            "needs_background": "light"
          }
        }
      ]
    },
    {
      "cell_type": "markdown",
      "source": [
        "### (SMOTE) ML "
      ],
      "metadata": {
        "id": "-aXdZkX_RQVj"
      }
    },
    {
      "cell_type": "code",
      "source": [
        "from sklearn.neighbors import KNeighborsClassifier\n",
        "from sklearn.tree import DecisionTreeClassifier\n",
        "from sklearn.ensemble import RandomForestClassifier\n",
        "from sklearn.svm import LinearSVC"
      ],
      "metadata": {
        "id": "K-OwFH0xRQVk"
      },
      "execution_count": null,
      "outputs": []
    },
    {
      "cell_type": "markdown",
      "source": [
        "#### KNN"
      ],
      "metadata": {
        "id": "tKdqLI1ARQVk"
      }
    },
    {
      "cell_type": "code",
      "source": [
        "knn = KNeighborsClassifier(algorithm = 'brute', n_jobs=-1)\n",
        "knn.fit(x_train_s, y_train_s)"
      ],
      "metadata": {
        "outputId": "f5b05590-8ca8-4750-c515-c33f6f08db7f",
        "colab": {
          "base_uri": "https://localhost:8080/"
        },
        "id": "cOCeYTfcRQVk"
      },
      "execution_count": null,
      "outputs": [
        {
          "output_type": "execute_result",
          "data": {
            "text/plain": [
              "KNeighborsClassifier(algorithm='brute', n_jobs=-1)"
            ]
          },
          "metadata": {},
          "execution_count": 99
        }
      ]
    },
    {
      "cell_type": "code",
      "source": [
        "predictions = knn.predict(x_test_s)\n",
        "print(classification_report(y_test_s, predictions))"
      ],
      "metadata": {
        "outputId": "d18bd5b2-3add-4adb-9c03-c08ee9d450f3",
        "colab": {
          "base_uri": "https://localhost:8080/"
        },
        "id": "MGn-mEpCRQVk"
      },
      "execution_count": null,
      "outputs": [
        {
          "output_type": "stream",
          "name": "stdout",
          "text": [
            "              precision    recall  f1-score   support\n",
            "\n",
            "           0       0.74      0.91      0.82      4399\n",
            "           1       0.89      0.67      0.76      4345\n",
            "\n",
            "    accuracy                           0.79      8744\n",
            "   macro avg       0.81      0.79      0.79      8744\n",
            "weighted avg       0.81      0.79      0.79      8744\n",
            "\n"
          ]
        }
      ]
    },
    {
      "cell_type": "markdown",
      "source": [
        "#### Decision Tree"
      ],
      "metadata": {
        "id": "ibJBY-rlRQVl"
      }
    },
    {
      "cell_type": "code",
      "source": [
        "clf = DecisionTreeClassifier(random_state=1)\n",
        "clf.fit(x_train_s, y_train_s)"
      ],
      "metadata": {
        "outputId": "0b3be40e-0b77-458b-a7fa-b893ce4660f0",
        "colab": {
          "base_uri": "https://localhost:8080/"
        },
        "id": "FE314qOgRQVl"
      },
      "execution_count": null,
      "outputs": [
        {
          "output_type": "execute_result",
          "data": {
            "text/plain": [
              "DecisionTreeClassifier(random_state=1)"
            ]
          },
          "metadata": {},
          "execution_count": 132
        }
      ]
    },
    {
      "cell_type": "code",
      "source": [
        "predictions = clf.predict(x_test_s)\n",
        "print(classification_report(y_test_s, predictions))"
      ],
      "metadata": {
        "outputId": "615c2eff-1fff-4b06-dde1-04a05cee9f4e",
        "colab": {
          "base_uri": "https://localhost:8080/"
        },
        "id": "pEYJm_aERQVl"
      },
      "execution_count": null,
      "outputs": [
        {
          "output_type": "stream",
          "name": "stdout",
          "text": [
            "              precision    recall  f1-score   support\n",
            "\n",
            "           0       0.79      0.81      0.80      4399\n",
            "           1       0.80      0.78      0.79      4345\n",
            "\n",
            "    accuracy                           0.79      8744\n",
            "   macro avg       0.79      0.79      0.79      8744\n",
            "weighted avg       0.79      0.79      0.79      8744\n",
            "\n"
          ]
        }
      ]
    },
    {
      "cell_type": "markdown",
      "source": [
        "#### Random Forest"
      ],
      "metadata": {
        "id": "dGZg_F6SRQVl"
      }
    },
    {
      "cell_type": "code",
      "source": [
        "rf = RandomForestClassifier(n_estimators=30, max_depth=9,random_state=1)\n",
        "rf.fit(x_train_s, y_train_s)"
      ],
      "metadata": {
        "outputId": "5e720cf0-b6fa-429c-cf10-f0788ae192bc",
        "colab": {
          "base_uri": "https://localhost:8080/"
        },
        "id": "6CiMcbsdRQVl"
      },
      "execution_count": null,
      "outputs": [
        {
          "output_type": "execute_result",
          "data": {
            "text/plain": [
              "RandomForestClassifier(max_depth=9, n_estimators=30, random_state=1)"
            ]
          },
          "metadata": {},
          "execution_count": 130
        }
      ]
    },
    {
      "cell_type": "code",
      "source": [
        "predictions = rf.predict(x_test_s)\n",
        "print(classification_report(y_test_s, predictions))"
      ],
      "metadata": {
        "outputId": "4eceb4da-c696-42ba-91e0-d5cb7bf791e1",
        "colab": {
          "base_uri": "https://localhost:8080/"
        },
        "id": "J2S_Npc2RQVl"
      },
      "execution_count": null,
      "outputs": [
        {
          "output_type": "stream",
          "name": "stdout",
          "text": [
            "              precision    recall  f1-score   support\n",
            "\n",
            "           0       0.79      0.81      0.80      4399\n",
            "           1       0.80      0.78      0.79      4345\n",
            "\n",
            "    accuracy                           0.80      8744\n",
            "   macro avg       0.80      0.80      0.80      8744\n",
            "weighted avg       0.80      0.80      0.80      8744\n",
            "\n"
          ]
        }
      ]
    },
    {
      "cell_type": "code",
      "source": [
        "fig, ax = plt.subplots(figsize=(10, 10))\n",
        "plot_confusion_matrix(rf, x_test_s, y_test_s, ax=ax)\n",
        "plt.savefig(\"High resoltion.png\",dpi=300)"
      ],
      "metadata": {
        "id": "AgYF5uzydULj",
        "outputId": "186f2d5b-e808-4e74-f234-c97fc9fc040f",
        "colab": {
          "base_uri": "https://localhost:8080/",
          "height": 629
        }
      },
      "execution_count": null,
      "outputs": [
        {
          "output_type": "stream",
          "name": "stderr",
          "text": [
            "/usr/local/lib/python3.8/dist-packages/sklearn/utils/deprecation.py:87: FutureWarning: Function plot_confusion_matrix is deprecated; Function `plot_confusion_matrix` is deprecated in 1.0 and will be removed in 1.2. Use one of the class methods: ConfusionMatrixDisplay.from_predictions or ConfusionMatrixDisplay.from_estimator.\n",
            "  warnings.warn(msg, category=FutureWarning)\n"
          ]
        },
        {
          "output_type": "display_data",
          "data": {
            "text/plain": [
              "<Figure size 720x720 with 2 Axes>"
            ],
            "image/png": "[encoded data removed]"
          },
          "metadata": {
            "needs_background": "light"
          }
        }
      ]
    },
    {
      "cell_type": "code",
      "source": [
        "svm=LinearSVC(random_state=1)\n",
        "svm.fit(x_train_s, y_train_s)"
      ],
      "metadata": {
        "outputId": "2901f345-d7d9-49b3-b471-d40949ee027f",
        "colab": {
          "base_uri": "https://localhost:8080/"
        },
        "id": "QKidXhr8RQVm"
      },
      "execution_count": null,
      "outputs": [
        {
          "output_type": "stream",
          "name": "stderr",
          "text": [
            "/usr/local/lib/python3.8/dist-packages/sklearn/svm/_base.py:1206: ConvergenceWarning: Liblinear failed to converge, increase the number of iterations.\n",
            "  warnings.warn(\n"
          ]
        },
        {
          "output_type": "execute_result",
          "data": {
            "text/plain": [
              "LinearSVC(random_state=1)"
            ]
          },
          "metadata": {},
          "execution_count": 137
        }
      ]
    },
    {
      "cell_type": "code",
      "source": [
        "predictions = svm.predict(x_test_s)\n",
        "print(classification_report(y_test_s, predictions))"
      ],
      "metadata": {
        "outputId": "a751a6b4-dacd-4fac-d4a7-e9b80d524c1c",
        "colab": {
          "base_uri": "https://localhost:8080/"
        },
        "id": "MCfRpJa1RQVm"
      },
      "execution_count": null,
      "outputs": [
        {
          "output_type": "stream",
          "name": "stdout",
          "text": [
            "              precision    recall  f1-score   support\n",
            "\n",
            "           0       0.70      0.66      0.68      4399\n",
            "           1       0.68      0.71      0.69      4345\n",
            "\n",
            "    accuracy                           0.69      8744\n",
            "   macro avg       0.69      0.69      0.69      8744\n",
            "weighted avg       0.69      0.69      0.69      8744\n",
            "\n"
          ]
        }
      ]
    },
    {
      "cell_type": "markdown",
      "source": [
        "#### Voting Classifier"
      ],
      "metadata": {
        "id": "z-IWTw2sRQVm"
      }
    },
    {
      "cell_type": "code",
      "source": [
        "from sklearn.ensemble import VotingClassifier\n",
        "# 1) naive bias = mnb\n",
        "# 2) logistic regression =lr\n",
        "# 3) random forest =rf\n",
        "# 4) support vector machine = svm\n",
        "evc=VotingClassifier(estimators=[('lr',lr),('rf',rf),('svm',svm)],voting='hard')\n",
        "evc.fit(x_train, y_train)\n",
        "print(\"score on test: \" + str(evc.score(x_test_s, y_test_s)))\n",
        "print(\"score on train: \"+ str(evc.score(x_train_s, y_train_s)))"
      ],
      "metadata": {
        "outputId": "18d46d3a-fa64-4ff1-cbef-3aaa7f150072",
        "colab": {
          "base_uri": "https://localhost:8080/"
        },
        "id": "xgs1YxA-RQVm"
      },
      "execution_count": null,
      "outputs": [
        {
          "output_type": "stream",
          "name": "stdout",
          "text": [
            "score on test: 0.5731930466605673\n",
            "score on train: 0.5694190301921317\n"
          ]
        }
      ]
    },
    {
      "cell_type": "code",
      "source": [
        "predictions = evc.predict(x_test_s)\n",
        "print(classification_report(y_test_s, predictions))"
      ],
      "metadata": {
        "outputId": "27cf6d30-dd7f-4d20-ac91-f8521b48f3db",
        "colab": {
          "base_uri": "https://localhost:8080/"
        },
        "id": "kIv1ZaYORQVn"
      },
      "execution_count": null,
      "outputs": [
        {
          "output_type": "stream",
          "name": "stdout",
          "text": [
            "              precision    recall  f1-score   support\n",
            "\n",
            "           0       0.92      0.17      0.28      4399\n",
            "           1       0.54      0.99      0.70      4345\n",
            "\n",
            "    accuracy                           0.57      8744\n",
            "   macro avg       0.73      0.58      0.49      8744\n",
            "weighted avg       0.73      0.57      0.49      8744\n",
            "\n"
          ]
        }
      ]
    },
    {
      "cell_type": "markdown",
      "source": [
        "#### MLP Classifier"
      ],
      "metadata": {
        "id": "0jaIqsSlRQVn"
      }
    },
    {
      "cell_type": "code",
      "source": [
        "from sklearn.neural_network import MLPClassifier"
      ],
      "metadata": {
        "id": "HxjAPylVRQVn"
      },
      "execution_count": null,
      "outputs": []
    },
    {
      "cell_type": "code",
      "source": [
        "nns = MLPClassifier(hidden_layer_sizes=(20, 2), random_state=1,max_iter=100000)"
      ],
      "metadata": {
        "id": "-enVgw8CRQVn"
      },
      "execution_count": null,
      "outputs": []
    },
    {
      "cell_type": "code",
      "source": [
        "nns.fit(x_train_s, y_train_s)"
      ],
      "metadata": {
        "outputId": "57039335-df31-43c2-97f1-ed76fe726bb8",
        "colab": {
          "base_uri": "https://localhost:8080/"
        },
        "id": "I8d7CvCHRQVn"
      },
      "execution_count": null,
      "outputs": [
        {
          "output_type": "execute_result",
          "data": {
            "text/plain": [
              "MLPClassifier(hidden_layer_sizes=(20, 2), max_iter=100000, random_state=1)"
            ]
          },
          "metadata": {},
          "execution_count": 111
        }
      ]
    },
    {
      "cell_type": "code",
      "source": [
        "predictions = nns.predict(x_test_s)\n",
        "print(classification_report(y_test_s, predictions))"
      ],
      "metadata": {
        "outputId": "0f3ea015-f943-490f-85ef-cc5aafe17c29",
        "colab": {
          "base_uri": "https://localhost:8080/"
        },
        "id": "P3rS4gUNRQVn"
      },
      "execution_count": null,
      "outputs": [
        {
          "output_type": "stream",
          "name": "stdout",
          "text": [
            "              precision    recall  f1-score   support\n",
            "\n",
            "           0       0.71      0.75      0.73      4399\n",
            "           1       0.73      0.69      0.71      4345\n",
            "\n",
            "    accuracy                           0.72      8744\n",
            "   macro avg       0.72      0.72      0.72      8744\n",
            "weighted avg       0.72      0.72      0.72      8744\n",
            "\n"
          ]
        }
      ]
    }
  ]
}