{
  "nbformat": 4,
  "nbformat_minor": 0,
  "metadata": {
    "colab": {
      "provenance": [],
      "include_colab_link": true
    },
    "kernelspec": {
      "name": "python3",
      "display_name": "Python 3"
    },
    "language_info": {
      "name": "python"
    }
  },
  "cells": [
    {
      "cell_type": "markdown",
      "metadata": {
        "id": "view-in-github",
        "colab_type": "text"
      },
      "source": [
        "<a href=\"https://colab.research.google.com/github/Sottix99/SMOS_Final_Project/blob/main/ESS8Dataset.ipynb\" target=\"_parent\"><img src=\"https://colab.research.google.com/assets/colab-badge.svg\" alt=\"Open In Colab\"/></a>"
      ]
    },
    {
      "cell_type": "code",
      "source": [
        "%%capture\n",
        "import numpy as np\n",
        "import pandas as pd \n",
        "from tqdm import tqdm\n",
        "import matplotlib.pyplot as plt\n",
        "import time\n",
        "import csv\n",
        "import os\n",
        "import missingno as msno\n",
        "from collections import Counter\n",
        "from datetime import datetime\n",
        "from scipy.cluster.hierarchy import dendrogram, linkage\n",
        "from collections import defaultdict\n",
        "import statistics\n",
        "from sklearn.decomposition import PCA\n",
        "from sklearn.preprocessing import Normalizer, StandardScaler\n",
        "from sklearn import preprocessing\n",
        "import plotly.express as px\n",
        "import seaborn as sns"
      ],
      "metadata": {
        "id": "m1QZ4Dr3sHso"
      },
      "execution_count": null,
      "outputs": []
    },
    {
      "cell_type": "code",
      "execution_count": null,
      "metadata": {
        "colab": {
          "base_uri": "https://localhost:8080/"
        },
        "id": "8R4YXIh9rzW9",
        "outputId": "97ac71d7-70b1-4123-f84e-c1069da69086"
      },
      "outputs": [
        {
          "output_type": "stream",
          "name": "stdout",
          "text": [
            "Mounted at /content/drive\n"
          ]
        }
      ],
      "source": [
        "from google.colab import drive\n",
        "drive.mount('/content/drive')"
      ]
    },
    {
      "cell_type": "code",
      "source": [
        "df= pd.read_csv(r'/content/drive/MyDrive/SMOS/ESS10.csv',low_memory=False)"
      ],
      "metadata": {
        "id": "UHUf1oFmr6-B"
      },
      "execution_count": null,
      "outputs": []
    },
    {
      "cell_type": "code",
      "source": [
        "df.head()"
      ],
      "metadata": {
        "colab": {
          "base_uri": "https://localhost:8080/",
          "height": 279
        },
        "id": "Udm8UAHlsP7R",
        "outputId": "a5e26024-895d-48bf-9e4a-d03e50513497"
      },
      "execution_count": null,
      "outputs": [
        {
          "output_type": "execute_result",
          "data": {
            "text/plain": [
              "    pweight        name  essround  edition   proddate   idno cntry   dweight  \\\n",
              "0  0.217716  ESS10e01_3        10      1.3  4.10.2022  10002    BG  1.032306   \n",
              "1  0.217716  ESS10e01_3        10      1.3  4.10.2022  10006    BG  0.879120   \n",
              "2  0.217716  ESS10e01_3        10      1.3  4.10.2022  10009    BG  1.006098   \n",
              "3  0.217716  ESS10e01_3        10      1.3  4.10.2022  10024    BG  0.955327   \n",
              "4  0.217716  ESS10e01_3        10      1.3  4.10.2022  10027    BG  0.841009   \n",
              "\n",
              "       prob  stratum  ...                ginwe                hinwe  \\\n",
              "0  0.000628       67  ...  2021-07-24 13:05:44  2021-07-24 13:11:27   \n",
              "1  0.000737       68  ...  2021-08-28 08:04:49  2021-08-28 08:07:22   \n",
              "2  0.000644       57  ...  2021-07-15 21:26:27  2021-07-15 21:33:51   \n",
              "3  0.000678       30  ...  2021-08-01 13:16:03  2021-08-01 13:19:41   \n",
              "4  0.000770       20  ...  2021-07-24 18:02:21  2021-07-24 18:08:15   \n",
              "\n",
              "                 iinwe                kinwe                vinwe  \\\n",
              "0  2021-07-24 13:11:35  2021-07-24 13:12:20  2021-07-24 13:12:21   \n",
              "1  2021-08-28 08:07:39  2021-08-28 08:14:39  2021-08-28 08:14:43   \n",
              "2  2021-07-15 21:34:36  2021-07-15 21:42:37  2021-07-15 21:42:49   \n",
              "3  2021-08-01 13:20:15  2021-08-01 13:24:40  2021-08-01 13:24:46   \n",
              "4  2021-07-24 18:09:09  2021-07-24 18:16:57  2021-07-24 18:17:07   \n",
              "\n",
              "                 inwde                jinws                jinwe  inwtm  \\\n",
              "0  2021-07-24 13:13:01  2021-07-24 13:12:33  2021-07-24 13:13:06   53.0   \n",
              "1  2021-08-28 08:36:39  2021-08-28 08:25:43  2021-08-28 08:36:49   36.0   \n",
              "2  2021-07-15 21:44:59  2021-07-15 21:43:42  2021-07-15 21:45:50   93.0   \n",
              "3  2021-08-08 17:42:17  2021-08-01 13:25:19  2021-08-08 17:42:20   57.0   \n",
              "4  2021-07-24 18:19:22  2021-07-24 18:18:09  2021-07-24 18:19:29  103.0   \n",
              "\n",
              "   domain  \n",
              "0     NaN  \n",
              "1     NaN  \n",
              "2     NaN  \n",
              "3     NaN  \n",
              "4     NaN  \n",
              "\n",
              "[5 rows x 513 columns]"
            ],
            "text/html": [
              "\n",
              "  <div id=\"df-0900c07d-2ada-4b14-949e-89639226cfd6\">\n",
              "    <div class=\"colab-df-container\">\n",
              "      <div>\n",
              "<style scoped>\n",
              "    .dataframe tbody tr th:only-of-type {\n",
              "        vertical-align: middle;\n",
              "    }\n",
              "\n",
              "    .dataframe tbody tr th {\n",
              "        vertical-align: top;\n",
              "    }\n",
              "\n",
              "    .dataframe thead th {\n",
              "        text-align: right;\n",
              "    }\n",
              "</style>\n",
              "<table border=\"1\" class=\"dataframe\">\n",
              "  <thead>\n",
              "    <tr style=\"text-align: right;\">\n",
              "      <th></th>\n",
              "      <th>pweight</th>\n",
              "      <th>name</th>\n",
              "      <th>essround</th>\n",
              "      <th>edition</th>\n",
              "      <th>proddate</th>\n",
              "      <th>idno</th>\n",
              "      <th>cntry</th>\n",
              "      <th>dweight</th>\n",
              "      <th>prob</th>\n",
              "      <th>stratum</th>\n",
              "      <th>...</th>\n",
              "      <th>ginwe</th>\n",
              "      <th>hinwe</th>\n",
              "      <th>iinwe</th>\n",
              "      <th>kinwe</th>\n",
              "      <th>vinwe</th>\n",
              "      <th>inwde</th>\n",
              "      <th>jinws</th>\n",
              "      <th>jinwe</th>\n",
              "      <th>inwtm</th>\n",
              "      <th>domain</th>\n",
              "    </tr>\n",
              "  </thead>\n",
              "  <tbody>\n",
              "    <tr>\n",
              "      <th>0</th>\n",
              "      <td>0.217716</td>\n",
              "      <td>ESS10e01_3</td>\n",
              "      <td>10</td>\n",
              "      <td>1.3</td>\n",
              "      <td>4.10.2022</td>\n",
              "      <td>10002</td>\n",
              "      <td>BG</td>\n",
              "      <td>1.032306</td>\n",
              "      <td>0.000628</td>\n",
              "      <td>67</td>\n",
              "      <td>...</td>\n",
              "      <td>2021-07-24 13:05:44</td>\n",
              "      <td>2021-07-24 13:11:27</td>\n",
              "      <td>2021-07-24 13:11:35</td>\n",
              "      <td>2021-07-24 13:12:20</td>\n",
              "      <td>2021-07-24 13:12:21</td>\n",
              "      <td>2021-07-24 13:13:01</td>\n",
              "      <td>2021-07-24 13:12:33</td>\n",
              "      <td>2021-07-24 13:13:06</td>\n",
              "      <td>53.0</td>\n",
              "      <td>NaN</td>\n",
              "    </tr>\n",
              "    <tr>\n",
              "      <th>1</th>\n",
              "      <td>0.217716</td>\n",
              "      <td>ESS10e01_3</td>\n",
              "      <td>10</td>\n",
              "      <td>1.3</td>\n",
              "      <td>4.10.2022</td>\n",
              "      <td>10006</td>\n",
              "      <td>BG</td>\n",
              "      <td>0.879120</td>\n",
              "      <td>0.000737</td>\n",
              "      <td>68</td>\n",
              "      <td>...</td>\n",
              "      <td>2021-08-28 08:04:49</td>\n",
              "      <td>2021-08-28 08:07:22</td>\n",
              "      <td>2021-08-28 08:07:39</td>\n",
              "      <td>2021-08-28 08:14:39</td>\n",
              "      <td>2021-08-28 08:14:43</td>\n",
              "      <td>2021-08-28 08:36:39</td>\n",
              "      <td>2021-08-28 08:25:43</td>\n",
              "      <td>2021-08-28 08:36:49</td>\n",
              "      <td>36.0</td>\n",
              "      <td>NaN</td>\n",
              "    </tr>\n",
              "    <tr>\n",
              "      <th>2</th>\n",
              "      <td>0.217716</td>\n",
              "      <td>ESS10e01_3</td>\n",
              "      <td>10</td>\n",
              "      <td>1.3</td>\n",
              "      <td>4.10.2022</td>\n",
              "      <td>10009</td>\n",
              "      <td>BG</td>\n",
              "      <td>1.006098</td>\n",
              "      <td>0.000644</td>\n",
              "      <td>57</td>\n",
              "      <td>...</td>\n",
              "      <td>2021-07-15 21:26:27</td>\n",
              "      <td>2021-07-15 21:33:51</td>\n",
              "      <td>2021-07-15 21:34:36</td>\n",
              "      <td>2021-07-15 21:42:37</td>\n",
              "      <td>2021-07-15 21:42:49</td>\n",
              "      <td>2021-07-15 21:44:59</td>\n",
              "      <td>2021-07-15 21:43:42</td>\n",
              "      <td>2021-07-15 21:45:50</td>\n",
              "      <td>93.0</td>\n",
              "      <td>NaN</td>\n",
              "    </tr>\n",
              "    <tr>\n",
              "      <th>3</th>\n",
              "      <td>0.217716</td>\n",
              "      <td>ESS10e01_3</td>\n",
              "      <td>10</td>\n",
              "      <td>1.3</td>\n",
              "      <td>4.10.2022</td>\n",
              "      <td>10024</td>\n",
              "      <td>BG</td>\n",
              "      <td>0.955327</td>\n",
              "      <td>0.000678</td>\n",
              "      <td>30</td>\n",
              "      <td>...</td>\n",
              "      <td>2021-08-01 13:16:03</td>\n",
              "      <td>2021-08-01 13:19:41</td>\n",
              "      <td>2021-08-01 13:20:15</td>\n",
              "      <td>2021-08-01 13:24:40</td>\n",
              "      <td>2021-08-01 13:24:46</td>\n",
              "      <td>2021-08-08 17:42:17</td>\n",
              "      <td>2021-08-01 13:25:19</td>\n",
              "      <td>2021-08-08 17:42:20</td>\n",
              "      <td>57.0</td>\n",
              "      <td>NaN</td>\n",
              "    </tr>\n",
              "    <tr>\n",
              "      <th>4</th>\n",
              "      <td>0.217716</td>\n",
              "      <td>ESS10e01_3</td>\n",
              "      <td>10</td>\n",
              "      <td>1.3</td>\n",
              "      <td>4.10.2022</td>\n",
              "      <td>10027</td>\n",
              "      <td>BG</td>\n",
              "      <td>0.841009</td>\n",
              "      <td>0.000770</td>\n",
              "      <td>20</td>\n",
              "      <td>...</td>\n",
              "      <td>2021-07-24 18:02:21</td>\n",
              "      <td>2021-07-24 18:08:15</td>\n",
              "      <td>2021-07-24 18:09:09</td>\n",
              "      <td>2021-07-24 18:16:57</td>\n",
              "      <td>2021-07-24 18:17:07</td>\n",
              "      <td>2021-07-24 18:19:22</td>\n",
              "      <td>2021-07-24 18:18:09</td>\n",
              "      <td>2021-07-24 18:19:29</td>\n",
              "      <td>103.0</td>\n",
              "      <td>NaN</td>\n",
              "    </tr>\n",
              "  </tbody>\n",
              "</table>\n",
              "<p>5 rows × 513 columns</p>\n",
              "</div>\n",
              "      <button class=\"colab-df-convert\" onclick=\"convertToInteractive('df-0900c07d-2ada-4b14-949e-89639226cfd6')\"\n",
              "              title=\"Convert this dataframe to an interactive table.\"\n",
              "              style=\"display:none;\">\n",
              "        \n",
              "  <svg xmlns=\"http://www.w3.org/2000/svg\" height=\"24px\"viewBox=\"0 0 24 24\"\n",
              "       width=\"24px\">\n",
              "    <path d=\"M0 0h24v24H0V0z\" fill=\"none\"/>\n",
              "    <path d=\"M18.56 5.44l.94 2.06.94-2.06 2.06-.94-2.06-.94-.94-2.06-.94 2.06-2.06.94zm-11 1L8.5 8.5l.94-2.06 2.06-.94-2.06-.94L8.5 2.5l-.94 2.06-2.06.94zm10 10l.94 2.06.94-2.06 2.06-.94-2.06-.94-.94-2.06-.94 2.06-2.06.94z\"/><path d=\"M17.41 7.96l-1.37-1.37c-.4-.4-.92-.59-1.43-.59-.52 0-1.04.2-1.43.59L10.3 9.45l-7.72 7.72c-.78.78-.78 2.05 0 2.83L4 21.41c.39.39.9.59 1.41.59.51 0 1.02-.2 1.41-.59l7.78-7.78 2.81-2.81c.8-.78.8-2.07 0-2.86zM5.41 20L4 18.59l7.72-7.72 1.47 1.35L5.41 20z\"/>\n",
              "  </svg>\n",
              "      </button>\n",
              "      \n",
              "  <style>\n",
              "    .colab-df-container {\n",
              "      display:flex;\n",
              "      flex-wrap:wrap;\n",
              "      gap: 12px;\n",
              "    }\n",
              "\n",
              "    .colab-df-convert {\n",
              "      background-color: #E8F0FE;\n",
              "      border: none;\n",
              "      border-radius: 50%;\n",
              "      cursor: pointer;\n",
              "      display: none;\n",
              "      fill: #1967D2;\n",
              "      height: 32px;\n",
              "      padding: 0 0 0 0;\n",
              "      width: 32px;\n",
              "    }\n",
              "\n",
              "    .colab-df-convert:hover {\n",
              "      background-color: #E2EBFA;\n",
              "      box-shadow: 0px 1px 2px rgba(60, 64, 67, 0.3), 0px 1px 3px 1px rgba(60, 64, 67, 0.15);\n",
              "      fill: #174EA6;\n",
              "    }\n",
              "\n",
              "    [theme=dark] .colab-df-convert {\n",
              "      background-color: #3B4455;\n",
              "      fill: #D2E3FC;\n",
              "    }\n",
              "\n",
              "    [theme=dark] .colab-df-convert:hover {\n",
              "      background-color: #434B5C;\n",
              "      box-shadow: 0px 1px 3px 1px rgba(0, 0, 0, 0.15);\n",
              "      filter: drop-shadow(0px 1px 2px rgba(0, 0, 0, 0.3));\n",
              "      fill: #FFFFFF;\n",
              "    }\n",
              "  </style>\n",
              "\n",
              "      <script>\n",
              "        const buttonEl =\n",
              "          document.querySelector('#df-0900c07d-2ada-4b14-949e-89639226cfd6 button.colab-df-convert');\n",
              "        buttonEl.style.display =\n",
              "          google.colab.kernel.accessAllowed ? 'block' : 'none';\n",
              "\n",
              "        async function convertToInteractive(key) {\n",
              "          const element = document.querySelector('#df-0900c07d-2ada-4b14-949e-89639226cfd6');\n",
              "          const dataTable =\n",
              "            await google.colab.kernel.invokeFunction('convertToInteractive',\n",
              "                                                     [key], {});\n",
              "          if (!dataTable) return;\n",
              "\n",
              "          const docLinkHtml = 'Like what you see? Visit the ' +\n",
              "            '<a target=\"_blank\" href=https://colab.research.google.com/notebooks/data_table.ipynb>data table notebook</a>'\n",
              "            + ' to learn more about interactive tables.';\n",
              "          element.innerHTML = '';\n",
              "          dataTable['output_type'] = 'display_data';\n",
              "          await google.colab.output.renderOutput(dataTable, element);\n",
              "          const docLink = document.createElement('div');\n",
              "          docLink.innerHTML = docLinkHtml;\n",
              "          element.appendChild(docLink);\n",
              "        }\n",
              "      </script>\n",
              "    </div>\n",
              "  </div>\n",
              "  "
            ]
          },
          "metadata": {},
          "execution_count": 4
        }
      ]
    },
    {
      "cell_type": "markdown",
      "source": [
        "There are a lot of columns, we want to use only few of them, in particular:\n",
        "\n",
        "\n",
        "\n",
        "\n",
        "\n",
        "* `health`\n",
        "\n",
        "* `brncntr`\n",
        "\n",
        "* `stfeco`\n",
        "\n",
        "* `rlgdgr`\n",
        "\n",
        "\n",
        "* `wrclmch`: How worried about climate change? \n",
        "\n",
        "* `ccnthum` : Climate change caused by natural processes, human activity, or both?\n",
        "\n",
        "* `lrscale` : In politics people sometimes talk of 'left' and 'right'. Using this card, where would you place yourself on this scale, where 0 means the left and 10 means the right?\n",
        "\n",
        "* `eisced`: Highest level of education, ES - ISCED\n",
        "\n",
        "* `agea` : Age of respondent\n",
        "\n",
        "* `gndr` : Gender\n",
        "\n",
        "* `hinctnta` : Household's total net income, all sources\n",
        "\n",
        "* `cntry` : Country\n",
        "\n"
      ],
      "metadata": {
        "id": "WLBapM-msf3C"
      }
    },
    {
      "cell_type": "code",
      "source": [
        "Selected_columns=['cntry','hinctnta', 'gndr', 'agea','eisced','lrscale','ccnthum']"
      ],
      "metadata": {
        "id": "oYD4PrebsnET"
      },
      "execution_count": null,
      "outputs": []
    },
    {
      "cell_type": "code",
      "source": [
        "d=df[Selected_columns]"
      ],
      "metadata": {
        "id": "n5KeQJXHu5Vm"
      },
      "execution_count": null,
      "outputs": []
    },
    {
      "cell_type": "code",
      "source": [
        "msno.bar(d, color='orange')"
      ],
      "metadata": {
        "colab": {
          "base_uri": "https://localhost:8080/",
          "height": 712
        },
        "id": "425t19datfsd",
        "outputId": "7e57eccc-1224-461a-8bf7-dd784b9f323a"
      },
      "execution_count": null,
      "outputs": [
        {
          "output_type": "execute_result",
          "data": {
            "text/plain": [
              "<matplotlib.axes._subplots.AxesSubplot at 0x7fcf684adb80>"
            ]
          },
          "metadata": {},
          "execution_count": 90
        },
        {
          "output_type": "display_data",
          "data": {
            "text/plain": [
              "<Figure size 1800x720 with 3 Axes>"
            ],
            "image/png": "[encoded data removed]"
          },
          "metadata": {
            "needs_background": "light"
          }
        }
      ]
    },
    {
      "cell_type": "code",
      "source": [
        "d.dropna(inplace=True)"
      ],
      "metadata": {
        "colab": {
          "base_uri": "https://localhost:8080/"
        },
        "id": "w6k6OezR4STW",
        "outputId": "88745598-e746-46ec-e821-c3cd0eb8d515"
      },
      "execution_count": null,
      "outputs": [
        {
          "output_type": "stream",
          "name": "stderr",
          "text": [
            "/usr/local/lib/python3.8/dist-packages/pandas/util/_decorators.py:311: SettingWithCopyWarning: \n",
            "A value is trying to be set on a copy of a slice from a DataFrame\n",
            "\n",
            "See the caveats in the documentation: https://pandas.pydata.org/pandas-docs/stable/user_guide/indexing.html#returning-a-view-versus-a-copy\n",
            "  return func(*args, **kwargs)\n"
          ]
        }
      ]
    },
    {
      "cell_type": "code",
      "source": [
        "d.head()"
      ],
      "metadata": {
        "colab": {
          "base_uri": "https://localhost:8080/",
          "height": 206
        },
        "id": "XIylhtW53xtL",
        "outputId": "8fb381fc-f733-4dd1-fe98-aec273ff8c2b"
      },
      "execution_count": null,
      "outputs": [
        {
          "output_type": "execute_result",
          "data": {
            "text/plain": [
              "  cntry  hinctnta  gndr  agea  eisced  lrscale  ccnthum\n",
              "0    BG         7     2  76.0       4       88        5\n",
              "1    BG        77     1  43.0       6       10        5\n",
              "2    BG         7     2  50.0       7        4        3\n",
              "3    BG         6     2  51.0       4       88        4\n",
              "4    BG         4     1  70.0       7        4        3"
            ],
            "text/html": [
              "\n",
              "  <div id=\"df-9bbea8b3-2ba6-4154-8cfd-3d167bc84bdb\">\n",
              "    <div class=\"colab-df-container\">\n",
              "      <div>\n",
              "<style scoped>\n",
              "    .dataframe tbody tr th:only-of-type {\n",
              "        vertical-align: middle;\n",
              "    }\n",
              "\n",
              "    .dataframe tbody tr th {\n",
              "        vertical-align: top;\n",
              "    }\n",
              "\n",
              "    .dataframe thead th {\n",
              "        text-align: right;\n",
              "    }\n",
              "</style>\n",
              "<table border=\"1\" class=\"dataframe\">\n",
              "  <thead>\n",
              "    <tr style=\"text-align: right;\">\n",
              "      <th></th>\n",
              "      <th>cntry</th>\n",
              "      <th>hinctnta</th>\n",
              "      <th>gndr</th>\n",
              "      <th>agea</th>\n",
              "      <th>eisced</th>\n",
              "      <th>lrscale</th>\n",
              "      <th>ccnthum</th>\n",
              "    </tr>\n",
              "  </thead>\n",
              "  <tbody>\n",
              "    <tr>\n",
              "      <th>0</th>\n",
              "      <td>BG</td>\n",
              "      <td>7</td>\n",
              "      <td>2</td>\n",
              "      <td>76.0</td>\n",
              "      <td>4</td>\n",
              "      <td>88</td>\n",
              "      <td>5</td>\n",
              "    </tr>\n",
              "    <tr>\n",
              "      <th>1</th>\n",
              "      <td>BG</td>\n",
              "      <td>77</td>\n",
              "      <td>1</td>\n",
              "      <td>43.0</td>\n",
              "      <td>6</td>\n",
              "      <td>10</td>\n",
              "      <td>5</td>\n",
              "    </tr>\n",
              "    <tr>\n",
              "      <th>2</th>\n",
              "      <td>BG</td>\n",
              "      <td>7</td>\n",
              "      <td>2</td>\n",
              "      <td>50.0</td>\n",
              "      <td>7</td>\n",
              "      <td>4</td>\n",
              "      <td>3</td>\n",
              "    </tr>\n",
              "    <tr>\n",
              "      <th>3</th>\n",
              "      <td>BG</td>\n",
              "      <td>6</td>\n",
              "      <td>2</td>\n",
              "      <td>51.0</td>\n",
              "      <td>4</td>\n",
              "      <td>88</td>\n",
              "      <td>4</td>\n",
              "    </tr>\n",
              "    <tr>\n",
              "      <th>4</th>\n",
              "      <td>BG</td>\n",
              "      <td>4</td>\n",
              "      <td>1</td>\n",
              "      <td>70.0</td>\n",
              "      <td>7</td>\n",
              "      <td>4</td>\n",
              "      <td>3</td>\n",
              "    </tr>\n",
              "  </tbody>\n",
              "</table>\n",
              "</div>\n",
              "      <button class=\"colab-df-convert\" onclick=\"convertToInteractive('df-9bbea8b3-2ba6-4154-8cfd-3d167bc84bdb')\"\n",
              "              title=\"Convert this dataframe to an interactive table.\"\n",
              "              style=\"display:none;\">\n",
              "        \n",
              "  <svg xmlns=\"http://www.w3.org/2000/svg\" height=\"24px\"viewBox=\"0 0 24 24\"\n",
              "       width=\"24px\">\n",
              "    <path d=\"M0 0h24v24H0V0z\" fill=\"none\"/>\n",
              "    <path d=\"M18.56 5.44l.94 2.06.94-2.06 2.06-.94-2.06-.94-.94-2.06-.94 2.06-2.06.94zm-11 1L8.5 8.5l.94-2.06 2.06-.94-2.06-.94L8.5 2.5l-.94 2.06-2.06.94zm10 10l.94 2.06.94-2.06 2.06-.94-2.06-.94-.94-2.06-.94 2.06-2.06.94z\"/><path d=\"M17.41 7.96l-1.37-1.37c-.4-.4-.92-.59-1.43-.59-.52 0-1.04.2-1.43.59L10.3 9.45l-7.72 7.72c-.78.78-.78 2.05 0 2.83L4 21.41c.39.39.9.59 1.41.59.51 0 1.02-.2 1.41-.59l7.78-7.78 2.81-2.81c.8-.78.8-2.07 0-2.86zM5.41 20L4 18.59l7.72-7.72 1.47 1.35L5.41 20z\"/>\n",
              "  </svg>\n",
              "      </button>\n",
              "      \n",
              "  <style>\n",
              "    .colab-df-container {\n",
              "      display:flex;\n",
              "      flex-wrap:wrap;\n",
              "      gap: 12px;\n",
              "    }\n",
              "\n",
              "    .colab-df-convert {\n",
              "      background-color: #E8F0FE;\n",
              "      border: none;\n",
              "      border-radius: 50%;\n",
              "      cursor: pointer;\n",
              "      display: none;\n",
              "      fill: #1967D2;\n",
              "      height: 32px;\n",
              "      padding: 0 0 0 0;\n",
              "      width: 32px;\n",
              "    }\n",
              "\n",
              "    .colab-df-convert:hover {\n",
              "      background-color: #E2EBFA;\n",
              "      box-shadow: 0px 1px 2px rgba(60, 64, 67, 0.3), 0px 1px 3px 1px rgba(60, 64, 67, 0.15);\n",
              "      fill: #174EA6;\n",
              "    }\n",
              "\n",
              "    [theme=dark] .colab-df-convert {\n",
              "      background-color: #3B4455;\n",
              "      fill: #D2E3FC;\n",
              "    }\n",
              "\n",
              "    [theme=dark] .colab-df-convert:hover {\n",
              "      background-color: #434B5C;\n",
              "      box-shadow: 0px 1px 3px 1px rgba(0, 0, 0, 0.15);\n",
              "      filter: drop-shadow(0px 1px 2px rgba(0, 0, 0, 0.3));\n",
              "      fill: #FFFFFF;\n",
              "    }\n",
              "  </style>\n",
              "\n",
              "      <script>\n",
              "        const buttonEl =\n",
              "          document.querySelector('#df-9bbea8b3-2ba6-4154-8cfd-3d167bc84bdb button.colab-df-convert');\n",
              "        buttonEl.style.display =\n",
              "          google.colab.kernel.accessAllowed ? 'block' : 'none';\n",
              "\n",
              "        async function convertToInteractive(key) {\n",
              "          const element = document.querySelector('#df-9bbea8b3-2ba6-4154-8cfd-3d167bc84bdb');\n",
              "          const dataTable =\n",
              "            await google.colab.kernel.invokeFunction('convertToInteractive',\n",
              "                                                     [key], {});\n",
              "          if (!dataTable) return;\n",
              "\n",
              "          const docLinkHtml = 'Like what you see? Visit the ' +\n",
              "            '<a target=\"_blank\" href=https://colab.research.google.com/notebooks/data_table.ipynb>data table notebook</a>'\n",
              "            + ' to learn more about interactive tables.';\n",
              "          element.innerHTML = '';\n",
              "          dataTable['output_type'] = 'display_data';\n",
              "          await google.colab.output.renderOutput(dataTable, element);\n",
              "          const docLink = document.createElement('div');\n",
              "          docLink.innerHTML = docLinkHtml;\n",
              "          element.appendChild(docLink);\n",
              "        }\n",
              "      </script>\n",
              "    </div>\n",
              "  </div>\n",
              "  "
            ]
          },
          "metadata": {},
          "execution_count": 92
        }
      ]
    },
    {
      "cell_type": "code",
      "source": [
        "d.cntry.value_counts()"
      ],
      "metadata": {
        "colab": {
          "base_uri": "https://localhost:8080/"
        },
        "id": "guJxfap570rY",
        "outputId": "e6dcc01c-3502-4be0-fb9e-4faa34745cc1"
      },
      "execution_count": null,
      "outputs": [
        {
          "output_type": "execute_result",
          "data": {
            "text/plain": [
              "BG    1938\n",
              "FR    1590\n",
              "CZ    1542\n",
              "FI    1448\n",
              "EE    1375\n",
              "HU    1176\n",
              "LT    1018\n",
              "HR    1004\n",
              "SI     967\n",
              "SK     824\n",
              "Name: cntry, dtype: int64"
            ]
          },
          "metadata": {},
          "execution_count": 57
        }
      ]
    },
    {
      "cell_type": "code",
      "source": [
        "d.hinctnta.value_counts()"
      ],
      "metadata": {
        "colab": {
          "base_uri": "https://localhost:8080/"
        },
        "id": "I0F1GTre4Xx3",
        "outputId": "827f0194-920e-474f-bde9-30a72cb6cf76"
      },
      "execution_count": null,
      "outputs": [
        {
          "output_type": "execute_result",
          "data": {
            "text/plain": [
              "77    2416\n",
              "5     1648\n",
              "4     1607\n",
              "8     1562\n",
              "2     1524\n",
              "7     1523\n",
              "6     1510\n",
              "3     1458\n",
              "10    1301\n",
              "1     1265\n",
              "9     1251\n",
              "88     870\n",
              "99       5\n",
              "Name: hinctnta, dtype: int64"
            ]
          },
          "metadata": {},
          "execution_count": 18
        }
      ]
    },
    {
      "cell_type": "code",
      "source": [
        "d.gndr.value_counts()"
      ],
      "metadata": {
        "colab": {
          "base_uri": "https://localhost:8080/"
        },
        "id": "zgb1YSjK4Axq",
        "outputId": "c18f5209-50e2-491b-814d-068900587d7d"
      },
      "execution_count": null,
      "outputs": [
        {
          "output_type": "execute_result",
          "data": {
            "text/plain": [
              "2    9898\n",
              "1    8042\n",
              "Name: gndr, dtype: int64"
            ]
          },
          "metadata": {},
          "execution_count": 15
        }
      ]
    },
    {
      "cell_type": "code",
      "source": [
        "d.agea.value_counts()"
      ],
      "metadata": {
        "colab": {
          "base_uri": "https://localhost:8080/"
        },
        "id": "knnJiRWS39Cq",
        "outputId": "0c003e9b-e7a0-4484-c9f4-9ded3703f46d"
      },
      "execution_count": null,
      "outputs": [
        {
          "output_type": "execute_result",
          "data": {
            "text/plain": [
              "61.0    380\n",
              "41.0    377\n",
              "51.0    362\n",
              "66.0    352\n",
              "56.0    342\n",
              "       ... \n",
              "86.0     67\n",
              "15.0     59\n",
              "89.0     43\n",
              "87.0     39\n",
              "88.0     38\n",
              "Name: agea, Length: 76, dtype: int64"
            ]
          },
          "metadata": {},
          "execution_count": 14
        }
      ]
    },
    {
      "cell_type": "code",
      "source": [
        "d.eisced.value_counts()"
      ],
      "metadata": {
        "colab": {
          "base_uri": "https://localhost:8080/"
        },
        "id": "-yTypy8H4M4p",
        "outputId": "4772afe3-32f9-4266-f726-38fe9c0da8e7"
      },
      "execution_count": null,
      "outputs": [
        {
          "output_type": "execute_result",
          "data": {
            "text/plain": [
              "4     5911\n",
              "3     2749\n",
              "7     2525\n",
              "2     2151\n",
              "6     2001\n",
              "5     1958\n",
              "1      569\n",
              "77      25\n",
              "55      21\n",
              "99      18\n",
              "88      12\n",
              "Name: eisced, dtype: int64"
            ]
          },
          "metadata": {},
          "execution_count": 16
        }
      ]
    },
    {
      "cell_type": "code",
      "source": [
        "d.lrscale.value_counts()"
      ],
      "metadata": {
        "colab": {
          "base_uri": "https://localhost:8080/"
        },
        "id": "qTpZDL0k32EA",
        "outputId": "494314cd-9dc5-4920-d56e-9f8ad3ac4b22"
      },
      "execution_count": null,
      "outputs": [
        {
          "output_type": "execute_result",
          "data": {
            "text/plain": [
              "5     5425\n",
              "7     1690\n",
              "6     1517\n",
              "88    1502\n",
              "8     1494\n",
              "3     1110\n",
              "4     1056\n",
              "10    1022\n",
              "2      732\n",
              "0      712\n",
              "77     614\n",
              "9      538\n",
              "1      369\n",
              "99     159\n",
              "Name: lrscale, dtype: int64"
            ]
          },
          "metadata": {},
          "execution_count": 12
        }
      ]
    },
    {
      "cell_type": "code",
      "source": [
        "d.wrclmch.value_counts()"
      ],
      "metadata": {
        "colab": {
          "base_uri": "https://localhost:8080/"
        },
        "id": "qlOKuLLC389r",
        "outputId": "b0c0424a-a338-4e75-a4d3-abde87db4637"
      },
      "execution_count": null,
      "outputs": [
        {
          "output_type": "execute_result",
          "data": {
            "text/plain": [
              "3    7737\n",
              "4    4894\n",
              "2    2660\n",
              "5    1482\n",
              "1     835\n",
              "6     198\n",
              "8     119\n",
              "7      13\n",
              "9       2\n",
              "Name: wrclmch, dtype: int64"
            ]
          },
          "metadata": {},
          "execution_count": 19
        }
      ]
    },
    {
      "cell_type": "code",
      "source": [
        "cleanup = {\"hinctnta\":     {77: np.nan ,88: np.nan, 99: np.nan},\n",
        "           \"lrscale\":      {77: np.nan ,88: np.nan, 99: np.nan},\n",
        "           \"ccnthum\":      {1.0:1, 2.0:1, 3.0:2, 4.0:2, 5.0:2,77: np.nan ,88: np.nan, 99: np.nan, 55:np.nan},\n",
        "           \"eisced\":       {77: np.nan ,88: np.nan, 99: np.nan, 55:np.nan},\n",
        "           \"gndr\":       {2: 0},\n",
        "           \"cntry\": {'BG':1, 'FR': 2, 'CZ':3, 'FI': 4, 'EE':5, 'HU': 6, 'LT':7, 'HR': 8, 'SI':9, 'SK': 10 },\n",
        "           #\"wrclmch\": {6: np.nan ,7: np.nan, 8: np.nan, 9:np.nan,1:0, 2:0, 3:1, 4:1, 5:1}\n",
        "           }"
      ],
      "metadata": {
        "id": "16pbhYOT5pki"
      },
      "execution_count": null,
      "outputs": []
    },
    {
      "cell_type": "code",
      "source": [
        "d = d.replace(cleanup)"
      ],
      "metadata": {
        "id": "R_r2M57M59ss"
      },
      "execution_count": null,
      "outputs": []
    },
    {
      "cell_type": "code",
      "source": [
        "d.dropna(inplace=True)"
      ],
      "metadata": {
        "id": "SmAmQ8bP6DeO"
      },
      "execution_count": null,
      "outputs": []
    },
    {
      "cell_type": "code",
      "source": [
        "#d['wrclmch'] = d['wrclmch'].astype(int)\n",
        "d['ccnthum'] = d['ccnthum'].astype(int)"
      ],
      "metadata": {
        "id": "5SEZ3E5iMJNB"
      },
      "execution_count": null,
      "outputs": []
    },
    {
      "cell_type": "code",
      "source": [
        "d.ccnthum.value_counts()"
      ],
      "metadata": {
        "colab": {
          "base_uri": "https://localhost:8080/"
        },
        "id": "RSveXsgGElLG",
        "outputId": "0ef34035-e3bb-4591-bead-ceb63aa5a065"
      },
      "execution_count": null,
      "outputs": [
        {
          "output_type": "execute_result",
          "data": {
            "text/plain": [
              "2    11756\n",
              "1     1126\n",
              "Name: ccnthum, dtype: int64"
            ]
          },
          "metadata": {},
          "execution_count": 97
        }
      ]
    },
    {
      "cell_type": "code",
      "source": [
        "from sklearn.preprocessing import Normalizer, StandardScaler"
      ],
      "metadata": {
        "id": "eS2ExQegRYuc"
      },
      "execution_count": null,
      "outputs": []
    },
    {
      "cell_type": "code",
      "source": [
        "cols_to_norm = ['hinctnta',  'agea',\n",
        "       'eisced', 'lrscale']"
      ],
      "metadata": {
        "id": "Aa8aEEcnRBfn"
      },
      "execution_count": null,
      "outputs": []
    },
    {
      "cell_type": "code",
      "source": [
        "d[cols_to_norm]=StandardScaler().fit_transform(d[cols_to_norm])"
      ],
      "metadata": {
        "id": "ev8NJP8URRXi"
      },
      "execution_count": null,
      "outputs": []
    },
    {
      "cell_type": "code",
      "source": [
        "d"
      ],
      "metadata": {
        "colab": {
          "base_uri": "https://localhost:8080/",
          "height": 423
        },
        "id": "U8vTCfbb60Ay",
        "outputId": "b9364cc2-3b09-4a9a-f616-c70e027d224e"
      },
      "execution_count": null,
      "outputs": [
        {
          "output_type": "execute_result",
          "data": {
            "text/plain": [
              "       cntry  hinctnta  gndr      agea    eisced   lrscale  ccnthum\n",
              "2          1  0.515155     0 -0.112628  1.604973 -0.577144        2\n",
              "4          1 -0.572692     1  1.002830  1.604973 -0.577144        2\n",
              "7          1 -0.572692     1 -0.224174 -0.232284 -1.831324        1\n",
              "8          1 -0.935307     1  1.058602 -0.232284  0.258975        2\n",
              "9          1 -0.935307     1  1.058602 -2.069540  0.677035        1\n",
              "...      ...       ...   ...       ...       ...       ...      ...\n",
              "18052     10 -1.297923     1  1.170148 -0.844703  1.513154        2\n",
              "18053     10  0.515155     0 -0.670357 -0.232284 -0.995204        2\n",
              "18055     10 -0.572692     1  0.835511 -0.844703  1.513154        1\n",
              "18057     10  0.877770     1 -0.224174  1.604973 -0.159085        2\n",
              "18058     10  0.515155     0 -0.168401  1.604973 -1.413264        2\n",
              "\n",
              "[12882 rows x 7 columns]"
            ],
            "text/html": [
              "\n",
              "  <div id=\"df-2c6598a4-c6a6-4019-8b1d-c270ffc066f4\">\n",
              "    <div class=\"colab-df-container\">\n",
              "      <div>\n",
              "<style scoped>\n",
              "    .dataframe tbody tr th:only-of-type {\n",
              "        vertical-align: middle;\n",
              "    }\n",
              "\n",
              "    .dataframe tbody tr th {\n",
              "        vertical-align: top;\n",
              "    }\n",
              "\n",
              "    .dataframe thead th {\n",
              "        text-align: right;\n",
              "    }\n",
              "</style>\n",
              "<table border=\"1\" class=\"dataframe\">\n",
              "  <thead>\n",
              "    <tr style=\"text-align: right;\">\n",
              "      <th></th>\n",
              "      <th>cntry</th>\n",
              "      <th>hinctnta</th>\n",
              "      <th>gndr</th>\n",
              "      <th>agea</th>\n",
              "      <th>eisced</th>\n",
              "      <th>lrscale</th>\n",
              "      <th>ccnthum</th>\n",
              "    </tr>\n",
              "  </thead>\n",
              "  <tbody>\n",
              "    <tr>\n",
              "      <th>2</th>\n",
              "      <td>1</td>\n",
              "      <td>0.515155</td>\n",
              "      <td>0</td>\n",
              "      <td>-0.112628</td>\n",
              "      <td>1.604973</td>\n",
              "      <td>-0.577144</td>\n",
              "      <td>2</td>\n",
              "    </tr>\n",
              "    <tr>\n",
              "      <th>4</th>\n",
              "      <td>1</td>\n",
              "      <td>-0.572692</td>\n",
              "      <td>1</td>\n",
              "      <td>1.002830</td>\n",
              "      <td>1.604973</td>\n",
              "      <td>-0.577144</td>\n",
              "      <td>2</td>\n",
              "    </tr>\n",
              "    <tr>\n",
              "      <th>7</th>\n",
              "      <td>1</td>\n",
              "      <td>-0.572692</td>\n",
              "      <td>1</td>\n",
              "      <td>-0.224174</td>\n",
              "      <td>-0.232284</td>\n",
              "      <td>-1.831324</td>\n",
              "      <td>1</td>\n",
              "    </tr>\n",
              "    <tr>\n",
              "      <th>8</th>\n",
              "      <td>1</td>\n",
              "      <td>-0.935307</td>\n",
              "      <td>1</td>\n",
              "      <td>1.058602</td>\n",
              "      <td>-0.232284</td>\n",
              "      <td>0.258975</td>\n",
              "      <td>2</td>\n",
              "    </tr>\n",
              "    <tr>\n",
              "      <th>9</th>\n",
              "      <td>1</td>\n",
              "      <td>-0.935307</td>\n",
              "      <td>1</td>\n",
              "      <td>1.058602</td>\n",
              "      <td>-2.069540</td>\n",
              "      <td>0.677035</td>\n",
              "      <td>1</td>\n",
              "    </tr>\n",
              "    <tr>\n",
              "      <th>...</th>\n",
              "      <td>...</td>\n",
              "      <td>...</td>\n",
              "      <td>...</td>\n",
              "      <td>...</td>\n",
              "      <td>...</td>\n",
              "      <td>...</td>\n",
              "      <td>...</td>\n",
              "    </tr>\n",
              "    <tr>\n",
              "      <th>18052</th>\n",
              "      <td>10</td>\n",
              "      <td>-1.297923</td>\n",
              "      <td>1</td>\n",
              "      <td>1.170148</td>\n",
              "      <td>-0.844703</td>\n",
              "      <td>1.513154</td>\n",
              "      <td>2</td>\n",
              "    </tr>\n",
              "    <tr>\n",
              "      <th>18053</th>\n",
              "      <td>10</td>\n",
              "      <td>0.515155</td>\n",
              "      <td>0</td>\n",
              "      <td>-0.670357</td>\n",
              "      <td>-0.232284</td>\n",
              "      <td>-0.995204</td>\n",
              "      <td>2</td>\n",
              "    </tr>\n",
              "    <tr>\n",
              "      <th>18055</th>\n",
              "      <td>10</td>\n",
              "      <td>-0.572692</td>\n",
              "      <td>1</td>\n",
              "      <td>0.835511</td>\n",
              "      <td>-0.844703</td>\n",
              "      <td>1.513154</td>\n",
              "      <td>1</td>\n",
              "    </tr>\n",
              "    <tr>\n",
              "      <th>18057</th>\n",
              "      <td>10</td>\n",
              "      <td>0.877770</td>\n",
              "      <td>1</td>\n",
              "      <td>-0.224174</td>\n",
              "      <td>1.604973</td>\n",
              "      <td>-0.159085</td>\n",
              "      <td>2</td>\n",
              "    </tr>\n",
              "    <tr>\n",
              "      <th>18058</th>\n",
              "      <td>10</td>\n",
              "      <td>0.515155</td>\n",
              "      <td>0</td>\n",
              "      <td>-0.168401</td>\n",
              "      <td>1.604973</td>\n",
              "      <td>-1.413264</td>\n",
              "      <td>2</td>\n",
              "    </tr>\n",
              "  </tbody>\n",
              "</table>\n",
              "<p>12882 rows × 7 columns</p>\n",
              "</div>\n",
              "      <button class=\"colab-df-convert\" onclick=\"convertToInteractive('df-2c6598a4-c6a6-4019-8b1d-c270ffc066f4')\"\n",
              "              title=\"Convert this dataframe to an interactive table.\"\n",
              "              style=\"display:none;\">\n",
              "        \n",
              "  <svg xmlns=\"http://www.w3.org/2000/svg\" height=\"24px\"viewBox=\"0 0 24 24\"\n",
              "       width=\"24px\">\n",
              "    <path d=\"M0 0h24v24H0V0z\" fill=\"none\"/>\n",
              "    <path d=\"M18.56 5.44l.94 2.06.94-2.06 2.06-.94-2.06-.94-.94-2.06-.94 2.06-2.06.94zm-11 1L8.5 8.5l.94-2.06 2.06-.94-2.06-.94L8.5 2.5l-.94 2.06-2.06.94zm10 10l.94 2.06.94-2.06 2.06-.94-2.06-.94-.94-2.06-.94 2.06-2.06.94z\"/><path d=\"M17.41 7.96l-1.37-1.37c-.4-.4-.92-.59-1.43-.59-.52 0-1.04.2-1.43.59L10.3 9.45l-7.72 7.72c-.78.78-.78 2.05 0 2.83L4 21.41c.39.39.9.59 1.41.59.51 0 1.02-.2 1.41-.59l7.78-7.78 2.81-2.81c.8-.78.8-2.07 0-2.86zM5.41 20L4 18.59l7.72-7.72 1.47 1.35L5.41 20z\"/>\n",
              "  </svg>\n",
              "      </button>\n",
              "      \n",
              "  <style>\n",
              "    .colab-df-container {\n",
              "      display:flex;\n",
              "      flex-wrap:wrap;\n",
              "      gap: 12px;\n",
              "    }\n",
              "\n",
              "    .colab-df-convert {\n",
              "      background-color: #E8F0FE;\n",
              "      border: none;\n",
              "      border-radius: 50%;\n",
              "      cursor: pointer;\n",
              "      display: none;\n",
              "      fill: #1967D2;\n",
              "      height: 32px;\n",
              "      padding: 0 0 0 0;\n",
              "      width: 32px;\n",
              "    }\n",
              "\n",
              "    .colab-df-convert:hover {\n",
              "      background-color: #E2EBFA;\n",
              "      box-shadow: 0px 1px 2px rgba(60, 64, 67, 0.3), 0px 1px 3px 1px rgba(60, 64, 67, 0.15);\n",
              "      fill: #174EA6;\n",
              "    }\n",
              "\n",
              "    [theme=dark] .colab-df-convert {\n",
              "      background-color: #3B4455;\n",
              "      fill: #D2E3FC;\n",
              "    }\n",
              "\n",
              "    [theme=dark] .colab-df-convert:hover {\n",
              "      background-color: #434B5C;\n",
              "      box-shadow: 0px 1px 3px 1px rgba(0, 0, 0, 0.15);\n",
              "      filter: drop-shadow(0px 1px 2px rgba(0, 0, 0, 0.3));\n",
              "      fill: #FFFFFF;\n",
              "    }\n",
              "  </style>\n",
              "\n",
              "      <script>\n",
              "        const buttonEl =\n",
              "          document.querySelector('#df-2c6598a4-c6a6-4019-8b1d-c270ffc066f4 button.colab-df-convert');\n",
              "        buttonEl.style.display =\n",
              "          google.colab.kernel.accessAllowed ? 'block' : 'none';\n",
              "\n",
              "        async function convertToInteractive(key) {\n",
              "          const element = document.querySelector('#df-2c6598a4-c6a6-4019-8b1d-c270ffc066f4');\n",
              "          const dataTable =\n",
              "            await google.colab.kernel.invokeFunction('convertToInteractive',\n",
              "                                                     [key], {});\n",
              "          if (!dataTable) return;\n",
              "\n",
              "          const docLinkHtml = 'Like what you see? Visit the ' +\n",
              "            '<a target=\"_blank\" href=https://colab.research.google.com/notebooks/data_table.ipynb>data table notebook</a>'\n",
              "            + ' to learn more about interactive tables.';\n",
              "          element.innerHTML = '';\n",
              "          dataTable['output_type'] = 'display_data';\n",
              "          await google.colab.output.renderOutput(dataTable, element);\n",
              "          const docLink = document.createElement('div');\n",
              "          docLink.innerHTML = docLinkHtml;\n",
              "          element.appendChild(docLink);\n",
              "        }\n",
              "      </script>\n",
              "    </div>\n",
              "  </div>\n",
              "  "
            ]
          },
          "metadata": {},
          "execution_count": 102
        }
      ]
    },
    {
      "cell_type": "code",
      "source": [
        "train = d.sample(frac=0.8, random_state=25)\n",
        "test = d.drop(train.index)\n",
        "\n",
        "print(f\"No. of training examples: {train.shape[0]}\")\n",
        "print(f\"No. of testing examples: {test.shape[0]}\")"
      ],
      "metadata": {
        "colab": {
          "base_uri": "https://localhost:8080/"
        },
        "id": "zOzKzsLO-5Rm",
        "outputId": "3dde0f2d-8754-4cc8-a6eb-f62aa0ee10e3"
      },
      "execution_count": null,
      "outputs": [
        {
          "output_type": "stream",
          "name": "stdout",
          "text": [
            "No. of training examples: 10306\n",
            "No. of testing examples: 2576\n"
          ]
        }
      ]
    },
    {
      "cell_type": "code",
      "source": [
        "x_train = train[train.columns[0:len(train.columns)-1]]\n",
        "y_train = train[train.columns[-1]]\n",
        "\n",
        "x_test = test[test.columns[0:len(test.columns)-1]]\n",
        "y_test = test[test.columns[-1]]"
      ],
      "metadata": {
        "id": "K21BlB2__Wg3"
      },
      "execution_count": null,
      "outputs": []
    },
    {
      "cell_type": "code",
      "source": [],
      "metadata": {
        "id": "oVRWQ9F7DnYB"
      },
      "execution_count": null,
      "outputs": []
    },
    {
      "cell_type": "code",
      "source": [
        "from sklearn.linear_model import LogisticRegression\n",
        "from sklearn.metrics import classification_report, confusion_matrix\n",
        "from sklearn.metrics import log_loss, roc_auc_score, recall_score, precision_score, average_precision_score, f1_score, classification_report, accuracy_score, plot_roc_curve, plot_precision_recall_curve, plot_confusion_matrix\n",
        "\n",
        "\n",
        "# instantiate the model\n",
        "logreg = LogisticRegression(solver='liblinear', random_state=0)\n",
        "\n",
        "\n",
        "# fit the model\n",
        "logreg.fit(x_train, y_train)"
      ],
      "metadata": {
        "colab": {
          "base_uri": "https://localhost:8080/"
        },
        "id": "HVl2tblh-SKW",
        "outputId": "b345eebe-372e-414b-f36f-11687c8226b7"
      },
      "execution_count": null,
      "outputs": [
        {
          "output_type": "execute_result",
          "data": {
            "text/plain": [
              "LogisticRegression(random_state=0, solver='liblinear')"
            ]
          },
          "metadata": {},
          "execution_count": 106
        }
      ]
    },
    {
      "cell_type": "code",
      "source": [
        "plot_roc_curve(logreg, x_test, y_test)"
      ],
      "metadata": {
        "colab": {
          "base_uri": "https://localhost:8080/",
          "height": 351
        },
        "id": "RCXoAbThCjiZ",
        "outputId": "b81aa59f-8190-490e-8d7a-3fca6597e128"
      },
      "execution_count": null,
      "outputs": [
        {
          "output_type": "stream",
          "name": "stderr",
          "text": [
            "/usr/local/lib/python3.8/dist-packages/sklearn/utils/deprecation.py:87: FutureWarning: Function plot_roc_curve is deprecated; Function :func:`plot_roc_curve` is deprecated in 1.0 and will be removed in 1.2. Use one of the class methods: :meth:`sklearn.metric.RocCurveDisplay.from_predictions` or :meth:`sklearn.metric.RocCurveDisplay.from_estimator`.\n",
            "  warnings.warn(msg, category=FutureWarning)\n"
          ]
        },
        {
          "output_type": "execute_result",
          "data": {
            "text/plain": [
              "<sklearn.metrics._plot.roc_curve.RocCurveDisplay at 0x7fcf68c56880>"
            ]
          },
          "metadata": {},
          "execution_count": 107
        },
        {
          "output_type": "display_data",
          "data": {
            "text/plain": [
              "<Figure size 432x288 with 1 Axes>"
            ],
            "image/png": "[encoded data removed]"
          },
          "metadata": {
            "needs_background": "light"
          }
        }
      ]
    },
    {
      "cell_type": "code",
      "source": [
        "logreg.score(x_test, y_test)"
      ],
      "metadata": {
        "colab": {
          "base_uri": "https://localhost:8080/"
        },
        "id": "geE0nsXBCyhv",
        "outputId": "1dd28b0e-59bb-4273-c88a-9f7664657667"
      },
      "execution_count": null,
      "outputs": [
        {
          "output_type": "execute_result",
          "data": {
            "text/plain": [
              "0.9122670807453416"
            ]
          },
          "metadata": {},
          "execution_count": 108
        }
      ]
    },
    {
      "cell_type": "code",
      "source": [
        "logreg.score(x_train, y_train)"
      ],
      "metadata": {
        "colab": {
          "base_uri": "https://localhost:8080/"
        },
        "id": "3f9n6MwADqzc",
        "outputId": "b2a05ca3-df66-4995-d0a5-5a040ce9f0ac"
      },
      "execution_count": null,
      "outputs": [
        {
          "output_type": "execute_result",
          "data": {
            "text/plain": [
              "0.9126722297690666"
            ]
          },
          "metadata": {},
          "execution_count": 109
        }
      ]
    },
    {
      "cell_type": "code",
      "source": [
        "logreg.predict(x_test)"
      ],
      "metadata": {
        "colab": {
          "base_uri": "https://localhost:8080/"
        },
        "id": "aifxCjhhDw3I",
        "outputId": "bc596443-d0c8-4988-f763-52d5f66f0b2a"
      },
      "execution_count": null,
      "outputs": [
        {
          "output_type": "execute_result",
          "data": {
            "text/plain": [
              "array([2, 2, 2, ..., 2, 2, 2])"
            ]
          },
          "metadata": {},
          "execution_count": 110
        }
      ]
    },
    {
      "cell_type": "code",
      "source": [
        "plot_confusion_matrix(logreg, x_test, y_test)"
      ],
      "metadata": {
        "colab": {
          "base_uri": "https://localhost:8080/",
          "height": 351
        },
        "id": "DJ0rGSTKDUrX",
        "outputId": "69143208-6bcc-471b-bca5-9fb0ae97ed31"
      },
      "execution_count": null,
      "outputs": [
        {
          "output_type": "stream",
          "name": "stderr",
          "text": [
            "/usr/local/lib/python3.8/dist-packages/sklearn/utils/deprecation.py:87: FutureWarning: Function plot_confusion_matrix is deprecated; Function `plot_confusion_matrix` is deprecated in 1.0 and will be removed in 1.2. Use one of the class methods: ConfusionMatrixDisplay.from_predictions or ConfusionMatrixDisplay.from_estimator.\n",
            "  warnings.warn(msg, category=FutureWarning)\n"
          ]
        },
        {
          "output_type": "execute_result",
          "data": {
            "text/plain": [
              "<sklearn.metrics._plot.confusion_matrix.ConfusionMatrixDisplay at 0x7fcf68baed00>"
            ]
          },
          "metadata": {},
          "execution_count": 111
        },
        {
          "output_type": "display_data",
          "data": {
            "text/plain": [
              "<Figure size 432x288 with 2 Axes>"
            ],
            "image/png": "[encoded data removed]"
          },
          "metadata": {
            "needs_background": "light"
          }
        }
      ]
    },
    {
      "cell_type": "code",
      "source": [
        "from sklearn.naive_bayes import GaussianNB\n",
        "\n",
        "\n",
        "# instantiate the model\n",
        "gnb = GaussianNB()\n",
        "\n",
        "\n",
        "# fit the model\n",
        "gnb.fit(x_train, y_train)"
      ],
      "metadata": {
        "colab": {
          "base_uri": "https://localhost:8080/"
        },
        "id": "OkrJ_mX3Hh-e",
        "outputId": "8977a60a-99aa-4c42-e1d7-94557c4a7604"
      },
      "execution_count": null,
      "outputs": [
        {
          "output_type": "execute_result",
          "data": {
            "text/plain": [
              "GaussianNB()"
            ]
          },
          "metadata": {},
          "execution_count": 112
        }
      ]
    },
    {
      "cell_type": "code",
      "source": [
        "gnb.score(x_train, y_train)"
      ],
      "metadata": {
        "colab": {
          "base_uri": "https://localhost:8080/"
        },
        "id": "xgPonDc6Htq8",
        "outputId": "d94207cd-ee6e-4144-cf79-5f64ef284fbc"
      },
      "execution_count": null,
      "outputs": [
        {
          "output_type": "execute_result",
          "data": {
            "text/plain": [
              "0.9126722297690666"
            ]
          },
          "metadata": {},
          "execution_count": 113
        }
      ]
    },
    {
      "cell_type": "code",
      "source": [
        "plot_confusion_matrix(gnb, x_test, y_test)"
      ],
      "metadata": {
        "colab": {
          "base_uri": "https://localhost:8080/",
          "height": 351
        },
        "id": "BOURHSx0HwKw",
        "outputId": "efc068db-5940-4545-dcb1-d26b53b7d8f4"
      },
      "execution_count": null,
      "outputs": [
        {
          "output_type": "stream",
          "name": "stderr",
          "text": [
            "/usr/local/lib/python3.8/dist-packages/sklearn/utils/deprecation.py:87: FutureWarning: Function plot_confusion_matrix is deprecated; Function `plot_confusion_matrix` is deprecated in 1.0 and will be removed in 1.2. Use one of the class methods: ConfusionMatrixDisplay.from_predictions or ConfusionMatrixDisplay.from_estimator.\n",
            "  warnings.warn(msg, category=FutureWarning)\n"
          ]
        },
        {
          "output_type": "execute_result",
          "data": {
            "text/plain": [
              "<sklearn.metrics._plot.confusion_matrix.ConfusionMatrixDisplay at 0x7fcf684b2ac0>"
            ]
          },
          "metadata": {},
          "execution_count": 114
        },
        {
          "output_type": "display_data",
          "data": {
            "text/plain": [
              "<Figure size 432x288 with 2 Axes>"
            ],
            "image/png": "[encoded data removed]"
          },
          "metadata": {
            "needs_background": "light"
          }
        }
      ]
    },
    {
      "cell_type": "code",
      "source": [
        "from imblearn.over_sampling import SMOTE"
      ],
      "metadata": {
        "id": "URnSyxrVR9LV"
      },
      "execution_count": null,
      "outputs": []
    },
    {
      "cell_type": "code",
      "source": [
        "smt = SMOTE()\n",
        "x_smote, y_smote = smt.fit_resample(x_train, y_train.ravel())"
      ],
      "metadata": {
        "id": "1d-uLckbR7VR"
      },
      "execution_count": null,
      "outputs": []
    },
    {
      "cell_type": "code",
      "source": [
        "print(\"Before OverSampling, counts of label '1': {}\".format(sum(y_train==1)))\n",
        "print(\"Before OverSampling, counts of label '0': {} \\n\".format(sum(y_train==2)))\n",
        "\n",
        "sm = SMOTE(random_state=2)\n",
        "x_train_res, y_train_res = sm.fit_resample(x_train, y_train.ravel())\n",
        "\n",
        "print('After OverSampling, the shape of train_X: {}'.format(X_train_res.shape))\n",
        "print('After OverSampling, the shape of train_y: {} \\n'.format(y_train_res.shape))\n",
        "\n",
        "print(\"After OverSampling, counts of label '1': {}\".format(sum(y_train_res==1)))\n",
        "print(\"After OverSampling, counts of label '0': {}\".format(sum(y_train_res==2)))\n"
      ],
      "metadata": {
        "id": "cQaTIYx_SfCz",
        "outputId": "3fe7343f-9ee3-4dbe-9d6f-c4277d81ac76",
        "colab": {
          "base_uri": "https://localhost:8080/"
        }
      },
      "execution_count": null,
      "outputs": [
        {
          "output_type": "stream",
          "name": "stdout",
          "text": [
            "Before OverSampling, counts of label '1': 900\n",
            "Before OverSampling, counts of label '0': 9406 \n",
            "\n",
            "After OverSampling, the shape of train_X: (18812, 6)\n",
            "After OverSampling, the shape of train_y: (18812,) \n",
            "\n",
            "After OverSampling, counts of label '1': 9406\n",
            "After OverSampling, counts of label '0': 9406\n"
          ]
        }
      ]
    },
    {
      "cell_type": "code",
      "source": [
        "plot_confusion_matrix(logreg, x_train_res, y_train_res)"
      ],
      "metadata": {
        "id": "4UsB3JXgSBl4",
        "outputId": "65414c7a-506f-4ae1-b07a-5fc1ba1894c3",
        "colab": {
          "base_uri": "https://localhost:8080/",
          "height": 351
        }
      },
      "execution_count": null,
      "outputs": [
        {
          "output_type": "stream",
          "name": "stderr",
          "text": [
            "/usr/local/lib/python3.8/dist-packages/sklearn/utils/deprecation.py:87: FutureWarning: Function plot_confusion_matrix is deprecated; Function `plot_confusion_matrix` is deprecated in 1.0 and will be removed in 1.2. Use one of the class methods: ConfusionMatrixDisplay.from_predictions or ConfusionMatrixDisplay.from_estimator.\n",
            "  warnings.warn(msg, category=FutureWarning)\n"
          ]
        },
        {
          "output_type": "execute_result",
          "data": {
            "text/plain": [
              "<sklearn.metrics._plot.confusion_matrix.ConfusionMatrixDisplay at 0x7fcf685d9b80>"
            ]
          },
          "metadata": {},
          "execution_count": 127
        },
        {
          "output_type": "display_data",
          "data": {
            "text/plain": [
              "<Figure size 432x288 with 2 Axes>"
            ],
            "image/png": "[encoded data removed]"
          },
          "metadata": {
            "needs_background": "light"
          }
        }
      ]
    },
    {
      "cell_type": "code",
      "source": [
        "logreg.score(x_train_res, y_train_res)"
      ],
      "metadata": {
        "id": "Q4C9V_3sTL4a",
        "outputId": "62f4cfd5-01e6-4e86-e12e-badb2a802157",
        "colab": {
          "base_uri": "https://localhost:8080/"
        }
      },
      "execution_count": null,
      "outputs": [
        {
          "output_type": "execute_result",
          "data": {
            "text/plain": [
              "0.5"
            ]
          },
          "metadata": {},
          "execution_count": 128
        }
      ]
    }
  ]
}