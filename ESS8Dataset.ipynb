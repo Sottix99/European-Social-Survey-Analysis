{
  "nbformat": 4,
  "nbformat_minor": 0,
  "metadata": {
    "colab": {
      "provenance": [],
      "include_colab_link": true
    },
    "kernelspec": {
      "name": "python3",
      "display_name": "Python 3"
    },
    "language_info": {
      "name": "python"
    }
  },
  "cells": [
    {
      "cell_type": "markdown",
      "metadata": {
        "id": "view-in-github",
        "colab_type": "text"
      },
      "source": [
        "<a href=\"https://colab.research.google.com/github/Sottix99/SMOS_Final_Project/blob/main/ESS8Dataset.ipynb\" target=\"_parent\"><img src=\"https://colab.research.google.com/assets/colab-badge.svg\" alt=\"Open In Colab\"/></a>"
      ]
    },
    {
      "cell_type": "markdown",
      "source": [
        "# Load the dataset"
      ],
      "metadata": {
        "id": "5WkwRAQLl7nK"
      }
    },
    {
      "cell_type": "code",
      "source": [
        "%%capture\n",
        "import numpy as np\n",
        "import pandas as pd \n",
        "from tqdm import tqdm\n",
        "import matplotlib.pyplot as plt\n",
        "import time\n",
        "import csv\n",
        "import os\n",
        "import missingno as msno\n",
        "from collections import Counter\n",
        "from datetime import datetime\n",
        "from scipy.cluster.hierarchy import dendrogram, linkage\n",
        "from collections import defaultdict\n",
        "import statistics\n",
        "from sklearn.preprocessing import Normalizer, StandardScaler\n",
        "from sklearn import preprocessing\n",
        "import plotly.express as px\n",
        "import seaborn as sns"
      ],
      "metadata": {
        "id": "m1QZ4Dr3sHso"
      },
      "execution_count": 1,
      "outputs": []
    },
    {
      "cell_type": "code",
      "execution_count": 2,
      "metadata": {
        "colab": {
          "base_uri": "https://localhost:8080/"
        },
        "id": "8R4YXIh9rzW9",
        "outputId": "2c756206-b5dd-4537-ab9a-bb70b20e3a04"
      },
      "outputs": [
        {
          "output_type": "stream",
          "name": "stdout",
          "text": [
            "Mounted at /content/drive\n"
          ]
        }
      ],
      "source": [
        "from google.colab import drive\n",
        "drive.mount('/content/drive')"
      ]
    },
    {
      "cell_type": "code",
      "source": [
        "df= pd.read_csv(r'/content/drive/MyDrive/SMOS/ESS8e02_2.csv',low_memory=False)"
      ],
      "metadata": {
        "id": "UHUf1oFmr6-B"
      },
      "execution_count": 3,
      "outputs": []
    },
    {
      "cell_type": "code",
      "source": [
        "df.head()"
      ],
      "metadata": {
        "colab": {
          "base_uri": "https://localhost:8080/",
          "height": 235
        },
        "id": "Udm8UAHlsP7R",
        "outputId": "6a9b4a14-0277-4dc9-b159-f049129a6534"
      },
      "execution_count": 4,
      "outputs": [
        {
          "output_type": "execute_result",
          "data": {
            "text/plain": [
              "        name  essround  edition    proddate  idno cntry   dweight   pspwght  \\\n",
              "0  ESS8e02_2         8      2.2  10.12.2020     1    AT  0.611677  1.178495   \n",
              "1  ESS8e02_2         8      2.2  10.12.2020     2    AT  1.223354  0.899471   \n",
              "2  ESS8e02_2         8      2.2  10.12.2020     4    AT  0.389058  0.315753   \n",
              "3  ESS8e02_2         8      2.2  10.12.2020     6    AT  0.642594  0.472467   \n",
              "4  ESS8e02_2         8      2.2  10.12.2020    10    AT  3.432402  2.246706   \n",
              "\n",
              "    pweight  anweight  ...  inwmms  inwyys  inwshh  inwsmm  inwdde  inwmme  \\\n",
              "0  0.370393  0.436506  ...      12    2016       7      37       5      12   \n",
              "1  0.370393  0.333158  ...      11    2016       9      39      25      11   \n",
              "2  0.370393  0.116953  ...      11    2016      17      17      22      11   \n",
              "3  0.370393  0.174999  ...      10    2016      19       9      11      10   \n",
              "4  0.370393  0.832164  ...      12    2016      10      31       1      12   \n",
              "\n",
              "   inwyye  inwehh  inwemm  inwtm  \n",
              "0    2016       8      33   50.0  \n",
              "1    2016      11      10   86.0  \n",
              "2    2016      18       0   38.0  \n",
              "3    2016      19      59   46.0  \n",
              "4    2016      11      49   70.0  \n",
              "\n",
              "[5 rows x 535 columns]"
            ],
            "text/html": [
              "\n",
              "  <div id=\"df-e7a2ae72-3809-421a-853f-b884b811484f\">\n",
              "    <div class=\"colab-df-container\">\n",
              "      <div>\n",
              "<style scoped>\n",
              "    .dataframe tbody tr th:only-of-type {\n",
              "        vertical-align: middle;\n",
              "    }\n",
              "\n",
              "    .dataframe tbody tr th {\n",
              "        vertical-align: top;\n",
              "    }\n",
              "\n",
              "    .dataframe thead th {\n",
              "        text-align: right;\n",
              "    }\n",
              "</style>\n",
              "<table border=\"1\" class=\"dataframe\">\n",
              "  <thead>\n",
              "    <tr style=\"text-align: right;\">\n",
              "      <th></th>\n",
              "      <th>name</th>\n",
              "      <th>essround</th>\n",
              "      <th>edition</th>\n",
              "      <th>proddate</th>\n",
              "      <th>idno</th>\n",
              "      <th>cntry</th>\n",
              "      <th>dweight</th>\n",
              "      <th>pspwght</th>\n",
              "      <th>pweight</th>\n",
              "      <th>anweight</th>\n",
              "      <th>...</th>\n",
              "      <th>inwmms</th>\n",
              "      <th>inwyys</th>\n",
              "      <th>inwshh</th>\n",
              "      <th>inwsmm</th>\n",
              "      <th>inwdde</th>\n",
              "      <th>inwmme</th>\n",
              "      <th>inwyye</th>\n",
              "      <th>inwehh</th>\n",
              "      <th>inwemm</th>\n",
              "      <th>inwtm</th>\n",
              "    </tr>\n",
              "  </thead>\n",
              "  <tbody>\n",
              "    <tr>\n",
              "      <th>0</th>\n",
              "      <td>ESS8e02_2</td>\n",
              "      <td>8</td>\n",
              "      <td>2.2</td>\n",
              "      <td>10.12.2020</td>\n",
              "      <td>1</td>\n",
              "      <td>AT</td>\n",
              "      <td>0.611677</td>\n",
              "      <td>1.178495</td>\n",
              "      <td>0.370393</td>\n",
              "      <td>0.436506</td>\n",
              "      <td>...</td>\n",
              "      <td>12</td>\n",
              "      <td>2016</td>\n",
              "      <td>7</td>\n",
              "      <td>37</td>\n",
              "      <td>5</td>\n",
              "      <td>12</td>\n",
              "      <td>2016</td>\n",
              "      <td>8</td>\n",
              "      <td>33</td>\n",
              "      <td>50.0</td>\n",
              "    </tr>\n",
              "    <tr>\n",
              "      <th>1</th>\n",
              "      <td>ESS8e02_2</td>\n",
              "      <td>8</td>\n",
              "      <td>2.2</td>\n",
              "      <td>10.12.2020</td>\n",
              "      <td>2</td>\n",
              "      <td>AT</td>\n",
              "      <td>1.223354</td>\n",
              "      <td>0.899471</td>\n",
              "      <td>0.370393</td>\n",
              "      <td>0.333158</td>\n",
              "      <td>...</td>\n",
              "      <td>11</td>\n",
              "      <td>2016</td>\n",
              "      <td>9</td>\n",
              "      <td>39</td>\n",
              "      <td>25</td>\n",
              "      <td>11</td>\n",
              "      <td>2016</td>\n",
              "      <td>11</td>\n",
              "      <td>10</td>\n",
              "      <td>86.0</td>\n",
              "    </tr>\n",
              "    <tr>\n",
              "      <th>2</th>\n",
              "      <td>ESS8e02_2</td>\n",
              "      <td>8</td>\n",
              "      <td>2.2</td>\n",
              "      <td>10.12.2020</td>\n",
              "      <td>4</td>\n",
              "      <td>AT</td>\n",
              "      <td>0.389058</td>\n",
              "      <td>0.315753</td>\n",
              "      <td>0.370393</td>\n",
              "      <td>0.116953</td>\n",
              "      <td>...</td>\n",
              "      <td>11</td>\n",
              "      <td>2016</td>\n",
              "      <td>17</td>\n",
              "      <td>17</td>\n",
              "      <td>22</td>\n",
              "      <td>11</td>\n",
              "      <td>2016</td>\n",
              "      <td>18</td>\n",
              "      <td>0</td>\n",
              "      <td>38.0</td>\n",
              "    </tr>\n",
              "    <tr>\n",
              "      <th>3</th>\n",
              "      <td>ESS8e02_2</td>\n",
              "      <td>8</td>\n",
              "      <td>2.2</td>\n",
              "      <td>10.12.2020</td>\n",
              "      <td>6</td>\n",
              "      <td>AT</td>\n",
              "      <td>0.642594</td>\n",
              "      <td>0.472467</td>\n",
              "      <td>0.370393</td>\n",
              "      <td>0.174999</td>\n",
              "      <td>...</td>\n",
              "      <td>10</td>\n",
              "      <td>2016</td>\n",
              "      <td>19</td>\n",
              "      <td>9</td>\n",
              "      <td>11</td>\n",
              "      <td>10</td>\n",
              "      <td>2016</td>\n",
              "      <td>19</td>\n",
              "      <td>59</td>\n",
              "      <td>46.0</td>\n",
              "    </tr>\n",
              "    <tr>\n",
              "      <th>4</th>\n",
              "      <td>ESS8e02_2</td>\n",
              "      <td>8</td>\n",
              "      <td>2.2</td>\n",
              "      <td>10.12.2020</td>\n",
              "      <td>10</td>\n",
              "      <td>AT</td>\n",
              "      <td>3.432402</td>\n",
              "      <td>2.246706</td>\n",
              "      <td>0.370393</td>\n",
              "      <td>0.832164</td>\n",
              "      <td>...</td>\n",
              "      <td>12</td>\n",
              "      <td>2016</td>\n",
              "      <td>10</td>\n",
              "      <td>31</td>\n",
              "      <td>1</td>\n",
              "      <td>12</td>\n",
              "      <td>2016</td>\n",
              "      <td>11</td>\n",
              "      <td>49</td>\n",
              "      <td>70.0</td>\n",
              "    </tr>\n",
              "  </tbody>\n",
              "</table>\n",
              "<p>5 rows × 535 columns</p>\n",
              "</div>\n",
              "      <button class=\"colab-df-convert\" onclick=\"convertToInteractive('df-e7a2ae72-3809-421a-853f-b884b811484f')\"\n",
              "              title=\"Convert this dataframe to an interactive table.\"\n",
              "              style=\"display:none;\">\n",
              "        \n",
              "  <svg xmlns=\"http://www.w3.org/2000/svg\" height=\"24px\"viewBox=\"0 0 24 24\"\n",
              "       width=\"24px\">\n",
              "    <path d=\"M0 0h24v24H0V0z\" fill=\"none\"/>\n",
              "    <path d=\"M18.56 5.44l.94 2.06.94-2.06 2.06-.94-2.06-.94-.94-2.06-.94 2.06-2.06.94zm-11 1L8.5 8.5l.94-2.06 2.06-.94-2.06-.94L8.5 2.5l-.94 2.06-2.06.94zm10 10l.94 2.06.94-2.06 2.06-.94-2.06-.94-.94-2.06-.94 2.06-2.06.94z\"/><path d=\"M17.41 7.96l-1.37-1.37c-.4-.4-.92-.59-1.43-.59-.52 0-1.04.2-1.43.59L10.3 9.45l-7.72 7.72c-.78.78-.78 2.05 0 2.83L4 21.41c.39.39.9.59 1.41.59.51 0 1.02-.2 1.41-.59l7.78-7.78 2.81-2.81c.8-.78.8-2.07 0-2.86zM5.41 20L4 18.59l7.72-7.72 1.47 1.35L5.41 20z\"/>\n",
              "  </svg>\n",
              "      </button>\n",
              "      \n",
              "  <style>\n",
              "    .colab-df-container {\n",
              "      display:flex;\n",
              "      flex-wrap:wrap;\n",
              "      gap: 12px;\n",
              "    }\n",
              "\n",
              "    .colab-df-convert {\n",
              "      background-color: #E8F0FE;\n",
              "      border: none;\n",
              "      border-radius: 50%;\n",
              "      cursor: pointer;\n",
              "      display: none;\n",
              "      fill: #1967D2;\n",
              "      height: 32px;\n",
              "      padding: 0 0 0 0;\n",
              "      width: 32px;\n",
              "    }\n",
              "\n",
              "    .colab-df-convert:hover {\n",
              "      background-color: #E2EBFA;\n",
              "      box-shadow: 0px 1px 2px rgba(60, 64, 67, 0.3), 0px 1px 3px 1px rgba(60, 64, 67, 0.15);\n",
              "      fill: #174EA6;\n",
              "    }\n",
              "\n",
              "    [theme=dark] .colab-df-convert {\n",
              "      background-color: #3B4455;\n",
              "      fill: #D2E3FC;\n",
              "    }\n",
              "\n",
              "    [theme=dark] .colab-df-convert:hover {\n",
              "      background-color: #434B5C;\n",
              "      box-shadow: 0px 1px 3px 1px rgba(0, 0, 0, 0.15);\n",
              "      filter: drop-shadow(0px 1px 2px rgba(0, 0, 0, 0.3));\n",
              "      fill: #FFFFFF;\n",
              "    }\n",
              "  </style>\n",
              "\n",
              "      <script>\n",
              "        const buttonEl =\n",
              "          document.querySelector('#df-e7a2ae72-3809-421a-853f-b884b811484f button.colab-df-convert');\n",
              "        buttonEl.style.display =\n",
              "          google.colab.kernel.accessAllowed ? 'block' : 'none';\n",
              "\n",
              "        async function convertToInteractive(key) {\n",
              "          const element = document.querySelector('#df-e7a2ae72-3809-421a-853f-b884b811484f');\n",
              "          const dataTable =\n",
              "            await google.colab.kernel.invokeFunction('convertToInteractive',\n",
              "                                                     [key], {});\n",
              "          if (!dataTable) return;\n",
              "\n",
              "          const docLinkHtml = 'Like what you see? Visit the ' +\n",
              "            '<a target=\"_blank\" href=https://colab.research.google.com/notebooks/data_table.ipynb>data table notebook</a>'\n",
              "            + ' to learn more about interactive tables.';\n",
              "          element.innerHTML = '';\n",
              "          dataTable['output_type'] = 'display_data';\n",
              "          await google.colab.output.renderOutput(dataTable, element);\n",
              "          const docLink = document.createElement('div');\n",
              "          docLink.innerHTML = docLinkHtml;\n",
              "          element.appendChild(docLink);\n",
              "        }\n",
              "      </script>\n",
              "    </div>\n",
              "  </div>\n",
              "  "
            ]
          },
          "metadata": {},
          "execution_count": 4
        }
      ]
    },
    {
      "cell_type": "markdown",
      "source": [
        "In the ESS8 data there are 535 columns, we want to use only few of them, in particular:\n",
        "\n",
        "* `wrclmch`: How worried about climate change? {1\tNot at all worried,\n",
        "2\tNot very worried,\n",
        "3\tSomewhat worried,\n",
        "4\tVery worried,\n",
        "5\tExtremely worried,\n",
        "6\tNot applicable,\n",
        "7\tRefusal,\n",
        "8\tDon't know,\n",
        "9\tNo answer*}\n",
        "\n",
        "\n",
        "* `clmchng` : Do you think world's climate is changing? {1\tDefinitely changing,\n",
        "2\tProbably changing,\n",
        "3\tProbably not changing,\n",
        "4\tDefinitely not changing,\n",
        "7\tRefusal,\n",
        "8\tDon't know,\n",
        "9\tNo answer}\n",
        "\n",
        "* `impenv` : Important to care for nature and environment {1\tVery much like me,\n",
        "2\tLike me,\n",
        "3\tSomewhat like me,\n",
        "4\tA little like me,\n",
        "5\tNot like me,\n",
        "6\tNot like me at all,\n",
        "7\tRefusal,\n",
        "8\tDon't know,\n",
        "9\tNo answer*}\n",
        "\n",
        "* `ccgdbd` : Climate change good or bad impact across world {0\tExtremely bad,\n",
        "1,\t\n",
        "2\t,\n",
        "3\t,\n",
        "4\t,\n",
        "5\t,\n",
        "6\t,\n",
        "7\t,\n",
        "8\t,\n",
        "9\t,\n",
        "10\tExtremely good,\n",
        "66\tNot applicable\n",
        "77\tRefusal\n",
        "88\tDon't know\n",
        "99\tNo answer}\n",
        "\n",
        "\n",
        "* `ccnthum` : Climate change caused by natural processes, human activity, or both? {\n",
        "1\tEntirely by natural processes,\n",
        "2\tMainly by natural processes,\n",
        "3\tAbout equally by natural processes and human activity,\n",
        "4\tMainly by human activity,\n",
        "5\tEntirely by human activity,\n",
        "55\tI don't think climate change is happening,\n",
        "66\tNot applicable,\n",
        "77\tRefusal,\n",
        "88\tDon't know,\n",
        "99\tNo answer}\n",
        "\n",
        "\n",
        "* `lrscale` : In politics people sometimes talk of 'left' and 'right'. Using this card, where would you place yourself on this scale, where 0 means the left and 10 means the right? {0:\tLeft,\n",
        "\t1,\n",
        "\t2,\n",
        "\t3,\n",
        "\t4,\n",
        "\t5,\n",
        "6,\n",
        "\t7,\n",
        "\t8,\n",
        "\t9,\n",
        "10:\tRight,\n",
        "77\tRefusal,\n",
        "88\tDon't know,\n",
        "99\tNo answer}\n",
        "\n",
        "\n",
        "* `eisced`: Highest level of education, ES - ISCED {\n",
        "0\tNot possible to harmonise into ES-ISCED,\n",
        "1\tES-ISCED I , less than lower secondary,\n",
        "2\tES-ISCED II, lower secondary,\n",
        "3\tES-ISCED IIIb, lower tier upper secondary,\n",
        "4\tES-ISCED IIIa, upper tier upper secondary,\n",
        "5\tES-ISCED IV, advanced vocational, sub-degree,\n",
        "6\tES-ISCED V1, lower tertiary education, BA level,\n",
        "7\tES-ISCED V2, higher tertiary education, >= MA level,\n",
        "55\tOther,\n",
        "77\tRefusal,\n",
        "88\tDon't know,\n",
        "99\tNo answer}\n",
        "\n",
        "\n",
        "* `agea` : Age of respondent , calculated\n",
        "\n",
        "\n",
        "* `gndr` : Gender {1\tMale,\n",
        "2\tFemale,\n",
        "9\tNo answer}\n",
        "\n",
        "\n",
        "* `hinctnta` : Household's total net income, all sources {1\tJ - 1st decile,\n",
        "2\tR - 2nd decile,\n",
        "3\tC - 3rd decile,\n",
        "4\tM - 4th decile,\n",
        "5\tF - 5th decile,\n",
        "6\tS - 6th decile,\n",
        "7\tK - 7th decile,\n",
        "8\tP - 8th decile,\n",
        "9\tD - 9th decile,\n",
        "10\tH - 10th decile,\n",
        "77\tRefusal,\n",
        "88\tDon't know,\n",
        "99\tNo answer}\n",
        "\n",
        "\n",
        "* `cntry` : Country {AT\tAustria,\n",
        "BE\tBelgium,\n",
        "BG\tBulgaria,\n",
        "CH\tSwitzerland,\n",
        "CY\tCyprus,\n",
        "CZ\tCzechia,\n",
        "DE\tGermany,\n",
        "DK\tDenmark,\n",
        "EE\tEstonia,\n",
        "ES\tSpain,\n",
        "FI\tFinland,\n",
        "FR\tFrance,\n",
        "GB\tUnited Kingdom,\n",
        "HR\tCroatia,\n",
        "HU\tHungary,\n",
        "IE\tIreland,\n",
        "IS\tIceland,\n",
        "IT\tItaly,\n",
        "LT\tLithuania,\n",
        "LV\tLatvia,\n",
        "ME\tMontenegro,\n",
        "NL\tNetherlands,\n",
        "NO\tNorway,\n",
        "PL\tPoland,\n",
        "PT\tPortugal,\n",
        "RS\tSerbia,\n",
        "SE\tSweden,\n",
        "SI\tSlovenia,\n",
        "SK\tSlovakia}\n",
        "\n",
        "* `inctxff` : Favour increase taxes on fossil fuels to reduce climate change {1\tStrongly in favour,\n",
        "2\tSomewhat in favour,\n",
        "3\tNeither in favour nor against,\n",
        "4\tSomewhat against,\n",
        "5\tStrongly against,\n",
        "7\tRefusal,\n",
        "8\tDon't know,\n",
        "9\tNo answer}\n",
        "\n",
        "\n",
        "* `rdcenr` : How often do things to reduce energy use {1\tNever,\n",
        "2\tHardly ever,\n",
        "3\tSometimes,\n",
        "4\tOften,\n",
        "5\tVery often,\n",
        "6\tAlways,\n",
        "55\tCannot reduce energy use,\n",
        "77\tRefusal,\n",
        "88\tDon't know,\n",
        "99\tNo answer}\n",
        "\n",
        "\n",
        "* `anweight` : The Analysis weight computed directly from the European Social Survey"
      ],
      "metadata": {
        "id": "WLBapM-msf3C"
      }
    },
    {
      "cell_type": "markdown",
      "source": [
        "# Features Engeneering"
      ],
      "metadata": {
        "id": "HdCEZVgImAv6"
      }
    },
    {
      "cell_type": "code",
      "source": [
        "Selected_columns=['anweight','cntry','hinctnta', 'gndr', 'agea','inctxff','rdcenr','eisced','lrscale','ccnthum','clmchng','impenv','ccgdbd','wrclmch']"
      ],
      "metadata": {
        "id": "oYD4PrebsnET"
      },
      "execution_count": 5,
      "outputs": []
    },
    {
      "cell_type": "code",
      "source": [
        "d=df[Selected_columns]"
      ],
      "metadata": {
        "id": "n5KeQJXHu5Vm"
      },
      "execution_count": 6,
      "outputs": []
    },
    {
      "cell_type": "code",
      "source": [
        "msno.bar(d, color='orange')"
      ],
      "metadata": {
        "colab": {
          "base_uri": "https://localhost:8080/",
          "height": 715
        },
        "id": "425t19datfsd",
        "outputId": "2da02f16-3995-436d-b035-ffe26c269be4"
      },
      "execution_count": 7,
      "outputs": [
        {
          "output_type": "execute_result",
          "data": {
            "text/plain": [
              "<matplotlib.axes._subplots.AxesSubplot at 0x7f4a100e2400>"
            ]
          },
          "metadata": {},
          "execution_count": 7
        },
        {
          "output_type": "display_data",
          "data": {
            "text/plain": [
              "<Figure size 1800x720 with 3 Axes>"
            ],
            "image/png": "[encoded data removed]"
          },
          "metadata": {
            "needs_background": "light"
          }
        }
      ]
    },
    {
      "cell_type": "code",
      "source": [
        "d.dropna(inplace=True)"
      ],
      "metadata": {
        "colab": {
          "base_uri": "https://localhost:8080/"
        },
        "id": "w6k6OezR4STW",
        "outputId": "a9875653-05a6-4de8-c25f-f4687edcaa3e"
      },
      "execution_count": 8,
      "outputs": [
        {
          "output_type": "stream",
          "name": "stderr",
          "text": [
            "/usr/local/lib/python3.8/dist-packages/pandas/util/_decorators.py:311: SettingWithCopyWarning: \n",
            "A value is trying to be set on a copy of a slice from a DataFrame\n",
            "\n",
            "See the caveats in the documentation: https://pandas.pydata.org/pandas-docs/stable/user_guide/indexing.html#returning-a-view-versus-a-copy\n",
            "  return func(*args, **kwargs)\n"
          ]
        }
      ]
    },
    {
      "cell_type": "code",
      "source": [
        "d.cntry.value_counts()"
      ],
      "metadata": {
        "colab": {
          "base_uri": "https://localhost:8080/"
        },
        "id": "guJxfap570rY",
        "outputId": "e2631161-9724-4352-ce8b-de683a9d61d2"
      },
      "execution_count": null,
      "outputs": [
        {
          "output_type": "execute_result",
          "data": {
            "text/plain": [
              "DE    2852\n",
              "IE    2757\n",
              "IT    2626\n",
              "IL    2557\n",
              "RU    2430\n",
              "CZ    2269\n",
              "LT    2122\n",
              "FR    2070\n",
              "EE    2019\n",
              "AT    2010\n",
              "GB    1959\n",
              "ES    1958\n",
              "FI    1925\n",
              "BE    1766\n",
              "PL    1694\n",
              "NL    1681\n",
              "HU    1614\n",
              "SE    1551\n",
              "NO    1545\n",
              "CH    1525\n",
              "SI    1307\n",
              "PT    1270\n",
              "IS     880\n",
              "Name: cntry, dtype: int64"
            ]
          },
          "metadata": {},
          "execution_count": 383
        }
      ]
    },
    {
      "cell_type": "code",
      "source": [
        "d.hinctnta.value_counts()"
      ],
      "metadata": {
        "colab": {
          "base_uri": "https://localhost:8080/"
        },
        "id": "I0F1GTre4Xx3",
        "outputId": "8544c42b-935c-4c1a-d136-2f61d05b017d"
      },
      "execution_count": null,
      "outputs": [
        {
          "output_type": "execute_result",
          "data": {
            "text/plain": [
              "77    4990\n",
              "3     4136\n",
              "2     4021\n",
              "4     4017\n",
              "5     3958\n",
              "7     3918\n",
              "6     3851\n",
              "8     3686\n",
              "1     3678\n",
              "88    2902\n",
              "9     2684\n",
              "10    2496\n",
              "99      50\n",
              "Name: hinctnta, dtype: int64"
            ]
          },
          "metadata": {},
          "execution_count": 384
        }
      ]
    },
    {
      "cell_type": "code",
      "source": [
        "d.gndr.value_counts()"
      ],
      "metadata": {
        "colab": {
          "base_uri": "https://localhost:8080/"
        },
        "id": "zgb1YSjK4Axq",
        "outputId": "0f67a150-fa18-42cf-e07f-af0043e0d642"
      },
      "execution_count": null,
      "outputs": [
        {
          "output_type": "execute_result",
          "data": {
            "text/plain": [
              "2    23351\n",
              "1    21027\n",
              "9        9\n",
              "Name: gndr, dtype: int64"
            ]
          },
          "metadata": {},
          "execution_count": 385
        }
      ]
    },
    {
      "cell_type": "code",
      "source": [
        "d.agea.value_counts()"
      ],
      "metadata": {
        "colab": {
          "base_uri": "https://localhost:8080/"
        },
        "id": "knnJiRWS39Cq",
        "outputId": "0e1411c3-656f-4ec8-e9a0-ab0728ebbb97"
      },
      "execution_count": null,
      "outputs": [
        {
          "output_type": "execute_result",
          "data": {
            "text/plain": [
              "60     821\n",
              "51     820\n",
              "59     806\n",
              "65     794\n",
              "52     793\n",
              "      ... \n",
              "96       5\n",
              "99       3\n",
              "98       3\n",
              "97       3\n",
              "100      1\n",
              "Name: agea, Length: 87, dtype: int64"
            ]
          },
          "metadata": {},
          "execution_count": 386
        }
      ]
    },
    {
      "cell_type": "code",
      "source": [
        "d.eisced.value_counts()"
      ],
      "metadata": {
        "colab": {
          "base_uri": "https://localhost:8080/"
        },
        "id": "-yTypy8H4M4p",
        "outputId": "5ccf7250-b945-453f-c06c-4dcc4527fa21"
      },
      "execution_count": null,
      "outputs": [
        {
          "output_type": "execute_result",
          "data": {
            "text/plain": [
              "4     8720\n",
              "2     7388\n",
              "3     7153\n",
              "5     6275\n",
              "7     6013\n",
              "6     4760\n",
              "1     3861\n",
              "55      88\n",
              "77      82\n",
              "88      39\n",
              "99       8\n",
              "Name: eisced, dtype: int64"
            ]
          },
          "metadata": {},
          "execution_count": 387
        }
      ]
    },
    {
      "cell_type": "code",
      "source": [
        "d.lrscale.value_counts()"
      ],
      "metadata": {
        "colab": {
          "base_uri": "https://localhost:8080/"
        },
        "id": "qTpZDL0k32EA",
        "outputId": "9f2a92b6-cd97-46c6-b2af-d05d70a960f2"
      },
      "execution_count": null,
      "outputs": [
        {
          "output_type": "execute_result",
          "data": {
            "text/plain": [
              "5     12389\n",
              "88     4305\n",
              "7      4269\n",
              "6      4105\n",
              "4      3780\n",
              "3      3754\n",
              "8      3265\n",
              "2      2121\n",
              "10     1592\n",
              "77     1487\n",
              "0      1463\n",
              "9       999\n",
              "1       846\n",
              "99       12\n",
              "Name: lrscale, dtype: int64"
            ]
          },
          "metadata": {},
          "execution_count": 388
        }
      ]
    },
    {
      "cell_type": "code",
      "source": [
        "d.wrclmch.value_counts()"
      ],
      "metadata": {
        "colab": {
          "base_uri": "https://localhost:8080/"
        },
        "id": "qlOKuLLC389r",
        "outputId": "9a3eaa00-b9bd-4786-f9f1-a2e44c2b4d26"
      },
      "execution_count": null,
      "outputs": [
        {
          "output_type": "execute_result",
          "data": {
            "text/plain": [
              "3    19729\n",
              "4     9649\n",
              "2     8493\n",
              "1     2590\n",
              "5     2193\n",
              "6     1317\n",
              "8      364\n",
              "7       29\n",
              "9       23\n",
              "Name: wrclmch, dtype: int64"
            ]
          },
          "metadata": {},
          "execution_count": 389
        }
      ]
    },
    {
      "cell_type": "code",
      "source": [
        "d.inctxff.value_counts()"
      ],
      "metadata": {
        "colab": {
          "base_uri": "https://localhost:8080/"
        },
        "id": "TZUq8ew_hgqy",
        "outputId": "4f2e681a-2111-41f1-9c64-4ee652b133bd"
      },
      "execution_count": null,
      "outputs": [
        {
          "output_type": "execute_result",
          "data": {
            "text/plain": [
              "4    10766\n",
              "2    10559\n",
              "3     9714\n",
              "5     8034\n",
              "1     3328\n",
              "8     1870\n",
              "7      112\n",
              "9        4\n",
              "Name: inctxff, dtype: int64"
            ]
          },
          "metadata": {},
          "execution_count": 390
        }
      ]
    },
    {
      "cell_type": "code",
      "source": [
        "d.rdcenr.value_counts()"
      ],
      "metadata": {
        "colab": {
          "base_uri": "https://localhost:8080/"
        },
        "id": "xsKMTLKOhgvE",
        "outputId": "43ceee55-0423-48e4-f987-3d3015db7879"
      },
      "execution_count": null,
      "outputs": [
        {
          "output_type": "execute_result",
          "data": {
            "text/plain": [
              "4     13186\n",
              "5     10920\n",
              "3      9764\n",
              "6      6598\n",
              "2      2337\n",
              "1      1031\n",
              "88      285\n",
              "55      233\n",
              "77       24\n",
              "99        9\n",
              "Name: rdcenr, dtype: int64"
            ]
          },
          "metadata": {},
          "execution_count": 391
        }
      ]
    },
    {
      "cell_type": "code",
      "source": [
        "d.anweight.value_counts()"
      ],
      "metadata": {
        "colab": {
          "base_uri": "https://localhost:8080/"
        },
        "id": "cIe3WqK97VWA",
        "outputId": "1b9998b9-4ab3-4b60-8456-44d0a83b66b4"
      },
      "execution_count": null,
      "outputs": [
        {
          "output_type": "execute_result",
          "data": {
            "text/plain": [
              "0.123189    178\n",
              "0.143850    172\n",
              "0.117111    170\n",
              "0.065006    130\n",
              "0.090705    123\n",
              "           ... \n",
              "2.011126      1\n",
              "1.913886      1\n",
              "2.074527      1\n",
              "1.706736      1\n",
              "0.134491      1\n",
              "Name: anweight, Length: 15811, dtype: int64"
            ]
          },
          "metadata": {},
          "execution_count": 392
        }
      ]
    },
    {
      "cell_type": "code",
      "source": [
        "d.clmchng.value_counts()"
      ],
      "metadata": {
        "id": "M12HD_G-Q1an",
        "outputId": "7d54c36a-1e00-4f9d-817d-488c55cf64b6",
        "colab": {
          "base_uri": "https://localhost:8080/"
        }
      },
      "execution_count": null,
      "outputs": [
        {
          "output_type": "execute_result",
          "data": {
            "text/plain": [
              "1    24585\n",
              "2    15764\n",
              "3     1962\n",
              "8     1057\n",
              "4      978\n",
              "7       38\n",
              "9        3\n",
              "Name: clmchng, dtype: int64"
            ]
          },
          "metadata": {},
          "execution_count": 393
        }
      ]
    },
    {
      "cell_type": "code",
      "source": [
        "d.impenv.value_counts()"
      ],
      "metadata": {
        "id": "zATmu8s4SPPa",
        "outputId": "d1d943b4-0e1c-4b99-d219-9e454c8fee12",
        "colab": {
          "base_uri": "https://localhost:8080/"
        }
      },
      "execution_count": null,
      "outputs": [
        {
          "output_type": "execute_result",
          "data": {
            "text/plain": [
              "2    17116\n",
              "1    12637\n",
              "3     9012\n",
              "4     3538\n",
              "5     1107\n",
              "8      337\n",
              "7      231\n",
              "6      218\n",
              "9      191\n",
              "Name: impenv, dtype: int64"
            ]
          },
          "metadata": {},
          "execution_count": 394
        }
      ]
    },
    {
      "cell_type": "code",
      "source": [
        "d.ccgdbd.value_counts()"
      ],
      "metadata": {
        "id": "YrhknLVmVVbN",
        "outputId": "d6d84fdd-40a7-4707-c2e5-4153d0ef19ef",
        "colab": {
          "base_uri": "https://localhost:8080/"
        }
      },
      "execution_count": null,
      "outputs": [
        {
          "output_type": "execute_result",
          "data": {
            "text/plain": [
              "3     7884\n",
              "2     6847\n",
              "5     6600\n",
              "0     5459\n",
              "4     5184\n",
              "1     3606\n",
              "6     2183\n",
              "7     1810\n",
              "88    1769\n",
              "66    1317\n",
              "8     1094\n",
              "10     305\n",
              "9      260\n",
              "77      50\n",
              "99      19\n",
              "Name: ccgdbd, dtype: int64"
            ]
          },
          "metadata": {},
          "execution_count": 395
        }
      ]
    },
    {
      "cell_type": "markdown",
      "source": [
        "# Clean the dataset"
      ],
      "metadata": {
        "id": "BhwGZuL9lujd"
      }
    },
    {
      "cell_type": "code",
      "source": [
        "from sklearn.preprocessing import Normalizer, StandardScaler"
      ],
      "metadata": {
        "id": "eS2ExQegRYuc"
      },
      "execution_count": 9,
      "outputs": []
    },
    {
      "cell_type": "code",
      "source": [
        "cleanup = {\"hinctnta\":     {77: np.nan ,88: np.nan, 99: np.nan},\n",
        "           \"lrscale\":      {77: np.nan ,88: np.nan, 99: np.nan},\n",
        "           #1.0:0, 2.0:0, 3.0:1, 4.0:1, 5.0:1\n",
        "           \"ccnthum\":      {1.0:1, 2.0:1, 3.0:2, 4.0:2, 5.0:2,66:np.nan, 77: np.nan ,88: np.nan, 99: np.nan, 55:np.nan},\n",
        "           \"eisced\":       {77: np.nan ,88: np.nan, 99: np.nan, 55:np.nan},\n",
        "           \"gndr\":       {2: 0, 9:np.nan},\n",
        "           #\"cntry\": {'BG':1, 'FR': 2, 'CZ':3, 'FI': 4, 'EE':5, 'HU': 6, 'LT':7, 'HR': 8, 'SI':9, 'SK': 10 },\n",
        "           \"wrclmch\": {1:1,2:1,3:1,4:0,5:0, 6: np.nan ,7: np.nan, 8: np.nan, 9:np.nan},\n",
        "           \"rdcenr\": {55: np.nan ,77: np.nan ,88: np.nan, 99: np.nan},\n",
        "           \"inctxff\": {7: np.nan ,8: np.nan, 9: np.nan},\n",
        "           \"clmchng\": {7: np.nan ,8: np.nan, 9: np.nan},\n",
        "           \"impenv\": {1:1, 2:1, 3:2, 4:2, 5:3, 6:3, 7: np.nan ,8: np.nan, 9: np.nan},\n",
        "           \"ccgdbd\": {66: np.nan ,77: np.nan ,88: np.nan, 99: np.nan}\n",
        "           }"
      ],
      "metadata": {
        "id": "16pbhYOT5pki"
      },
      "execution_count": 10,
      "outputs": []
    },
    {
      "cell_type": "code",
      "source": [
        "d = d.replace(cleanup)"
      ],
      "metadata": {
        "id": "R_r2M57M59ss"
      },
      "execution_count": 11,
      "outputs": []
    },
    {
      "cell_type": "code",
      "source": [
        "d.dropna(inplace=True)"
      ],
      "metadata": {
        "id": "SmAmQ8bP6DeO"
      },
      "execution_count": 12,
      "outputs": []
    },
    {
      "cell_type": "code",
      "source": [
        "d['wrclmch'] = d['wrclmch'].astype(int)\n",
        "d['ccnthum'] = d['ccnthum'].astype(int)"
      ],
      "metadata": {
        "id": "5SEZ3E5iMJNB"
      },
      "execution_count": 13,
      "outputs": []
    },
    {
      "cell_type": "code",
      "source": [
        "d.ccnthum.value_counts() # 1 natural reason, 2 human"
      ],
      "metadata": {
        "colab": {
          "base_uri": "https://localhost:8080/"
        },
        "id": "RSveXsgGElLG",
        "outputId": "e55f8ad2-748d-4d9d-86cc-1a3d5eaa27ca"
      },
      "execution_count": 14,
      "outputs": [
        {
          "output_type": "execute_result",
          "data": {
            "text/plain": [
              "2    27080\n",
              "1     2428\n",
              "Name: ccnthum, dtype: int64"
            ]
          },
          "metadata": {},
          "execution_count": 14
        }
      ]
    },
    {
      "cell_type": "code",
      "source": [
        "d.wrclmch.value_counts() # 1 not worried , 0 worried"
      ],
      "metadata": {
        "colab": {
          "base_uri": "https://localhost:8080/"
        },
        "id": "r52Ncu7_gaad",
        "outputId": "263244bd-0363-46e2-9629-b74442f336df"
      },
      "execution_count": 15,
      "outputs": [
        {
          "output_type": "execute_result",
          "data": {
            "text/plain": [
              "1    20719\n",
              "0     8789\n",
              "Name: wrclmch, dtype: int64"
            ]
          },
          "metadata": {},
          "execution_count": 15
        }
      ]
    },
    {
      "cell_type": "code",
      "source": [
        "d['cntry']= d['cntry'].astype('category')"
      ],
      "metadata": {
        "id": "lyYa4HkL86MQ"
      },
      "execution_count": 16,
      "outputs": []
    },
    {
      "cell_type": "code",
      "source": [
        "d['cntry'] = d['cntry'].map({'DE': 'W', 'IE': 'W', 'IT': 'S', 'IL': np.nan, 'RU': 'CE', 'CZ': 'CE', 'LT': 'CE', 'FR': 'W', 'EE': 'CE', 'AT': 'W', \n",
        "                                                'GB': 'W', 'ES': 'S', 'FI': 'N', 'BE': 'W', 'PL': 'CE', 'NL': 'W', 'HU': 'CE', 'SE': 'N', 'NO': 'N', 'CH': 'W',\n",
        "                                                'SI': 'CE', 'PT': 'S', 'IS': 'N'})\n"
      ],
      "metadata": {
        "id": "OE-FaVK04kUs"
      },
      "execution_count": 17,
      "outputs": []
    },
    {
      "cell_type": "code",
      "source": [
        "d.cntry = pd.Categorical(d.cntry)\n",
        "d['cntry'] = d.cntry.cat.codes"
      ],
      "metadata": {
        "id": "Ehq4asId_8Zv"
      },
      "execution_count": 18,
      "outputs": []
    },
    {
      "cell_type": "code",
      "source": [
        "cols_to_norm = ['hinctnta',  'agea',\n",
        "       'eisced', 'lrscale','rdcenr','inctxff','ccgdbd']"
      ],
      "metadata": {
        "id": "Aa8aEEcnRBfn"
      },
      "execution_count": 19,
      "outputs": []
    },
    {
      "cell_type": "code",
      "source": [
        "d[cols_to_norm]=StandardScaler().fit_transform(d[cols_to_norm])"
      ],
      "metadata": {
        "id": "ev8NJP8URRXi"
      },
      "execution_count": 20,
      "outputs": []
    },
    {
      "cell_type": "code",
      "source": [
        "d"
      ],
      "metadata": {
        "colab": {
          "base_uri": "https://localhost:8080/",
          "height": 423
        },
        "id": "U8vTCfbb60Ay",
        "outputId": "7ec002f7-023e-4f9a-dabf-f08cc54dfcea"
      },
      "execution_count": 21,
      "outputs": [
        {
          "output_type": "execute_result",
          "data": {
            "text/plain": [
              "       anweight  cntry  hinctnta  gndr      agea   inctxff    rdcenr  \\\n",
              "1      0.333158      3 -0.144276   1.0  0.041299 -1.739640  0.680952   \n",
              "2      0.116953      3 -1.250742   0.0  0.508743  0.690799 -0.183137   \n",
              "3      0.174999      3 -0.513098   1.0  0.099730 -0.119347 -0.183137   \n",
              "4      0.832164      3 -1.250742   0.0 -0.893589 -0.119347  1.545041   \n",
              "5      0.374608      3  1.699832   0.0  0.421098  0.690799 -0.183137   \n",
              "...         ...    ...       ...   ...       ...       ...       ...   \n",
              "44378  0.125447      0 -0.513098   1.0  0.450313 -0.119347  0.680952   \n",
              "44379  0.101995      0  0.962189   1.0 -0.805944  1.500945 -0.183137   \n",
              "44382  0.112359      0 -0.513098   0.0  0.421098 -0.119347  0.680952   \n",
              "44384  0.115147      0  0.593367   1.0  0.362667 -1.739640  1.545041   \n",
              "44385  0.101719      0  1.699832   0.0 -0.163208 -0.929494 -0.183137   \n",
              "\n",
              "         eisced   lrscale  ccnthum  clmchng  impenv    ccgdbd  wrclmch  \n",
              "1     -0.088669 -1.850830        2      1.0     1.0 -0.574801        0  \n",
              "2     -0.632173 -0.037607        2      1.0     1.0 -0.574801        0  \n",
              "3     -0.632173 -2.304136        2      2.0     2.0  1.733225        1  \n",
              "4     -0.632173 -0.037607        2      1.0     1.0  0.810015        0  \n",
              "5     -0.088669 -0.037607        2      2.0     1.0  0.810015        1  \n",
              "...         ...       ...      ...      ...     ...       ...      ...  \n",
              "44378 -0.632173 -0.037607        2      1.0     1.0 -0.574801        0  \n",
              "44379 -0.088669 -0.037607        2      1.0     1.0  0.810015        1  \n",
              "44382 -0.088669 -1.850830        2      1.0     1.0  0.810015        1  \n",
              "44384  0.998341 -2.304136        2      1.0     1.0 -1.036406        0  \n",
              "44385  1.541845 -0.490912        2      1.0     1.0  0.348410        1  \n",
              "\n",
              "[29508 rows x 14 columns]"
            ],
            "text/html": [
              "\n",
              "  <div id=\"df-3a755722-66e4-46d5-8ae4-f5b7abdc4e9a\">\n",
              "    <div class=\"colab-df-container\">\n",
              "      <div>\n",
              "<style scoped>\n",
              "    .dataframe tbody tr th:only-of-type {\n",
              "        vertical-align: middle;\n",
              "    }\n",
              "\n",
              "    .dataframe tbody tr th {\n",
              "        vertical-align: top;\n",
              "    }\n",
              "\n",
              "    .dataframe thead th {\n",
              "        text-align: right;\n",
              "    }\n",
              "</style>\n",
              "<table border=\"1\" class=\"dataframe\">\n",
              "  <thead>\n",
              "    <tr style=\"text-align: right;\">\n",
              "      <th></th>\n",
              "      <th>anweight</th>\n",
              "      <th>cntry</th>\n",
              "      <th>hinctnta</th>\n",
              "      <th>gndr</th>\n",
              "      <th>agea</th>\n",
              "      <th>inctxff</th>\n",
              "      <th>rdcenr</th>\n",
              "      <th>eisced</th>\n",
              "      <th>lrscale</th>\n",
              "      <th>ccnthum</th>\n",
              "      <th>clmchng</th>\n",
              "      <th>impenv</th>\n",
              "      <th>ccgdbd</th>\n",
              "      <th>wrclmch</th>\n",
              "    </tr>\n",
              "  </thead>\n",
              "  <tbody>\n",
              "    <tr>\n",
              "      <th>1</th>\n",
              "      <td>0.333158</td>\n",
              "      <td>3</td>\n",
              "      <td>-0.144276</td>\n",
              "      <td>1.0</td>\n",
              "      <td>0.041299</td>\n",
              "      <td>-1.739640</td>\n",
              "      <td>0.680952</td>\n",
              "      <td>-0.088669</td>\n",
              "      <td>-1.850830</td>\n",
              "      <td>2</td>\n",
              "      <td>1.0</td>\n",
              "      <td>1.0</td>\n",
              "      <td>-0.574801</td>\n",
              "      <td>0</td>\n",
              "    </tr>\n",
              "    <tr>\n",
              "      <th>2</th>\n",
              "      <td>0.116953</td>\n",
              "      <td>3</td>\n",
              "      <td>-1.250742</td>\n",
              "      <td>0.0</td>\n",
              "      <td>0.508743</td>\n",
              "      <td>0.690799</td>\n",
              "      <td>-0.183137</td>\n",
              "      <td>-0.632173</td>\n",
              "      <td>-0.037607</td>\n",
              "      <td>2</td>\n",
              "      <td>1.0</td>\n",
              "      <td>1.0</td>\n",
              "      <td>-0.574801</td>\n",
              "      <td>0</td>\n",
              "    </tr>\n",
              "    <tr>\n",
              "      <th>3</th>\n",
              "      <td>0.174999</td>\n",
              "      <td>3</td>\n",
              "      <td>-0.513098</td>\n",
              "      <td>1.0</td>\n",
              "      <td>0.099730</td>\n",
              "      <td>-0.119347</td>\n",
              "      <td>-0.183137</td>\n",
              "      <td>-0.632173</td>\n",
              "      <td>-2.304136</td>\n",
              "      <td>2</td>\n",
              "      <td>2.0</td>\n",
              "      <td>2.0</td>\n",
              "      <td>1.733225</td>\n",
              "      <td>1</td>\n",
              "    </tr>\n",
              "    <tr>\n",
              "      <th>4</th>\n",
              "      <td>0.832164</td>\n",
              "      <td>3</td>\n",
              "      <td>-1.250742</td>\n",
              "      <td>0.0</td>\n",
              "      <td>-0.893589</td>\n",
              "      <td>-0.119347</td>\n",
              "      <td>1.545041</td>\n",
              "      <td>-0.632173</td>\n",
              "      <td>-0.037607</td>\n",
              "      <td>2</td>\n",
              "      <td>1.0</td>\n",
              "      <td>1.0</td>\n",
              "      <td>0.810015</td>\n",
              "      <td>0</td>\n",
              "    </tr>\n",
              "    <tr>\n",
              "      <th>5</th>\n",
              "      <td>0.374608</td>\n",
              "      <td>3</td>\n",
              "      <td>1.699832</td>\n",
              "      <td>0.0</td>\n",
              "      <td>0.421098</td>\n",
              "      <td>0.690799</td>\n",
              "      <td>-0.183137</td>\n",
              "      <td>-0.088669</td>\n",
              "      <td>-0.037607</td>\n",
              "      <td>2</td>\n",
              "      <td>2.0</td>\n",
              "      <td>1.0</td>\n",
              "      <td>0.810015</td>\n",
              "      <td>1</td>\n",
              "    </tr>\n",
              "    <tr>\n",
              "      <th>...</th>\n",
              "      <td>...</td>\n",
              "      <td>...</td>\n",
              "      <td>...</td>\n",
              "      <td>...</td>\n",
              "      <td>...</td>\n",
              "      <td>...</td>\n",
              "      <td>...</td>\n",
              "      <td>...</td>\n",
              "      <td>...</td>\n",
              "      <td>...</td>\n",
              "      <td>...</td>\n",
              "      <td>...</td>\n",
              "      <td>...</td>\n",
              "      <td>...</td>\n",
              "    </tr>\n",
              "    <tr>\n",
              "      <th>44378</th>\n",
              "      <td>0.125447</td>\n",
              "      <td>0</td>\n",
              "      <td>-0.513098</td>\n",
              "      <td>1.0</td>\n",
              "      <td>0.450313</td>\n",
              "      <td>-0.119347</td>\n",
              "      <td>0.680952</td>\n",
              "      <td>-0.632173</td>\n",
              "      <td>-0.037607</td>\n",
              "      <td>2</td>\n",
              "      <td>1.0</td>\n",
              "      <td>1.0</td>\n",
              "      <td>-0.574801</td>\n",
              "      <td>0</td>\n",
              "    </tr>\n",
              "    <tr>\n",
              "      <th>44379</th>\n",
              "      <td>0.101995</td>\n",
              "      <td>0</td>\n",
              "      <td>0.962189</td>\n",
              "      <td>1.0</td>\n",
              "      <td>-0.805944</td>\n",
              "      <td>1.500945</td>\n",
              "      <td>-0.183137</td>\n",
              "      <td>-0.088669</td>\n",
              "      <td>-0.037607</td>\n",
              "      <td>2</td>\n",
              "      <td>1.0</td>\n",
              "      <td>1.0</td>\n",
              "      <td>0.810015</td>\n",
              "      <td>1</td>\n",
              "    </tr>\n",
              "    <tr>\n",
              "      <th>44382</th>\n",
              "      <td>0.112359</td>\n",
              "      <td>0</td>\n",
              "      <td>-0.513098</td>\n",
              "      <td>0.0</td>\n",
              "      <td>0.421098</td>\n",
              "      <td>-0.119347</td>\n",
              "      <td>0.680952</td>\n",
              "      <td>-0.088669</td>\n",
              "      <td>-1.850830</td>\n",
              "      <td>2</td>\n",
              "      <td>1.0</td>\n",
              "      <td>1.0</td>\n",
              "      <td>0.810015</td>\n",
              "      <td>1</td>\n",
              "    </tr>\n",
              "    <tr>\n",
              "      <th>44384</th>\n",
              "      <td>0.115147</td>\n",
              "      <td>0</td>\n",
              "      <td>0.593367</td>\n",
              "      <td>1.0</td>\n",
              "      <td>0.362667</td>\n",
              "      <td>-1.739640</td>\n",
              "      <td>1.545041</td>\n",
              "      <td>0.998341</td>\n",
              "      <td>-2.304136</td>\n",
              "      <td>2</td>\n",
              "      <td>1.0</td>\n",
              "      <td>1.0</td>\n",
              "      <td>-1.036406</td>\n",
              "      <td>0</td>\n",
              "    </tr>\n",
              "    <tr>\n",
              "      <th>44385</th>\n",
              "      <td>0.101719</td>\n",
              "      <td>0</td>\n",
              "      <td>1.699832</td>\n",
              "      <td>0.0</td>\n",
              "      <td>-0.163208</td>\n",
              "      <td>-0.929494</td>\n",
              "      <td>-0.183137</td>\n",
              "      <td>1.541845</td>\n",
              "      <td>-0.490912</td>\n",
              "      <td>2</td>\n",
              "      <td>1.0</td>\n",
              "      <td>1.0</td>\n",
              "      <td>0.348410</td>\n",
              "      <td>1</td>\n",
              "    </tr>\n",
              "  </tbody>\n",
              "</table>\n",
              "<p>29508 rows × 14 columns</p>\n",
              "</div>\n",
              "      <button class=\"colab-df-convert\" onclick=\"convertToInteractive('df-3a755722-66e4-46d5-8ae4-f5b7abdc4e9a')\"\n",
              "              title=\"Convert this dataframe to an interactive table.\"\n",
              "              style=\"display:none;\">\n",
              "        \n",
              "  <svg xmlns=\"http://www.w3.org/2000/svg\" height=\"24px\"viewBox=\"0 0 24 24\"\n",
              "       width=\"24px\">\n",
              "    <path d=\"M0 0h24v24H0V0z\" fill=\"none\"/>\n",
              "    <path d=\"M18.56 5.44l.94 2.06.94-2.06 2.06-.94-2.06-.94-.94-2.06-.94 2.06-2.06.94zm-11 1L8.5 8.5l.94-2.06 2.06-.94-2.06-.94L8.5 2.5l-.94 2.06-2.06.94zm10 10l.94 2.06.94-2.06 2.06-.94-2.06-.94-.94-2.06-.94 2.06-2.06.94z\"/><path d=\"M17.41 7.96l-1.37-1.37c-.4-.4-.92-.59-1.43-.59-.52 0-1.04.2-1.43.59L10.3 9.45l-7.72 7.72c-.78.78-.78 2.05 0 2.83L4 21.41c.39.39.9.59 1.41.59.51 0 1.02-.2 1.41-.59l7.78-7.78 2.81-2.81c.8-.78.8-2.07 0-2.86zM5.41 20L4 18.59l7.72-7.72 1.47 1.35L5.41 20z\"/>\n",
              "  </svg>\n",
              "      </button>\n",
              "      \n",
              "  <style>\n",
              "    .colab-df-container {\n",
              "      display:flex;\n",
              "      flex-wrap:wrap;\n",
              "      gap: 12px;\n",
              "    }\n",
              "\n",
              "    .colab-df-convert {\n",
              "      background-color: #E8F0FE;\n",
              "      border: none;\n",
              "      border-radius: 50%;\n",
              "      cursor: pointer;\n",
              "      display: none;\n",
              "      fill: #1967D2;\n",
              "      height: 32px;\n",
              "      padding: 0 0 0 0;\n",
              "      width: 32px;\n",
              "    }\n",
              "\n",
              "    .colab-df-convert:hover {\n",
              "      background-color: #E2EBFA;\n",
              "      box-shadow: 0px 1px 2px rgba(60, 64, 67, 0.3), 0px 1px 3px 1px rgba(60, 64, 67, 0.15);\n",
              "      fill: #174EA6;\n",
              "    }\n",
              "\n",
              "    [theme=dark] .colab-df-convert {\n",
              "      background-color: #3B4455;\n",
              "      fill: #D2E3FC;\n",
              "    }\n",
              "\n",
              "    [theme=dark] .colab-df-convert:hover {\n",
              "      background-color: #434B5C;\n",
              "      box-shadow: 0px 1px 3px 1px rgba(0, 0, 0, 0.15);\n",
              "      filter: drop-shadow(0px 1px 2px rgba(0, 0, 0, 0.3));\n",
              "      fill: #FFFFFF;\n",
              "    }\n",
              "  </style>\n",
              "\n",
              "      <script>\n",
              "        const buttonEl =\n",
              "          document.querySelector('#df-3a755722-66e4-46d5-8ae4-f5b7abdc4e9a button.colab-df-convert');\n",
              "        buttonEl.style.display =\n",
              "          google.colab.kernel.accessAllowed ? 'block' : 'none';\n",
              "\n",
              "        async function convertToInteractive(key) {\n",
              "          const element = document.querySelector('#df-3a755722-66e4-46d5-8ae4-f5b7abdc4e9a');\n",
              "          const dataTable =\n",
              "            await google.colab.kernel.invokeFunction('convertToInteractive',\n",
              "                                                     [key], {});\n",
              "          if (!dataTable) return;\n",
              "\n",
              "          const docLinkHtml = 'Like what you see? Visit the ' +\n",
              "            '<a target=\"_blank\" href=https://colab.research.google.com/notebooks/data_table.ipynb>data table notebook</a>'\n",
              "            + ' to learn more about interactive tables.';\n",
              "          element.innerHTML = '';\n",
              "          dataTable['output_type'] = 'display_data';\n",
              "          await google.colab.output.renderOutput(dataTable, element);\n",
              "          const docLink = document.createElement('div');\n",
              "          docLink.innerHTML = docLinkHtml;\n",
              "          element.appendChild(docLink);\n",
              "        }\n",
              "      </script>\n",
              "    </div>\n",
              "  </div>\n",
              "  "
            ]
          },
          "metadata": {},
          "execution_count": 21
        }
      ]
    },
    {
      "cell_type": "code",
      "source": [
        "d.columns = ['W', 'Region', 'Income', 'Gender','Age','Increase_fuel_taxes','Reduce_energy','Education', 'Politics', 'CC_reasons', 'CC_ishappening', 'Care_nature', 'CC_isgood','Y']\n"
      ],
      "metadata": {
        "id": "Oo9MI2S9wrUR"
      },
      "execution_count": 33,
      "outputs": []
    },
    {
      "cell_type": "code",
      "source": [
        "d"
      ],
      "metadata": {
        "id": "ocEqTKq0y0oS",
        "outputId": "8652d56f-7fbe-4872-a6ba-1a5bf6e03382",
        "colab": {
          "base_uri": "https://localhost:8080/",
          "height": 423
        }
      },
      "execution_count": 34,
      "outputs": [
        {
          "output_type": "execute_result",
          "data": {
            "text/plain": [
              "              W  Region    Income  Gender       Age  Increase_fuel_taxes  \\\n",
              "1      0.333158       3 -0.144276     1.0  0.041299            -1.739640   \n",
              "2      0.116953       3 -1.250742     0.0  0.508743             0.690799   \n",
              "3      0.174999       3 -0.513098     1.0  0.099730            -0.119347   \n",
              "4      0.832164       3 -1.250742     0.0 -0.893589            -0.119347   \n",
              "5      0.374608       3  1.699832     0.0  0.421098             0.690799   \n",
              "...         ...     ...       ...     ...       ...                  ...   \n",
              "44378  0.125447       0 -0.513098     1.0  0.450313            -0.119347   \n",
              "44379  0.101995       0  0.962189     1.0 -0.805944             1.500945   \n",
              "44382  0.112359       0 -0.513098     0.0  0.421098            -0.119347   \n",
              "44384  0.115147       0  0.593367     1.0  0.362667            -1.739640   \n",
              "44385  0.101719       0  1.699832     0.0 -0.163208            -0.929494   \n",
              "\n",
              "       Reduce_energy  Education  Politics  CC_reasons  CC_ishappening  \\\n",
              "1           0.680952  -0.088669 -1.850830           2             1.0   \n",
              "2          -0.183137  -0.632173 -0.037607           2             1.0   \n",
              "3          -0.183137  -0.632173 -2.304136           2             2.0   \n",
              "4           1.545041  -0.632173 -0.037607           2             1.0   \n",
              "5          -0.183137  -0.088669 -0.037607           2             2.0   \n",
              "...              ...        ...       ...         ...             ...   \n",
              "44378       0.680952  -0.632173 -0.037607           2             1.0   \n",
              "44379      -0.183137  -0.088669 -0.037607           2             1.0   \n",
              "44382       0.680952  -0.088669 -1.850830           2             1.0   \n",
              "44384       1.545041   0.998341 -2.304136           2             1.0   \n",
              "44385      -0.183137   1.541845 -0.490912           2             1.0   \n",
              "\n",
              "       Care_nature  CC_isgood  Y  \n",
              "1              1.0  -0.574801  0  \n",
              "2              1.0  -0.574801  0  \n",
              "3              2.0   1.733225  1  \n",
              "4              1.0   0.810015  0  \n",
              "5              1.0   0.810015  1  \n",
              "...            ...        ... ..  \n",
              "44378          1.0  -0.574801  0  \n",
              "44379          1.0   0.810015  1  \n",
              "44382          1.0   0.810015  1  \n",
              "44384          1.0  -1.036406  0  \n",
              "44385          1.0   0.348410  1  \n",
              "\n",
              "[29508 rows x 14 columns]"
            ],
            "text/html": [
              "\n",
              "  <div id=\"df-d7e7a55e-bb93-4af3-ad01-21bf20ff6d8a\">\n",
              "    <div class=\"colab-df-container\">\n",
              "      <div>\n",
              "<style scoped>\n",
              "    .dataframe tbody tr th:only-of-type {\n",
              "        vertical-align: middle;\n",
              "    }\n",
              "\n",
              "    .dataframe tbody tr th {\n",
              "        vertical-align: top;\n",
              "    }\n",
              "\n",
              "    .dataframe thead th {\n",
              "        text-align: right;\n",
              "    }\n",
              "</style>\n",
              "<table border=\"1\" class=\"dataframe\">\n",
              "  <thead>\n",
              "    <tr style=\"text-align: right;\">\n",
              "      <th></th>\n",
              "      <th>W</th>\n",
              "      <th>Region</th>\n",
              "      <th>Income</th>\n",
              "      <th>Gender</th>\n",
              "      <th>Age</th>\n",
              "      <th>Increase_fuel_taxes</th>\n",
              "      <th>Reduce_energy</th>\n",
              "      <th>Education</th>\n",
              "      <th>Politics</th>\n",
              "      <th>CC_reasons</th>\n",
              "      <th>CC_ishappening</th>\n",
              "      <th>Care_nature</th>\n",
              "      <th>CC_isgood</th>\n",
              "      <th>Y</th>\n",
              "    </tr>\n",
              "  </thead>\n",
              "  <tbody>\n",
              "    <tr>\n",
              "      <th>1</th>\n",
              "      <td>0.333158</td>\n",
              "      <td>3</td>\n",
              "      <td>-0.144276</td>\n",
              "      <td>1.0</td>\n",
              "      <td>0.041299</td>\n",
              "      <td>-1.739640</td>\n",
              "      <td>0.680952</td>\n",
              "      <td>-0.088669</td>\n",
              "      <td>-1.850830</td>\n",
              "      <td>2</td>\n",
              "      <td>1.0</td>\n",
              "      <td>1.0</td>\n",
              "      <td>-0.574801</td>\n",
              "      <td>0</td>\n",
              "    </tr>\n",
              "    <tr>\n",
              "      <th>2</th>\n",
              "      <td>0.116953</td>\n",
              "      <td>3</td>\n",
              "      <td>-1.250742</td>\n",
              "      <td>0.0</td>\n",
              "      <td>0.508743</td>\n",
              "      <td>0.690799</td>\n",
              "      <td>-0.183137</td>\n",
              "      <td>-0.632173</td>\n",
              "      <td>-0.037607</td>\n",
              "      <td>2</td>\n",
              "      <td>1.0</td>\n",
              "      <td>1.0</td>\n",
              "      <td>-0.574801</td>\n",
              "      <td>0</td>\n",
              "    </tr>\n",
              "    <tr>\n",
              "      <th>3</th>\n",
              "      <td>0.174999</td>\n",
              "      <td>3</td>\n",
              "      <td>-0.513098</td>\n",
              "      <td>1.0</td>\n",
              "      <td>0.099730</td>\n",
              "      <td>-0.119347</td>\n",
              "      <td>-0.183137</td>\n",
              "      <td>-0.632173</td>\n",
              "      <td>-2.304136</td>\n",
              "      <td>2</td>\n",
              "      <td>2.0</td>\n",
              "      <td>2.0</td>\n",
              "      <td>1.733225</td>\n",
              "      <td>1</td>\n",
              "    </tr>\n",
              "    <tr>\n",
              "      <th>4</th>\n",
              "      <td>0.832164</td>\n",
              "      <td>3</td>\n",
              "      <td>-1.250742</td>\n",
              "      <td>0.0</td>\n",
              "      <td>-0.893589</td>\n",
              "      <td>-0.119347</td>\n",
              "      <td>1.545041</td>\n",
              "      <td>-0.632173</td>\n",
              "      <td>-0.037607</td>\n",
              "      <td>2</td>\n",
              "      <td>1.0</td>\n",
              "      <td>1.0</td>\n",
              "      <td>0.810015</td>\n",
              "      <td>0</td>\n",
              "    </tr>\n",
              "    <tr>\n",
              "      <th>5</th>\n",
              "      <td>0.374608</td>\n",
              "      <td>3</td>\n",
              "      <td>1.699832</td>\n",
              "      <td>0.0</td>\n",
              "      <td>0.421098</td>\n",
              "      <td>0.690799</td>\n",
              "      <td>-0.183137</td>\n",
              "      <td>-0.088669</td>\n",
              "      <td>-0.037607</td>\n",
              "      <td>2</td>\n",
              "      <td>2.0</td>\n",
              "      <td>1.0</td>\n",
              "      <td>0.810015</td>\n",
              "      <td>1</td>\n",
              "    </tr>\n",
              "    <tr>\n",
              "      <th>...</th>\n",
              "      <td>...</td>\n",
              "      <td>...</td>\n",
              "      <td>...</td>\n",
              "      <td>...</td>\n",
              "      <td>...</td>\n",
              "      <td>...</td>\n",
              "      <td>...</td>\n",
              "      <td>...</td>\n",
              "      <td>...</td>\n",
              "      <td>...</td>\n",
              "      <td>...</td>\n",
              "      <td>...</td>\n",
              "      <td>...</td>\n",
              "      <td>...</td>\n",
              "    </tr>\n",
              "    <tr>\n",
              "      <th>44378</th>\n",
              "      <td>0.125447</td>\n",
              "      <td>0</td>\n",
              "      <td>-0.513098</td>\n",
              "      <td>1.0</td>\n",
              "      <td>0.450313</td>\n",
              "      <td>-0.119347</td>\n",
              "      <td>0.680952</td>\n",
              "      <td>-0.632173</td>\n",
              "      <td>-0.037607</td>\n",
              "      <td>2</td>\n",
              "      <td>1.0</td>\n",
              "      <td>1.0</td>\n",
              "      <td>-0.574801</td>\n",
              "      <td>0</td>\n",
              "    </tr>\n",
              "    <tr>\n",
              "      <th>44379</th>\n",
              "      <td>0.101995</td>\n",
              "      <td>0</td>\n",
              "      <td>0.962189</td>\n",
              "      <td>1.0</td>\n",
              "      <td>-0.805944</td>\n",
              "      <td>1.500945</td>\n",
              "      <td>-0.183137</td>\n",
              "      <td>-0.088669</td>\n",
              "      <td>-0.037607</td>\n",
              "      <td>2</td>\n",
              "      <td>1.0</td>\n",
              "      <td>1.0</td>\n",
              "      <td>0.810015</td>\n",
              "      <td>1</td>\n",
              "    </tr>\n",
              "    <tr>\n",
              "      <th>44382</th>\n",
              "      <td>0.112359</td>\n",
              "      <td>0</td>\n",
              "      <td>-0.513098</td>\n",
              "      <td>0.0</td>\n",
              "      <td>0.421098</td>\n",
              "      <td>-0.119347</td>\n",
              "      <td>0.680952</td>\n",
              "      <td>-0.088669</td>\n",
              "      <td>-1.850830</td>\n",
              "      <td>2</td>\n",
              "      <td>1.0</td>\n",
              "      <td>1.0</td>\n",
              "      <td>0.810015</td>\n",
              "      <td>1</td>\n",
              "    </tr>\n",
              "    <tr>\n",
              "      <th>44384</th>\n",
              "      <td>0.115147</td>\n",
              "      <td>0</td>\n",
              "      <td>0.593367</td>\n",
              "      <td>1.0</td>\n",
              "      <td>0.362667</td>\n",
              "      <td>-1.739640</td>\n",
              "      <td>1.545041</td>\n",
              "      <td>0.998341</td>\n",
              "      <td>-2.304136</td>\n",
              "      <td>2</td>\n",
              "      <td>1.0</td>\n",
              "      <td>1.0</td>\n",
              "      <td>-1.036406</td>\n",
              "      <td>0</td>\n",
              "    </tr>\n",
              "    <tr>\n",
              "      <th>44385</th>\n",
              "      <td>0.101719</td>\n",
              "      <td>0</td>\n",
              "      <td>1.699832</td>\n",
              "      <td>0.0</td>\n",
              "      <td>-0.163208</td>\n",
              "      <td>-0.929494</td>\n",
              "      <td>-0.183137</td>\n",
              "      <td>1.541845</td>\n",
              "      <td>-0.490912</td>\n",
              "      <td>2</td>\n",
              "      <td>1.0</td>\n",
              "      <td>1.0</td>\n",
              "      <td>0.348410</td>\n",
              "      <td>1</td>\n",
              "    </tr>\n",
              "  </tbody>\n",
              "</table>\n",
              "<p>29508 rows × 14 columns</p>\n",
              "</div>\n",
              "      <button class=\"colab-df-convert\" onclick=\"convertToInteractive('df-d7e7a55e-bb93-4af3-ad01-21bf20ff6d8a')\"\n",
              "              title=\"Convert this dataframe to an interactive table.\"\n",
              "              style=\"display:none;\">\n",
              "        \n",
              "  <svg xmlns=\"http://www.w3.org/2000/svg\" height=\"24px\"viewBox=\"0 0 24 24\"\n",
              "       width=\"24px\">\n",
              "    <path d=\"M0 0h24v24H0V0z\" fill=\"none\"/>\n",
              "    <path d=\"M18.56 5.44l.94 2.06.94-2.06 2.06-.94-2.06-.94-.94-2.06-.94 2.06-2.06.94zm-11 1L8.5 8.5l.94-2.06 2.06-.94-2.06-.94L8.5 2.5l-.94 2.06-2.06.94zm10 10l.94 2.06.94-2.06 2.06-.94-2.06-.94-.94-2.06-.94 2.06-2.06.94z\"/><path d=\"M17.41 7.96l-1.37-1.37c-.4-.4-.92-.59-1.43-.59-.52 0-1.04.2-1.43.59L10.3 9.45l-7.72 7.72c-.78.78-.78 2.05 0 2.83L4 21.41c.39.39.9.59 1.41.59.51 0 1.02-.2 1.41-.59l7.78-7.78 2.81-2.81c.8-.78.8-2.07 0-2.86zM5.41 20L4 18.59l7.72-7.72 1.47 1.35L5.41 20z\"/>\n",
              "  </svg>\n",
              "      </button>\n",
              "      \n",
              "  <style>\n",
              "    .colab-df-container {\n",
              "      display:flex;\n",
              "      flex-wrap:wrap;\n",
              "      gap: 12px;\n",
              "    }\n",
              "\n",
              "    .colab-df-convert {\n",
              "      background-color: #E8F0FE;\n",
              "      border: none;\n",
              "      border-radius: 50%;\n",
              "      cursor: pointer;\n",
              "      display: none;\n",
              "      fill: #1967D2;\n",
              "      height: 32px;\n",
              "      padding: 0 0 0 0;\n",
              "      width: 32px;\n",
              "    }\n",
              "\n",
              "    .colab-df-convert:hover {\n",
              "      background-color: #E2EBFA;\n",
              "      box-shadow: 0px 1px 2px rgba(60, 64, 67, 0.3), 0px 1px 3px 1px rgba(60, 64, 67, 0.15);\n",
              "      fill: #174EA6;\n",
              "    }\n",
              "\n",
              "    [theme=dark] .colab-df-convert {\n",
              "      background-color: #3B4455;\n",
              "      fill: #D2E3FC;\n",
              "    }\n",
              "\n",
              "    [theme=dark] .colab-df-convert:hover {\n",
              "      background-color: #434B5C;\n",
              "      box-shadow: 0px 1px 3px 1px rgba(0, 0, 0, 0.15);\n",
              "      filter: drop-shadow(0px 1px 2px rgba(0, 0, 0, 0.3));\n",
              "      fill: #FFFFFF;\n",
              "    }\n",
              "  </style>\n",
              "\n",
              "      <script>\n",
              "        const buttonEl =\n",
              "          document.querySelector('#df-d7e7a55e-bb93-4af3-ad01-21bf20ff6d8a button.colab-df-convert');\n",
              "        buttonEl.style.display =\n",
              "          google.colab.kernel.accessAllowed ? 'block' : 'none';\n",
              "\n",
              "        async function convertToInteractive(key) {\n",
              "          const element = document.querySelector('#df-d7e7a55e-bb93-4af3-ad01-21bf20ff6d8a');\n",
              "          const dataTable =\n",
              "            await google.colab.kernel.invokeFunction('convertToInteractive',\n",
              "                                                     [key], {});\n",
              "          if (!dataTable) return;\n",
              "\n",
              "          const docLinkHtml = 'Like what you see? Visit the ' +\n",
              "            '<a target=\"_blank\" href=https://colab.research.google.com/notebooks/data_table.ipynb>data table notebook</a>'\n",
              "            + ' to learn more about interactive tables.';\n",
              "          element.innerHTML = '';\n",
              "          dataTable['output_type'] = 'display_data';\n",
              "          await google.colab.output.renderOutput(dataTable, element);\n",
              "          const docLink = document.createElement('div');\n",
              "          docLink.innerHTML = docLinkHtml;\n",
              "          element.appendChild(docLink);\n",
              "        }\n",
              "      </script>\n",
              "    </div>\n",
              "  </div>\n",
              "  "
            ]
          },
          "metadata": {},
          "execution_count": 34
        }
      ]
    },
    {
      "cell_type": "markdown",
      "source": [
        "# Exploratory Data Analysis"
      ],
      "metadata": {
        "id": "ki_tw1OKrsW4"
      }
    },
    {
      "cell_type": "code",
      "source": [
        "colors_green = ['#01411C','#4B6F44','#4F7942','#74C365','#D0F0C0']\n",
        "colors_blue = [\"#132C33\", \"#264D58\", '#17869E', '#51C4D3', '#B4DBE9']\n",
        "colors_red = [\"#132C33\", \"#264D58\", '#17869E', '#51C4D3', '#B4DBE9']"
      ],
      "metadata": {
        "id": "mZJJ33OxuT8p"
      },
      "execution_count": 24,
      "outputs": []
    },
    {
      "cell_type": "code",
      "source": [
        "h= pd.DataFrame(d['Y'].value_counts())\n",
        "fig = px.pie(h,values='Y',names=['Not Worried','Worried'],hole=0.4,opacity=0.6,\n",
        "            color_discrete_sequence=[colors_green[3],'darkred'],\n",
        "             labels={'label':'Potability','Potability':'No. Of Samples'})\n",
        "fig.update_traces(textposition='outside', textinfo='percent+label')\n",
        "\n",
        "fig.update_layout(\n",
        "    font_family='monospace',\n",
        "    title=dict(text='Q. Are you worried about climate change?',x=0.47,y=0.98,\n",
        "               font=dict(size=20)),\n",
        "    legend=dict(x=0.37,y=-0.05,orientation='h',traceorder='reversed'),\n",
        "    hoverlabel=dict(bgcolor='white'))\n",
        "\n",
        "fig.show()"
      ],
      "metadata": {
        "id": "1i8TdoFirsCz",
        "outputId": "fb01695b-0bb6-4e9d-af4c-7ffa1a3484f4",
        "colab": {
          "base_uri": "https://localhost:8080/",
          "height": 542
        }
      },
      "execution_count": 35,
      "outputs": [
        {
          "output_type": "display_data",
          "data": {
            "text/html": [
              "<html>\n",
              "<head><meta charset=\"utf-8\" /></head>\n",
              "<body>\n",
              "    <div>            <script src=\"https://cdnjs.cloudflare.com/ajax/libs/mathjax/2.7.5/MathJax.js?config=TeX-AMS-MML_SVG\"></script><script type=\"text/javascript\">if (window.MathJax) {MathJax.Hub.Config({SVG: {font: \"STIX-Web\"}});}</script>                <script type=\"text/javascript\">window.PlotlyConfig = {MathJaxConfig: 'local'};</script>\n",
              "        <script src=\"https://cdn.plot.ly/plotly-2.8.3.min.js\"></script>                <div id=\"03dc349c-7bbc-4df4-983d-0e42d7f1a122\" class=\"plotly-graph-div\" style=\"height:525px; width:100%;\"></div>            <script type=\"text/javascript\">                                    window.PLOTLYENV=window.PLOTLYENV || {};                                    if (document.getElementById(\"03dc349c-7bbc-4df4-983d-0e42d7f1a122\")) {                    Plotly.newPlot(                        \"03dc349c-7bbc-4df4-983d-0e42d7f1a122\",                        [{\"domain\":{\"x\":[0.0,1.0],\"y\":[0.0,1.0]},\"hole\":0.4,\"hovertemplate\":\"label=%{label}<br>Y=%{value}<extra></extra>\",\"labels\":[\"Not Worried\",\"Worried\"],\"legendgroup\":\"\",\"name\":\"\",\"opacity\":0.6,\"showlegend\":true,\"values\":[20719,8789],\"type\":\"pie\",\"textinfo\":\"percent+label\",\"textposition\":\"outside\"}],                        {\"template\":{\"data\":{\"bar\":[{\"error_x\":{\"color\":\"#2a3f5f\"},\"error_y\":{\"color\":\"#2a3f5f\"},\"marker\":{\"line\":{\"color\":\"#E5ECF6\",\"width\":0.5},\"pattern\":{\"fillmode\":\"overlay\",\"size\":10,\"solidity\":0.2}},\"type\":\"bar\"}],\"barpolar\":[{\"marker\":{\"line\":{\"color\":\"#E5ECF6\",\"width\":0.5},\"pattern\":{\"fillmode\":\"overlay\",\"size\":10,\"solidity\":0.2}},\"type\":\"barpolar\"}],\"carpet\":[{\"aaxis\":{\"endlinecolor\":\"#2a3f5f\",\"gridcolor\":\"white\",\"linecolor\":\"white\",\"minorgridcolor\":\"white\",\"startlinecolor\":\"#2a3f5f\"},\"baxis\":{\"endlinecolor\":\"#2a3f5f\",\"gridcolor\":\"white\",\"linecolor\":\"white\",\"minorgridcolor\":\"white\",\"startlinecolor\":\"#2a3f5f\"},\"type\":\"carpet\"}],\"choropleth\":[{\"colorbar\":{\"outlinewidth\":0,\"ticks\":\"\"},\"type\":\"choropleth\"}],\"contour\":[{\"colorbar\":{\"outlinewidth\":0,\"ticks\":\"\"},\"colorscale\":[[0.0,\"#0d0887\"],[0.1111111111111111,\"#46039f\"],[0.2222222222222222,\"#7201a8\"],[0.3333333333333333,\"#9c179e\"],[0.4444444444444444,\"#bd3786\"],[0.5555555555555556,\"#d8576b\"],[0.6666666666666666,\"#ed7953\"],[0.7777777777777778,\"#fb9f3a\"],[0.8888888888888888,\"#fdca26\"],[1.0,\"#f0f921\"]],\"type\":\"contour\"}],\"contourcarpet\":[{\"colorbar\":{\"outlinewidth\":0,\"ticks\":\"\"},\"type\":\"contourcarpet\"}],\"heatmap\":[{\"colorbar\":{\"outlinewidth\":0,\"ticks\":\"\"},\"colorscale\":[[0.0,\"#0d0887\"],[0.1111111111111111,\"#46039f\"],[0.2222222222222222,\"#7201a8\"],[0.3333333333333333,\"#9c179e\"],[0.4444444444444444,\"#bd3786\"],[0.5555555555555556,\"#d8576b\"],[0.6666666666666666,\"#ed7953\"],[0.7777777777777778,\"#fb9f3a\"],[0.8888888888888888,\"#fdca26\"],[1.0,\"#f0f921\"]],\"type\":\"heatmap\"}],\"heatmapgl\":[{\"colorbar\":{\"outlinewidth\":0,\"ticks\":\"\"},\"colorscale\":[[0.0,\"#0d0887\"],[0.1111111111111111,\"#46039f\"],[0.2222222222222222,\"#7201a8\"],[0.3333333333333333,\"#9c179e\"],[0.4444444444444444,\"#bd3786\"],[0.5555555555555556,\"#d8576b\"],[0.6666666666666666,\"#ed7953\"],[0.7777777777777778,\"#fb9f3a\"],[0.8888888888888888,\"#fdca26\"],[1.0,\"#f0f921\"]],\"type\":\"heatmapgl\"}],\"histogram\":[{\"marker\":{\"pattern\":{\"fillmode\":\"overlay\",\"size\":10,\"solidity\":0.2}},\"type\":\"histogram\"}],\"histogram2d\":[{\"colorbar\":{\"outlinewidth\":0,\"ticks\":\"\"},\"colorscale\":[[0.0,\"#0d0887\"],[0.1111111111111111,\"#46039f\"],[0.2222222222222222,\"#7201a8\"],[0.3333333333333333,\"#9c179e\"],[0.4444444444444444,\"#bd3786\"],[0.5555555555555556,\"#d8576b\"],[0.6666666666666666,\"#ed7953\"],[0.7777777777777778,\"#fb9f3a\"],[0.8888888888888888,\"#fdca26\"],[1.0,\"#f0f921\"]],\"type\":\"histogram2d\"}],\"histogram2dcontour\":[{\"colorbar\":{\"outlinewidth\":0,\"ticks\":\"\"},\"colorscale\":[[0.0,\"#0d0887\"],[0.1111111111111111,\"#46039f\"],[0.2222222222222222,\"#7201a8\"],[0.3333333333333333,\"#9c179e\"],[0.4444444444444444,\"#bd3786\"],[0.5555555555555556,\"#d8576b\"],[0.6666666666666666,\"#ed7953\"],[0.7777777777777778,\"#fb9f3a\"],[0.8888888888888888,\"#fdca26\"],[1.0,\"#f0f921\"]],\"type\":\"histogram2dcontour\"}],\"mesh3d\":[{\"colorbar\":{\"outlinewidth\":0,\"ticks\":\"\"},\"type\":\"mesh3d\"}],\"parcoords\":[{\"line\":{\"colorbar\":{\"outlinewidth\":0,\"ticks\":\"\"}},\"type\":\"parcoords\"}],\"pie\":[{\"automargin\":true,\"type\":\"pie\"}],\"scatter\":[{\"marker\":{\"colorbar\":{\"outlinewidth\":0,\"ticks\":\"\"}},\"type\":\"scatter\"}],\"scatter3d\":[{\"line\":{\"colorbar\":{\"outlinewidth\":0,\"ticks\":\"\"}},\"marker\":{\"colorbar\":{\"outlinewidth\":0,\"ticks\":\"\"}},\"type\":\"scatter3d\"}],\"scattercarpet\":[{\"marker\":{\"colorbar\":{\"outlinewidth\":0,\"ticks\":\"\"}},\"type\":\"scattercarpet\"}],\"scattergeo\":[{\"marker\":{\"colorbar\":{\"outlinewidth\":0,\"ticks\":\"\"}},\"type\":\"scattergeo\"}],\"scattergl\":[{\"marker\":{\"colorbar\":{\"outlinewidth\":0,\"ticks\":\"\"}},\"type\":\"scattergl\"}],\"scattermapbox\":[{\"marker\":{\"colorbar\":{\"outlinewidth\":0,\"ticks\":\"\"}},\"type\":\"scattermapbox\"}],\"scatterpolar\":[{\"marker\":{\"colorbar\":{\"outlinewidth\":0,\"ticks\":\"\"}},\"type\":\"scatterpolar\"}],\"scatterpolargl\":[{\"marker\":{\"colorbar\":{\"outlinewidth\":0,\"ticks\":\"\"}},\"type\":\"scatterpolargl\"}],\"scatterternary\":[{\"marker\":{\"colorbar\":{\"outlinewidth\":0,\"ticks\":\"\"}},\"type\":\"scatterternary\"}],\"surface\":[{\"colorbar\":{\"outlinewidth\":0,\"ticks\":\"\"},\"colorscale\":[[0.0,\"#0d0887\"],[0.1111111111111111,\"#46039f\"],[0.2222222222222222,\"#7201a8\"],[0.3333333333333333,\"#9c179e\"],[0.4444444444444444,\"#bd3786\"],[0.5555555555555556,\"#d8576b\"],[0.6666666666666666,\"#ed7953\"],[0.7777777777777778,\"#fb9f3a\"],[0.8888888888888888,\"#fdca26\"],[1.0,\"#f0f921\"]],\"type\":\"surface\"}],\"table\":[{\"cells\":{\"fill\":{\"color\":\"#EBF0F8\"},\"line\":{\"color\":\"white\"}},\"header\":{\"fill\":{\"color\":\"#C8D4E3\"},\"line\":{\"color\":\"white\"}},\"type\":\"table\"}]},\"layout\":{\"annotationdefaults\":{\"arrowcolor\":\"#2a3f5f\",\"arrowhead\":0,\"arrowwidth\":1},\"autotypenumbers\":\"strict\",\"coloraxis\":{\"colorbar\":{\"outlinewidth\":0,\"ticks\":\"\"}},\"colorscale\":{\"diverging\":[[0,\"#8e0152\"],[0.1,\"#c51b7d\"],[0.2,\"#de77ae\"],[0.3,\"#f1b6da\"],[0.4,\"#fde0ef\"],[0.5,\"#f7f7f7\"],[0.6,\"#e6f5d0\"],[0.7,\"#b8e186\"],[0.8,\"#7fbc41\"],[0.9,\"#4d9221\"],[1,\"#276419\"]],\"sequential\":[[0.0,\"#0d0887\"],[0.1111111111111111,\"#46039f\"],[0.2222222222222222,\"#7201a8\"],[0.3333333333333333,\"#9c179e\"],[0.4444444444444444,\"#bd3786\"],[0.5555555555555556,\"#d8576b\"],[0.6666666666666666,\"#ed7953\"],[0.7777777777777778,\"#fb9f3a\"],[0.8888888888888888,\"#fdca26\"],[1.0,\"#f0f921\"]],\"sequentialminus\":[[0.0,\"#0d0887\"],[0.1111111111111111,\"#46039f\"],[0.2222222222222222,\"#7201a8\"],[0.3333333333333333,\"#9c179e\"],[0.4444444444444444,\"#bd3786\"],[0.5555555555555556,\"#d8576b\"],[0.6666666666666666,\"#ed7953\"],[0.7777777777777778,\"#fb9f3a\"],[0.8888888888888888,\"#fdca26\"],[1.0,\"#f0f921\"]]},\"colorway\":[\"#636efa\",\"#EF553B\",\"#00cc96\",\"#ab63fa\",\"#FFA15A\",\"#19d3f3\",\"#FF6692\",\"#B6E880\",\"#FF97FF\",\"#FECB52\"],\"font\":{\"color\":\"#2a3f5f\"},\"geo\":{\"bgcolor\":\"white\",\"lakecolor\":\"white\",\"landcolor\":\"#E5ECF6\",\"showlakes\":true,\"showland\":true,\"subunitcolor\":\"white\"},\"hoverlabel\":{\"align\":\"left\"},\"hovermode\":\"closest\",\"mapbox\":{\"style\":\"light\"},\"paper_bgcolor\":\"white\",\"plot_bgcolor\":\"#E5ECF6\",\"polar\":{\"angularaxis\":{\"gridcolor\":\"white\",\"linecolor\":\"white\",\"ticks\":\"\"},\"bgcolor\":\"#E5ECF6\",\"radialaxis\":{\"gridcolor\":\"white\",\"linecolor\":\"white\",\"ticks\":\"\"}},\"scene\":{\"xaxis\":{\"backgroundcolor\":\"#E5ECF6\",\"gridcolor\":\"white\",\"gridwidth\":2,\"linecolor\":\"white\",\"showbackground\":true,\"ticks\":\"\",\"zerolinecolor\":\"white\"},\"yaxis\":{\"backgroundcolor\":\"#E5ECF6\",\"gridcolor\":\"white\",\"gridwidth\":2,\"linecolor\":\"white\",\"showbackground\":true,\"ticks\":\"\",\"zerolinecolor\":\"white\"},\"zaxis\":{\"backgroundcolor\":\"#E5ECF6\",\"gridcolor\":\"white\",\"gridwidth\":2,\"linecolor\":\"white\",\"showbackground\":true,\"ticks\":\"\",\"zerolinecolor\":\"white\"}},\"shapedefaults\":{\"line\":{\"color\":\"#2a3f5f\"}},\"ternary\":{\"aaxis\":{\"gridcolor\":\"white\",\"linecolor\":\"white\",\"ticks\":\"\"},\"baxis\":{\"gridcolor\":\"white\",\"linecolor\":\"white\",\"ticks\":\"\"},\"bgcolor\":\"#E5ECF6\",\"caxis\":{\"gridcolor\":\"white\",\"linecolor\":\"white\",\"ticks\":\"\"}},\"title\":{\"x\":0.05},\"xaxis\":{\"automargin\":true,\"gridcolor\":\"white\",\"linecolor\":\"white\",\"ticks\":\"\",\"title\":{\"standoff\":15},\"zerolinecolor\":\"white\",\"zerolinewidth\":2},\"yaxis\":{\"automargin\":true,\"gridcolor\":\"white\",\"linecolor\":\"white\",\"ticks\":\"\",\"title\":{\"standoff\":15},\"zerolinecolor\":\"white\",\"zerolinewidth\":2}}},\"legend\":{\"tracegroupgap\":0,\"x\":0.37,\"y\":-0.05,\"orientation\":\"h\",\"traceorder\":\"reversed\"},\"margin\":{\"t\":60},\"piecolorway\":[\"#74C365\",\"darkred\"],\"font\":{\"family\":\"monospace\"},\"title\":{\"font\":{\"size\":20},\"text\":\"Q. Are you worried about climate change?\",\"x\":0.47,\"y\":0.98},\"hoverlabel\":{\"bgcolor\":\"white\"}},                        {\"responsive\": true}                    ).then(function(){\n",
              "                            \n",
              "var gd = document.getElementById('03dc349c-7bbc-4df4-983d-0e42d7f1a122');\n",
              "var x = new MutationObserver(function (mutations, observer) {{\n",
              "        var display = window.getComputedStyle(gd).display;\n",
              "        if (!display || display === 'none') {{\n",
              "            console.log([gd, 'removed!']);\n",
              "            Plotly.purge(gd);\n",
              "            observer.disconnect();\n",
              "        }}\n",
              "}});\n",
              "\n",
              "// Listen for the removal of the full notebook cells\n",
              "var notebookContainer = gd.closest('#notebook-container');\n",
              "if (notebookContainer) {{\n",
              "    x.observe(notebookContainer, {childList: true});\n",
              "}}\n",
              "\n",
              "// Listen for the clearing of the current output cell\n",
              "var outputEl = gd.closest('.output');\n",
              "if (outputEl) {{\n",
              "    x.observe(outputEl, {childList: true});\n",
              "}}\n",
              "\n",
              "                        })                };                            </script>        </div>\n",
              "</body>\n",
              "</html>"
            ]
          },
          "metadata": {}
        }
      ]
    },
    {
      "cell_type": "code",
      "source": [
        "cor=d.drop('W',axis=1).corr()\n",
        "fig = px.imshow(cor,height=800,width=800,color_continuous_scale=colors_blue,template='plotly_white')\n",
        "\n",
        "fig.update_layout(font_family='monospace',\n",
        "                title=dict(text='Correlation Heatmap',x=0.5,y=0.93,\n",
        "                             font=dict(color='black',size=24)),\n",
        "                coloraxis_colorbar=dict(len=0.85,x=1.1) \n",
        "                 )\n",
        "\n",
        "fig.show()"
      ],
      "metadata": {
        "id": "O2fn9S6Vv-Sq",
        "outputId": "ce01838c-4d04-491e-ac1d-a85fb3c15221",
        "colab": {
          "base_uri": "https://localhost:8080/",
          "height": 817
        }
      },
      "execution_count": 36,
      "outputs": [
        {
          "output_type": "display_data",
          "data": {
            "text/html": [
              "<html>\n",
              "<head><meta charset=\"utf-8\" /></head>\n",
              "<body>\n",
              "    <div>            <script src=\"https://cdnjs.cloudflare.com/ajax/libs/mathjax/2.7.5/MathJax.js?config=TeX-AMS-MML_SVG\"></script><script type=\"text/javascript\">if (window.MathJax) {MathJax.Hub.Config({SVG: {font: \"STIX-Web\"}});}</script>                <script type=\"text/javascript\">window.PlotlyConfig = {MathJaxConfig: 'local'};</script>\n",
              "        <script src=\"https://cdn.plot.ly/plotly-2.8.3.min.js\"></script>                <div id=\"017ff6a9-b099-4614-b380-3e2147d93209\" class=\"plotly-graph-div\" style=\"height:800px; width:800px;\"></div>            <script type=\"text/javascript\">                                    window.PLOTLYENV=window.PLOTLYENV || {};                                    if (document.getElementById(\"017ff6a9-b099-4614-b380-3e2147d93209\")) {                    Plotly.newPlot(                        \"017ff6a9-b099-4614-b380-3e2147d93209\",                        [{\"coloraxis\":\"coloraxis\",\"name\":\"0\",\"x\":[\"Region\",\"Income\",\"Gender\",\"Age\",\"Increase_fuel_taxes\",\"Reduce_energy\",\"Education\",\"Politics\",\"CC_reasons\",\"CC_ishappening\",\"Care_nature\",\"CC_isgood\",\"Y\"],\"y\":[\"Region\",\"Income\",\"Gender\",\"Age\",\"Increase_fuel_taxes\",\"Reduce_energy\",\"Education\",\"Politics\",\"CC_reasons\",\"CC_ishappening\",\"Care_nature\",\"CC_isgood\",\"Y\"],\"z\":[[1.0,0.037426373690383326,0.016852378498419855,0.01539127069982406,-0.022332119937462803,0.09811098046654074,-0.07924223440645546,-0.0949805019903221,0.07129200643837391,-0.1180161213016226,-0.02175831454172865,-0.03984098852299654,-0.09346103003898257],[0.037426373690383326,1.0,0.07454153762134551,-0.09478080765391493,-0.11642395892123919,-0.03917753213305795,0.3659396938911473,0.05270061656510512,0.04870484269927303,-0.02567329941573659,0.016693597118289737,-0.056280331389449816,-2.4624037430043426e-05],[0.016852378498419855,0.07454153762134551,1.0,-0.01770406898356973,0.019173340401787173,-0.05297024440983223,-0.040113723048891374,0.047987329350676955,-0.05263480201120772,0.038910514375243274,0.039670140158405094,0.0018333243344492475,0.044521587940512884],[0.01539127069982406,-0.09478080765391493,-0.01770406898356973,1.0,0.02966038946046295,0.06232507411931953,-0.07330594107548649,0.026201699636711182,-0.033364487464384765,0.03284474133094321,-0.06764621581694522,0.04840678654407998,0.02092402298442086],[-0.022332119937462803,-0.11642395892123919,0.019173340401787173,0.02966038946046295,1.0,-0.015404127931780509,-0.1625031630853757,0.08755922287378552,-0.0963461740831827,0.10410093403587735,0.08198064786229413,0.07908251655551747,0.12672087881190022],[0.09811098046654074,-0.03917753213305795,-0.05297024440983223,0.06232507411931953,-0.015404127931780509,1.0,0.03171507955207646,-0.06409918604495221,0.044394125063658516,-0.12172531737536665,-0.23120468614927456,-0.09011457393707294,-0.1800762440318641],[-0.07924223440645546,0.3659396938911473,-0.040113723048891374,-0.07330594107548649,-0.1625031630853757,0.03171507955207646,1.0,-0.02412449017339915,0.03995584797774345,-0.05866980435984369,-0.03125138328094924,-0.09117390710074676,-0.042577764505147705],[-0.0949805019903221,0.05270061656510512,0.047987329350676955,0.026201699636711182,0.08755922287378552,-0.06409918604495221,-0.02412449017339915,1.0,-0.06879384233267609,0.1175547505046401,0.067607950618842,0.1353838337180066,0.1219776296680887],[0.07129200643837391,0.04870484269927303,-0.05263480201120772,-0.033364487464384765,-0.0963461740831827,0.044394125063658516,0.03995584797774345,-0.06879384233267609,1.0,-0.17689912016092452,-0.0601934423079175,-0.14901351986369787,-0.11843573686847488],[-0.1180161213016226,-0.02567329941573659,0.038910514375243274,0.03284474133094321,0.10410093403587735,-0.12172531737536665,-0.05866980435984369,0.1175547505046401,-0.17689912016092452,1.0,0.1422155665731019,0.26882024903430585,0.303217316471267],[-0.02175831454172865,0.016693597118289737,0.039670140158405094,-0.06764621581694522,0.08198064786229413,-0.23120468614927456,-0.03125138328094924,0.067607950618842,-0.0601934423079175,0.1422155665731019,1.0,0.11506685016517659,0.1963709990085022],[-0.03984098852299654,-0.056280331389449816,0.0018333243344492475,0.04840678654407998,0.07908251655551747,-0.09011457393707294,-0.09117390710074676,0.1353838337180066,-0.14901351986369787,0.26882024903430585,0.11506685016517659,1.0,0.27835206087599157],[-0.09346103003898257,-2.4624037430043426e-05,0.044521587940512884,0.02092402298442086,0.12672087881190022,-0.1800762440318641,-0.042577764505147705,0.1219776296680887,-0.11843573686847488,0.303217316471267,0.1963709990085022,0.27835206087599157,1.0]],\"type\":\"heatmap\",\"xaxis\":\"x\",\"yaxis\":\"y\",\"hovertemplate\":\"x: %{x}<br>y: %{y}<br>color: %{z}<extra></extra>\"}],                        {\"template\":{\"data\":{\"barpolar\":[{\"marker\":{\"line\":{\"color\":\"white\",\"width\":0.5},\"pattern\":{\"fillmode\":\"overlay\",\"size\":10,\"solidity\":0.2}},\"type\":\"barpolar\"}],\"bar\":[{\"error_x\":{\"color\":\"#2a3f5f\"},\"error_y\":{\"color\":\"#2a3f5f\"},\"marker\":{\"line\":{\"color\":\"white\",\"width\":0.5},\"pattern\":{\"fillmode\":\"overlay\",\"size\":10,\"solidity\":0.2}},\"type\":\"bar\"}],\"carpet\":[{\"aaxis\":{\"endlinecolor\":\"#2a3f5f\",\"gridcolor\":\"#C8D4E3\",\"linecolor\":\"#C8D4E3\",\"minorgridcolor\":\"#C8D4E3\",\"startlinecolor\":\"#2a3f5f\"},\"baxis\":{\"endlinecolor\":\"#2a3f5f\",\"gridcolor\":\"#C8D4E3\",\"linecolor\":\"#C8D4E3\",\"minorgridcolor\":\"#C8D4E3\",\"startlinecolor\":\"#2a3f5f\"},\"type\":\"carpet\"}],\"choropleth\":[{\"colorbar\":{\"outlinewidth\":0,\"ticks\":\"\"},\"type\":\"choropleth\"}],\"contourcarpet\":[{\"colorbar\":{\"outlinewidth\":0,\"ticks\":\"\"},\"type\":\"contourcarpet\"}],\"contour\":[{\"colorbar\":{\"outlinewidth\":0,\"ticks\":\"\"},\"colorscale\":[[0.0,\"#0d0887\"],[0.1111111111111111,\"#46039f\"],[0.2222222222222222,\"#7201a8\"],[0.3333333333333333,\"#9c179e\"],[0.4444444444444444,\"#bd3786\"],[0.5555555555555556,\"#d8576b\"],[0.6666666666666666,\"#ed7953\"],[0.7777777777777778,\"#fb9f3a\"],[0.8888888888888888,\"#fdca26\"],[1.0,\"#f0f921\"]],\"type\":\"contour\"}],\"heatmapgl\":[{\"colorbar\":{\"outlinewidth\":0,\"ticks\":\"\"},\"colorscale\":[[0.0,\"#0d0887\"],[0.1111111111111111,\"#46039f\"],[0.2222222222222222,\"#7201a8\"],[0.3333333333333333,\"#9c179e\"],[0.4444444444444444,\"#bd3786\"],[0.5555555555555556,\"#d8576b\"],[0.6666666666666666,\"#ed7953\"],[0.7777777777777778,\"#fb9f3a\"],[0.8888888888888888,\"#fdca26\"],[1.0,\"#f0f921\"]],\"type\":\"heatmapgl\"}],\"heatmap\":[{\"colorbar\":{\"outlinewidth\":0,\"ticks\":\"\"},\"colorscale\":[[0.0,\"#0d0887\"],[0.1111111111111111,\"#46039f\"],[0.2222222222222222,\"#7201a8\"],[0.3333333333333333,\"#9c179e\"],[0.4444444444444444,\"#bd3786\"],[0.5555555555555556,\"#d8576b\"],[0.6666666666666666,\"#ed7953\"],[0.7777777777777778,\"#fb9f3a\"],[0.8888888888888888,\"#fdca26\"],[1.0,\"#f0f921\"]],\"type\":\"heatmap\"}],\"histogram2dcontour\":[{\"colorbar\":{\"outlinewidth\":0,\"ticks\":\"\"},\"colorscale\":[[0.0,\"#0d0887\"],[0.1111111111111111,\"#46039f\"],[0.2222222222222222,\"#7201a8\"],[0.3333333333333333,\"#9c179e\"],[0.4444444444444444,\"#bd3786\"],[0.5555555555555556,\"#d8576b\"],[0.6666666666666666,\"#ed7953\"],[0.7777777777777778,\"#fb9f3a\"],[0.8888888888888888,\"#fdca26\"],[1.0,\"#f0f921\"]],\"type\":\"histogram2dcontour\"}],\"histogram2d\":[{\"colorbar\":{\"outlinewidth\":0,\"ticks\":\"\"},\"colorscale\":[[0.0,\"#0d0887\"],[0.1111111111111111,\"#46039f\"],[0.2222222222222222,\"#7201a8\"],[0.3333333333333333,\"#9c179e\"],[0.4444444444444444,\"#bd3786\"],[0.5555555555555556,\"#d8576b\"],[0.6666666666666666,\"#ed7953\"],[0.7777777777777778,\"#fb9f3a\"],[0.8888888888888888,\"#fdca26\"],[1.0,\"#f0f921\"]],\"type\":\"histogram2d\"}],\"histogram\":[{\"marker\":{\"pattern\":{\"fillmode\":\"overlay\",\"size\":10,\"solidity\":0.2}},\"type\":\"histogram\"}],\"mesh3d\":[{\"colorbar\":{\"outlinewidth\":0,\"ticks\":\"\"},\"type\":\"mesh3d\"}],\"parcoords\":[{\"line\":{\"colorbar\":{\"outlinewidth\":0,\"ticks\":\"\"}},\"type\":\"parcoords\"}],\"pie\":[{\"automargin\":true,\"type\":\"pie\"}],\"scatter3d\":[{\"line\":{\"colorbar\":{\"outlinewidth\":0,\"ticks\":\"\"}},\"marker\":{\"colorbar\":{\"outlinewidth\":0,\"ticks\":\"\"}},\"type\":\"scatter3d\"}],\"scattercarpet\":[{\"marker\":{\"colorbar\":{\"outlinewidth\":0,\"ticks\":\"\"}},\"type\":\"scattercarpet\"}],\"scattergeo\":[{\"marker\":{\"colorbar\":{\"outlinewidth\":0,\"ticks\":\"\"}},\"type\":\"scattergeo\"}],\"scattergl\":[{\"marker\":{\"colorbar\":{\"outlinewidth\":0,\"ticks\":\"\"}},\"type\":\"scattergl\"}],\"scattermapbox\":[{\"marker\":{\"colorbar\":{\"outlinewidth\":0,\"ticks\":\"\"}},\"type\":\"scattermapbox\"}],\"scatterpolargl\":[{\"marker\":{\"colorbar\":{\"outlinewidth\":0,\"ticks\":\"\"}},\"type\":\"scatterpolargl\"}],\"scatterpolar\":[{\"marker\":{\"colorbar\":{\"outlinewidth\":0,\"ticks\":\"\"}},\"type\":\"scatterpolar\"}],\"scatter\":[{\"marker\":{\"colorbar\":{\"outlinewidth\":0,\"ticks\":\"\"}},\"type\":\"scatter\"}],\"scatterternary\":[{\"marker\":{\"colorbar\":{\"outlinewidth\":0,\"ticks\":\"\"}},\"type\":\"scatterternary\"}],\"surface\":[{\"colorbar\":{\"outlinewidth\":0,\"ticks\":\"\"},\"colorscale\":[[0.0,\"#0d0887\"],[0.1111111111111111,\"#46039f\"],[0.2222222222222222,\"#7201a8\"],[0.3333333333333333,\"#9c179e\"],[0.4444444444444444,\"#bd3786\"],[0.5555555555555556,\"#d8576b\"],[0.6666666666666666,\"#ed7953\"],[0.7777777777777778,\"#fb9f3a\"],[0.8888888888888888,\"#fdca26\"],[1.0,\"#f0f921\"]],\"type\":\"surface\"}],\"table\":[{\"cells\":{\"fill\":{\"color\":\"#EBF0F8\"},\"line\":{\"color\":\"white\"}},\"header\":{\"fill\":{\"color\":\"#C8D4E3\"},\"line\":{\"color\":\"white\"}},\"type\":\"table\"}]},\"layout\":{\"annotationdefaults\":{\"arrowcolor\":\"#2a3f5f\",\"arrowhead\":0,\"arrowwidth\":1},\"autotypenumbers\":\"strict\",\"coloraxis\":{\"colorbar\":{\"outlinewidth\":0,\"ticks\":\"\"}},\"colorscale\":{\"diverging\":[[0,\"#8e0152\"],[0.1,\"#c51b7d\"],[0.2,\"#de77ae\"],[0.3,\"#f1b6da\"],[0.4,\"#fde0ef\"],[0.5,\"#f7f7f7\"],[0.6,\"#e6f5d0\"],[0.7,\"#b8e186\"],[0.8,\"#7fbc41\"],[0.9,\"#4d9221\"],[1,\"#276419\"]],\"sequential\":[[0.0,\"#0d0887\"],[0.1111111111111111,\"#46039f\"],[0.2222222222222222,\"#7201a8\"],[0.3333333333333333,\"#9c179e\"],[0.4444444444444444,\"#bd3786\"],[0.5555555555555556,\"#d8576b\"],[0.6666666666666666,\"#ed7953\"],[0.7777777777777778,\"#fb9f3a\"],[0.8888888888888888,\"#fdca26\"],[1.0,\"#f0f921\"]],\"sequentialminus\":[[0.0,\"#0d0887\"],[0.1111111111111111,\"#46039f\"],[0.2222222222222222,\"#7201a8\"],[0.3333333333333333,\"#9c179e\"],[0.4444444444444444,\"#bd3786\"],[0.5555555555555556,\"#d8576b\"],[0.6666666666666666,\"#ed7953\"],[0.7777777777777778,\"#fb9f3a\"],[0.8888888888888888,\"#fdca26\"],[1.0,\"#f0f921\"]]},\"colorway\":[\"#636efa\",\"#EF553B\",\"#00cc96\",\"#ab63fa\",\"#FFA15A\",\"#19d3f3\",\"#FF6692\",\"#B6E880\",\"#FF97FF\",\"#FECB52\"],\"font\":{\"color\":\"#2a3f5f\"},\"geo\":{\"bgcolor\":\"white\",\"lakecolor\":\"white\",\"landcolor\":\"white\",\"showlakes\":true,\"showland\":true,\"subunitcolor\":\"#C8D4E3\"},\"hoverlabel\":{\"align\":\"left\"},\"hovermode\":\"closest\",\"mapbox\":{\"style\":\"light\"},\"paper_bgcolor\":\"white\",\"plot_bgcolor\":\"white\",\"polar\":{\"angularaxis\":{\"gridcolor\":\"#EBF0F8\",\"linecolor\":\"#EBF0F8\",\"ticks\":\"\"},\"bgcolor\":\"white\",\"radialaxis\":{\"gridcolor\":\"#EBF0F8\",\"linecolor\":\"#EBF0F8\",\"ticks\":\"\"}},\"scene\":{\"xaxis\":{\"backgroundcolor\":\"white\",\"gridcolor\":\"#DFE8F3\",\"gridwidth\":2,\"linecolor\":\"#EBF0F8\",\"showbackground\":true,\"ticks\":\"\",\"zerolinecolor\":\"#EBF0F8\"},\"yaxis\":{\"backgroundcolor\":\"white\",\"gridcolor\":\"#DFE8F3\",\"gridwidth\":2,\"linecolor\":\"#EBF0F8\",\"showbackground\":true,\"ticks\":\"\",\"zerolinecolor\":\"#EBF0F8\"},\"zaxis\":{\"backgroundcolor\":\"white\",\"gridcolor\":\"#DFE8F3\",\"gridwidth\":2,\"linecolor\":\"#EBF0F8\",\"showbackground\":true,\"ticks\":\"\",\"zerolinecolor\":\"#EBF0F8\"}},\"shapedefaults\":{\"line\":{\"color\":\"#2a3f5f\"}},\"ternary\":{\"aaxis\":{\"gridcolor\":\"#DFE8F3\",\"linecolor\":\"#A2B1C6\",\"ticks\":\"\"},\"baxis\":{\"gridcolor\":\"#DFE8F3\",\"linecolor\":\"#A2B1C6\",\"ticks\":\"\"},\"bgcolor\":\"white\",\"caxis\":{\"gridcolor\":\"#DFE8F3\",\"linecolor\":\"#A2B1C6\",\"ticks\":\"\"}},\"title\":{\"x\":0.05},\"xaxis\":{\"automargin\":true,\"gridcolor\":\"#EBF0F8\",\"linecolor\":\"#EBF0F8\",\"ticks\":\"\",\"title\":{\"standoff\":15},\"zerolinecolor\":\"#EBF0F8\",\"zerolinewidth\":2},\"yaxis\":{\"automargin\":true,\"gridcolor\":\"#EBF0F8\",\"linecolor\":\"#EBF0F8\",\"ticks\":\"\",\"title\":{\"standoff\":15},\"zerolinecolor\":\"#EBF0F8\",\"zerolinewidth\":2}}},\"xaxis\":{\"anchor\":\"y\",\"domain\":[0.0,1.0],\"scaleanchor\":\"y\",\"constrain\":\"domain\"},\"yaxis\":{\"anchor\":\"x\",\"domain\":[0.0,1.0],\"autorange\":\"reversed\",\"constrain\":\"domain\"},\"coloraxis\":{\"colorscale\":[[0.0,\"#132C33\"],[0.25,\"#264D58\"],[0.5,\"#17869E\"],[0.75,\"#51C4D3\"],[1.0,\"#B4DBE9\"]],\"colorbar\":{\"len\":0.85,\"x\":1.1}},\"margin\":{\"t\":60},\"height\":800,\"width\":800,\"font\":{\"family\":\"monospace\"},\"title\":{\"font\":{\"color\":\"black\",\"size\":24},\"text\":\"Correlation Heatmap\",\"x\":0.5,\"y\":0.93}},                        {\"responsive\": true}                    ).then(function(){\n",
              "                            \n",
              "var gd = document.getElementById('017ff6a9-b099-4614-b380-3e2147d93209');\n",
              "var x = new MutationObserver(function (mutations, observer) {{\n",
              "        var display = window.getComputedStyle(gd).display;\n",
              "        if (!display || display === 'none') {{\n",
              "            console.log([gd, 'removed!']);\n",
              "            Plotly.purge(gd);\n",
              "            observer.disconnect();\n",
              "        }}\n",
              "}});\n",
              "\n",
              "// Listen for the removal of the full notebook cells\n",
              "var notebookContainer = gd.closest('#notebook-container');\n",
              "if (notebookContainer) {{\n",
              "    x.observe(notebookContainer, {childList: true});\n",
              "}}\n",
              "\n",
              "// Listen for the clearing of the current output cell\n",
              "var outputEl = gd.closest('.output');\n",
              "if (outputEl) {{\n",
              "    x.observe(outputEl, {childList: true});\n",
              "}}\n",
              "\n",
              "                        })                };                            </script>        </div>\n",
              "</body>\n",
              "</html>"
            ]
          },
          "metadata": {}
        }
      ]
    },
    {
      "cell_type": "code",
      "source": [],
      "metadata": {
        "id": "xQVzOLM1wEVl"
      },
      "execution_count": null,
      "outputs": []
    },
    {
      "cell_type": "markdown",
      "source": [
        "# Modelling"
      ],
      "metadata": {
        "id": "k924XSVfma5O"
      }
    },
    {
      "cell_type": "code",
      "source": [
        "from sklearn.model_selection import KFold\n",
        "from sklearn.model_selection import cross_val_score\n",
        "import seaborn as sns\n",
        "from sklearn.naive_bayes import GaussianNB\n",
        "import statsmodels.formula.api as smf\n",
        "import statsmodels.api as sm\n",
        "from sklearn.linear_model import LogisticRegression\n",
        "from sklearn.metrics import classification_report, confusion_matrix\n",
        "from sklearn.metrics import log_loss, roc_auc_score, recall_score, precision_score, average_precision_score, f1_score, classification_report, accuracy_score, plot_roc_curve, plot_precision_recall_curve, plot_confusion_matri"
      ],
      "metadata": {
        "id": "iEF9z7b7I5K_"
      },
      "execution_count": null,
      "outputs": []
    },
    {
      "cell_type": "code",
      "source": [
        "W=d.anweight"
      ],
      "metadata": {
        "id": "YB9OV-r8A9pa"
      },
      "execution_count": null,
      "outputs": []
    },
    {
      "cell_type": "code",
      "source": [
        "d.drop('anweight', inplace=True, axis=1)"
      ],
      "metadata": {
        "id": "cdkNNl6mBL4L"
      },
      "execution_count": null,
      "outputs": []
    },
    {
      "cell_type": "code",
      "source": [
        "train = d.sample(frac=0.8, random_state=25)\n",
        "test = d.drop(train.index)\n",
        "\n",
        "print(f\"Number of training examples: {train.shape[0]}\")\n",
        "print(f\"Number of testing examples: {test.shape[0]}\")"
      ],
      "metadata": {
        "colab": {
          "base_uri": "https://localhost:8080/"
        },
        "id": "zOzKzsLO-5Rm",
        "outputId": "09c72aa3-6744-49b3-965e-76747bde87f1"
      },
      "execution_count": null,
      "outputs": [
        {
          "output_type": "stream",
          "name": "stdout",
          "text": [
            "Number of training examples: 23606\n",
            "Number of testing examples: 5902\n"
          ]
        }
      ]
    },
    {
      "cell_type": "code",
      "source": [
        "x_train = train[train.columns[0:len(train.columns)-1]]\n",
        "y_train = train[train.columns[-1]]\n",
        "\n",
        "\n",
        "x_test = test[test.columns[0:len(test.columns)-1]]\n",
        "y_test = test[test.columns[-1]]\n",
        "\n",
        "\n",
        "X = d[d.columns[0:len(d.columns)-1]]\n",
        "Y=d[d.columns[-1]]"
      ],
      "metadata": {
        "id": "K21BlB2__Wg3"
      },
      "execution_count": null,
      "outputs": []
    },
    {
      "cell_type": "markdown",
      "source": [
        "## Logistic regression\n"
      ],
      "metadata": {
        "id": "qtxNlhTYmeWa"
      }
    },
    {
      "cell_type": "markdown",
      "source": [
        "### From Statsmodels"
      ],
      "metadata": {
        "id": "H6wl3rDi_gms"
      }
    },
    {
      "cell_type": "markdown",
      "source": [
        "#### Without weight"
      ],
      "metadata": {
        "id": "Hc9JgD9D7tu8"
      }
    },
    {
      "cell_type": "code",
      "source": [
        "formula = \" wrclmch ~ hinctnta +  agea +eisced + lrscale + C(ccnthum) + rdcenr + inctxff + C(cntry) + C(gndr) + C(clmchng) + C(impenv) + ccgdbd\"\n",
        "log_reg = smf.glm(formula, data=train,family=sm.families.Binomial()).fit()"
      ],
      "metadata": {
        "id": "QZV0cU3dqn-u"
      },
      "execution_count": null,
      "outputs": []
    },
    {
      "cell_type": "code",
      "source": [
        "print(log_reg.summary())"
      ],
      "metadata": {
        "colab": {
          "base_uri": "https://localhost:8080/"
        },
        "id": "rQhp-RaDrn7O",
        "outputId": "2099596d-5762-4974-c6c8-4cdae3452bbb"
      },
      "execution_count": null,
      "outputs": [
        {
          "output_type": "stream",
          "name": "stdout",
          "text": [
            "                 Generalized Linear Model Regression Results                  \n",
            "==============================================================================\n",
            "Dep. Variable:                wrclmch   No. Observations:                23606\n",
            "Model:                            GLM   Df Residuals:                    23588\n",
            "Model Family:                Binomial   Df Model:                           17\n",
            "Link Function:                  logit   Scale:                          1.0000\n",
            "Method:                          IRLS   Log-Likelihood:                -11811.\n",
            "Date:                Sun, 04 Dec 2022   Deviance:                       23623.\n",
            "Time:                        18:33:51   Pearson chi2:                 2.54e+04\n",
            "No. Iterations:                     5                                         \n",
            "Covariance Type:            nonrobust                                         \n",
            "=====================================================================================\n",
            "                        coef    std err          z      P>|z|      [0.025      0.975]\n",
            "-------------------------------------------------------------------------------------\n",
            "Intercept             1.1833      0.114     10.408      0.000       0.960       1.406\n",
            "C(ccnthum)[T.2]      -0.5815      0.079     -7.401      0.000      -0.735      -0.427\n",
            "C(cntry)[T.0]        -0.1647      0.090     -1.822      0.068      -0.342       0.012\n",
            "C(cntry)[T.1]        -0.0430      0.093     -0.461      0.645      -0.226       0.140\n",
            "C(cntry)[T.2]        -0.9484      0.096     -9.929      0.000      -1.136      -0.761\n",
            "C(cntry)[T.3]        -0.3384      0.087     -3.881      0.000      -0.509      -0.168\n",
            "C(gndr)[T.1.0]        0.1273      0.032      3.946      0.000       0.064       0.191\n",
            "C(clmchng)[T.2.0]     1.1988      0.039     30.488      0.000       1.122       1.276\n",
            "C(clmchng)[T.3.0]     1.1444      0.115      9.948      0.000       0.919       1.370\n",
            "C(impenv)[T.2.0]      0.7654      0.041     18.672      0.000       0.685       0.846\n",
            "C(impenv)[T.3.0]      0.9085      0.137      6.634      0.000       0.640       1.177\n",
            "hinctnta              0.0630      0.018      3.587      0.000       0.029       0.097\n",
            "agea                  0.0792      0.024      3.300      0.001       0.032       0.126\n",
            "eisced               -0.0343      0.018     -1.957      0.050      -0.069    5.76e-05\n",
            "lrscale               0.0973      0.016      6.007      0.000       0.066       0.129\n",
            "rdcenr               -0.2483      0.017    -14.590      0.000      -0.282      -0.215\n",
            "inctxff               0.2139      0.017     12.801      0.000       0.181       0.247\n",
            "ccgdbd                0.4398      0.018     25.050      0.000       0.405       0.474\n",
            "=====================================================================================\n"
          ]
        }
      ]
    },
    {
      "cell_type": "code",
      "source": [
        "sns.regplot(x='lrscale', y='wrclmch', data=d, logistic=True)"
      ],
      "metadata": {
        "id": "KaschayOL0P6",
        "outputId": "7f84b1e8-b96b-4eed-f4ec-888be2027078",
        "colab": {
          "base_uri": "https://localhost:8080/",
          "height": 296
        }
      },
      "execution_count": null,
      "outputs": [
        {
          "output_type": "execute_result",
          "data": {
            "text/plain": [
              "<matplotlib.axes._subplots.AxesSubplot at 0x7fd4247e3d90>"
            ]
          },
          "metadata": {},
          "execution_count": 222
        },
        {
          "output_type": "display_data",
          "data": {
            "text/plain": [
              "<Figure size 432x288 with 1 Axes>"
            ],
            "image/png": "[encoded data removed]"
          },
          "metadata": {
            "needs_background": "light"
          }
        }
      ]
    },
    {
      "cell_type": "markdown",
      "source": [
        "#### With weight"
      ],
      "metadata": {
        "id": "4JJk0zOd72Bh"
      }
    },
    {
      "cell_type": "code",
      "source": [
        "formula1 = \" wrclmch~ hinctnta +  agea +eisced + lrscale + C(ccnthum) + rdcenr + inctxff + C(cntry, Treatment(reference=3)) + C(gndr)+ C(clmchng)\"\n",
        "log_reg1 = smf.glm(formula1, data=train,family=sm.families.Binomial(),freq_weights=W).fit()"
      ],
      "metadata": {
        "id": "ZSYpotR9qoDH"
      },
      "execution_count": null,
      "outputs": []
    },
    {
      "cell_type": "code",
      "source": [
        "print(log_reg1.summary())"
      ],
      "metadata": {
        "colab": {
          "base_uri": "https://localhost:8080/"
        },
        "id": "cRqRMLle75Dv",
        "outputId": "db415971-b6e5-471e-ef7d-785f6e123d23"
      },
      "execution_count": null,
      "outputs": [
        {
          "output_type": "stream",
          "name": "stdout",
          "text": [
            "                 Generalized Linear Model Regression Results                  \n",
            "==============================================================================\n",
            "Dep. Variable:                wrclmch   No. Observations:                23161\n",
            "Model:                            GLM   Df Residuals:                 25172.99\n",
            "Model Family:                Binomial   Df Model:                           11\n",
            "Link Function:                  logit   Scale:                          1.0000\n",
            "Method:                          IRLS   Log-Likelihood:                -14598.\n",
            "Date:                Sun, 04 Dec 2022   Deviance:                       29195.\n",
            "Time:                        16:27:16   Pearson chi2:                 2.61e+04\n",
            "No. Iterations:                     5                                         \n",
            "Covariance Type:            nonrobust                                         \n",
            "==========================================================================================================\n",
            "                                             coef    std err          z      P>|z|      [0.025      0.975]\n",
            "----------------------------------------------------------------------------------------------------------\n",
            "Intercept                                  1.6257      0.072     22.663      0.000       1.485       1.766\n",
            "C(ccnthum)[T.2]                           -1.0143      0.070    -14.470      0.000      -1.152      -0.877\n",
            "C(cntry, Treatment(reference=3))[T.CE]     0.5290      0.039     13.434      0.000       0.452       0.606\n",
            "C(cntry, Treatment(reference=3))[T.N]      0.6440      0.073      8.871      0.000       0.502       0.786\n",
            "C(cntry, Treatment(reference=3))[T.S]     -0.5921      0.038    -15.629      0.000      -0.666      -0.518\n",
            "C(gndr)[T.1.0]                             0.1292      0.028      4.540      0.000       0.073       0.185\n",
            "hinctnta                                   0.0602      0.015      3.931      0.000       0.030       0.090\n",
            "agea                                       0.1823      0.029      6.353      0.000       0.126       0.239\n",
            "eisced                                    -0.0893      0.015     -5.833      0.000      -0.119      -0.059\n",
            "lrscale                                    0.1648      0.015     10.946      0.000       0.135       0.194\n",
            "rdcenr                                    -0.3742      0.015    -24.894      0.000      -0.404      -0.345\n",
            "inctxff                                    0.2843      0.015     18.910      0.000       0.255       0.314\n",
            "==========================================================================================================\n"
          ]
        }
      ]
    },
    {
      "cell_type": "markdown",
      "source": [
        "### From sklearn"
      ],
      "metadata": {
        "id": "pmt32Vxx_ZmK"
      }
    },
    {
      "cell_type": "code",
      "source": [
        "# instantiate the model\n",
        "lr = LogisticRegression(solver='liblinear', random_state=0)\n",
        "\n",
        "\n",
        "# fit the model\n",
        "lr.fit(x_train, y_train)"
      ],
      "metadata": {
        "colab": {
          "base_uri": "https://localhost:8080/"
        },
        "id": "HVl2tblh-SKW",
        "outputId": "54507636-67a2-4871-e634-1ccac3d1de1b"
      },
      "execution_count": null,
      "outputs": [
        {
          "output_type": "execute_result",
          "data": {
            "text/plain": [
              "LogisticRegression(random_state=0, solver='liblinear')"
            ]
          },
          "metadata": {},
          "execution_count": 481
        }
      ]
    },
    {
      "cell_type": "code",
      "source": [
        "predictions = lr.predict(x_test)\n",
        "print(classification_report(y_test, predictions))"
      ],
      "metadata": {
        "colab": {
          "base_uri": "https://localhost:8080/"
        },
        "id": "wcG8B-Q8j5B7",
        "outputId": "f47f4377-5c43-4205-ab5b-3384132131e8"
      },
      "execution_count": null,
      "outputs": [
        {
          "output_type": "stream",
          "name": "stdout",
          "text": [
            "              precision    recall  f1-score   support\n",
            "\n",
            "           0       0.66      0.43      0.52      1792\n",
            "           1       0.78      0.90      0.84      4110\n",
            "\n",
            "    accuracy                           0.76      5902\n",
            "   macro avg       0.72      0.67      0.68      5902\n",
            "weighted avg       0.75      0.76      0.74      5902\n",
            "\n"
          ]
        }
      ]
    },
    {
      "cell_type": "code",
      "source": [
        "plot_confusion_matrix(lr, x_test, y_test)"
      ],
      "metadata": {
        "colab": {
          "base_uri": "https://localhost:8080/",
          "height": 351
        },
        "id": "peAx4aB_j-_U",
        "outputId": "c3ee6871-12e3-46d4-9501-4ed1a71d7eba"
      },
      "execution_count": null,
      "outputs": [
        {
          "output_type": "stream",
          "name": "stderr",
          "text": [
            "/usr/local/lib/python3.8/dist-packages/sklearn/utils/deprecation.py:87: FutureWarning: Function plot_confusion_matrix is deprecated; Function `plot_confusion_matrix` is deprecated in 1.0 and will be removed in 1.2. Use one of the class methods: ConfusionMatrixDisplay.from_predictions or ConfusionMatrixDisplay.from_estimator.\n",
            "  warnings.warn(msg, category=FutureWarning)\n"
          ]
        },
        {
          "output_type": "execute_result",
          "data": {
            "text/plain": [
              "<sklearn.metrics._plot.confusion_matrix.ConfusionMatrixDisplay at 0x7fd3c638eee0>"
            ]
          },
          "metadata": {},
          "execution_count": 490
        },
        {
          "output_type": "display_data",
          "data": {
            "text/plain": [
              "<Figure size 432x288 with 2 Axes>"
            ],
            "image/png": "[encoded data removed]"
          },
          "metadata": {
            "needs_background": "light"
          }
        }
      ]
    },
    {
      "cell_type": "code",
      "source": [
        "kfold = KFold(n_splits=5, random_state=0, shuffle=True)\n",
        "model = LogisticRegression(solver='liblinear')\n",
        "results = cross_val_score(model, X, Y, cv=kfold)\n",
        "# Output the accuracy. Calculate the mean and std across all folds. \n",
        "print(\"Accuracy: %.3f%% (%.3f%%)\" % (results.mean()*100.0, results.std()*100.0))"
      ],
      "metadata": {
        "id": "RBfRdhMTJG_-",
        "outputId": "e4d5a027-d66d-4737-f446-fc06b2075f59",
        "colab": {
          "base_uri": "https://localhost:8080/"
        }
      },
      "execution_count": null,
      "outputs": [
        {
          "output_type": "stream",
          "name": "stdout",
          "text": [
            "Accuracy: 76.247% (0.607%)\n"
          ]
        }
      ]
    },
    {
      "cell_type": "markdown",
      "source": [
        "## Naive Bayes"
      ],
      "metadata": {
        "id": "psZbC9_6nMOR"
      }
    },
    {
      "cell_type": "code",
      "source": [
        "# instantiate the model\n",
        "gnb = GaussianNB()\n",
        "\n",
        "\n",
        "# fit the model\n",
        "gnb.fit(x_train, y_train)"
      ],
      "metadata": {
        "colab": {
          "base_uri": "https://localhost:8080/"
        },
        "id": "OkrJ_mX3Hh-e",
        "outputId": "5b839d54-677f-4279-e3eb-63ced8c21e92"
      },
      "execution_count": null,
      "outputs": [
        {
          "output_type": "execute_result",
          "data": {
            "text/plain": [
              "GaussianNB()"
            ]
          },
          "metadata": {},
          "execution_count": 419
        }
      ]
    },
    {
      "cell_type": "code",
      "source": [
        "predictions = gnb.predict(x_test)"
      ],
      "metadata": {
        "id": "4DNI0ZCQm0a9"
      },
      "execution_count": null,
      "outputs": []
    },
    {
      "cell_type": "code",
      "source": [
        "print(classification_report(y_test, predictions))"
      ],
      "metadata": {
        "colab": {
          "base_uri": "https://localhost:8080/"
        },
        "id": "UGgOvmA9m5Vf",
        "outputId": "ae7f18cb-ac84-43f7-b6d2-5296348e4ca1"
      },
      "execution_count": null,
      "outputs": [
        {
          "output_type": "stream",
          "name": "stdout",
          "text": [
            "              precision    recall  f1-score   support\n",
            "\n",
            "           0       0.50      0.72      0.59      1792\n",
            "           1       0.85      0.68      0.76      4110\n",
            "\n",
            "    accuracy                           0.70      5902\n",
            "   macro avg       0.67      0.70      0.67      5902\n",
            "weighted avg       0.74      0.70      0.71      5902\n",
            "\n"
          ]
        }
      ]
    },
    {
      "cell_type": "code",
      "source": [
        "plot_confusion_matrix(gnb, x_test, y_test)"
      ],
      "metadata": {
        "colab": {
          "base_uri": "https://localhost:8080/",
          "height": 351
        },
        "id": "BOURHSx0HwKw",
        "outputId": "7b1b8813-f320-453c-d202-f4182973abae"
      },
      "execution_count": null,
      "outputs": [
        {
          "output_type": "stream",
          "name": "stderr",
          "text": [
            "/usr/local/lib/python3.8/dist-packages/sklearn/utils/deprecation.py:87: FutureWarning: Function plot_confusion_matrix is deprecated; Function `plot_confusion_matrix` is deprecated in 1.0 and will be removed in 1.2. Use one of the class methods: ConfusionMatrixDisplay.from_predictions or ConfusionMatrixDisplay.from_estimator.\n",
            "  warnings.warn(msg, category=FutureWarning)\n"
          ]
        },
        {
          "output_type": "execute_result",
          "data": {
            "text/plain": [
              "<sklearn.metrics._plot.confusion_matrix.ConfusionMatrixDisplay at 0x7fd424849610>"
            ]
          },
          "metadata": {},
          "execution_count": 159
        },
        {
          "output_type": "display_data",
          "data": {
            "text/plain": [
              "<Figure size 432x288 with 2 Axes>"
            ],
            "image/png": "[encoded data removed]"
          },
          "metadata": {
            "needs_background": "light"
          }
        }
      ]
    },
    {
      "cell_type": "code",
      "source": [
        "kfold = KFold(n_splits=5, random_state=0, shuffle=True)\n",
        "model = GaussianNB()\n",
        "results = cross_val_score(model, X, Y, cv=kfold)\n",
        "# Output the accuracy. Calculate the mean and std across all folds. \n",
        "print(\"Accuracy: %.3f%% (%.3f%%)\" % (results.mean()*100.0, results.std()*100.0))"
      ],
      "metadata": {
        "id": "HPG6MOc-KzjB",
        "outputId": "dcbd5210-5885-40bf-b720-26b31e4d0215",
        "colab": {
          "base_uri": "https://localhost:8080/"
        }
      },
      "execution_count": null,
      "outputs": [
        {
          "output_type": "stream",
          "name": "stdout",
          "text": [
            "Accuracy: 70.276% (0.212%)\n"
          ]
        }
      ]
    },
    {
      "cell_type": "markdown",
      "source": [
        "## Logistic with smote"
      ],
      "metadata": {
        "id": "et9tH_gjnHqc"
      }
    },
    {
      "cell_type": "code",
      "source": [
        "from imblearn.over_sampling import SMOTE"
      ],
      "metadata": {
        "id": "URnSyxrVR9LV"
      },
      "execution_count": null,
      "outputs": []
    },
    {
      "cell_type": "code",
      "source": [
        "smt = SMOTE()\n",
        "x_smote, y_smote = smt.fit_resample(x_train, y_train.ravel())"
      ],
      "metadata": {
        "id": "1d-uLckbR7VR"
      },
      "execution_count": null,
      "outputs": []
    },
    {
      "cell_type": "code",
      "source": [
        "print(\"Before OverSampling, counts of label '1': {}\".format(sum(y_train==1)))\n",
        "print(\"Before OverSampling, counts of label '0': {} \\n\".format(sum(y_train==0)))\n",
        "\n",
        "sm = SMOTE(random_state=2)\n",
        "x_train_res, y_train_res = sm.fit_resample(x_train, y_train.ravel())\n",
        "\n",
        "print('After OverSampling, the shape of train_X: {}'.format(x_train_res.shape))\n",
        "print('After OverSampling, the shape of train_y: {} \\n'.format(y_train_res.shape))\n",
        "\n",
        "print(\"After OverSampling, counts of label '1': {}\".format(sum(y_train_res==1)))\n",
        "print(\"After OverSampling, counts of label '0': {}\".format(sum(y_train_res==0)))\n"
      ],
      "metadata": {
        "id": "cQaTIYx_SfCz",
        "outputId": "973d4177-e140-4dea-f303-c99f1420cfbb",
        "colab": {
          "base_uri": "https://localhost:8080/"
        }
      },
      "execution_count": null,
      "outputs": [
        {
          "output_type": "stream",
          "name": "stdout",
          "text": [
            "Before OverSampling, counts of label '1': 16609\n",
            "Before OverSampling, counts of label '0': 6997 \n",
            "\n",
            "After OverSampling, the shape of train_X: (33218, 12)\n",
            "After OverSampling, the shape of train_y: (33218,) \n",
            "\n",
            "After OverSampling, counts of label '1': 16609\n",
            "After OverSampling, counts of label '0': 16609\n"
          ]
        }
      ]
    },
    {
      "cell_type": "code",
      "source": [
        "logreg = LogisticRegression(solver='liblinear', random_state=0)\n",
        "\n",
        "\n",
        "# fit the model\n",
        "logreg.fit( x_train_res, y_train_res)"
      ],
      "metadata": {
        "colab": {
          "base_uri": "https://localhost:8080/"
        },
        "id": "8pW352_FiLfe",
        "outputId": "912de0cc-0f67-4c7e-8004-ce12b607b6f1"
      },
      "execution_count": null,
      "outputs": [
        {
          "output_type": "execute_result",
          "data": {
            "text/plain": [
              "LogisticRegression(random_state=0, solver='liblinear')"
            ]
          },
          "metadata": {},
          "execution_count": 497
        }
      ]
    },
    {
      "cell_type": "code",
      "source": [
        "predictions = logreg.predict(x_test)\n",
        "print(classification_report(y_test, predictions))"
      ],
      "metadata": {
        "colab": {
          "base_uri": "https://localhost:8080/"
        },
        "id": "MjUhcH3OniGE",
        "outputId": "16e0ffa1-0a67-4753-c09f-c4a48e19099e"
      },
      "execution_count": null,
      "outputs": [
        {
          "output_type": "stream",
          "name": "stdout",
          "text": [
            "              precision    recall  f1-score   support\n",
            "\n",
            "           0       0.49      0.72      0.59      1792\n",
            "           1       0.85      0.68      0.75      4110\n",
            "\n",
            "    accuracy                           0.69      5902\n",
            "   macro avg       0.67      0.70      0.67      5902\n",
            "weighted avg       0.74      0.69      0.70      5902\n",
            "\n"
          ]
        }
      ]
    },
    {
      "cell_type": "code",
      "source": [
        "plot_confusion_matrix(logreg, x_test, y_test)"
      ],
      "metadata": {
        "id": "4UsB3JXgSBl4",
        "outputId": "7f6ab747-f61c-4aac-f69d-a582665fb266",
        "colab": {
          "base_uri": "https://localhost:8080/",
          "height": 351
        }
      },
      "execution_count": null,
      "outputs": [
        {
          "output_type": "stream",
          "name": "stderr",
          "text": [
            "/usr/local/lib/python3.8/dist-packages/sklearn/utils/deprecation.py:87: FutureWarning: Function plot_confusion_matrix is deprecated; Function `plot_confusion_matrix` is deprecated in 1.0 and will be removed in 1.2. Use one of the class methods: ConfusionMatrixDisplay.from_predictions or ConfusionMatrixDisplay.from_estimator.\n",
            "  warnings.warn(msg, category=FutureWarning)\n"
          ]
        },
        {
          "output_type": "execute_result",
          "data": {
            "text/plain": [
              "<sklearn.metrics._plot.confusion_matrix.ConfusionMatrixDisplay at 0x7fd3c75c3820>"
            ]
          },
          "metadata": {},
          "execution_count": 499
        },
        {
          "output_type": "display_data",
          "data": {
            "text/plain": [
              "<Figure size 432x288 with 2 Axes>"
            ],
            "image/png": "[encoded data removed]"
          },
          "metadata": {
            "needs_background": "light"
          }
        }
      ]
    },
    {
      "cell_type": "markdown",
      "source": [
        "## Naive Bayes with SMOTE"
      ],
      "metadata": {
        "id": "MXc8XtuToBNa"
      }
    },
    {
      "cell_type": "code",
      "source": [
        "gnb = GaussianNB()\n",
        "\n",
        "\n",
        "# fit the model\n",
        "gnb.fit(x_train_res, y_train_res)"
      ],
      "metadata": {
        "colab": {
          "base_uri": "https://localhost:8080/"
        },
        "id": "x6iBXNu_iETZ",
        "outputId": "29c2f743-269c-4b55-8b5e-359549e2d311"
      },
      "execution_count": null,
      "outputs": [
        {
          "output_type": "execute_result",
          "data": {
            "text/plain": [
              "GaussianNB()"
            ]
          },
          "metadata": {},
          "execution_count": 500
        }
      ]
    },
    {
      "cell_type": "code",
      "source": [
        "predictions = gnb.predict(x_test)\n",
        "print(classification_report(y_test, predictions))"
      ],
      "metadata": {
        "colab": {
          "base_uri": "https://localhost:8080/"
        },
        "id": "oOt4VCELoFnc",
        "outputId": "d267d6a1-69fc-41cd-b2b9-14bc76498103"
      },
      "execution_count": null,
      "outputs": [
        {
          "output_type": "stream",
          "name": "stdout",
          "text": [
            "              precision    recall  f1-score   support\n",
            "\n",
            "           0       0.47      0.79      0.59      1792\n",
            "           1       0.87      0.61      0.71      4110\n",
            "\n",
            "    accuracy                           0.66      5902\n",
            "   macro avg       0.67      0.70      0.65      5902\n",
            "weighted avg       0.75      0.66      0.68      5902\n",
            "\n"
          ]
        }
      ]
    },
    {
      "cell_type": "code",
      "source": [
        "plot_confusion_matrix(gnb, x_test, y_test)"
      ],
      "metadata": {
        "id": "Q4C9V_3sTL4a",
        "outputId": "5d536e39-3c9c-4e5e-a6e4-dc80d9491756",
        "colab": {
          "base_uri": "https://localhost:8080/",
          "height": 351
        }
      },
      "execution_count": null,
      "outputs": [
        {
          "output_type": "stream",
          "name": "stderr",
          "text": [
            "/usr/local/lib/python3.8/dist-packages/sklearn/utils/deprecation.py:87: FutureWarning: Function plot_confusion_matrix is deprecated; Function `plot_confusion_matrix` is deprecated in 1.0 and will be removed in 1.2. Use one of the class methods: ConfusionMatrixDisplay.from_predictions or ConfusionMatrixDisplay.from_estimator.\n",
            "  warnings.warn(msg, category=FutureWarning)\n"
          ]
        },
        {
          "output_type": "execute_result",
          "data": {
            "text/plain": [
              "<sklearn.metrics._plot.confusion_matrix.ConfusionMatrixDisplay at 0x7fd3c74e18b0>"
            ]
          },
          "metadata": {},
          "execution_count": 142
        },
        {
          "output_type": "display_data",
          "data": {
            "text/plain": [
              "<Figure size 432x288 with 2 Axes>"
            ],
            "image/png": "[encoded data removed]"
          },
          "metadata": {
            "needs_background": "light"
          }
        }
      ]
    },
    {
      "cell_type": "code",
      "source": [
        "gnb.score(x_train_res, y_train_res)"
      ],
      "metadata": {
        "colab": {
          "base_uri": "https://localhost:8080/"
        },
        "id": "iUZnlrSpiZYo",
        "outputId": "49d2a11e-afaf-4be4-83e0-0002ba5faa4f"
      },
      "execution_count": null,
      "outputs": [
        {
          "output_type": "execute_result",
          "data": {
            "text/plain": [
              "0.5939012302489651"
            ]
          },
          "metadata": {},
          "execution_count": 100
        }
      ]
    },
    {
      "cell_type": "markdown",
      "source": [
        "## Other models"
      ],
      "metadata": {
        "id": "WKqmVteTB6fA"
      }
    },
    {
      "cell_type": "code",
      "source": [
        "from keras.models import Sequential\n",
        "from keras.layers import Dense\n",
        "from keras import optimizers"
      ],
      "metadata": {
        "id": "5MKAzA3LB59V"
      },
      "execution_count": null,
      "outputs": []
    },
    {
      "cell_type": "code",
      "source": [
        "hidden_units=100\n",
        "learning_rate=0.01\n",
        "hidden_layer_act='tanh'\n",
        "output_layer_act='sigmoid'\n",
        "no_epochs=100"
      ],
      "metadata": {
        "id": "lSH2h2_DCB61"
      },
      "execution_count": null,
      "outputs": []
    },
    {
      "cell_type": "code",
      "source": [
        "model = Sequential()"
      ],
      "metadata": {
        "id": "AvTnYdgXCEEf"
      },
      "execution_count": null,
      "outputs": []
    },
    {
      "cell_type": "code",
      "source": [
        "model.add(Dense(hidden_units, input_dim=8, activation=hidden_layer_act))\n",
        "model.add(Dense(hidden_units, activation=hidden_layer_act))\n",
        "model.add(Dense(1, activation=output_layer_act))"
      ],
      "metadata": {
        "id": "Hta-SeSMCGbs"
      },
      "execution_count": null,
      "outputs": []
    },
    {
      "cell_type": "code",
      "source": [
        "sgd=optimizers.SGD(lr=learning_rate)\n",
        "model.compile(loss='binary_crossentropy',optimizer=sgd, metrics=['acc'])"
      ],
      "metadata": {
        "id": "ukbNT70OCJGQ",
        "outputId": "58a0f736-6d41-449f-8c9e-de07726a57a6",
        "colab": {
          "base_uri": "https://localhost:8080/"
        }
      },
      "execution_count": null,
      "outputs": [
        {
          "output_type": "stream",
          "name": "stderr",
          "text": [
            "/usr/local/lib/python3.8/dist-packages/keras/optimizers/optimizer_v2/gradient_descent.py:108: UserWarning: The `lr` argument is deprecated, use `learning_rate` instead.\n",
            "  super(SGD, self).__init__(name, **kwargs)\n"
          ]
        }
      ]
    },
    {
      "cell_type": "code",
      "source": [
        "model.fit(x_train, y_train, epochs=no_epochs, batch_size=len(train),  verbose=2)"
      ],
      "metadata": {
        "id": "j5PAtfp6COnt",
        "outputId": "f6e6f1aa-f36f-4a6b-9c7c-55ad7df3a10f",
        "colab": {
          "base_uri": "https://localhost:8080/",
          "height": 588
        }
      },
      "execution_count": null,
      "outputs": [
        {
          "output_type": "stream",
          "name": "stdout",
          "text": [
            "Epoch 1/100\n"
          ]
        },
        {
          "output_type": "error",
          "ename": "ValueError",
          "evalue": "ignored",
          "traceback": [
            "\u001b[0;31m---------------------------------------------------------------------------\u001b[0m",
            "\u001b[0;31mValueError\u001b[0m                                Traceback (most recent call last)",
            "\u001b[0;32m<ipython-input-120-58aaf2b5e9ec>\u001b[0m in \u001b[0;36m<module>\u001b[0;34m\u001b[0m\n\u001b[0;32m----> 1\u001b[0;31m \u001b[0mmodel\u001b[0m\u001b[0;34m.\u001b[0m\u001b[0mfit\u001b[0m\u001b[0;34m(\u001b[0m\u001b[0mx_train\u001b[0m\u001b[0;34m,\u001b[0m \u001b[0my_train\u001b[0m\u001b[0;34m,\u001b[0m \u001b[0mepochs\u001b[0m\u001b[0;34m=\u001b[0m\u001b[0mno_epochs\u001b[0m\u001b[0;34m,\u001b[0m \u001b[0mbatch_size\u001b[0m\u001b[0;34m=\u001b[0m\u001b[0mlen\u001b[0m\u001b[0;34m(\u001b[0m\u001b[0mtrain\u001b[0m\u001b[0;34m)\u001b[0m\u001b[0;34m,\u001b[0m  \u001b[0mverbose\u001b[0m\u001b[0;34m=\u001b[0m\u001b[0;36m2\u001b[0m\u001b[0;34m)\u001b[0m\u001b[0;34m\u001b[0m\u001b[0;34m\u001b[0m\u001b[0m\n\u001b[0m",
            "\u001b[0;32m/usr/local/lib/python3.8/dist-packages/keras/utils/traceback_utils.py\u001b[0m in \u001b[0;36merror_handler\u001b[0;34m(*args, **kwargs)\u001b[0m\n\u001b[1;32m     65\u001b[0m     \u001b[0;32mexcept\u001b[0m \u001b[0mException\u001b[0m \u001b[0;32mas\u001b[0m \u001b[0me\u001b[0m\u001b[0;34m:\u001b[0m  \u001b[0;31m# pylint: disable=broad-except\u001b[0m\u001b[0;34m\u001b[0m\u001b[0;34m\u001b[0m\u001b[0m\n\u001b[1;32m     66\u001b[0m       \u001b[0mfiltered_tb\u001b[0m \u001b[0;34m=\u001b[0m \u001b[0m_process_traceback_frames\u001b[0m\u001b[0;34m(\u001b[0m\u001b[0me\u001b[0m\u001b[0;34m.\u001b[0m\u001b[0m__traceback__\u001b[0m\u001b[0;34m)\u001b[0m\u001b[0;34m\u001b[0m\u001b[0;34m\u001b[0m\u001b[0m\n\u001b[0;32m---> 67\u001b[0;31m       \u001b[0;32mraise\u001b[0m \u001b[0me\u001b[0m\u001b[0;34m.\u001b[0m\u001b[0mwith_traceback\u001b[0m\u001b[0;34m(\u001b[0m\u001b[0mfiltered_tb\u001b[0m\u001b[0;34m)\u001b[0m \u001b[0;32mfrom\u001b[0m \u001b[0;32mNone\u001b[0m\u001b[0;34m\u001b[0m\u001b[0;34m\u001b[0m\u001b[0m\n\u001b[0m\u001b[1;32m     68\u001b[0m     \u001b[0;32mfinally\u001b[0m\u001b[0;34m:\u001b[0m\u001b[0;34m\u001b[0m\u001b[0;34m\u001b[0m\u001b[0m\n\u001b[1;32m     69\u001b[0m       \u001b[0;32mdel\u001b[0m \u001b[0mfiltered_tb\u001b[0m\u001b[0;34m\u001b[0m\u001b[0;34m\u001b[0m\u001b[0m\n",
            "\u001b[0;32m/usr/local/lib/python3.8/dist-packages/keras/engine/training.py\u001b[0m in \u001b[0;36mtf__train_function\u001b[0;34m(iterator)\u001b[0m\n\u001b[1;32m     13\u001b[0m                 \u001b[0;32mtry\u001b[0m\u001b[0;34m:\u001b[0m\u001b[0;34m\u001b[0m\u001b[0;34m\u001b[0m\u001b[0m\n\u001b[1;32m     14\u001b[0m                     \u001b[0mdo_return\u001b[0m \u001b[0;34m=\u001b[0m \u001b[0;32mTrue\u001b[0m\u001b[0;34m\u001b[0m\u001b[0;34m\u001b[0m\u001b[0m\n\u001b[0;32m---> 15\u001b[0;31m                     \u001b[0mretval_\u001b[0m \u001b[0;34m=\u001b[0m \u001b[0mag__\u001b[0m\u001b[0;34m.\u001b[0m\u001b[0mconverted_call\u001b[0m\u001b[0;34m(\u001b[0m\u001b[0mag__\u001b[0m\u001b[0;34m.\u001b[0m\u001b[0mld\u001b[0m\u001b[0;34m(\u001b[0m\u001b[0mstep_function\u001b[0m\u001b[0;34m)\u001b[0m\u001b[0;34m,\u001b[0m \u001b[0;34m(\u001b[0m\u001b[0mag__\u001b[0m\u001b[0;34m.\u001b[0m\u001b[0mld\u001b[0m\u001b[0;34m(\u001b[0m\u001b[0mself\u001b[0m\u001b[0;34m)\u001b[0m\u001b[0;34m,\u001b[0m \u001b[0mag__\u001b[0m\u001b[0;34m.\u001b[0m\u001b[0mld\u001b[0m\u001b[0;34m(\u001b[0m\u001b[0miterator\u001b[0m\u001b[0;34m)\u001b[0m\u001b[0;34m)\u001b[0m\u001b[0;34m,\u001b[0m \u001b[0;32mNone\u001b[0m\u001b[0;34m,\u001b[0m \u001b[0mfscope\u001b[0m\u001b[0;34m)\u001b[0m\u001b[0;34m\u001b[0m\u001b[0;34m\u001b[0m\u001b[0m\n\u001b[0m\u001b[1;32m     16\u001b[0m                 \u001b[0;32mexcept\u001b[0m\u001b[0;34m:\u001b[0m\u001b[0;34m\u001b[0m\u001b[0;34m\u001b[0m\u001b[0m\n\u001b[1;32m     17\u001b[0m                     \u001b[0mdo_return\u001b[0m \u001b[0;34m=\u001b[0m \u001b[0;32mFalse\u001b[0m\u001b[0;34m\u001b[0m\u001b[0;34m\u001b[0m\u001b[0m\n",
            "\u001b[0;31mValueError\u001b[0m: in user code:\n\n    File \"/usr/local/lib/python3.8/dist-packages/keras/engine/training.py\", line 1051, in train_function  *\n        return step_function(self, iterator)\n    File \"/usr/local/lib/python3.8/dist-packages/keras/engine/training.py\", line 1040, in step_function  **\n        outputs = model.distribute_strategy.run(run_step, args=(data,))\n    File \"/usr/local/lib/python3.8/dist-packages/keras/engine/training.py\", line 1030, in run_step  **\n        outputs = model.train_step(data)\n    File \"/usr/local/lib/python3.8/dist-packages/keras/engine/training.py\", line 889, in train_step\n        y_pred = self(x, training=True)\n    File \"/usr/local/lib/python3.8/dist-packages/keras/utils/traceback_utils.py\", line 67, in error_handler\n        raise e.with_traceback(filtered_tb) from None\n    File \"/usr/local/lib/python3.8/dist-packages/keras/engine/input_spec.py\", line 264, in assert_input_compatibility\n        raise ValueError(f'Input {input_index} of layer \"{layer_name}\" is '\n\n    ValueError: Input 0 of layer \"sequential\" is incompatible with the layer: expected shape=(None, 8), found shape=(24286, 9)\n"
          ]
        }
      ]
    },
    {
      "cell_type": "code",
      "source": [
        "from sklearn.neighbors import KNeighborsClassifier"
      ],
      "metadata": {
        "id": "56GlR5WlDq7Z"
      },
      "execution_count": null,
      "outputs": []
    },
    {
      "cell_type": "code",
      "source": [
        "knn = KNeighborsClassifier(algorithm = 'brute', n_jobs=-1)\n",
        "knn.fit(x_train, y_train)"
      ],
      "metadata": {
        "id": "KHkDW-JuDtER",
        "outputId": "f9647d8a-9e95-4d60-e8a5-017b7c4e8359",
        "colab": {
          "base_uri": "https://localhost:8080/"
        }
      },
      "execution_count": null,
      "outputs": [
        {
          "output_type": "execute_result",
          "data": {
            "text/plain": [
              "KNeighborsClassifier(algorithm='brute', n_jobs=-1)"
            ]
          },
          "metadata": {},
          "execution_count": 437
        }
      ]
    },
    {
      "cell_type": "code",
      "source": [
        "predictions = knn.predict(x_test)\n",
        "print(classification_report(y_test, predictions))"
      ],
      "metadata": {
        "id": "bobeiESBD3Pa",
        "outputId": "2c5d1094-49eb-464d-ff4e-7419acabbd01",
        "colab": {
          "base_uri": "https://localhost:8080/"
        }
      },
      "execution_count": null,
      "outputs": [
        {
          "output_type": "stream",
          "name": "stdout",
          "text": [
            "              precision    recall  f1-score   support\n",
            "\n",
            "           0       0.59      0.47      0.52      1792\n",
            "           1       0.79      0.86      0.82      4110\n",
            "\n",
            "    accuracy                           0.74      5902\n",
            "   macro avg       0.69      0.66      0.67      5902\n",
            "weighted avg       0.73      0.74      0.73      5902\n",
            "\n"
          ]
        }
      ]
    },
    {
      "cell_type": "code",
      "source": [
        "from sklearn.tree import DecisionTreeClassifier"
      ],
      "metadata": {
        "id": "1xjO59DkEAbi"
      },
      "execution_count": null,
      "outputs": []
    },
    {
      "cell_type": "code",
      "source": [
        "clf = DecisionTreeClassifier()\n",
        "clf.fit(x_train, y_train)"
      ],
      "metadata": {
        "id": "hjR3APVJECMx",
        "outputId": "694fd853-ee1d-4229-dccc-225d9313e73e",
        "colab": {
          "base_uri": "https://localhost:8080/"
        }
      },
      "execution_count": null,
      "outputs": [
        {
          "output_type": "execute_result",
          "data": {
            "text/plain": [
              "DecisionTreeClassifier()"
            ]
          },
          "metadata": {},
          "execution_count": 440
        }
      ]
    },
    {
      "cell_type": "code",
      "source": [
        "predictions = clf.predict(x_test)\n",
        "print(classification_report(y_test, predictions))"
      ],
      "metadata": {
        "id": "cAbd3f91EHic",
        "outputId": "6fc3b205-a8e7-40d5-f391-2e22a067d1c0",
        "colab": {
          "base_uri": "https://localhost:8080/"
        }
      },
      "execution_count": null,
      "outputs": [
        {
          "output_type": "stream",
          "name": "stdout",
          "text": [
            "              precision    recall  f1-score   support\n",
            "\n",
            "           0       0.46      0.46      0.46      1792\n",
            "           1       0.76      0.76      0.76      4110\n",
            "\n",
            "    accuracy                           0.67      5902\n",
            "   macro avg       0.61      0.61      0.61      5902\n",
            "weighted avg       0.67      0.67      0.67      5902\n",
            "\n"
          ]
        }
      ]
    },
    {
      "cell_type": "code",
      "source": [
        "from sklearn.ensemble import RandomForestClassifier\n",
        "\n",
        "rf = RandomForestClassifier(n_estimators=30, max_depth=9)\n",
        "rf.fit(x_train, y_train)"
      ],
      "metadata": {
        "id": "m3HJA3DiERzG",
        "outputId": "7c5fd73e-7c74-46df-8e3f-1b3d6634765d",
        "colab": {
          "base_uri": "https://localhost:8080/"
        }
      },
      "execution_count": null,
      "outputs": [
        {
          "output_type": "execute_result",
          "data": {
            "text/plain": [
              "RandomForestClassifier(max_depth=9, n_estimators=30)"
            ]
          },
          "metadata": {},
          "execution_count": 442
        }
      ]
    },
    {
      "cell_type": "code",
      "source": [
        "predictions = rf.predict(x_test)\n",
        "print(classification_report(y_test, predictions))"
      ],
      "metadata": {
        "id": "dUyCapfiEV5r",
        "outputId": "8e1f5b3f-ef0c-42dc-8251-4e76fd5dd468",
        "colab": {
          "base_uri": "https://localhost:8080/"
        }
      },
      "execution_count": null,
      "outputs": [
        {
          "output_type": "stream",
          "name": "stdout",
          "text": [
            "              precision    recall  f1-score   support\n",
            "\n",
            "           0       0.67      0.44      0.53      1792\n",
            "           1       0.79      0.91      0.84      4110\n",
            "\n",
            "    accuracy                           0.76      5902\n",
            "   macro avg       0.73      0.67      0.69      5902\n",
            "weighted avg       0.75      0.76      0.75      5902\n",
            "\n"
          ]
        }
      ]
    },
    {
      "cell_type": "code",
      "source": [],
      "metadata": {
        "id": "GlXLM065Yorm"
      },
      "execution_count": null,
      "outputs": []
    },
    {
      "cell_type": "code",
      "source": [
        "from sklearn.svm import LinearSVC\n",
        "svm=LinearSVC(C=0.0001)\n",
        "svm.fit(x_train, y_train)"
      ],
      "metadata": {
        "id": "cxuv9YcgYovZ",
        "outputId": "a542162f-3d6e-4b32-90a7-6adb87f844a4",
        "colab": {
          "base_uri": "https://localhost:8080/"
        }
      },
      "execution_count": null,
      "outputs": [
        {
          "output_type": "execute_result",
          "data": {
            "text/plain": [
              "LinearSVC(C=0.0001)"
            ]
          },
          "metadata": {},
          "execution_count": 472
        }
      ]
    },
    {
      "cell_type": "code",
      "source": [
        "predictions = svm.predict(x_test)\n",
        "print(classification_report(y_test, predictions))"
      ],
      "metadata": {
        "id": "-WjYBeEWYr_D",
        "outputId": "e857d749-a6c3-42d3-dd6d-e5077709d1cb",
        "colab": {
          "base_uri": "https://localhost:8080/"
        }
      },
      "execution_count": null,
      "outputs": [
        {
          "output_type": "stream",
          "name": "stdout",
          "text": [
            "              precision    recall  f1-score   support\n",
            "\n",
            "           0       0.74      0.25      0.38      1792\n",
            "           1       0.75      0.96      0.84      4110\n",
            "\n",
            "    accuracy                           0.75      5902\n",
            "   macro avg       0.74      0.61      0.61      5902\n",
            "weighted avg       0.75      0.75      0.70      5902\n",
            "\n"
          ]
        }
      ]
    },
    {
      "cell_type": "code",
      "source": [
        "from sklearn.ensemble import VotingClassifier\n",
        "# 1) naive bias = mnb\n",
        "# 2) logistic regression =lr\n",
        "# 3) random forest =rf\n",
        "# 4) support vector machine = svm\n",
        "evc=VotingClassifier(estimators=[('mnb',gnb),('lr',lr),('rf',rf),('svm',svm)],voting='hard')\n",
        "evc.fit(x_train, y_train)\n",
        "print(\"score on test: \" + str(evc.score(x_test, y_test)))\n",
        "print(\"score on train: \"+ str(evc.score(x_train, y_train)))"
      ],
      "metadata": {
        "id": "-KPGY_mHEnBI",
        "outputId": "e285d32d-7608-4a65-97d0-acc420704df0",
        "colab": {
          "base_uri": "https://localhost:8080/"
        }
      },
      "execution_count": null,
      "outputs": [
        {
          "output_type": "stream",
          "name": "stdout",
          "text": [
            "score on test: 0.7626228397153507\n",
            "score on train: 0.7823434719986444\n"
          ]
        }
      ]
    },
    {
      "cell_type": "code",
      "source": [
        "predictions = evc.predict(x_test)\n",
        "print(classification_report(y_test, predictions))"
      ],
      "metadata": {
        "id": "IM3niVJdFJpK",
        "outputId": "64056230-9e0a-46ac-9e8a-c1f53204c46d",
        "colab": {
          "base_uri": "https://localhost:8080/"
        }
      },
      "execution_count": null,
      "outputs": [
        {
          "output_type": "stream",
          "name": "stdout",
          "text": [
            "              precision    recall  f1-score   support\n",
            "\n",
            "           0       0.64      0.50      0.56      1792\n",
            "           1       0.80      0.88      0.84      4110\n",
            "\n",
            "    accuracy                           0.76      5902\n",
            "   macro avg       0.72      0.69      0.70      5902\n",
            "weighted avg       0.75      0.76      0.75      5902\n",
            "\n"
          ]
        }
      ]
    }
  ]
}