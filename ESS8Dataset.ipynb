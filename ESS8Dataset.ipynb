{
  "nbformat": 4,
  "nbformat_minor": 0,
  "metadata": {
    "colab": {
      "provenance": [],
      "include_colab_link": true
    },
    "kernelspec": {
      "name": "python3",
      "display_name": "Python 3"
    },
    "language_info": {
      "name": "python"
    }
  },
  "cells": [
    {
      "cell_type": "markdown",
      "metadata": {
        "id": "view-in-github",
        "colab_type": "text"
      },
      "source": [
        "<a href=\"https://colab.research.google.com/github/Sottix99/SMOS_Final_Project/blob/main/ESS8Dataset.ipynb\" target=\"_parent\"><img src=\"https://colab.research.google.com/assets/colab-badge.svg\" alt=\"Open In Colab\"/></a>"
      ]
    },
    {
      "cell_type": "markdown",
      "source": [
        "# Load the dataset"
      ],
      "metadata": {
        "id": "5WkwRAQLl7nK"
      }
    },
    {
      "cell_type": "code",
      "source": [
        "%%capture\n",
        "import numpy as np\n",
        "import pandas as pd \n",
        "from tqdm import tqdm\n",
        "import matplotlib.pyplot as plt\n",
        "import time\n",
        "import csv\n",
        "import os\n",
        "import missingno as msno\n",
        "from collections import Counter\n",
        "from datetime import datetime\n",
        "from scipy.cluster.hierarchy import dendrogram, linkage\n",
        "from collections import defaultdict\n",
        "import statistics\n",
        "from sklearn.preprocessing import Normalizer, StandardScaler\n",
        "from sklearn import preprocessing\n",
        "import plotly.express as px\n",
        "import seaborn as sns"
      ],
      "metadata": {
        "id": "m1QZ4Dr3sHso"
      },
      "execution_count": 1,
      "outputs": []
    },
    {
      "cell_type": "code",
      "execution_count": 2,
      "metadata": {
        "colab": {
          "base_uri": "https://localhost:8080/"
        },
        "id": "8R4YXIh9rzW9",
        "outputId": "875dc704-7be6-493f-dff7-1432c0c7d9c9"
      },
      "outputs": [
        {
          "output_type": "stream",
          "name": "stdout",
          "text": [
            "Mounted at /content/drive\n"
          ]
        }
      ],
      "source": [
        "from google.colab import drive\n",
        "drive.mount('/content/drive')"
      ]
    },
    {
      "cell_type": "code",
      "source": [
        "df= pd.read_csv(r'/content/drive/MyDrive/SMOS/ESS8e02_2.csv',low_memory=False)"
      ],
      "metadata": {
        "id": "UHUf1oFmr6-B"
      },
      "execution_count": 3,
      "outputs": []
    },
    {
      "cell_type": "code",
      "source": [
        "df.head()"
      ],
      "metadata": {
        "colab": {
          "base_uri": "https://localhost:8080/",
          "height": 235
        },
        "id": "Udm8UAHlsP7R",
        "outputId": "eb6de53a-dce6-4df8-8cf7-a560f69055f4"
      },
      "execution_count": 4,
      "outputs": [
        {
          "output_type": "execute_result",
          "data": {
            "text/plain": [
              "        name  essround  edition    proddate  idno cntry   dweight   pspwght  \\\n",
              "0  ESS8e02_2         8      2.2  10.12.2020     1    AT  0.611677  1.178495   \n",
              "1  ESS8e02_2         8      2.2  10.12.2020     2    AT  1.223354  0.899471   \n",
              "2  ESS8e02_2         8      2.2  10.12.2020     4    AT  0.389058  0.315753   \n",
              "3  ESS8e02_2         8      2.2  10.12.2020     6    AT  0.642594  0.472467   \n",
              "4  ESS8e02_2         8      2.2  10.12.2020    10    AT  3.432402  2.246706   \n",
              "\n",
              "    pweight  anweight  ...  inwmms  inwyys  inwshh  inwsmm  inwdde  inwmme  \\\n",
              "0  0.370393  0.436506  ...      12    2016       7      37       5      12   \n",
              "1  0.370393  0.333158  ...      11    2016       9      39      25      11   \n",
              "2  0.370393  0.116953  ...      11    2016      17      17      22      11   \n",
              "3  0.370393  0.174999  ...      10    2016      19       9      11      10   \n",
              "4  0.370393  0.832164  ...      12    2016      10      31       1      12   \n",
              "\n",
              "   inwyye  inwehh  inwemm  inwtm  \n",
              "0    2016       8      33   50.0  \n",
              "1    2016      11      10   86.0  \n",
              "2    2016      18       0   38.0  \n",
              "3    2016      19      59   46.0  \n",
              "4    2016      11      49   70.0  \n",
              "\n",
              "[5 rows x 535 columns]"
            ],
            "text/html": [
              "\n",
              "  <div id=\"df-f12c3455-41c4-418b-a3a4-8004c7155d69\">\n",
              "    <div class=\"colab-df-container\">\n",
              "      <div>\n",
              "<style scoped>\n",
              "    .dataframe tbody tr th:only-of-type {\n",
              "        vertical-align: middle;\n",
              "    }\n",
              "\n",
              "    .dataframe tbody tr th {\n",
              "        vertical-align: top;\n",
              "    }\n",
              "\n",
              "    .dataframe thead th {\n",
              "        text-align: right;\n",
              "    }\n",
              "</style>\n",
              "<table border=\"1\" class=\"dataframe\">\n",
              "  <thead>\n",
              "    <tr style=\"text-align: right;\">\n",
              "      <th></th>\n",
              "      <th>name</th>\n",
              "      <th>essround</th>\n",
              "      <th>edition</th>\n",
              "      <th>proddate</th>\n",
              "      <th>idno</th>\n",
              "      <th>cntry</th>\n",
              "      <th>dweight</th>\n",
              "      <th>pspwght</th>\n",
              "      <th>pweight</th>\n",
              "      <th>anweight</th>\n",
              "      <th>...</th>\n",
              "      <th>inwmms</th>\n",
              "      <th>inwyys</th>\n",
              "      <th>inwshh</th>\n",
              "      <th>inwsmm</th>\n",
              "      <th>inwdde</th>\n",
              "      <th>inwmme</th>\n",
              "      <th>inwyye</th>\n",
              "      <th>inwehh</th>\n",
              "      <th>inwemm</th>\n",
              "      <th>inwtm</th>\n",
              "    </tr>\n",
              "  </thead>\n",
              "  <tbody>\n",
              "    <tr>\n",
              "      <th>0</th>\n",
              "      <td>ESS8e02_2</td>\n",
              "      <td>8</td>\n",
              "      <td>2.2</td>\n",
              "      <td>10.12.2020</td>\n",
              "      <td>1</td>\n",
              "      <td>AT</td>\n",
              "      <td>0.611677</td>\n",
              "      <td>1.178495</td>\n",
              "      <td>0.370393</td>\n",
              "      <td>0.436506</td>\n",
              "      <td>...</td>\n",
              "      <td>12</td>\n",
              "      <td>2016</td>\n",
              "      <td>7</td>\n",
              "      <td>37</td>\n",
              "      <td>5</td>\n",
              "      <td>12</td>\n",
              "      <td>2016</td>\n",
              "      <td>8</td>\n",
              "      <td>33</td>\n",
              "      <td>50.0</td>\n",
              "    </tr>\n",
              "    <tr>\n",
              "      <th>1</th>\n",
              "      <td>ESS8e02_2</td>\n",
              "      <td>8</td>\n",
              "      <td>2.2</td>\n",
              "      <td>10.12.2020</td>\n",
              "      <td>2</td>\n",
              "      <td>AT</td>\n",
              "      <td>1.223354</td>\n",
              "      <td>0.899471</td>\n",
              "      <td>0.370393</td>\n",
              "      <td>0.333158</td>\n",
              "      <td>...</td>\n",
              "      <td>11</td>\n",
              "      <td>2016</td>\n",
              "      <td>9</td>\n",
              "      <td>39</td>\n",
              "      <td>25</td>\n",
              "      <td>11</td>\n",
              "      <td>2016</td>\n",
              "      <td>11</td>\n",
              "      <td>10</td>\n",
              "      <td>86.0</td>\n",
              "    </tr>\n",
              "    <tr>\n",
              "      <th>2</th>\n",
              "      <td>ESS8e02_2</td>\n",
              "      <td>8</td>\n",
              "      <td>2.2</td>\n",
              "      <td>10.12.2020</td>\n",
              "      <td>4</td>\n",
              "      <td>AT</td>\n",
              "      <td>0.389058</td>\n",
              "      <td>0.315753</td>\n",
              "      <td>0.370393</td>\n",
              "      <td>0.116953</td>\n",
              "      <td>...</td>\n",
              "      <td>11</td>\n",
              "      <td>2016</td>\n",
              "      <td>17</td>\n",
              "      <td>17</td>\n",
              "      <td>22</td>\n",
              "      <td>11</td>\n",
              "      <td>2016</td>\n",
              "      <td>18</td>\n",
              "      <td>0</td>\n",
              "      <td>38.0</td>\n",
              "    </tr>\n",
              "    <tr>\n",
              "      <th>3</th>\n",
              "      <td>ESS8e02_2</td>\n",
              "      <td>8</td>\n",
              "      <td>2.2</td>\n",
              "      <td>10.12.2020</td>\n",
              "      <td>6</td>\n",
              "      <td>AT</td>\n",
              "      <td>0.642594</td>\n",
              "      <td>0.472467</td>\n",
              "      <td>0.370393</td>\n",
              "      <td>0.174999</td>\n",
              "      <td>...</td>\n",
              "      <td>10</td>\n",
              "      <td>2016</td>\n",
              "      <td>19</td>\n",
              "      <td>9</td>\n",
              "      <td>11</td>\n",
              "      <td>10</td>\n",
              "      <td>2016</td>\n",
              "      <td>19</td>\n",
              "      <td>59</td>\n",
              "      <td>46.0</td>\n",
              "    </tr>\n",
              "    <tr>\n",
              "      <th>4</th>\n",
              "      <td>ESS8e02_2</td>\n",
              "      <td>8</td>\n",
              "      <td>2.2</td>\n",
              "      <td>10.12.2020</td>\n",
              "      <td>10</td>\n",
              "      <td>AT</td>\n",
              "      <td>3.432402</td>\n",
              "      <td>2.246706</td>\n",
              "      <td>0.370393</td>\n",
              "      <td>0.832164</td>\n",
              "      <td>...</td>\n",
              "      <td>12</td>\n",
              "      <td>2016</td>\n",
              "      <td>10</td>\n",
              "      <td>31</td>\n",
              "      <td>1</td>\n",
              "      <td>12</td>\n",
              "      <td>2016</td>\n",
              "      <td>11</td>\n",
              "      <td>49</td>\n",
              "      <td>70.0</td>\n",
              "    </tr>\n",
              "  </tbody>\n",
              "</table>\n",
              "<p>5 rows × 535 columns</p>\n",
              "</div>\n",
              "      <button class=\"colab-df-convert\" onclick=\"convertToInteractive('df-f12c3455-41c4-418b-a3a4-8004c7155d69')\"\n",
              "              title=\"Convert this dataframe to an interactive table.\"\n",
              "              style=\"display:none;\">\n",
              "        \n",
              "  <svg xmlns=\"http://www.w3.org/2000/svg\" height=\"24px\"viewBox=\"0 0 24 24\"\n",
              "       width=\"24px\">\n",
              "    <path d=\"M0 0h24v24H0V0z\" fill=\"none\"/>\n",
              "    <path d=\"M18.56 5.44l.94 2.06.94-2.06 2.06-.94-2.06-.94-.94-2.06-.94 2.06-2.06.94zm-11 1L8.5 8.5l.94-2.06 2.06-.94-2.06-.94L8.5 2.5l-.94 2.06-2.06.94zm10 10l.94 2.06.94-2.06 2.06-.94-2.06-.94-.94-2.06-.94 2.06-2.06.94z\"/><path d=\"M17.41 7.96l-1.37-1.37c-.4-.4-.92-.59-1.43-.59-.52 0-1.04.2-1.43.59L10.3 9.45l-7.72 7.72c-.78.78-.78 2.05 0 2.83L4 21.41c.39.39.9.59 1.41.59.51 0 1.02-.2 1.41-.59l7.78-7.78 2.81-2.81c.8-.78.8-2.07 0-2.86zM5.41 20L4 18.59l7.72-7.72 1.47 1.35L5.41 20z\"/>\n",
              "  </svg>\n",
              "      </button>\n",
              "      \n",
              "  <style>\n",
              "    .colab-df-container {\n",
              "      display:flex;\n",
              "      flex-wrap:wrap;\n",
              "      gap: 12px;\n",
              "    }\n",
              "\n",
              "    .colab-df-convert {\n",
              "      background-color: #E8F0FE;\n",
              "      border: none;\n",
              "      border-radius: 50%;\n",
              "      cursor: pointer;\n",
              "      display: none;\n",
              "      fill: #1967D2;\n",
              "      height: 32px;\n",
              "      padding: 0 0 0 0;\n",
              "      width: 32px;\n",
              "    }\n",
              "\n",
              "    .colab-df-convert:hover {\n",
              "      background-color: #E2EBFA;\n",
              "      box-shadow: 0px 1px 2px rgba(60, 64, 67, 0.3), 0px 1px 3px 1px rgba(60, 64, 67, 0.15);\n",
              "      fill: #174EA6;\n",
              "    }\n",
              "\n",
              "    [theme=dark] .colab-df-convert {\n",
              "      background-color: #3B4455;\n",
              "      fill: #D2E3FC;\n",
              "    }\n",
              "\n",
              "    [theme=dark] .colab-df-convert:hover {\n",
              "      background-color: #434B5C;\n",
              "      box-shadow: 0px 1px 3px 1px rgba(0, 0, 0, 0.15);\n",
              "      filter: drop-shadow(0px 1px 2px rgba(0, 0, 0, 0.3));\n",
              "      fill: #FFFFFF;\n",
              "    }\n",
              "  </style>\n",
              "\n",
              "      <script>\n",
              "        const buttonEl =\n",
              "          document.querySelector('#df-f12c3455-41c4-418b-a3a4-8004c7155d69 button.colab-df-convert');\n",
              "        buttonEl.style.display =\n",
              "          google.colab.kernel.accessAllowed ? 'block' : 'none';\n",
              "\n",
              "        async function convertToInteractive(key) {\n",
              "          const element = document.querySelector('#df-f12c3455-41c4-418b-a3a4-8004c7155d69');\n",
              "          const dataTable =\n",
              "            await google.colab.kernel.invokeFunction('convertToInteractive',\n",
              "                                                     [key], {});\n",
              "          if (!dataTable) return;\n",
              "\n",
              "          const docLinkHtml = 'Like what you see? Visit the ' +\n",
              "            '<a target=\"_blank\" href=https://colab.research.google.com/notebooks/data_table.ipynb>data table notebook</a>'\n",
              "            + ' to learn more about interactive tables.';\n",
              "          element.innerHTML = '';\n",
              "          dataTable['output_type'] = 'display_data';\n",
              "          await google.colab.output.renderOutput(dataTable, element);\n",
              "          const docLink = document.createElement('div');\n",
              "          docLink.innerHTML = docLinkHtml;\n",
              "          element.appendChild(docLink);\n",
              "        }\n",
              "      </script>\n",
              "    </div>\n",
              "  </div>\n",
              "  "
            ]
          },
          "metadata": {},
          "execution_count": 4
        }
      ]
    },
    {
      "cell_type": "markdown",
      "source": [
        "In the ESS8 data there are 535 columns, we want to use only few of them, in particular:\n",
        "\n",
        "* `wrclmch`: How worried about climate change? {1\tNot at all worried,\n",
        "2\tNot very worried,\n",
        "3\tSomewhat worried,\n",
        "4\tVery worried,\n",
        "5\tExtremely worried,\n",
        "6\tNot applicable,\n",
        "7\tRefusal,\n",
        "8\tDon't know,\n",
        "9\tNo answer*}\n",
        "\n",
        "\n",
        "* `clmchng` : Do you think world's climate is changing? {1\tDefinitely changing,\n",
        "2\tProbably changing,\n",
        "3\tProbably not changing,\n",
        "4\tDefinitely not changing,\n",
        "7\tRefusal,\n",
        "8\tDon't know,\n",
        "9\tNo answer}\n",
        "\n",
        "* `impenv` : Important to care for nature and environment {1\tVery much like me,\n",
        "2\tLike me,\n",
        "3\tSomewhat like me,\n",
        "4\tA little like me,\n",
        "5\tNot like me,\n",
        "6\tNot like me at all,\n",
        "7\tRefusal,\n",
        "8\tDon't know,\n",
        "9\tNo answer*}\n",
        "\n",
        "* `ccgdbd` : Climate change good or bad impact across world {0\tExtremely bad,\n",
        "1,\t\n",
        "2\t,\n",
        "3\t,\n",
        "4\t,\n",
        "5\t,\n",
        "6\t,\n",
        "7\t,\n",
        "8\t,\n",
        "9\t,\n",
        "10\tExtremely good,\n",
        "66\tNot applicable\n",
        "77\tRefusal\n",
        "88\tDon't know\n",
        "99\tNo answer}\n",
        "\n",
        "\n",
        "* `ccnthum` : Climate change caused by natural processes, human activity, or both? {\n",
        "1\tEntirely by natural processes,\n",
        "2\tMainly by natural processes,\n",
        "3\tAbout equally by natural processes and human activity,\n",
        "4\tMainly by human activity,\n",
        "5\tEntirely by human activity,\n",
        "55\tI don't think climate change is happening,\n",
        "66\tNot applicable,\n",
        "77\tRefusal,\n",
        "88\tDon't know,\n",
        "99\tNo answer}\n",
        "\n",
        "\n",
        "* `lrscale` : In politics people sometimes talk of 'left' and 'right'. Using this card, where would you place yourself on this scale, where 0 means the left and 10 means the right? {0:\tLeft,\n",
        "\t1,\n",
        "\t2,\n",
        "\t3,\n",
        "\t4,\n",
        "\t5,\n",
        "6,\n",
        "\t7,\n",
        "\t8,\n",
        "\t9,\n",
        "10:\tRight,\n",
        "77\tRefusal,\n",
        "88\tDon't know,\n",
        "99\tNo answer}\n",
        "\n",
        "\n",
        "* `eisced`: Highest level of education, ES - ISCED {\n",
        "0\tNot possible to harmonise into ES-ISCED,\n",
        "1\tES-ISCED I , less than lower secondary,\n",
        "2\tES-ISCED II, lower secondary,\n",
        "3\tES-ISCED IIIb, lower tier upper secondary,\n",
        "4\tES-ISCED IIIa, upper tier upper secondary,\n",
        "5\tES-ISCED IV, advanced vocational, sub-degree,\n",
        "6\tES-ISCED V1, lower tertiary education, BA level,\n",
        "7\tES-ISCED V2, higher tertiary education, >= MA level,\n",
        "55\tOther,\n",
        "77\tRefusal,\n",
        "88\tDon't know,\n",
        "99\tNo answer}\n",
        "\n",
        "\n",
        "* `agea` : Age of respondent , calculated\n",
        "\n",
        "\n",
        "* `gndr` : Gender {1\tMale,\n",
        "2\tFemale,\n",
        "9\tNo answer}\n",
        "\n",
        "\n",
        "* `hinctnta` : Household's total net income, all sources {1\tJ - 1st decile,\n",
        "2\tR - 2nd decile,\n",
        "3\tC - 3rd decile,\n",
        "4\tM - 4th decile,\n",
        "5\tF - 5th decile,\n",
        "6\tS - 6th decile,\n",
        "7\tK - 7th decile,\n",
        "8\tP - 8th decile,\n",
        "9\tD - 9th decile,\n",
        "10\tH - 10th decile,\n",
        "77\tRefusal,\n",
        "88\tDon't know,\n",
        "99\tNo answer}\n",
        "\n",
        "\n",
        "* `cntry` : Country {AT\tAustria,\n",
        "BE\tBelgium,\n",
        "BG\tBulgaria,\n",
        "CH\tSwitzerland,\n",
        "CY\tCyprus,\n",
        "CZ\tCzechia,\n",
        "DE\tGermany,\n",
        "DK\tDenmark,\n",
        "EE\tEstonia,\n",
        "ES\tSpain,\n",
        "FI\tFinland,\n",
        "FR\tFrance,\n",
        "GB\tUnited Kingdom,\n",
        "HR\tCroatia,\n",
        "HU\tHungary,\n",
        "IE\tIreland,\n",
        "IS\tIceland,\n",
        "IT\tItaly,\n",
        "LT\tLithuania,\n",
        "LV\tLatvia,\n",
        "ME\tMontenegro,\n",
        "NL\tNetherlands,\n",
        "NO\tNorway,\n",
        "PL\tPoland,\n",
        "PT\tPortugal,\n",
        "RS\tSerbia,\n",
        "SE\tSweden,\n",
        "SI\tSlovenia,\n",
        "SK\tSlovakia}\n",
        "\n",
        "* `inctxff` : Favour increase taxes on fossil fuels to reduce climate change {1\tStrongly in favour,\n",
        "2\tSomewhat in favour,\n",
        "3\tNeither in favour nor against,\n",
        "4\tSomewhat against,\n",
        "5\tStrongly against,\n",
        "7\tRefusal,\n",
        "8\tDon't know,\n",
        "9\tNo answer}\n",
        "\n",
        "\n",
        "* `rdcenr` : How often do things to reduce energy use {1\tNever,\n",
        "2\tHardly ever,\n",
        "3\tSometimes,\n",
        "4\tOften,\n",
        "5\tVery often,\n",
        "6\tAlways,\n",
        "55\tCannot reduce energy use,\n",
        "77\tRefusal,\n",
        "88\tDon't know,\n",
        "99\tNo answer}\n",
        "\n",
        "\n",
        "* `anweight` : The Analysis weight computed directly from the European Social Survey"
      ],
      "metadata": {
        "id": "WLBapM-msf3C"
      }
    },
    {
      "cell_type": "markdown",
      "source": [
        "# Features Engeneering"
      ],
      "metadata": {
        "id": "HdCEZVgImAv6"
      }
    },
    {
      "cell_type": "code",
      "source": [
        "Selected_columns=['anweight','cntry','hinctnta', 'gndr', 'agea','inctxff','rdcenr','eisced','lrscale','ccnthum','clmchng','impenv','ccgdbd','wrclmch']"
      ],
      "metadata": {
        "id": "oYD4PrebsnET"
      },
      "execution_count": 147,
      "outputs": []
    },
    {
      "cell_type": "code",
      "source": [
        "d=df[Selected_columns]"
      ],
      "metadata": {
        "id": "n5KeQJXHu5Vm"
      },
      "execution_count": 148,
      "outputs": []
    },
    {
      "cell_type": "code",
      "source": [
        "msno.bar(d, color='orange')"
      ],
      "metadata": {
        "colab": {
          "base_uri": "https://localhost:8080/",
          "height": 0
        },
        "id": "425t19datfsd",
        "outputId": "3eb4c404-db8a-4afa-d55d-a186cfa32860"
      },
      "execution_count": 149,
      "outputs": [
        {
          "output_type": "execute_result",
          "data": {
            "text/plain": [
              "<matplotlib.axes._subplots.AxesSubplot at 0x7f7c6e49fd90>"
            ]
          },
          "metadata": {},
          "execution_count": 149
        },
        {
          "output_type": "display_data",
          "data": {
            "text/plain": [
              "<Figure size 1800x720 with 3 Axes>"
            ],
            "image/png": "[encoded data removed]"
          },
          "metadata": {
            "needs_background": "light"
          }
        }
      ]
    },
    {
      "cell_type": "code",
      "source": [
        "d.dropna(inplace=True)"
      ],
      "metadata": {
        "colab": {
          "base_uri": "https://localhost:8080/"
        },
        "id": "w6k6OezR4STW",
        "outputId": "0a181cad-4327-4c7c-b71f-56bc03794e75"
      },
      "execution_count": 150,
      "outputs": [
        {
          "output_type": "stream",
          "name": "stderr",
          "text": [
            "/usr/local/lib/python3.8/dist-packages/pandas/util/_decorators.py:311: SettingWithCopyWarning: \n",
            "A value is trying to be set on a copy of a slice from a DataFrame\n",
            "\n",
            "See the caveats in the documentation: https://pandas.pydata.org/pandas-docs/stable/user_guide/indexing.html#returning-a-view-versus-a-copy\n",
            "  return func(*args, **kwargs)\n"
          ]
        }
      ]
    },
    {
      "cell_type": "code",
      "source": [
        "d.cntry.value_counts()"
      ],
      "metadata": {
        "colab": {
          "base_uri": "https://localhost:8080/"
        },
        "id": "guJxfap570rY",
        "outputId": "888dd11d-9d11-45ec-9fcd-2a2fc21582e3"
      },
      "execution_count": 151,
      "outputs": [
        {
          "output_type": "execute_result",
          "data": {
            "text/plain": [
              "DE    2852\n",
              "IE    2757\n",
              "IT    2626\n",
              "IL    2557\n",
              "RU    2430\n",
              "CZ    2269\n",
              "LT    2122\n",
              "FR    2070\n",
              "EE    2019\n",
              "AT    2010\n",
              "GB    1959\n",
              "ES    1958\n",
              "FI    1925\n",
              "BE    1766\n",
              "PL    1694\n",
              "NL    1681\n",
              "HU    1614\n",
              "SE    1551\n",
              "NO    1545\n",
              "CH    1525\n",
              "SI    1307\n",
              "PT    1270\n",
              "IS     880\n",
              "Name: cntry, dtype: int64"
            ]
          },
          "metadata": {},
          "execution_count": 151
        }
      ]
    },
    {
      "cell_type": "code",
      "source": [
        "d.hinctnta.value_counts()"
      ],
      "metadata": {
        "colab": {
          "base_uri": "https://localhost:8080/"
        },
        "id": "I0F1GTre4Xx3",
        "outputId": "bd7db6ec-2b97-4c96-a4e8-a774be3f78a9"
      },
      "execution_count": 152,
      "outputs": [
        {
          "output_type": "execute_result",
          "data": {
            "text/plain": [
              "77    4990\n",
              "3     4136\n",
              "2     4021\n",
              "4     4017\n",
              "5     3958\n",
              "7     3918\n",
              "6     3851\n",
              "8     3686\n",
              "1     3678\n",
              "88    2902\n",
              "9     2684\n",
              "10    2496\n",
              "99      50\n",
              "Name: hinctnta, dtype: int64"
            ]
          },
          "metadata": {},
          "execution_count": 152
        }
      ]
    },
    {
      "cell_type": "code",
      "source": [
        "d.hinctnta.median()"
      ],
      "metadata": {
        "id": "mvE1Dm2N44H8",
        "outputId": "bfe025c0-9e78-493a-f3ac-1467222839c8",
        "colab": {
          "base_uri": "https://localhost:8080/"
        }
      },
      "execution_count": 153,
      "outputs": [
        {
          "output_type": "execute_result",
          "data": {
            "text/plain": [
              "6.0"
            ]
          },
          "metadata": {},
          "execution_count": 153
        }
      ]
    },
    {
      "cell_type": "code",
      "source": [
        "d.gndr.value_counts()"
      ],
      "metadata": {
        "colab": {
          "base_uri": "https://localhost:8080/"
        },
        "id": "zgb1YSjK4Axq",
        "outputId": "fe14df6e-35f6-4cfa-e21b-fc6251302838"
      },
      "execution_count": 154,
      "outputs": [
        {
          "output_type": "execute_result",
          "data": {
            "text/plain": [
              "2    23351\n",
              "1    21027\n",
              "9        9\n",
              "Name: gndr, dtype: int64"
            ]
          },
          "metadata": {},
          "execution_count": 154
        }
      ]
    },
    {
      "cell_type": "code",
      "source": [
        "d.agea.value_counts()"
      ],
      "metadata": {
        "colab": {
          "base_uri": "https://localhost:8080/"
        },
        "id": "knnJiRWS39Cq",
        "outputId": "e9d3ceee-5c0d-4148-8ac3-d4f8b7892f54"
      },
      "execution_count": 155,
      "outputs": [
        {
          "output_type": "execute_result",
          "data": {
            "text/plain": [
              "60     821\n",
              "51     820\n",
              "59     806\n",
              "65     794\n",
              "52     793\n",
              "      ... \n",
              "96       5\n",
              "99       3\n",
              "98       3\n",
              "97       3\n",
              "100      1\n",
              "Name: agea, Length: 87, dtype: int64"
            ]
          },
          "metadata": {},
          "execution_count": 155
        }
      ]
    },
    {
      "cell_type": "code",
      "source": [
        "d.eisced.value_counts()"
      ],
      "metadata": {
        "colab": {
          "base_uri": "https://localhost:8080/"
        },
        "id": "-yTypy8H4M4p",
        "outputId": "76e4c277-aeea-448e-fa91-3aa81506598e"
      },
      "execution_count": 156,
      "outputs": [
        {
          "output_type": "execute_result",
          "data": {
            "text/plain": [
              "4     8720\n",
              "2     7388\n",
              "3     7153\n",
              "5     6275\n",
              "7     6013\n",
              "6     4760\n",
              "1     3861\n",
              "55      88\n",
              "77      82\n",
              "88      39\n",
              "99       8\n",
              "Name: eisced, dtype: int64"
            ]
          },
          "metadata": {},
          "execution_count": 156
        }
      ]
    },
    {
      "cell_type": "code",
      "source": [
        "d.lrscale.value_counts()"
      ],
      "metadata": {
        "colab": {
          "base_uri": "https://localhost:8080/"
        },
        "id": "qTpZDL0k32EA",
        "outputId": "1a7a8332-c7bd-4789-f7b8-4551968c1759"
      },
      "execution_count": 157,
      "outputs": [
        {
          "output_type": "execute_result",
          "data": {
            "text/plain": [
              "5     12389\n",
              "88     4305\n",
              "7      4269\n",
              "6      4105\n",
              "4      3780\n",
              "3      3754\n",
              "8      3265\n",
              "2      2121\n",
              "10     1592\n",
              "77     1487\n",
              "0      1463\n",
              "9       999\n",
              "1       846\n",
              "99       12\n",
              "Name: lrscale, dtype: int64"
            ]
          },
          "metadata": {},
          "execution_count": 157
        }
      ]
    },
    {
      "cell_type": "code",
      "source": [
        "d.wrclmch.value_counts()"
      ],
      "metadata": {
        "colab": {
          "base_uri": "https://localhost:8080/"
        },
        "id": "qlOKuLLC389r",
        "outputId": "473840f5-9043-4cb2-b6c9-8336c78589bb"
      },
      "execution_count": 158,
      "outputs": [
        {
          "output_type": "execute_result",
          "data": {
            "text/plain": [
              "3    19729\n",
              "4     9649\n",
              "2     8493\n",
              "1     2590\n",
              "5     2193\n",
              "6     1317\n",
              "8      364\n",
              "7       29\n",
              "9       23\n",
              "Name: wrclmch, dtype: int64"
            ]
          },
          "metadata": {},
          "execution_count": 158
        }
      ]
    },
    {
      "cell_type": "code",
      "source": [
        "d.inctxff.value_counts()"
      ],
      "metadata": {
        "colab": {
          "base_uri": "https://localhost:8080/"
        },
        "id": "TZUq8ew_hgqy",
        "outputId": "98c3c315-6cc8-4114-e3ab-654ac5450001"
      },
      "execution_count": 159,
      "outputs": [
        {
          "output_type": "execute_result",
          "data": {
            "text/plain": [
              "4    10766\n",
              "2    10559\n",
              "3     9714\n",
              "5     8034\n",
              "1     3328\n",
              "8     1870\n",
              "7      112\n",
              "9        4\n",
              "Name: inctxff, dtype: int64"
            ]
          },
          "metadata": {},
          "execution_count": 159
        }
      ]
    },
    {
      "cell_type": "code",
      "source": [
        "d.rdcenr.value_counts()"
      ],
      "metadata": {
        "colab": {
          "base_uri": "https://localhost:8080/"
        },
        "id": "xsKMTLKOhgvE",
        "outputId": "82bbbecb-05fa-4b1d-ca1f-1c56c4a8d7d3"
      },
      "execution_count": 160,
      "outputs": [
        {
          "output_type": "execute_result",
          "data": {
            "text/plain": [
              "4     13186\n",
              "5     10920\n",
              "3      9764\n",
              "6      6598\n",
              "2      2337\n",
              "1      1031\n",
              "88      285\n",
              "55      233\n",
              "77       24\n",
              "99        9\n",
              "Name: rdcenr, dtype: int64"
            ]
          },
          "metadata": {},
          "execution_count": 160
        }
      ]
    },
    {
      "cell_type": "code",
      "source": [
        "d.anweight.value_counts()"
      ],
      "metadata": {
        "colab": {
          "base_uri": "https://localhost:8080/"
        },
        "id": "cIe3WqK97VWA",
        "outputId": "87c8553b-e757-41f1-d9da-b0af3a3e426f"
      },
      "execution_count": 161,
      "outputs": [
        {
          "output_type": "execute_result",
          "data": {
            "text/plain": [
              "0.123189    178\n",
              "0.143850    172\n",
              "0.117111    170\n",
              "0.065006    130\n",
              "0.090705    123\n",
              "           ... \n",
              "2.011126      1\n",
              "1.913886      1\n",
              "2.074527      1\n",
              "1.706736      1\n",
              "0.134491      1\n",
              "Name: anweight, Length: 15811, dtype: int64"
            ]
          },
          "metadata": {},
          "execution_count": 161
        }
      ]
    },
    {
      "cell_type": "code",
      "source": [
        "d.clmchng.value_counts()"
      ],
      "metadata": {
        "id": "M12HD_G-Q1an",
        "outputId": "30f90c53-5043-4022-bbe3-83c01740e972",
        "colab": {
          "base_uri": "https://localhost:8080/"
        }
      },
      "execution_count": 162,
      "outputs": [
        {
          "output_type": "execute_result",
          "data": {
            "text/plain": [
              "1    24585\n",
              "2    15764\n",
              "3     1962\n",
              "8     1057\n",
              "4      978\n",
              "7       38\n",
              "9        3\n",
              "Name: clmchng, dtype: int64"
            ]
          },
          "metadata": {},
          "execution_count": 162
        }
      ]
    },
    {
      "cell_type": "code",
      "source": [
        "d.impenv.value_counts()"
      ],
      "metadata": {
        "id": "zATmu8s4SPPa",
        "outputId": "41e7a86b-48d1-4705-920a-ee575669bf49",
        "colab": {
          "base_uri": "https://localhost:8080/"
        }
      },
      "execution_count": 163,
      "outputs": [
        {
          "output_type": "execute_result",
          "data": {
            "text/plain": [
              "2    17116\n",
              "1    12637\n",
              "3     9012\n",
              "4     3538\n",
              "5     1107\n",
              "8      337\n",
              "7      231\n",
              "6      218\n",
              "9      191\n",
              "Name: impenv, dtype: int64"
            ]
          },
          "metadata": {},
          "execution_count": 163
        }
      ]
    },
    {
      "cell_type": "code",
      "source": [
        "d.ccgdbd.value_counts()"
      ],
      "metadata": {
        "id": "YrhknLVmVVbN",
        "outputId": "5716475f-3ccb-4e8d-87e3-3b5fd560b13b",
        "colab": {
          "base_uri": "https://localhost:8080/"
        }
      },
      "execution_count": 164,
      "outputs": [
        {
          "output_type": "execute_result",
          "data": {
            "text/plain": [
              "3     7884\n",
              "2     6847\n",
              "5     6600\n",
              "0     5459\n",
              "4     5184\n",
              "1     3606\n",
              "6     2183\n",
              "7     1810\n",
              "88    1769\n",
              "66    1317\n",
              "8     1094\n",
              "10     305\n",
              "9      260\n",
              "77      50\n",
              "99      19\n",
              "Name: ccgdbd, dtype: int64"
            ]
          },
          "metadata": {},
          "execution_count": 164
        }
      ]
    },
    {
      "cell_type": "markdown",
      "source": [
        "# Clean the dataset"
      ],
      "metadata": {
        "id": "BhwGZuL9lujd"
      }
    },
    {
      "cell_type": "code",
      "source": [
        "from sklearn.preprocessing import Normalizer, StandardScaler"
      ],
      "metadata": {
        "id": "eS2ExQegRYuc"
      },
      "execution_count": 165,
      "outputs": []
    },
    {
      "cell_type": "code",
      "source": [
        "cleanup = {\"hinctnta\":     {77: np.nan ,88: np.nan, 99: np.nan},\n",
        "           \"lrscale\":      {77: np.nan ,88: np.nan, 99: np.nan},\n",
        "           #1.0:0, 2.0:0, 3.0:1, 4.0:1, 5.0:1\n",
        "           \"ccnthum\":      {1.0:1, 2.0:1, 3.0:2, 4.0:2, 5.0:2,66:np.nan, 77: np.nan ,88: np.nan, 99: np.nan, 55:np.nan},\n",
        "           \"eisced\":       {77: np.nan ,88: np.nan, 99: np.nan, 55:np.nan},\n",
        "           \"gndr\":       {2: 0, 9:np.nan},\n",
        "           #\"cntry\": {'BG':1, 'FR': 2, 'CZ':3, 'FI': 4, 'EE':5, 'HU': 6, 'LT':7, 'HR': 8, 'SI':9, 'SK': 10 },\n",
        "           \"wrclmch\": {1:0,2:0,3:1,4:1,5:1, 6: np.nan ,7: np.nan, 8: np.nan, 9:np.nan},\n",
        "           \"rdcenr\": {1:0,2:0,3:0,4:1,5:1,6:1,55: np.nan ,77: np.nan ,88: np.nan, 99: np.nan},\n",
        "           \"inctxff\": {1:1,2:1,3:2,4:0,5:0,7: np.nan ,8: np.nan, 9: np.nan},\n",
        "           \"clmchng\": {1:1,2:1,3:0,4:0,7: np.nan ,8: np.nan, 9: np.nan},\n",
        "           \"impenv\": {1:1, 2:1, 3:2, 4:2, 5:3, 6:3, 7: np.nan ,8: np.nan, 9: np.nan},\n",
        "           \"ccgdbd\": {66: np.nan ,77: np.nan ,88: np.nan, 99: np.nan}\n",
        "           }"
      ],
      "metadata": {
        "id": "16pbhYOT5pki"
      },
      "execution_count": 166,
      "outputs": []
    },
    {
      "cell_type": "code",
      "source": [
        "d = d.replace(cleanup)"
      ],
      "metadata": {
        "id": "R_r2M57M59ss"
      },
      "execution_count": 167,
      "outputs": []
    },
    {
      "cell_type": "code",
      "source": [
        "d.dropna(inplace=True)"
      ],
      "metadata": {
        "id": "SmAmQ8bP6DeO"
      },
      "execution_count": 168,
      "outputs": []
    },
    {
      "cell_type": "code",
      "source": [
        "d['wrclmch'] = d['wrclmch'].astype(int)\n",
        "d['ccnthum'] = d['ccnthum'].astype(int)"
      ],
      "metadata": {
        "id": "5SEZ3E5iMJNB"
      },
      "execution_count": 169,
      "outputs": []
    },
    {
      "cell_type": "code",
      "source": [
        "d.ccnthum.value_counts() # 1 natural reason, 2 human"
      ],
      "metadata": {
        "colab": {
          "base_uri": "https://localhost:8080/"
        },
        "id": "RSveXsgGElLG",
        "outputId": "8fb129ac-16c8-4722-efa3-e2113f4382c1"
      },
      "execution_count": 170,
      "outputs": [
        {
          "output_type": "execute_result",
          "data": {
            "text/plain": [
              "2    27080\n",
              "1     2428\n",
              "Name: ccnthum, dtype: int64"
            ]
          },
          "metadata": {},
          "execution_count": 170
        }
      ]
    },
    {
      "cell_type": "code",
      "source": [
        "d.wrclmch.value_counts() # 1 not worried , 0 worried"
      ],
      "metadata": {
        "colab": {
          "base_uri": "https://localhost:8080/"
        },
        "id": "r52Ncu7_gaad",
        "outputId": "e4f3dc82-f9d4-4bfb-d945-7523c495465a"
      },
      "execution_count": 171,
      "outputs": [
        {
          "output_type": "execute_result",
          "data": {
            "text/plain": [
              "1    22701\n",
              "0     6807\n",
              "Name: wrclmch, dtype: int64"
            ]
          },
          "metadata": {},
          "execution_count": 171
        }
      ]
    },
    {
      "cell_type": "code",
      "source": [
        "d['cntry']= d['cntry'].astype('category')"
      ],
      "metadata": {
        "id": "lyYa4HkL86MQ"
      },
      "execution_count": 172,
      "outputs": []
    },
    {
      "cell_type": "code",
      "source": [
        "d['cntry'] = d['cntry'].map({'DE': 'W', 'IE': 'W', 'IT': 'S', 'IL': np.nan, 'RU': 'CE', 'CZ': 'CE', 'LT': 'CE', 'FR': 'W', 'EE': 'CE', 'AT': 'W', \n",
        "                                                'GB': 'W', 'ES': 'S', 'FI': 'N', 'BE': 'W', 'PL': 'CE', 'NL': 'W', 'HU': 'CE', 'SE': 'N', 'NO': 'N', 'CH': 'W',\n",
        "                                                'SI': 'CE', 'PT': 'S', 'IS': 'N'})\n"
      ],
      "metadata": {
        "id": "OE-FaVK04kUs"
      },
      "execution_count": 173,
      "outputs": []
    },
    {
      "cell_type": "code",
      "source": [
        "d.dropna(inplace=True)"
      ],
      "metadata": {
        "id": "0H_5NGFuG4Jf"
      },
      "execution_count": 174,
      "outputs": []
    },
    {
      "cell_type": "code",
      "source": [
        "d.cntry = pd.Categorical(d.cntry)\n",
        "d['cntry'] = d.cntry.cat.codes"
      ],
      "metadata": {
        "id": "Ehq4asId_8Zv"
      },
      "execution_count": 175,
      "outputs": []
    },
    {
      "cell_type": "code",
      "source": [
        "cols_to_norm = ['hinctnta',  'agea',\n",
        "       'eisced', 'lrscale','ccgdbd']"
      ],
      "metadata": {
        "id": "Aa8aEEcnRBfn"
      },
      "execution_count": 176,
      "outputs": []
    },
    {
      "cell_type": "code",
      "source": [
        "d[cols_to_norm]=StandardScaler().fit_transform(d[cols_to_norm])"
      ],
      "metadata": {
        "id": "ev8NJP8URRXi"
      },
      "execution_count": 177,
      "outputs": []
    },
    {
      "cell_type": "code",
      "source": [
        "d"
      ],
      "metadata": {
        "colab": {
          "base_uri": "https://localhost:8080/",
          "height": 0
        },
        "id": "U8vTCfbb60Ay",
        "outputId": "3392ee84-5127-4e82-f691-f443b1f257d1"
      },
      "execution_count": 178,
      "outputs": [
        {
          "output_type": "execute_result",
          "data": {
            "text/plain": [
              "       anweight  cntry  hinctnta  gndr      agea  inctxff  rdcenr    eisced  \\\n",
              "1      0.333158      3 -0.166975   1.0  0.048614      1.0     1.0 -0.080630   \n",
              "2      0.116953      3 -1.275228   0.0  0.558469      0.0     1.0 -0.623000   \n",
              "3      0.174999      3 -0.536393   1.0  0.112346      2.0     1.0 -0.623000   \n",
              "4      0.832164      3 -1.275228   0.0 -0.971095      2.0     1.0 -0.623000   \n",
              "5      0.374608      3  1.680113   0.0  0.462871      0.0     1.0 -0.080630   \n",
              "...         ...    ...       ...   ...       ...      ...     ...       ...   \n",
              "44378  0.125447      0 -0.536393   1.0  0.494737      2.0     1.0 -0.623000   \n",
              "44379  0.101995      0  0.941278   1.0 -0.875498      0.0     1.0 -0.080630   \n",
              "44382  0.112359      0 -0.536393   0.0  0.462871      2.0     1.0 -0.080630   \n",
              "44384  0.115147      0  0.571860   1.0  0.399139      1.0     1.0  1.004111   \n",
              "44385  0.101719      0  1.680113   0.0 -0.174447      1.0     1.0  1.546481   \n",
              "\n",
              "        lrscale  ccnthum  clmchng  impenv    ccgdbd  wrclmch  \n",
              "1     -1.875307        2      1.0     1.0 -0.569963        1  \n",
              "2     -0.030193        2      1.0     1.0 -0.569963        1  \n",
              "3     -2.336586        2      1.0     2.0  1.759833        1  \n",
              "4     -0.030193        2      1.0     1.0  0.827914        1  \n",
              "5     -0.030193        2      1.0     1.0  0.827914        1  \n",
              "...         ...      ...      ...     ...       ...      ...  \n",
              "44378 -0.030193        2      1.0     1.0 -0.569963        1  \n",
              "44379 -0.030193        2      1.0     1.0  0.827914        1  \n",
              "44382 -1.875307        2      1.0     1.0  0.827914        1  \n",
              "44384 -2.336586        2      1.0     1.0 -1.035923        1  \n",
              "44385 -0.491471        2      1.0     1.0  0.361955        1  \n",
              "\n",
              "[28279 rows x 14 columns]"
            ],
            "text/html": [
              "\n",
              "  <div id=\"df-0c363ff8-e859-4603-a6d8-aec5ef4cd538\">\n",
              "    <div class=\"colab-df-container\">\n",
              "      <div>\n",
              "<style scoped>\n",
              "    .dataframe tbody tr th:only-of-type {\n",
              "        vertical-align: middle;\n",
              "    }\n",
              "\n",
              "    .dataframe tbody tr th {\n",
              "        vertical-align: top;\n",
              "    }\n",
              "\n",
              "    .dataframe thead th {\n",
              "        text-align: right;\n",
              "    }\n",
              "</style>\n",
              "<table border=\"1\" class=\"dataframe\">\n",
              "  <thead>\n",
              "    <tr style=\"text-align: right;\">\n",
              "      <th></th>\n",
              "      <th>anweight</th>\n",
              "      <th>cntry</th>\n",
              "      <th>hinctnta</th>\n",
              "      <th>gndr</th>\n",
              "      <th>agea</th>\n",
              "      <th>inctxff</th>\n",
              "      <th>rdcenr</th>\n",
              "      <th>eisced</th>\n",
              "      <th>lrscale</th>\n",
              "      <th>ccnthum</th>\n",
              "      <th>clmchng</th>\n",
              "      <th>impenv</th>\n",
              "      <th>ccgdbd</th>\n",
              "      <th>wrclmch</th>\n",
              "    </tr>\n",
              "  </thead>\n",
              "  <tbody>\n",
              "    <tr>\n",
              "      <th>1</th>\n",
              "      <td>0.333158</td>\n",
              "      <td>3</td>\n",
              "      <td>-0.166975</td>\n",
              "      <td>1.0</td>\n",
              "      <td>0.048614</td>\n",
              "      <td>1.0</td>\n",
              "      <td>1.0</td>\n",
              "      <td>-0.080630</td>\n",
              "      <td>-1.875307</td>\n",
              "      <td>2</td>\n",
              "      <td>1.0</td>\n",
              "      <td>1.0</td>\n",
              "      <td>-0.569963</td>\n",
              "      <td>1</td>\n",
              "    </tr>\n",
              "    <tr>\n",
              "      <th>2</th>\n",
              "      <td>0.116953</td>\n",
              "      <td>3</td>\n",
              "      <td>-1.275228</td>\n",
              "      <td>0.0</td>\n",
              "      <td>0.558469</td>\n",
              "      <td>0.0</td>\n",
              "      <td>1.0</td>\n",
              "      <td>-0.623000</td>\n",
              "      <td>-0.030193</td>\n",
              "      <td>2</td>\n",
              "      <td>1.0</td>\n",
              "      <td>1.0</td>\n",
              "      <td>-0.569963</td>\n",
              "      <td>1</td>\n",
              "    </tr>\n",
              "    <tr>\n",
              "      <th>3</th>\n",
              "      <td>0.174999</td>\n",
              "      <td>3</td>\n",
              "      <td>-0.536393</td>\n",
              "      <td>1.0</td>\n",
              "      <td>0.112346</td>\n",
              "      <td>2.0</td>\n",
              "      <td>1.0</td>\n",
              "      <td>-0.623000</td>\n",
              "      <td>-2.336586</td>\n",
              "      <td>2</td>\n",
              "      <td>1.0</td>\n",
              "      <td>2.0</td>\n",
              "      <td>1.759833</td>\n",
              "      <td>1</td>\n",
              "    </tr>\n",
              "    <tr>\n",
              "      <th>4</th>\n",
              "      <td>0.832164</td>\n",
              "      <td>3</td>\n",
              "      <td>-1.275228</td>\n",
              "      <td>0.0</td>\n",
              "      <td>-0.971095</td>\n",
              "      <td>2.0</td>\n",
              "      <td>1.0</td>\n",
              "      <td>-0.623000</td>\n",
              "      <td>-0.030193</td>\n",
              "      <td>2</td>\n",
              "      <td>1.0</td>\n",
              "      <td>1.0</td>\n",
              "      <td>0.827914</td>\n",
              "      <td>1</td>\n",
              "    </tr>\n",
              "    <tr>\n",
              "      <th>5</th>\n",
              "      <td>0.374608</td>\n",
              "      <td>3</td>\n",
              "      <td>1.680113</td>\n",
              "      <td>0.0</td>\n",
              "      <td>0.462871</td>\n",
              "      <td>0.0</td>\n",
              "      <td>1.0</td>\n",
              "      <td>-0.080630</td>\n",
              "      <td>-0.030193</td>\n",
              "      <td>2</td>\n",
              "      <td>1.0</td>\n",
              "      <td>1.0</td>\n",
              "      <td>0.827914</td>\n",
              "      <td>1</td>\n",
              "    </tr>\n",
              "    <tr>\n",
              "      <th>...</th>\n",
              "      <td>...</td>\n",
              "      <td>...</td>\n",
              "      <td>...</td>\n",
              "      <td>...</td>\n",
              "      <td>...</td>\n",
              "      <td>...</td>\n",
              "      <td>...</td>\n",
              "      <td>...</td>\n",
              "      <td>...</td>\n",
              "      <td>...</td>\n",
              "      <td>...</td>\n",
              "      <td>...</td>\n",
              "      <td>...</td>\n",
              "      <td>...</td>\n",
              "    </tr>\n",
              "    <tr>\n",
              "      <th>44378</th>\n",
              "      <td>0.125447</td>\n",
              "      <td>0</td>\n",
              "      <td>-0.536393</td>\n",
              "      <td>1.0</td>\n",
              "      <td>0.494737</td>\n",
              "      <td>2.0</td>\n",
              "      <td>1.0</td>\n",
              "      <td>-0.623000</td>\n",
              "      <td>-0.030193</td>\n",
              "      <td>2</td>\n",
              "      <td>1.0</td>\n",
              "      <td>1.0</td>\n",
              "      <td>-0.569963</td>\n",
              "      <td>1</td>\n",
              "    </tr>\n",
              "    <tr>\n",
              "      <th>44379</th>\n",
              "      <td>0.101995</td>\n",
              "      <td>0</td>\n",
              "      <td>0.941278</td>\n",
              "      <td>1.0</td>\n",
              "      <td>-0.875498</td>\n",
              "      <td>0.0</td>\n",
              "      <td>1.0</td>\n",
              "      <td>-0.080630</td>\n",
              "      <td>-0.030193</td>\n",
              "      <td>2</td>\n",
              "      <td>1.0</td>\n",
              "      <td>1.0</td>\n",
              "      <td>0.827914</td>\n",
              "      <td>1</td>\n",
              "    </tr>\n",
              "    <tr>\n",
              "      <th>44382</th>\n",
              "      <td>0.112359</td>\n",
              "      <td>0</td>\n",
              "      <td>-0.536393</td>\n",
              "      <td>0.0</td>\n",
              "      <td>0.462871</td>\n",
              "      <td>2.0</td>\n",
              "      <td>1.0</td>\n",
              "      <td>-0.080630</td>\n",
              "      <td>-1.875307</td>\n",
              "      <td>2</td>\n",
              "      <td>1.0</td>\n",
              "      <td>1.0</td>\n",
              "      <td>0.827914</td>\n",
              "      <td>1</td>\n",
              "    </tr>\n",
              "    <tr>\n",
              "      <th>44384</th>\n",
              "      <td>0.115147</td>\n",
              "      <td>0</td>\n",
              "      <td>0.571860</td>\n",
              "      <td>1.0</td>\n",
              "      <td>0.399139</td>\n",
              "      <td>1.0</td>\n",
              "      <td>1.0</td>\n",
              "      <td>1.004111</td>\n",
              "      <td>-2.336586</td>\n",
              "      <td>2</td>\n",
              "      <td>1.0</td>\n",
              "      <td>1.0</td>\n",
              "      <td>-1.035923</td>\n",
              "      <td>1</td>\n",
              "    </tr>\n",
              "    <tr>\n",
              "      <th>44385</th>\n",
              "      <td>0.101719</td>\n",
              "      <td>0</td>\n",
              "      <td>1.680113</td>\n",
              "      <td>0.0</td>\n",
              "      <td>-0.174447</td>\n",
              "      <td>1.0</td>\n",
              "      <td>1.0</td>\n",
              "      <td>1.546481</td>\n",
              "      <td>-0.491471</td>\n",
              "      <td>2</td>\n",
              "      <td>1.0</td>\n",
              "      <td>1.0</td>\n",
              "      <td>0.361955</td>\n",
              "      <td>1</td>\n",
              "    </tr>\n",
              "  </tbody>\n",
              "</table>\n",
              "<p>28279 rows × 14 columns</p>\n",
              "</div>\n",
              "      <button class=\"colab-df-convert\" onclick=\"convertToInteractive('df-0c363ff8-e859-4603-a6d8-aec5ef4cd538')\"\n",
              "              title=\"Convert this dataframe to an interactive table.\"\n",
              "              style=\"display:none;\">\n",
              "        \n",
              "  <svg xmlns=\"http://www.w3.org/2000/svg\" height=\"24px\"viewBox=\"0 0 24 24\"\n",
              "       width=\"24px\">\n",
              "    <path d=\"M0 0h24v24H0V0z\" fill=\"none\"/>\n",
              "    <path d=\"M18.56 5.44l.94 2.06.94-2.06 2.06-.94-2.06-.94-.94-2.06-.94 2.06-2.06.94zm-11 1L8.5 8.5l.94-2.06 2.06-.94-2.06-.94L8.5 2.5l-.94 2.06-2.06.94zm10 10l.94 2.06.94-2.06 2.06-.94-2.06-.94-.94-2.06-.94 2.06-2.06.94z\"/><path d=\"M17.41 7.96l-1.37-1.37c-.4-.4-.92-.59-1.43-.59-.52 0-1.04.2-1.43.59L10.3 9.45l-7.72 7.72c-.78.78-.78 2.05 0 2.83L4 21.41c.39.39.9.59 1.41.59.51 0 1.02-.2 1.41-.59l7.78-7.78 2.81-2.81c.8-.78.8-2.07 0-2.86zM5.41 20L4 18.59l7.72-7.72 1.47 1.35L5.41 20z\"/>\n",
              "  </svg>\n",
              "      </button>\n",
              "      \n",
              "  <style>\n",
              "    .colab-df-container {\n",
              "      display:flex;\n",
              "      flex-wrap:wrap;\n",
              "      gap: 12px;\n",
              "    }\n",
              "\n",
              "    .colab-df-convert {\n",
              "      background-color: #E8F0FE;\n",
              "      border: none;\n",
              "      border-radius: 50%;\n",
              "      cursor: pointer;\n",
              "      display: none;\n",
              "      fill: #1967D2;\n",
              "      height: 32px;\n",
              "      padding: 0 0 0 0;\n",
              "      width: 32px;\n",
              "    }\n",
              "\n",
              "    .colab-df-convert:hover {\n",
              "      background-color: #E2EBFA;\n",
              "      box-shadow: 0px 1px 2px rgba(60, 64, 67, 0.3), 0px 1px 3px 1px rgba(60, 64, 67, 0.15);\n",
              "      fill: #174EA6;\n",
              "    }\n",
              "\n",
              "    [theme=dark] .colab-df-convert {\n",
              "      background-color: #3B4455;\n",
              "      fill: #D2E3FC;\n",
              "    }\n",
              "\n",
              "    [theme=dark] .colab-df-convert:hover {\n",
              "      background-color: #434B5C;\n",
              "      box-shadow: 0px 1px 3px 1px rgba(0, 0, 0, 0.15);\n",
              "      filter: drop-shadow(0px 1px 2px rgba(0, 0, 0, 0.3));\n",
              "      fill: #FFFFFF;\n",
              "    }\n",
              "  </style>\n",
              "\n",
              "      <script>\n",
              "        const buttonEl =\n",
              "          document.querySelector('#df-0c363ff8-e859-4603-a6d8-aec5ef4cd538 button.colab-df-convert');\n",
              "        buttonEl.style.display =\n",
              "          google.colab.kernel.accessAllowed ? 'block' : 'none';\n",
              "\n",
              "        async function convertToInteractive(key) {\n",
              "          const element = document.querySelector('#df-0c363ff8-e859-4603-a6d8-aec5ef4cd538');\n",
              "          const dataTable =\n",
              "            await google.colab.kernel.invokeFunction('convertToInteractive',\n",
              "                                                     [key], {});\n",
              "          if (!dataTable) return;\n",
              "\n",
              "          const docLinkHtml = 'Like what you see? Visit the ' +\n",
              "            '<a target=\"_blank\" href=https://colab.research.google.com/notebooks/data_table.ipynb>data table notebook</a>'\n",
              "            + ' to learn more about interactive tables.';\n",
              "          element.innerHTML = '';\n",
              "          dataTable['output_type'] = 'display_data';\n",
              "          await google.colab.output.renderOutput(dataTable, element);\n",
              "          const docLink = document.createElement('div');\n",
              "          docLink.innerHTML = docLinkHtml;\n",
              "          element.appendChild(docLink);\n",
              "        }\n",
              "      </script>\n",
              "    </div>\n",
              "  </div>\n",
              "  "
            ]
          },
          "metadata": {},
          "execution_count": 178
        }
      ]
    },
    {
      "cell_type": "code",
      "source": [
        "d.columns = ['W', 'Region', 'Income', 'Gender','Age','Increase_fuel_taxes','Reduce_energy','Education', 'Politics', 'CC_reasons', 'CC_ishappening', 'Care_nature', 'CC_isgood','Y']\n"
      ],
      "metadata": {
        "id": "Oo9MI2S9wrUR"
      },
      "execution_count": 179,
      "outputs": []
    },
    {
      "cell_type": "code",
      "source": [
        "d.dropna(inplace=True)"
      ],
      "metadata": {
        "id": "ocEqTKq0y0oS"
      },
      "execution_count": 180,
      "outputs": []
    },
    {
      "cell_type": "markdown",
      "source": [
        "# Exploratory Data Analysis"
      ],
      "metadata": {
        "id": "ki_tw1OKrsW4"
      }
    },
    {
      "cell_type": "code",
      "source": [
        "colors_green = ['#01411C','#4B6F44','#4F7942','#74C365','#D0F0C0']\n",
        "colors_blue = [\"#132C33\", \"#264D58\", '#17869E', '#51C4D3', '#B4DBE9']\n",
        "colors_red = [\"#132C33\", \"#264D58\", '#17869E', '#51C4D3', '#B4DBE9']"
      ],
      "metadata": {
        "id": "mZJJ33OxuT8p"
      },
      "execution_count": null,
      "outputs": []
    },
    {
      "cell_type": "code",
      "source": [
        "h= pd.DataFrame(d['Y'].value_counts())\n",
        "fig = px.pie(h,values='Y',names=['Not Worried','Worried'],hole=0.4,opacity=0.6,\n",
        "            color_discrete_sequence=[colors_green[3],'darkred'],\n",
        "             labels={'label':'Potability','Potability':'No. Of Samples'})\n",
        "fig.update_traces(textposition='outside', textinfo='percent+label')\n",
        "\n",
        "fig.update_layout(\n",
        "    font_family='monospace',\n",
        "    title=dict(text='Q. Are you worried about climate change?',x=0.47,y=0.98,\n",
        "               font=dict(size=20)),\n",
        "    legend=dict(x=0.37,y=-0.05,orientation='h',traceorder='reversed'),\n",
        "    hoverlabel=dict(bgcolor='white'))\n",
        "\n",
        "fig.show()"
      ],
      "metadata": {
        "colab": {
          "base_uri": "https://localhost:8080/",
          "height": 542
        },
        "id": "1i8TdoFirsCz",
        "outputId": "6d5a8dc3-9a04-41d5-e172-2e39604b0f78"
      },
      "execution_count": null,
      "outputs": [
        {
          "output_type": "display_data",
          "data": {
            "text/html": [
              "<html>\n",
              "<head><meta charset=\"utf-8\" /></head>\n",
              "<body>\n",
              "    <div>            <script src=\"https://cdnjs.cloudflare.com/ajax/libs/mathjax/2.7.5/MathJax.js?config=TeX-AMS-MML_SVG\"></script><script type=\"text/javascript\">if (window.MathJax) {MathJax.Hub.Config({SVG: {font: \"STIX-Web\"}});}</script>                <script type=\"text/javascript\">window.PlotlyConfig = {MathJaxConfig: 'local'};</script>\n",
              "        <script src=\"https://cdn.plot.ly/plotly-2.8.3.min.js\"></script>                <div id=\"8f361952-bd21-493b-bedc-829310ad2921\" class=\"plotly-graph-div\" style=\"height:525px; width:100%;\"></div>            <script type=\"text/javascript\">                                    window.PLOTLYENV=window.PLOTLYENV || {};                                    if (document.getElementById(\"8f361952-bd21-493b-bedc-829310ad2921\")) {                    Plotly.newPlot(                        \"8f361952-bd21-493b-bedc-829310ad2921\",                        [{\"domain\":{\"x\":[0.0,1.0],\"y\":[0.0,1.0]},\"hole\":0.4,\"hovertemplate\":\"label=%{label}<br>Y=%{value}<extra></extra>\",\"labels\":[\"Not Worried\",\"Worried\"],\"legendgroup\":\"\",\"name\":\"\",\"opacity\":0.6,\"showlegend\":true,\"values\":[20719,8789],\"type\":\"pie\",\"textinfo\":\"percent+label\",\"textposition\":\"outside\"}],                        {\"template\":{\"data\":{\"bar\":[{\"error_x\":{\"color\":\"#2a3f5f\"},\"error_y\":{\"color\":\"#2a3f5f\"},\"marker\":{\"line\":{\"color\":\"#E5ECF6\",\"width\":0.5},\"pattern\":{\"fillmode\":\"overlay\",\"size\":10,\"solidity\":0.2}},\"type\":\"bar\"}],\"barpolar\":[{\"marker\":{\"line\":{\"color\":\"#E5ECF6\",\"width\":0.5},\"pattern\":{\"fillmode\":\"overlay\",\"size\":10,\"solidity\":0.2}},\"type\":\"barpolar\"}],\"carpet\":[{\"aaxis\":{\"endlinecolor\":\"#2a3f5f\",\"gridcolor\":\"white\",\"linecolor\":\"white\",\"minorgridcolor\":\"white\",\"startlinecolor\":\"#2a3f5f\"},\"baxis\":{\"endlinecolor\":\"#2a3f5f\",\"gridcolor\":\"white\",\"linecolor\":\"white\",\"minorgridcolor\":\"white\",\"startlinecolor\":\"#2a3f5f\"},\"type\":\"carpet\"}],\"choropleth\":[{\"colorbar\":{\"outlinewidth\":0,\"ticks\":\"\"},\"type\":\"choropleth\"}],\"contour\":[{\"colorbar\":{\"outlinewidth\":0,\"ticks\":\"\"},\"colorscale\":[[0.0,\"#0d0887\"],[0.1111111111111111,\"#46039f\"],[0.2222222222222222,\"#7201a8\"],[0.3333333333333333,\"#9c179e\"],[0.4444444444444444,\"#bd3786\"],[0.5555555555555556,\"#d8576b\"],[0.6666666666666666,\"#ed7953\"],[0.7777777777777778,\"#fb9f3a\"],[0.8888888888888888,\"#fdca26\"],[1.0,\"#f0f921\"]],\"type\":\"contour\"}],\"contourcarpet\":[{\"colorbar\":{\"outlinewidth\":0,\"ticks\":\"\"},\"type\":\"contourcarpet\"}],\"heatmap\":[{\"colorbar\":{\"outlinewidth\":0,\"ticks\":\"\"},\"colorscale\":[[0.0,\"#0d0887\"],[0.1111111111111111,\"#46039f\"],[0.2222222222222222,\"#7201a8\"],[0.3333333333333333,\"#9c179e\"],[0.4444444444444444,\"#bd3786\"],[0.5555555555555556,\"#d8576b\"],[0.6666666666666666,\"#ed7953\"],[0.7777777777777778,\"#fb9f3a\"],[0.8888888888888888,\"#fdca26\"],[1.0,\"#f0f921\"]],\"type\":\"heatmap\"}],\"heatmapgl\":[{\"colorbar\":{\"outlinewidth\":0,\"ticks\":\"\"},\"colorscale\":[[0.0,\"#0d0887\"],[0.1111111111111111,\"#46039f\"],[0.2222222222222222,\"#7201a8\"],[0.3333333333333333,\"#9c179e\"],[0.4444444444444444,\"#bd3786\"],[0.5555555555555556,\"#d8576b\"],[0.6666666666666666,\"#ed7953\"],[0.7777777777777778,\"#fb9f3a\"],[0.8888888888888888,\"#fdca26\"],[1.0,\"#f0f921\"]],\"type\":\"heatmapgl\"}],\"histogram\":[{\"marker\":{\"pattern\":{\"fillmode\":\"overlay\",\"size\":10,\"solidity\":0.2}},\"type\":\"histogram\"}],\"histogram2d\":[{\"colorbar\":{\"outlinewidth\":0,\"ticks\":\"\"},\"colorscale\":[[0.0,\"#0d0887\"],[0.1111111111111111,\"#46039f\"],[0.2222222222222222,\"#7201a8\"],[0.3333333333333333,\"#9c179e\"],[0.4444444444444444,\"#bd3786\"],[0.5555555555555556,\"#d8576b\"],[0.6666666666666666,\"#ed7953\"],[0.7777777777777778,\"#fb9f3a\"],[0.8888888888888888,\"#fdca26\"],[1.0,\"#f0f921\"]],\"type\":\"histogram2d\"}],\"histogram2dcontour\":[{\"colorbar\":{\"outlinewidth\":0,\"ticks\":\"\"},\"colorscale\":[[0.0,\"#0d0887\"],[0.1111111111111111,\"#46039f\"],[0.2222222222222222,\"#7201a8\"],[0.3333333333333333,\"#9c179e\"],[0.4444444444444444,\"#bd3786\"],[0.5555555555555556,\"#d8576b\"],[0.6666666666666666,\"#ed7953\"],[0.7777777777777778,\"#fb9f3a\"],[0.8888888888888888,\"#fdca26\"],[1.0,\"#f0f921\"]],\"type\":\"histogram2dcontour\"}],\"mesh3d\":[{\"colorbar\":{\"outlinewidth\":0,\"ticks\":\"\"},\"type\":\"mesh3d\"}],\"parcoords\":[{\"line\":{\"colorbar\":{\"outlinewidth\":0,\"ticks\":\"\"}},\"type\":\"parcoords\"}],\"pie\":[{\"automargin\":true,\"type\":\"pie\"}],\"scatter\":[{\"marker\":{\"colorbar\":{\"outlinewidth\":0,\"ticks\":\"\"}},\"type\":\"scatter\"}],\"scatter3d\":[{\"line\":{\"colorbar\":{\"outlinewidth\":0,\"ticks\":\"\"}},\"marker\":{\"colorbar\":{\"outlinewidth\":0,\"ticks\":\"\"}},\"type\":\"scatter3d\"}],\"scattercarpet\":[{\"marker\":{\"colorbar\":{\"outlinewidth\":0,\"ticks\":\"\"}},\"type\":\"scattercarpet\"}],\"scattergeo\":[{\"marker\":{\"colorbar\":{\"outlinewidth\":0,\"ticks\":\"\"}},\"type\":\"scattergeo\"}],\"scattergl\":[{\"marker\":{\"colorbar\":{\"outlinewidth\":0,\"ticks\":\"\"}},\"type\":\"scattergl\"}],\"scattermapbox\":[{\"marker\":{\"colorbar\":{\"outlinewidth\":0,\"ticks\":\"\"}},\"type\":\"scattermapbox\"}],\"scatterpolar\":[{\"marker\":{\"colorbar\":{\"outlinewidth\":0,\"ticks\":\"\"}},\"type\":\"scatterpolar\"}],\"scatterpolargl\":[{\"marker\":{\"colorbar\":{\"outlinewidth\":0,\"ticks\":\"\"}},\"type\":\"scatterpolargl\"}],\"scatterternary\":[{\"marker\":{\"colorbar\":{\"outlinewidth\":0,\"ticks\":\"\"}},\"type\":\"scatterternary\"}],\"surface\":[{\"colorbar\":{\"outlinewidth\":0,\"ticks\":\"\"},\"colorscale\":[[0.0,\"#0d0887\"],[0.1111111111111111,\"#46039f\"],[0.2222222222222222,\"#7201a8\"],[0.3333333333333333,\"#9c179e\"],[0.4444444444444444,\"#bd3786\"],[0.5555555555555556,\"#d8576b\"],[0.6666666666666666,\"#ed7953\"],[0.7777777777777778,\"#fb9f3a\"],[0.8888888888888888,\"#fdca26\"],[1.0,\"#f0f921\"]],\"type\":\"surface\"}],\"table\":[{\"cells\":{\"fill\":{\"color\":\"#EBF0F8\"},\"line\":{\"color\":\"white\"}},\"header\":{\"fill\":{\"color\":\"#C8D4E3\"},\"line\":{\"color\":\"white\"}},\"type\":\"table\"}]},\"layout\":{\"annotationdefaults\":{\"arrowcolor\":\"#2a3f5f\",\"arrowhead\":0,\"arrowwidth\":1},\"autotypenumbers\":\"strict\",\"coloraxis\":{\"colorbar\":{\"outlinewidth\":0,\"ticks\":\"\"}},\"colorscale\":{\"diverging\":[[0,\"#8e0152\"],[0.1,\"#c51b7d\"],[0.2,\"#de77ae\"],[0.3,\"#f1b6da\"],[0.4,\"#fde0ef\"],[0.5,\"#f7f7f7\"],[0.6,\"#e6f5d0\"],[0.7,\"#b8e186\"],[0.8,\"#7fbc41\"],[0.9,\"#4d9221\"],[1,\"#276419\"]],\"sequential\":[[0.0,\"#0d0887\"],[0.1111111111111111,\"#46039f\"],[0.2222222222222222,\"#7201a8\"],[0.3333333333333333,\"#9c179e\"],[0.4444444444444444,\"#bd3786\"],[0.5555555555555556,\"#d8576b\"],[0.6666666666666666,\"#ed7953\"],[0.7777777777777778,\"#fb9f3a\"],[0.8888888888888888,\"#fdca26\"],[1.0,\"#f0f921\"]],\"sequentialminus\":[[0.0,\"#0d0887\"],[0.1111111111111111,\"#46039f\"],[0.2222222222222222,\"#7201a8\"],[0.3333333333333333,\"#9c179e\"],[0.4444444444444444,\"#bd3786\"],[0.5555555555555556,\"#d8576b\"],[0.6666666666666666,\"#ed7953\"],[0.7777777777777778,\"#fb9f3a\"],[0.8888888888888888,\"#fdca26\"],[1.0,\"#f0f921\"]]},\"colorway\":[\"#636efa\",\"#EF553B\",\"#00cc96\",\"#ab63fa\",\"#FFA15A\",\"#19d3f3\",\"#FF6692\",\"#B6E880\",\"#FF97FF\",\"#FECB52\"],\"font\":{\"color\":\"#2a3f5f\"},\"geo\":{\"bgcolor\":\"white\",\"lakecolor\":\"white\",\"landcolor\":\"#E5ECF6\",\"showlakes\":true,\"showland\":true,\"subunitcolor\":\"white\"},\"hoverlabel\":{\"align\":\"left\"},\"hovermode\":\"closest\",\"mapbox\":{\"style\":\"light\"},\"paper_bgcolor\":\"white\",\"plot_bgcolor\":\"#E5ECF6\",\"polar\":{\"angularaxis\":{\"gridcolor\":\"white\",\"linecolor\":\"white\",\"ticks\":\"\"},\"bgcolor\":\"#E5ECF6\",\"radialaxis\":{\"gridcolor\":\"white\",\"linecolor\":\"white\",\"ticks\":\"\"}},\"scene\":{\"xaxis\":{\"backgroundcolor\":\"#E5ECF6\",\"gridcolor\":\"white\",\"gridwidth\":2,\"linecolor\":\"white\",\"showbackground\":true,\"ticks\":\"\",\"zerolinecolor\":\"white\"},\"yaxis\":{\"backgroundcolor\":\"#E5ECF6\",\"gridcolor\":\"white\",\"gridwidth\":2,\"linecolor\":\"white\",\"showbackground\":true,\"ticks\":\"\",\"zerolinecolor\":\"white\"},\"zaxis\":{\"backgroundcolor\":\"#E5ECF6\",\"gridcolor\":\"white\",\"gridwidth\":2,\"linecolor\":\"white\",\"showbackground\":true,\"ticks\":\"\",\"zerolinecolor\":\"white\"}},\"shapedefaults\":{\"line\":{\"color\":\"#2a3f5f\"}},\"ternary\":{\"aaxis\":{\"gridcolor\":\"white\",\"linecolor\":\"white\",\"ticks\":\"\"},\"baxis\":{\"gridcolor\":\"white\",\"linecolor\":\"white\",\"ticks\":\"\"},\"bgcolor\":\"#E5ECF6\",\"caxis\":{\"gridcolor\":\"white\",\"linecolor\":\"white\",\"ticks\":\"\"}},\"title\":{\"x\":0.05},\"xaxis\":{\"automargin\":true,\"gridcolor\":\"white\",\"linecolor\":\"white\",\"ticks\":\"\",\"title\":{\"standoff\":15},\"zerolinecolor\":\"white\",\"zerolinewidth\":2},\"yaxis\":{\"automargin\":true,\"gridcolor\":\"white\",\"linecolor\":\"white\",\"ticks\":\"\",\"title\":{\"standoff\":15},\"zerolinecolor\":\"white\",\"zerolinewidth\":2}}},\"legend\":{\"tracegroupgap\":0,\"x\":0.37,\"y\":-0.05,\"orientation\":\"h\",\"traceorder\":\"reversed\"},\"margin\":{\"t\":60},\"piecolorway\":[\"#74C365\",\"darkred\"],\"font\":{\"family\":\"monospace\"},\"title\":{\"font\":{\"size\":20},\"text\":\"Q. Are you worried about climate change?\",\"x\":0.47,\"y\":0.98},\"hoverlabel\":{\"bgcolor\":\"white\"}},                        {\"responsive\": true}                    ).then(function(){\n",
              "                            \n",
              "var gd = document.getElementById('8f361952-bd21-493b-bedc-829310ad2921');\n",
              "var x = new MutationObserver(function (mutations, observer) {{\n",
              "        var display = window.getComputedStyle(gd).display;\n",
              "        if (!display || display === 'none') {{\n",
              "            console.log([gd, 'removed!']);\n",
              "            Plotly.purge(gd);\n",
              "            observer.disconnect();\n",
              "        }}\n",
              "}});\n",
              "\n",
              "// Listen for the removal of the full notebook cells\n",
              "var notebookContainer = gd.closest('#notebook-container');\n",
              "if (notebookContainer) {{\n",
              "    x.observe(notebookContainer, {childList: true});\n",
              "}}\n",
              "\n",
              "// Listen for the clearing of the current output cell\n",
              "var outputEl = gd.closest('.output');\n",
              "if (outputEl) {{\n",
              "    x.observe(outputEl, {childList: true});\n",
              "}}\n",
              "\n",
              "                        })                };                            </script>        </div>\n",
              "</body>\n",
              "</html>"
            ]
          },
          "metadata": {}
        }
      ]
    },
    {
      "cell_type": "code",
      "source": [
        "from collections import Counter"
      ],
      "metadata": {
        "id": "5xRKatwxGJi7"
      },
      "execution_count": null,
      "outputs": []
    },
    {
      "cell_type": "code",
      "source": [
        "fig = px.histogram(d,x=d.Age,y=Counter(d['Age']),template='plotly_white',\n",
        "                  marginal='box',opacity=0.7,nbins=100,color_discrete_sequence=['green','red'],\n",
        "                  barmode='group',histfunc='count')\n",
        "\n",
        "fig.add_vline(x=5, line_width=1, line_color='black',line_dash='dot',opacity=0.7)\n",
        "\n",
        "#fig.add_annotation(text='<5 NTU Turbidity is<br> considered safe',x=6,y=90,showarrow=False)\n",
        "\n",
        "\n",
        "fig.show()"
      ],
      "metadata": {
        "id": "9CniWyBvEza1",
        "outputId": "ccd867eb-d042-439e-bcc2-0d3e89735a85",
        "colab": {
          "base_uri": "https://localhost:8080/",
          "height": 380
        }
      },
      "execution_count": null,
      "outputs": [
        {
          "output_type": "error",
          "ename": "ValueError",
          "evalue": "ignored",
          "traceback": [
            "\u001b[0;31m---------------------------------------------------------------------------\u001b[0m",
            "\u001b[0;31mValueError\u001b[0m                                Traceback (most recent call last)",
            "\u001b[0;32m<ipython-input-347-f690387e430e>\u001b[0m in \u001b[0;36m<module>\u001b[0;34m\u001b[0m\n\u001b[0;32m----> 1\u001b[0;31m fig = px.histogram(d,x=d.Age,y=Counter(d['Age']),template='plotly_white',\n\u001b[0m\u001b[1;32m      2\u001b[0m                   \u001b[0mmarginal\u001b[0m\u001b[0;34m=\u001b[0m\u001b[0;34m'box'\u001b[0m\u001b[0;34m,\u001b[0m\u001b[0mopacity\u001b[0m\u001b[0;34m=\u001b[0m\u001b[0;36m0.7\u001b[0m\u001b[0;34m,\u001b[0m\u001b[0mnbins\u001b[0m\u001b[0;34m=\u001b[0m\u001b[0;36m100\u001b[0m\u001b[0;34m,\u001b[0m\u001b[0mcolor_discrete_sequence\u001b[0m\u001b[0;34m=\u001b[0m\u001b[0;34m[\u001b[0m\u001b[0;34m'green'\u001b[0m\u001b[0;34m,\u001b[0m\u001b[0;34m'red'\u001b[0m\u001b[0;34m]\u001b[0m\u001b[0;34m,\u001b[0m\u001b[0;34m\u001b[0m\u001b[0;34m\u001b[0m\u001b[0m\n\u001b[1;32m      3\u001b[0m                   barmode='group',histfunc='count')\n\u001b[1;32m      4\u001b[0m \u001b[0;34m\u001b[0m\u001b[0m\n\u001b[1;32m      5\u001b[0m \u001b[0mfig\u001b[0m\u001b[0;34m.\u001b[0m\u001b[0madd_vline\u001b[0m\u001b[0;34m(\u001b[0m\u001b[0mx\u001b[0m\u001b[0;34m=\u001b[0m\u001b[0;36m5\u001b[0m\u001b[0;34m,\u001b[0m \u001b[0mline_width\u001b[0m\u001b[0;34m=\u001b[0m\u001b[0;36m1\u001b[0m\u001b[0;34m,\u001b[0m \u001b[0mline_color\u001b[0m\u001b[0;34m=\u001b[0m\u001b[0;34m'black'\u001b[0m\u001b[0;34m,\u001b[0m\u001b[0mline_dash\u001b[0m\u001b[0;34m=\u001b[0m\u001b[0;34m'dot'\u001b[0m\u001b[0;34m,\u001b[0m\u001b[0mopacity\u001b[0m\u001b[0;34m=\u001b[0m\u001b[0;36m0.7\u001b[0m\u001b[0;34m)\u001b[0m\u001b[0;34m\u001b[0m\u001b[0;34m\u001b[0m\u001b[0m\n",
            "\u001b[0;32m/usr/local/lib/python3.8/dist-packages/plotly/express/_chart_types.py\u001b[0m in \u001b[0;36mhistogram\u001b[0;34m(data_frame, x, y, color, pattern_shape, facet_row, facet_col, facet_col_wrap, facet_row_spacing, facet_col_spacing, hover_name, hover_data, animation_frame, animation_group, category_orders, labels, color_discrete_sequence, color_discrete_map, pattern_shape_sequence, pattern_shape_map, marginal, opacity, orientation, barmode, barnorm, histnorm, log_x, log_y, range_x, range_y, histfunc, cumulative, nbins, text_auto, title, template, width, height)\u001b[0m\n\u001b[1;32m    470\u001b[0m     `orientation` is `'h'`).\n\u001b[1;32m    471\u001b[0m     \"\"\"\n\u001b[0;32m--> 472\u001b[0;31m     return make_figure(\n\u001b[0m\u001b[1;32m    473\u001b[0m         \u001b[0margs\u001b[0m\u001b[0;34m=\u001b[0m\u001b[0mlocals\u001b[0m\u001b[0;34m(\u001b[0m\u001b[0;34m)\u001b[0m\u001b[0;34m,\u001b[0m\u001b[0;34m\u001b[0m\u001b[0;34m\u001b[0m\u001b[0m\n\u001b[1;32m    474\u001b[0m         \u001b[0mconstructor\u001b[0m\u001b[0;34m=\u001b[0m\u001b[0mgo\u001b[0m\u001b[0;34m.\u001b[0m\u001b[0mHistogram\u001b[0m\u001b[0;34m,\u001b[0m\u001b[0;34m\u001b[0m\u001b[0;34m\u001b[0m\u001b[0m\n",
            "\u001b[0;32m/usr/local/lib/python3.8/dist-packages/plotly/express/_core.py\u001b[0m in \u001b[0;36mmake_figure\u001b[0;34m(args, constructor, trace_patch, layout_patch)\u001b[0m\n\u001b[1;32m   1943\u001b[0m     \u001b[0mapply_default_cascade\u001b[0m\u001b[0;34m(\u001b[0m\u001b[0margs\u001b[0m\u001b[0;34m)\u001b[0m\u001b[0;34m\u001b[0m\u001b[0;34m\u001b[0m\u001b[0m\n\u001b[1;32m   1944\u001b[0m \u001b[0;34m\u001b[0m\u001b[0m\n\u001b[0;32m-> 1945\u001b[0;31m     \u001b[0margs\u001b[0m \u001b[0;34m=\u001b[0m \u001b[0mbuild_dataframe\u001b[0m\u001b[0;34m(\u001b[0m\u001b[0margs\u001b[0m\u001b[0;34m,\u001b[0m \u001b[0mconstructor\u001b[0m\u001b[0;34m)\u001b[0m\u001b[0;34m\u001b[0m\u001b[0;34m\u001b[0m\u001b[0m\n\u001b[0m\u001b[1;32m   1946\u001b[0m     \u001b[0;32mif\u001b[0m \u001b[0mconstructor\u001b[0m \u001b[0;32min\u001b[0m \u001b[0;34m[\u001b[0m\u001b[0mgo\u001b[0m\u001b[0;34m.\u001b[0m\u001b[0mTreemap\u001b[0m\u001b[0;34m,\u001b[0m \u001b[0mgo\u001b[0m\u001b[0;34m.\u001b[0m\u001b[0mSunburst\u001b[0m\u001b[0;34m,\u001b[0m \u001b[0mgo\u001b[0m\u001b[0;34m.\u001b[0m\u001b[0mIcicle\u001b[0m\u001b[0;34m]\u001b[0m \u001b[0;32mand\u001b[0m \u001b[0margs\u001b[0m\u001b[0;34m[\u001b[0m\u001b[0;34m\"path\"\u001b[0m\u001b[0;34m]\u001b[0m \u001b[0;32mis\u001b[0m \u001b[0;32mnot\u001b[0m \u001b[0;32mNone\u001b[0m\u001b[0;34m:\u001b[0m\u001b[0;34m\u001b[0m\u001b[0;34m\u001b[0m\u001b[0m\n\u001b[1;32m   1947\u001b[0m         \u001b[0margs\u001b[0m \u001b[0;34m=\u001b[0m \u001b[0mprocess_dataframe_hierarchy\u001b[0m\u001b[0;34m(\u001b[0m\u001b[0margs\u001b[0m\u001b[0;34m)\u001b[0m\u001b[0;34m\u001b[0m\u001b[0;34m\u001b[0m\u001b[0m\n",
            "\u001b[0;32m/usr/local/lib/python3.8/dist-packages/plotly/express/_core.py\u001b[0m in \u001b[0;36mbuild_dataframe\u001b[0;34m(args, constructor)\u001b[0m\n\u001b[1;32m   1403\u001b[0m     \u001b[0;31m# now that things have been prepped, we do the systematic rewriting of `args`\u001b[0m\u001b[0;34m\u001b[0m\u001b[0;34m\u001b[0m\u001b[0;34m\u001b[0m\u001b[0m\n\u001b[1;32m   1404\u001b[0m \u001b[0;34m\u001b[0m\u001b[0m\n\u001b[0;32m-> 1405\u001b[0;31m     df_output, wide_id_vars = process_args_into_dataframe(\n\u001b[0m\u001b[1;32m   1406\u001b[0m         \u001b[0margs\u001b[0m\u001b[0;34m,\u001b[0m \u001b[0mwide_mode\u001b[0m\u001b[0;34m,\u001b[0m \u001b[0mvar_name\u001b[0m\u001b[0;34m,\u001b[0m \u001b[0mvalue_name\u001b[0m\u001b[0;34m\u001b[0m\u001b[0;34m\u001b[0m\u001b[0m\n\u001b[1;32m   1407\u001b[0m     )\n",
            "\u001b[0;32m/usr/local/lib/python3.8/dist-packages/plotly/express/_core.py\u001b[0m in \u001b[0;36mprocess_args_into_dataframe\u001b[0;34m(args, wide_mode, var_name, value_name)\u001b[0m\n\u001b[1;32m   1243\u001b[0m \u001b[0;34m\u001b[0m\u001b[0m\n\u001b[1;32m   1244\u001b[0m                 \u001b[0;32mif\u001b[0m \u001b[0mlength\u001b[0m \u001b[0;32mand\u001b[0m \u001b[0mlen\u001b[0m\u001b[0;34m(\u001b[0m\u001b[0margument\u001b[0m\u001b[0;34m)\u001b[0m \u001b[0;34m!=\u001b[0m \u001b[0mlength\u001b[0m\u001b[0;34m:\u001b[0m\u001b[0;34m\u001b[0m\u001b[0;34m\u001b[0m\u001b[0m\n\u001b[0;32m-> 1245\u001b[0;31m                     raise ValueError(\n\u001b[0m\u001b[1;32m   1246\u001b[0m                         \u001b[0;34m\"All arguments should have the same length. \"\u001b[0m\u001b[0;34m\u001b[0m\u001b[0;34m\u001b[0m\u001b[0m\n\u001b[1;32m   1247\u001b[0m                         \u001b[0;34m\"The length of argument `%s` is %d, whereas the \"\u001b[0m\u001b[0;34m\u001b[0m\u001b[0;34m\u001b[0m\u001b[0m\n",
            "\u001b[0;31mValueError\u001b[0m: All arguments should have the same length. The length of argument `y` is 86, whereas the length of  previously-processed arguments ['Age'] is 29508"
          ]
        }
      ]
    },
    {
      "cell_type": "code",
      "source": [
        "fig.update_layout(\n",
        "    font_family='monospace',\n",
        "    title=dict(text='Turbidity Distribution',x=0.5,y=0.95,\n",
        "               font=dict(color='black',size=20)),\n",
        "    xaxis_title_text='Turbidity (NTU)',\n",
        "    yaxis_title_text='Count',\n",
        "    legend=dict(x=1,y=0.96,bordercolor='black',borderwidth=0,tracegroupgap=5),\n",
        "    bargap=0.3,\n",
        ")"
      ],
      "metadata": {
        "id": "wfANO__UFum8"
      },
      "execution_count": null,
      "outputs": []
    },
    {
      "cell_type": "code",
      "source": [
        "cor=d.drop('W',axis=1).corr()\n",
        "fig = px.imshow(cor,height=800,width=800,color_continuous_scale='rdylgn',template='plotly_white')\n",
        "\n",
        "fig.update_layout(font_family='monospace',\n",
        "                title=dict(text='Correlation Heatmap',x=0.5,y=0.93,\n",
        "                             font=dict(color='black',size=24)),\n",
        "                coloraxis_colorbar=dict(len=0.85,x=1.1) \n",
        "                 )\n",
        "\n",
        "fig.show()"
      ],
      "metadata": {
        "colab": {
          "base_uri": "https://localhost:8080/",
          "height": 817
        },
        "id": "O2fn9S6Vv-Sq",
        "outputId": "1b6864e9-e60d-4ac6-9803-a6bba79eaa2f"
      },
      "execution_count": null,
      "outputs": [
        {
          "output_type": "display_data",
          "data": {
            "text/html": [
              "<html>\n",
              "<head><meta charset=\"utf-8\" /></head>\n",
              "<body>\n",
              "    <div>            <script src=\"https://cdnjs.cloudflare.com/ajax/libs/mathjax/2.7.5/MathJax.js?config=TeX-AMS-MML_SVG\"></script><script type=\"text/javascript\">if (window.MathJax) {MathJax.Hub.Config({SVG: {font: \"STIX-Web\"}});}</script>                <script type=\"text/javascript\">window.PlotlyConfig = {MathJaxConfig: 'local'};</script>\n",
              "        <script src=\"https://cdn.plot.ly/plotly-2.8.3.min.js\"></script>                <div id=\"524a9f6b-4e0d-4f9b-93a1-8d185d503aef\" class=\"plotly-graph-div\" style=\"height:800px; width:800px;\"></div>            <script type=\"text/javascript\">                                    window.PLOTLYENV=window.PLOTLYENV || {};                                    if (document.getElementById(\"524a9f6b-4e0d-4f9b-93a1-8d185d503aef\")) {                    Plotly.newPlot(                        \"524a9f6b-4e0d-4f9b-93a1-8d185d503aef\",                        [{\"coloraxis\":\"coloraxis\",\"name\":\"0\",\"x\":[\"Region\",\"Income\",\"Gender\",\"Age\",\"Increase_fuel_taxes\",\"Reduce_energy\",\"Education\",\"Politics\",\"CC_reasons\",\"CC_ishappening\",\"Care_nature\",\"CC_isgood\",\"Y\"],\"y\":[\"Region\",\"Income\",\"Gender\",\"Age\",\"Increase_fuel_taxes\",\"Reduce_energy\",\"Education\",\"Politics\",\"CC_reasons\",\"CC_ishappening\",\"Care_nature\",\"CC_isgood\",\"Y\"],\"z\":[[1.0,0.037426373690383326,0.016852378498419855,0.01539127069982406,-0.022332119937462803,0.09811098046654074,-0.07924223440645546,-0.0949805019903221,0.07129200643837391,-0.1180161213016226,-0.02175831454172865,-0.03984098852299654,-0.09346103003898257],[0.037426373690383326,1.0,0.07454153762134551,-0.09478080765391493,-0.11642395892123919,-0.03917753213305795,0.3659396938911473,0.05270061656510512,0.04870484269927303,-0.02567329941573659,0.016693597118289737,-0.056280331389449816,-2.4624037430043426e-05],[0.016852378498419855,0.07454153762134551,1.0,-0.01770406898356973,0.019173340401787173,-0.05297024440983223,-0.040113723048891374,0.047987329350676955,-0.05263480201120772,0.038910514375243274,0.039670140158405094,0.0018333243344492475,0.044521587940512884],[0.01539127069982406,-0.09478080765391493,-0.01770406898356973,1.0,0.02966038946046295,0.06232507411931953,-0.07330594107548649,0.026201699636711182,-0.033364487464384765,0.03284474133094321,-0.06764621581694522,0.04840678654407998,0.02092402298442086],[-0.022332119937462803,-0.11642395892123919,0.019173340401787173,0.02966038946046295,1.0,-0.015404127931780509,-0.1625031630853757,0.08755922287378552,-0.0963461740831827,0.10410093403587735,0.08198064786229413,0.07908251655551747,0.12672087881190022],[0.09811098046654074,-0.03917753213305795,-0.05297024440983223,0.06232507411931953,-0.015404127931780509,1.0,0.03171507955207646,-0.06409918604495221,0.044394125063658516,-0.12172531737536665,-0.23120468614927456,-0.09011457393707294,-0.1800762440318641],[-0.07924223440645546,0.3659396938911473,-0.040113723048891374,-0.07330594107548649,-0.1625031630853757,0.03171507955207646,1.0,-0.02412449017339915,0.03995584797774345,-0.05866980435984369,-0.03125138328094924,-0.09117390710074676,-0.042577764505147705],[-0.0949805019903221,0.05270061656510512,0.047987329350676955,0.026201699636711182,0.08755922287378552,-0.06409918604495221,-0.02412449017339915,1.0,-0.06879384233267609,0.1175547505046401,0.067607950618842,0.1353838337180066,0.1219776296680887],[0.07129200643837391,0.04870484269927303,-0.05263480201120772,-0.033364487464384765,-0.0963461740831827,0.044394125063658516,0.03995584797774345,-0.06879384233267609,1.0,-0.17689912016092452,-0.0601934423079175,-0.14901351986369787,-0.11843573686847488],[-0.1180161213016226,-0.02567329941573659,0.038910514375243274,0.03284474133094321,0.10410093403587735,-0.12172531737536665,-0.05866980435984369,0.1175547505046401,-0.17689912016092452,1.0,0.1422155665731019,0.26882024903430585,0.303217316471267],[-0.02175831454172865,0.016693597118289737,0.039670140158405094,-0.06764621581694522,0.08198064786229413,-0.23120468614927456,-0.03125138328094924,0.067607950618842,-0.0601934423079175,0.1422155665731019,1.0,0.11506685016517659,0.1963709990085022],[-0.03984098852299654,-0.056280331389449816,0.0018333243344492475,0.04840678654407998,0.07908251655551747,-0.09011457393707294,-0.09117390710074676,0.1353838337180066,-0.14901351986369787,0.26882024903430585,0.11506685016517659,1.0,0.27835206087599157],[-0.09346103003898257,-2.4624037430043426e-05,0.044521587940512884,0.02092402298442086,0.12672087881190022,-0.1800762440318641,-0.042577764505147705,0.1219776296680887,-0.11843573686847488,0.303217316471267,0.1963709990085022,0.27835206087599157,1.0]],\"type\":\"heatmap\",\"xaxis\":\"x\",\"yaxis\":\"y\",\"hovertemplate\":\"x: %{x}<br>y: %{y}<br>color: %{z}<extra></extra>\"}],                        {\"template\":{\"data\":{\"barpolar\":[{\"marker\":{\"line\":{\"color\":\"white\",\"width\":0.5},\"pattern\":{\"fillmode\":\"overlay\",\"size\":10,\"solidity\":0.2}},\"type\":\"barpolar\"}],\"bar\":[{\"error_x\":{\"color\":\"#2a3f5f\"},\"error_y\":{\"color\":\"#2a3f5f\"},\"marker\":{\"line\":{\"color\":\"white\",\"width\":0.5},\"pattern\":{\"fillmode\":\"overlay\",\"size\":10,\"solidity\":0.2}},\"type\":\"bar\"}],\"carpet\":[{\"aaxis\":{\"endlinecolor\":\"#2a3f5f\",\"gridcolor\":\"#C8D4E3\",\"linecolor\":\"#C8D4E3\",\"minorgridcolor\":\"#C8D4E3\",\"startlinecolor\":\"#2a3f5f\"},\"baxis\":{\"endlinecolor\":\"#2a3f5f\",\"gridcolor\":\"#C8D4E3\",\"linecolor\":\"#C8D4E3\",\"minorgridcolor\":\"#C8D4E3\",\"startlinecolor\":\"#2a3f5f\"},\"type\":\"carpet\"}],\"choropleth\":[{\"colorbar\":{\"outlinewidth\":0,\"ticks\":\"\"},\"type\":\"choropleth\"}],\"contourcarpet\":[{\"colorbar\":{\"outlinewidth\":0,\"ticks\":\"\"},\"type\":\"contourcarpet\"}],\"contour\":[{\"colorbar\":{\"outlinewidth\":0,\"ticks\":\"\"},\"colorscale\":[[0.0,\"#0d0887\"],[0.1111111111111111,\"#46039f\"],[0.2222222222222222,\"#7201a8\"],[0.3333333333333333,\"#9c179e\"],[0.4444444444444444,\"#bd3786\"],[0.5555555555555556,\"#d8576b\"],[0.6666666666666666,\"#ed7953\"],[0.7777777777777778,\"#fb9f3a\"],[0.8888888888888888,\"#fdca26\"],[1.0,\"#f0f921\"]],\"type\":\"contour\"}],\"heatmapgl\":[{\"colorbar\":{\"outlinewidth\":0,\"ticks\":\"\"},\"colorscale\":[[0.0,\"#0d0887\"],[0.1111111111111111,\"#46039f\"],[0.2222222222222222,\"#7201a8\"],[0.3333333333333333,\"#9c179e\"],[0.4444444444444444,\"#bd3786\"],[0.5555555555555556,\"#d8576b\"],[0.6666666666666666,\"#ed7953\"],[0.7777777777777778,\"#fb9f3a\"],[0.8888888888888888,\"#fdca26\"],[1.0,\"#f0f921\"]],\"type\":\"heatmapgl\"}],\"heatmap\":[{\"colorbar\":{\"outlinewidth\":0,\"ticks\":\"\"},\"colorscale\":[[0.0,\"#0d0887\"],[0.1111111111111111,\"#46039f\"],[0.2222222222222222,\"#7201a8\"],[0.3333333333333333,\"#9c179e\"],[0.4444444444444444,\"#bd3786\"],[0.5555555555555556,\"#d8576b\"],[0.6666666666666666,\"#ed7953\"],[0.7777777777777778,\"#fb9f3a\"],[0.8888888888888888,\"#fdca26\"],[1.0,\"#f0f921\"]],\"type\":\"heatmap\"}],\"histogram2dcontour\":[{\"colorbar\":{\"outlinewidth\":0,\"ticks\":\"\"},\"colorscale\":[[0.0,\"#0d0887\"],[0.1111111111111111,\"#46039f\"],[0.2222222222222222,\"#7201a8\"],[0.3333333333333333,\"#9c179e\"],[0.4444444444444444,\"#bd3786\"],[0.5555555555555556,\"#d8576b\"],[0.6666666666666666,\"#ed7953\"],[0.7777777777777778,\"#fb9f3a\"],[0.8888888888888888,\"#fdca26\"],[1.0,\"#f0f921\"]],\"type\":\"histogram2dcontour\"}],\"histogram2d\":[{\"colorbar\":{\"outlinewidth\":0,\"ticks\":\"\"},\"colorscale\":[[0.0,\"#0d0887\"],[0.1111111111111111,\"#46039f\"],[0.2222222222222222,\"#7201a8\"],[0.3333333333333333,\"#9c179e\"],[0.4444444444444444,\"#bd3786\"],[0.5555555555555556,\"#d8576b\"],[0.6666666666666666,\"#ed7953\"],[0.7777777777777778,\"#fb9f3a\"],[0.8888888888888888,\"#fdca26\"],[1.0,\"#f0f921\"]],\"type\":\"histogram2d\"}],\"histogram\":[{\"marker\":{\"pattern\":{\"fillmode\":\"overlay\",\"size\":10,\"solidity\":0.2}},\"type\":\"histogram\"}],\"mesh3d\":[{\"colorbar\":{\"outlinewidth\":0,\"ticks\":\"\"},\"type\":\"mesh3d\"}],\"parcoords\":[{\"line\":{\"colorbar\":{\"outlinewidth\":0,\"ticks\":\"\"}},\"type\":\"parcoords\"}],\"pie\":[{\"automargin\":true,\"type\":\"pie\"}],\"scatter3d\":[{\"line\":{\"colorbar\":{\"outlinewidth\":0,\"ticks\":\"\"}},\"marker\":{\"colorbar\":{\"outlinewidth\":0,\"ticks\":\"\"}},\"type\":\"scatter3d\"}],\"scattercarpet\":[{\"marker\":{\"colorbar\":{\"outlinewidth\":0,\"ticks\":\"\"}},\"type\":\"scattercarpet\"}],\"scattergeo\":[{\"marker\":{\"colorbar\":{\"outlinewidth\":0,\"ticks\":\"\"}},\"type\":\"scattergeo\"}],\"scattergl\":[{\"marker\":{\"colorbar\":{\"outlinewidth\":0,\"ticks\":\"\"}},\"type\":\"scattergl\"}],\"scattermapbox\":[{\"marker\":{\"colorbar\":{\"outlinewidth\":0,\"ticks\":\"\"}},\"type\":\"scattermapbox\"}],\"scatterpolargl\":[{\"marker\":{\"colorbar\":{\"outlinewidth\":0,\"ticks\":\"\"}},\"type\":\"scatterpolargl\"}],\"scatterpolar\":[{\"marker\":{\"colorbar\":{\"outlinewidth\":0,\"ticks\":\"\"}},\"type\":\"scatterpolar\"}],\"scatter\":[{\"marker\":{\"colorbar\":{\"outlinewidth\":0,\"ticks\":\"\"}},\"type\":\"scatter\"}],\"scatterternary\":[{\"marker\":{\"colorbar\":{\"outlinewidth\":0,\"ticks\":\"\"}},\"type\":\"scatterternary\"}],\"surface\":[{\"colorbar\":{\"outlinewidth\":0,\"ticks\":\"\"},\"colorscale\":[[0.0,\"#0d0887\"],[0.1111111111111111,\"#46039f\"],[0.2222222222222222,\"#7201a8\"],[0.3333333333333333,\"#9c179e\"],[0.4444444444444444,\"#bd3786\"],[0.5555555555555556,\"#d8576b\"],[0.6666666666666666,\"#ed7953\"],[0.7777777777777778,\"#fb9f3a\"],[0.8888888888888888,\"#fdca26\"],[1.0,\"#f0f921\"]],\"type\":\"surface\"}],\"table\":[{\"cells\":{\"fill\":{\"color\":\"#EBF0F8\"},\"line\":{\"color\":\"white\"}},\"header\":{\"fill\":{\"color\":\"#C8D4E3\"},\"line\":{\"color\":\"white\"}},\"type\":\"table\"}]},\"layout\":{\"annotationdefaults\":{\"arrowcolor\":\"#2a3f5f\",\"arrowhead\":0,\"arrowwidth\":1},\"autotypenumbers\":\"strict\",\"coloraxis\":{\"colorbar\":{\"outlinewidth\":0,\"ticks\":\"\"}},\"colorscale\":{\"diverging\":[[0,\"#8e0152\"],[0.1,\"#c51b7d\"],[0.2,\"#de77ae\"],[0.3,\"#f1b6da\"],[0.4,\"#fde0ef\"],[0.5,\"#f7f7f7\"],[0.6,\"#e6f5d0\"],[0.7,\"#b8e186\"],[0.8,\"#7fbc41\"],[0.9,\"#4d9221\"],[1,\"#276419\"]],\"sequential\":[[0.0,\"#0d0887\"],[0.1111111111111111,\"#46039f\"],[0.2222222222222222,\"#7201a8\"],[0.3333333333333333,\"#9c179e\"],[0.4444444444444444,\"#bd3786\"],[0.5555555555555556,\"#d8576b\"],[0.6666666666666666,\"#ed7953\"],[0.7777777777777778,\"#fb9f3a\"],[0.8888888888888888,\"#fdca26\"],[1.0,\"#f0f921\"]],\"sequentialminus\":[[0.0,\"#0d0887\"],[0.1111111111111111,\"#46039f\"],[0.2222222222222222,\"#7201a8\"],[0.3333333333333333,\"#9c179e\"],[0.4444444444444444,\"#bd3786\"],[0.5555555555555556,\"#d8576b\"],[0.6666666666666666,\"#ed7953\"],[0.7777777777777778,\"#fb9f3a\"],[0.8888888888888888,\"#fdca26\"],[1.0,\"#f0f921\"]]},\"colorway\":[\"#636efa\",\"#EF553B\",\"#00cc96\",\"#ab63fa\",\"#FFA15A\",\"#19d3f3\",\"#FF6692\",\"#B6E880\",\"#FF97FF\",\"#FECB52\"],\"font\":{\"color\":\"#2a3f5f\"},\"geo\":{\"bgcolor\":\"white\",\"lakecolor\":\"white\",\"landcolor\":\"white\",\"showlakes\":true,\"showland\":true,\"subunitcolor\":\"#C8D4E3\"},\"hoverlabel\":{\"align\":\"left\"},\"hovermode\":\"closest\",\"mapbox\":{\"style\":\"light\"},\"paper_bgcolor\":\"white\",\"plot_bgcolor\":\"white\",\"polar\":{\"angularaxis\":{\"gridcolor\":\"#EBF0F8\",\"linecolor\":\"#EBF0F8\",\"ticks\":\"\"},\"bgcolor\":\"white\",\"radialaxis\":{\"gridcolor\":\"#EBF0F8\",\"linecolor\":\"#EBF0F8\",\"ticks\":\"\"}},\"scene\":{\"xaxis\":{\"backgroundcolor\":\"white\",\"gridcolor\":\"#DFE8F3\",\"gridwidth\":2,\"linecolor\":\"#EBF0F8\",\"showbackground\":true,\"ticks\":\"\",\"zerolinecolor\":\"#EBF0F8\"},\"yaxis\":{\"backgroundcolor\":\"white\",\"gridcolor\":\"#DFE8F3\",\"gridwidth\":2,\"linecolor\":\"#EBF0F8\",\"showbackground\":true,\"ticks\":\"\",\"zerolinecolor\":\"#EBF0F8\"},\"zaxis\":{\"backgroundcolor\":\"white\",\"gridcolor\":\"#DFE8F3\",\"gridwidth\":2,\"linecolor\":\"#EBF0F8\",\"showbackground\":true,\"ticks\":\"\",\"zerolinecolor\":\"#EBF0F8\"}},\"shapedefaults\":{\"line\":{\"color\":\"#2a3f5f\"}},\"ternary\":{\"aaxis\":{\"gridcolor\":\"#DFE8F3\",\"linecolor\":\"#A2B1C6\",\"ticks\":\"\"},\"baxis\":{\"gridcolor\":\"#DFE8F3\",\"linecolor\":\"#A2B1C6\",\"ticks\":\"\"},\"bgcolor\":\"white\",\"caxis\":{\"gridcolor\":\"#DFE8F3\",\"linecolor\":\"#A2B1C6\",\"ticks\":\"\"}},\"title\":{\"x\":0.05},\"xaxis\":{\"automargin\":true,\"gridcolor\":\"#EBF0F8\",\"linecolor\":\"#EBF0F8\",\"ticks\":\"\",\"title\":{\"standoff\":15},\"zerolinecolor\":\"#EBF0F8\",\"zerolinewidth\":2},\"yaxis\":{\"automargin\":true,\"gridcolor\":\"#EBF0F8\",\"linecolor\":\"#EBF0F8\",\"ticks\":\"\",\"title\":{\"standoff\":15},\"zerolinecolor\":\"#EBF0F8\",\"zerolinewidth\":2}}},\"xaxis\":{\"anchor\":\"y\",\"domain\":[0.0,1.0],\"scaleanchor\":\"y\",\"constrain\":\"domain\"},\"yaxis\":{\"anchor\":\"x\",\"domain\":[0.0,1.0],\"autorange\":\"reversed\",\"constrain\":\"domain\"},\"coloraxis\":{\"colorscale\":[[0.0,\"rgb(165,0,38)\"],[0.1,\"rgb(215,48,39)\"],[0.2,\"rgb(244,109,67)\"],[0.3,\"rgb(253,174,97)\"],[0.4,\"rgb(254,224,139)\"],[0.5,\"rgb(255,255,191)\"],[0.6,\"rgb(217,239,139)\"],[0.7,\"rgb(166,217,106)\"],[0.8,\"rgb(102,189,99)\"],[0.9,\"rgb(26,152,80)\"],[1.0,\"rgb(0,104,55)\"]],\"colorbar\":{\"len\":0.85,\"x\":1.1}},\"margin\":{\"t\":60},\"height\":800,\"width\":800,\"font\":{\"family\":\"monospace\"},\"title\":{\"font\":{\"color\":\"black\",\"size\":24},\"text\":\"Correlation Heatmap\",\"x\":0.5,\"y\":0.93}},                        {\"responsive\": true}                    ).then(function(){\n",
              "                            \n",
              "var gd = document.getElementById('524a9f6b-4e0d-4f9b-93a1-8d185d503aef');\n",
              "var x = new MutationObserver(function (mutations, observer) {{\n",
              "        var display = window.getComputedStyle(gd).display;\n",
              "        if (!display || display === 'none') {{\n",
              "            console.log([gd, 'removed!']);\n",
              "            Plotly.purge(gd);\n",
              "            observer.disconnect();\n",
              "        }}\n",
              "}});\n",
              "\n",
              "// Listen for the removal of the full notebook cells\n",
              "var notebookContainer = gd.closest('#notebook-container');\n",
              "if (notebookContainer) {{\n",
              "    x.observe(notebookContainer, {childList: true});\n",
              "}}\n",
              "\n",
              "// Listen for the clearing of the current output cell\n",
              "var outputEl = gd.closest('.output');\n",
              "if (outputEl) {{\n",
              "    x.observe(outputEl, {childList: true});\n",
              "}}\n",
              "\n",
              "                        })                };                            </script>        </div>\n",
              "</body>\n",
              "</html>"
            ]
          },
          "metadata": {}
        }
      ]
    },
    {
      "cell_type": "code",
      "source": [],
      "metadata": {
        "id": "xQVzOLM1wEVl"
      },
      "execution_count": null,
      "outputs": []
    },
    {
      "cell_type": "markdown",
      "source": [
        "# Modelling"
      ],
      "metadata": {
        "id": "k924XSVfma5O"
      }
    },
    {
      "cell_type": "code",
      "source": [
        "from sklearn.model_selection import KFold\n",
        "from sklearn.model_selection import cross_val_score\n",
        "import seaborn as sns\n",
        "from sklearn.naive_bayes import GaussianNB\n",
        "import statsmodels.formula.api as smf\n",
        "import statsmodels.api as sm\n",
        "from sklearn.linear_model import LogisticRegression\n",
        "from sklearn.metrics import classification_report, confusion_matrix, plot_confusion_matrix\n",
        "from sklearn.neighbors import KNeighborsClassifier\n",
        "from sklearn.tree import DecisionTreeClassifier\n",
        "from sklearn.ensemble import RandomForestClassifier\n",
        "from sklearn.svm import LinearSVC"
      ],
      "metadata": {
        "id": "iEF9z7b7I5K_"
      },
      "execution_count": 137,
      "outputs": []
    },
    {
      "cell_type": "code",
      "source": [
        "train = d.sample(frac=0.8, random_state=25)\n",
        "test = d.drop(train.index)\n",
        "\n",
        "print(f\"Number of training examples: {train.shape[0]}\")\n",
        "print(f\"Number of testing examples: {test.shape[0]}\")"
      ],
      "metadata": {
        "colab": {
          "base_uri": "https://localhost:8080/"
        },
        "id": "zOzKzsLO-5Rm",
        "outputId": "2a42dfc0-197b-4619-afe3-ce2624b5fba5"
      },
      "execution_count": 181,
      "outputs": [
        {
          "output_type": "stream",
          "name": "stdout",
          "text": [
            "Number of training examples: 22623\n",
            "Number of testing examples: 5656\n"
          ]
        }
      ]
    },
    {
      "cell_type": "code",
      "source": [
        "W=train.W"
      ],
      "metadata": {
        "id": "YB9OV-r8A9pa"
      },
      "execution_count": 182,
      "outputs": []
    },
    {
      "cell_type": "code",
      "source": [
        "train.drop('W', inplace=True, axis=1)\n",
        "test.drop('W', inplace=True, axis=1)"
      ],
      "metadata": {
        "id": "cdkNNl6mBL4L"
      },
      "execution_count": 183,
      "outputs": []
    },
    {
      "cell_type": "code",
      "source": [
        "x_train = train[train.columns[0:len(train.columns)-1]]\n",
        "y_train = train[train.columns[-1]]\n",
        "\n",
        "\n",
        "x_test = test[test.columns[0:len(test.columns)-1]]\n",
        "y_test = test[test.columns[-1]]\n",
        "\n",
        "\n",
        "X = d[d.columns[1:len(d.columns)-1]]\n",
        "Y=d[d.columns[-1]]"
      ],
      "metadata": {
        "id": "K21BlB2__Wg3"
      },
      "execution_count": 184,
      "outputs": []
    },
    {
      "cell_type": "markdown",
      "source": [
        "## Logistic regression\n"
      ],
      "metadata": {
        "id": "qtxNlhTYmeWa"
      }
    },
    {
      "cell_type": "markdown",
      "source": [
        "### From Statsmodels"
      ],
      "metadata": {
        "id": "H6wl3rDi_gms"
      }
    },
    {
      "cell_type": "markdown",
      "source": [
        "#### Without weight"
      ],
      "metadata": {
        "id": "Hc9JgD9D7tu8"
      }
    },
    {
      "cell_type": "code",
      "source": [
        "formula = \" Y ~ C(Region) + Income + C(Gender) + Age + Increase_fuel_taxes + Reduce_energy + Education + Politics + C(CC_reasons) + CC_ishappening + C(Care_nature) + CC_isgood\"\n",
        "log_reg = smf.glm(formula, data=train,family=sm.families.Binomial()).fit()"
      ],
      "metadata": {
        "id": "QZV0cU3dqn-u"
      },
      "execution_count": null,
      "outputs": []
    },
    {
      "cell_type": "code",
      "source": [
        "print(log_reg.summary())"
      ],
      "metadata": {
        "colab": {
          "base_uri": "https://localhost:8080/"
        },
        "id": "rQhp-RaDrn7O",
        "outputId": "c9b6d927-e0e4-42bd-928b-7b37165b374f"
      },
      "execution_count": null,
      "outputs": [
        {
          "output_type": "stream",
          "name": "stdout",
          "text": [
            "                 Generalized Linear Model Regression Results                  \n",
            "==============================================================================\n",
            "Dep. Variable:                      Y   No. Observations:                23606\n",
            "Model:                            GLM   Df Residuals:                    23589\n",
            "Model Family:                Binomial   Df Model:                           16\n",
            "Link Function:                  logit   Scale:                          1.0000\n",
            "Method:                          IRLS   Log-Likelihood:                -11849.\n",
            "Date:                Mon, 05 Dec 2022   Deviance:                       23698.\n",
            "Time:                        10:58:40   Pearson chi2:                 2.70e+04\n",
            "No. Iterations:                     5                                         \n",
            "Covariance Type:            nonrobust                                         \n",
            "=========================================================================================\n",
            "                            coef    std err          z      P>|z|      [0.025      0.975]\n",
            "-----------------------------------------------------------------------------------------\n",
            "Intercept                 0.0951      0.122      0.779      0.436      -0.144       0.334\n",
            "C(Region)[T.0]           -0.1546      0.090     -1.712      0.087      -0.332       0.022\n",
            "C(Region)[T.1]           -0.0289      0.093     -0.311      0.756      -0.212       0.154\n",
            "C(Region)[T.2]           -0.9410      0.095     -9.865      0.000      -1.128      -0.754\n",
            "C(Region)[T.3]           -0.3319      0.087     -3.809      0.000      -0.503      -0.161\n",
            "C(Gender)[T.1.0]          0.1247      0.032      3.874      0.000       0.062       0.188\n",
            "C(CC_reasons)[T.2]       -0.5366      0.079     -6.833      0.000      -0.691      -0.383\n",
            "C(Care_nature)[T.2.0]     0.7654      0.041     18.709      0.000       0.685       0.846\n",
            "C(Care_nature)[T.3.0]     0.9011      0.137      6.581      0.000       0.633       1.169\n",
            "Income                    0.0635      0.018      3.620      0.000       0.029       0.098\n",
            "Age                       0.0821      0.024      3.387      0.001       0.035       0.130\n",
            "Increase_fuel_taxes       0.2142      0.017     12.839      0.000       0.182       0.247\n",
            "Reduce_energy            -0.2509      0.017    -14.757      0.000      -0.284      -0.218\n",
            "Education                -0.0350      0.018     -2.002      0.045      -0.069      -0.001\n",
            "Politics                  0.0984      0.016      6.086      0.000       0.067       0.130\n",
            "CC_ishappening            1.0582      0.036     29.636      0.000       0.988       1.128\n",
            "CC_isgood                 0.4423      0.018     25.184      0.000       0.408       0.477\n",
            "=========================================================================================\n"
          ]
        }
      ]
    },
    {
      "cell_type": "code",
      "source": [
        "sns.regplot(x='CC_ishappening', y='Y', data=d, logistic=True)"
      ],
      "metadata": {
        "id": "KaschayOL0P6",
        "outputId": "4e12e498-5d17-44de-e640-715fb4ad5fca",
        "colab": {
          "base_uri": "https://localhost:8080/",
          "height": 297
        }
      },
      "execution_count": null,
      "outputs": [
        {
          "output_type": "execute_result",
          "data": {
            "text/plain": [
              "<matplotlib.axes._subplots.AxesSubplot at 0x7f49eb3cb760>"
            ]
          },
          "metadata": {},
          "execution_count": 138
        },
        {
          "output_type": "display_data",
          "data": {
            "text/plain": [
              "<Figure size 432x288 with 1 Axes>"
            ],
            "image/png": "[encoded data removed]"
          },
          "metadata": {
            "needs_background": "light"
          }
        }
      ]
    },
    {
      "cell_type": "code",
      "source": [
        "sns.regplot(x='Age', y='Y', data=d, logistic=True)"
      ],
      "metadata": {
        "id": "CS3Xo10nCYnc",
        "outputId": "59e40a03-9556-4ce6-f4ff-034851101f3e",
        "colab": {
          "base_uri": "https://localhost:8080/",
          "height": 296
        }
      },
      "execution_count": null,
      "outputs": [
        {
          "output_type": "execute_result",
          "data": {
            "text/plain": [
              "<matplotlib.axes._subplots.AxesSubplot at 0x7f498c3a8a60>"
            ]
          },
          "metadata": {},
          "execution_count": 338
        },
        {
          "output_type": "display_data",
          "data": {
            "text/plain": [
              "<Figure size 432x288 with 1 Axes>"
            ],
            "image/png": "[encoded data removed]"
          },
          "metadata": {
            "needs_background": "light"
          }
        }
      ]
    },
    {
      "cell_type": "markdown",
      "source": [
        "#### With weight"
      ],
      "metadata": {
        "id": "4JJk0zOd72Bh"
      }
    },
    {
      "cell_type": "code",
      "source": [
        "formula1 = \" Y ~ C(Region) + Income + C(Gender) + Age + C(Increase_fuel_taxes) + C(Reduce_energy) + Education + Politics + C(CC_reasons) + C(CC_ishappening) + C(Care_nature) + CC_isgood\"\n",
        "log_reg1 = smf.glm(formula1, data=train,family=sm.families.Binomial(),freq_weights= W ).fit()"
      ],
      "metadata": {
        "id": "ZSYpotR9qoDH"
      },
      "execution_count": 185,
      "outputs": []
    },
    {
      "cell_type": "code",
      "source": [
        "print(log_reg1.summary())"
      ],
      "metadata": {
        "colab": {
          "base_uri": "https://localhost:8080/"
        },
        "id": "cRqRMLle75Dv",
        "outputId": "30b2c31c-ccd8-4aee-d3f1-85d125562d2c"
      },
      "execution_count": 186,
      "outputs": [
        {
          "output_type": "stream",
          "name": "stdout",
          "text": [
            "                 Generalized Linear Model Regression Results                  \n",
            "==============================================================================\n",
            "Dep. Variable:                      Y   No. Observations:                22623\n",
            "Model:                            GLM   Df Residuals:                 24766.40\n",
            "Model Family:                Binomial   Df Model:                           16\n",
            "Link Function:                  logit   Scale:                          1.0000\n",
            "Method:                          IRLS   Log-Likelihood:                -10632.\n",
            "Date:                Wed, 14 Dec 2022   Deviance:                       21265.\n",
            "Time:                        10:13:14   Pearson chi2:                 2.34e+04\n",
            "No. Iterations:                     5                                         \n",
            "Covariance Type:            nonrobust                                         \n",
            "=================================================================================================\n",
            "                                    coef    std err          z      P>|z|      [0.025      0.975]\n",
            "-------------------------------------------------------------------------------------------------\n",
            "Intercept                        -1.1698      0.092    -12.754      0.000      -1.350      -0.990\n",
            "C(Region)[T.1]                   -0.1044      0.078     -1.335      0.182      -0.258       0.049\n",
            "C(Region)[T.2]                    1.2016      0.066     18.327      0.000       1.073       1.330\n",
            "C(Region)[T.3]                    0.5119      0.040     12.691      0.000       0.433       0.591\n",
            "C(Gender)[T.1.0]                 -0.3612      0.035    -10.335      0.000      -0.430      -0.293\n",
            "C(Increase_fuel_taxes)[T.1.0]     0.6709      0.043     15.457      0.000       0.586       0.756\n",
            "C(Increase_fuel_taxes)[T.2.0]     0.4097      0.043      9.534      0.000       0.325       0.494\n",
            "C(Reduce_energy)[T.1.0]           0.5211      0.037     13.932      0.000       0.448       0.594\n",
            "C(CC_reasons)[T.2]                1.1110      0.054     20.538      0.000       1.005       1.217\n",
            "C(CC_ishappening)[T.1.0]          0.9680      0.073     13.224      0.000       0.825       1.111\n",
            "C(Care_nature)[T.2.0]            -0.4701      0.038    -12.430      0.000      -0.544      -0.396\n",
            "C(Care_nature)[T.3.0]            -1.2852      0.084    -15.221      0.000      -1.451      -1.120\n",
            "Income                            0.0415      0.019      2.235      0.025       0.005       0.078\n",
            "Age                              -0.0376      0.018     -2.116      0.034      -0.072      -0.003\n",
            "Education                         0.0111      0.019      0.572      0.567      -0.027       0.049\n",
            "Politics                         -0.0902      0.018     -5.021      0.000      -0.125      -0.055\n",
            "CC_isgood                        -0.4034      0.018    -22.677      0.000      -0.438      -0.369\n",
            "=================================================================================================\n"
          ]
        }
      ]
    },
    {
      "cell_type": "markdown",
      "source": [
        "### From sklearn"
      ],
      "metadata": {
        "id": "pmt32Vxx_ZmK"
      }
    },
    {
      "cell_type": "code",
      "source": [
        "# instantiate the model\n",
        "lr = LogisticRegression(solver='liblinear', random_state=0)\n",
        "\n",
        "\n",
        "# fit the model\n",
        "lr.fit(x_train, y_train)"
      ],
      "metadata": {
        "colab": {
          "base_uri": "https://localhost:8080/"
        },
        "id": "HVl2tblh-SKW",
        "outputId": "2cf83925-8706-41e0-c889-12115deea9d7"
      },
      "execution_count": 77,
      "outputs": [
        {
          "output_type": "execute_result",
          "data": {
            "text/plain": [
              "LogisticRegression(random_state=0, solver='liblinear')"
            ]
          },
          "metadata": {},
          "execution_count": 77
        }
      ]
    },
    {
      "cell_type": "code",
      "source": [
        "predictions = lr.predict(x_test)\n",
        "print(classification_report(y_test, predictions))"
      ],
      "metadata": {
        "colab": {
          "base_uri": "https://localhost:8080/"
        },
        "id": "wcG8B-Q8j5B7",
        "outputId": "f0905ad7-c94a-42c1-97b3-ad3e77ab74ab"
      },
      "execution_count": 78,
      "outputs": [
        {
          "output_type": "stream",
          "name": "stdout",
          "text": [
            "              precision    recall  f1-score   support\n",
            "\n",
            "           0       0.60      0.24      0.35      1330\n",
            "           1       0.80      0.95      0.87      4326\n",
            "\n",
            "    accuracy                           0.78      5656\n",
            "   macro avg       0.70      0.60      0.61      5656\n",
            "weighted avg       0.76      0.78      0.75      5656\n",
            "\n"
          ]
        }
      ]
    },
    {
      "cell_type": "code",
      "source": [
        "plot_confusion_matrix(lr, x_test, y_test)"
      ],
      "metadata": {
        "colab": {
          "base_uri": "https://localhost:8080/",
          "height": 351
        },
        "id": "peAx4aB_j-_U",
        "outputId": "700e119f-7a2d-4bcc-e172-83fc0567bbc0"
      },
      "execution_count": 79,
      "outputs": [
        {
          "output_type": "stream",
          "name": "stderr",
          "text": [
            "/usr/local/lib/python3.8/dist-packages/sklearn/utils/deprecation.py:87: FutureWarning: Function plot_confusion_matrix is deprecated; Function `plot_confusion_matrix` is deprecated in 1.0 and will be removed in 1.2. Use one of the class methods: ConfusionMatrixDisplay.from_predictions or ConfusionMatrixDisplay.from_estimator.\n",
            "  warnings.warn(msg, category=FutureWarning)\n"
          ]
        },
        {
          "output_type": "execute_result",
          "data": {
            "text/plain": [
              "<sklearn.metrics._plot.confusion_matrix.ConfusionMatrixDisplay at 0x7f7c6e49f550>"
            ]
          },
          "metadata": {},
          "execution_count": 79
        },
        {
          "output_type": "display_data",
          "data": {
            "text/plain": [
              "<Figure size 432x288 with 2 Axes>"
            ],
            "image/png": "[encoded data removed]"
          },
          "metadata": {
            "needs_background": "light"
          }
        }
      ]
    },
    {
      "cell_type": "code",
      "source": [
        "kfold = KFold(n_splits=5, random_state=0, shuffle=True)\n",
        "model = LogisticRegression(solver='liblinear')\n",
        "results = cross_val_score(model, X, Y, cv=kfold)\n",
        "# Output the accuracy. Calculate the mean and std across all folds. \n",
        "print(\"Accuracy: %.3f%% (%.3f%%)\" % (results.mean()*100.0, results.std()*100.0))"
      ],
      "metadata": {
        "id": "RBfRdhMTJG_-",
        "outputId": "c3d9e6ea-b362-4b9c-aa2d-bf135627d7f6",
        "colab": {
          "base_uri": "https://localhost:8080/"
        }
      },
      "execution_count": 80,
      "outputs": [
        {
          "output_type": "stream",
          "name": "stdout",
          "text": [
            "Accuracy: 78.843% (0.074%)\n"
          ]
        }
      ]
    },
    {
      "cell_type": "markdown",
      "source": [
        "## Naive Bayes"
      ],
      "metadata": {
        "id": "psZbC9_6nMOR"
      }
    },
    {
      "cell_type": "code",
      "source": [
        "# instantiate the model\n",
        "gnb = GaussianNB()\n",
        "\n",
        "\n",
        "# fit the model\n",
        "gnb.fit(x_train, y_train)"
      ],
      "metadata": {
        "colab": {
          "base_uri": "https://localhost:8080/"
        },
        "id": "OkrJ_mX3Hh-e",
        "outputId": "b4b48d2e-2d20-4a38-85dc-f8d4e3da976b"
      },
      "execution_count": null,
      "outputs": [
        {
          "output_type": "execute_result",
          "data": {
            "text/plain": [
              "GaussianNB()"
            ]
          },
          "metadata": {},
          "execution_count": 229
        }
      ]
    },
    {
      "cell_type": "code",
      "source": [
        "predictions = gnb.predict(x_test)"
      ],
      "metadata": {
        "id": "4DNI0ZCQm0a9"
      },
      "execution_count": null,
      "outputs": []
    },
    {
      "cell_type": "code",
      "source": [
        "print(classification_report(y_test, predictions))"
      ],
      "metadata": {
        "colab": {
          "base_uri": "https://localhost:8080/"
        },
        "id": "UGgOvmA9m5Vf",
        "outputId": "347c6249-d0d6-453e-8464-a5a0d95ff8ec"
      },
      "execution_count": null,
      "outputs": [
        {
          "output_type": "stream",
          "name": "stdout",
          "text": [
            "              precision    recall  f1-score   support\n",
            "\n",
            "           0       0.51      0.74      0.61      2073\n",
            "           1       0.86      0.70      0.77      4792\n",
            "\n",
            "    accuracy                           0.71      6865\n",
            "   macro avg       0.69      0.72      0.69      6865\n",
            "weighted avg       0.76      0.71      0.72      6865\n",
            "\n"
          ]
        }
      ]
    },
    {
      "cell_type": "code",
      "source": [
        "plot_confusion_matrix(gnb, x_test, y_test)"
      ],
      "metadata": {
        "colab": {
          "base_uri": "https://localhost:8080/",
          "height": 351
        },
        "id": "BOURHSx0HwKw",
        "outputId": "7b1b8813-f320-453c-d202-f4182973abae"
      },
      "execution_count": null,
      "outputs": [
        {
          "output_type": "stream",
          "name": "stderr",
          "text": [
            "/usr/local/lib/python3.8/dist-packages/sklearn/utils/deprecation.py:87: FutureWarning: Function plot_confusion_matrix is deprecated; Function `plot_confusion_matrix` is deprecated in 1.0 and will be removed in 1.2. Use one of the class methods: ConfusionMatrixDisplay.from_predictions or ConfusionMatrixDisplay.from_estimator.\n",
            "  warnings.warn(msg, category=FutureWarning)\n"
          ]
        },
        {
          "output_type": "execute_result",
          "data": {
            "text/plain": [
              "<sklearn.metrics._plot.confusion_matrix.ConfusionMatrixDisplay at 0x7fd424849610>"
            ]
          },
          "metadata": {},
          "execution_count": 159
        },
        {
          "output_type": "display_data",
          "data": {
            "text/plain": [
              "<Figure size 432x288 with 2 Axes>"
            ],
            "image/png": "[encoded data removed]"
          },
          "metadata": {
            "needs_background": "light"
          }
        }
      ]
    },
    {
      "cell_type": "code",
      "source": [
        "kfold = KFold(n_splits=5, random_state=0, shuffle=True)\n",
        "model = GaussianNB()\n",
        "results = cross_val_score(model, X, Y, cv=kfold)\n",
        "# Output the accuracy. Calculate the mean and std across all folds. \n",
        "print(\"Accuracy: %.3f%% (%.3f%%)\" % (results.mean()*100.0, results.std()*100.0))"
      ],
      "metadata": {
        "id": "HPG6MOc-KzjB",
        "outputId": "034c3ae3-58ab-412f-f0f8-b14383a5424a",
        "colab": {
          "base_uri": "https://localhost:8080/"
        }
      },
      "execution_count": null,
      "outputs": [
        {
          "output_type": "stream",
          "name": "stdout",
          "text": [
            "Accuracy: 70.359% (0.568%)\n"
          ]
        }
      ]
    },
    {
      "cell_type": "markdown",
      "source": [
        "## Logistic with smote"
      ],
      "metadata": {
        "id": "et9tH_gjnHqc"
      }
    },
    {
      "cell_type": "code",
      "source": [
        "from imblearn.over_sampling import SMOTE"
      ],
      "metadata": {
        "id": "URnSyxrVR9LV"
      },
      "execution_count": null,
      "outputs": []
    },
    {
      "cell_type": "code",
      "source": [
        "smt = SMOTE()\n",
        "x_smote, y_smote = smt.fit_resample(x_train, y_train.ravel())"
      ],
      "metadata": {
        "id": "1d-uLckbR7VR"
      },
      "execution_count": null,
      "outputs": []
    },
    {
      "cell_type": "code",
      "source": [
        "print(\"Before OverSampling, counts of label '1': {}\".format(sum(y_train==1)))\n",
        "print(\"Before OverSampling, counts of label '0': {} \\n\".format(sum(y_train==0)))\n",
        "\n",
        "sm = SMOTE(random_state=2)\n",
        "x_train_res, y_train_res = sm.fit_resample(x_train, y_train.ravel())\n",
        "\n",
        "print('After OverSampling, the shape of train_X: {}'.format(x_train_res.shape))\n",
        "print('After OverSampling, the shape of train_y: {} \\n'.format(y_train_res.shape))\n",
        "\n",
        "print(\"After OverSampling, counts of label '1': {}\".format(sum(y_train_res==1)))\n",
        "print(\"After OverSampling, counts of label '0': {}\".format(sum(y_train_res==0)))\n"
      ],
      "metadata": {
        "id": "cQaTIYx_SfCz",
        "outputId": "810c337c-8d18-4f13-f3c2-9053cffcccd5",
        "colab": {
          "base_uri": "https://localhost:8080/"
        }
      },
      "execution_count": null,
      "outputs": [
        {
          "output_type": "stream",
          "name": "stdout",
          "text": [
            "Before OverSampling, counts of label '1': 19302\n",
            "Before OverSampling, counts of label '0': 8157 \n",
            "\n",
            "After OverSampling, the shape of train_X: (38604, 12)\n",
            "After OverSampling, the shape of train_y: (38604,) \n",
            "\n",
            "After OverSampling, counts of label '1': 19302\n",
            "After OverSampling, counts of label '0': 19302\n"
          ]
        }
      ]
    },
    {
      "cell_type": "code",
      "source": [
        "logreg = LogisticRegression(solver='liblinear', random_state=0)\n",
        "\n",
        "\n",
        "# fit the model\n",
        "logreg.fit( x_train_res, y_train_res)"
      ],
      "metadata": {
        "colab": {
          "base_uri": "https://localhost:8080/"
        },
        "id": "8pW352_FiLfe",
        "outputId": "e589da1d-4559-417b-cc1a-0e2fe4c4bc95"
      },
      "execution_count": null,
      "outputs": [
        {
          "output_type": "execute_result",
          "data": {
            "text/plain": [
              "LogisticRegression(random_state=0, solver='liblinear')"
            ]
          },
          "metadata": {},
          "execution_count": 236
        }
      ]
    },
    {
      "cell_type": "code",
      "source": [
        "predictions = logreg.predict(x_test)\n",
        "print(classification_report(y_test, predictions))"
      ],
      "metadata": {
        "colab": {
          "base_uri": "https://localhost:8080/"
        },
        "id": "MjUhcH3OniGE",
        "outputId": "f4bba732-8e23-4f20-a0f5-f588cfd04909"
      },
      "execution_count": null,
      "outputs": [
        {
          "output_type": "stream",
          "name": "stdout",
          "text": [
            "              precision    recall  f1-score   support\n",
            "\n",
            "           0       0.50      0.75      0.60      2073\n",
            "           1       0.86      0.67      0.75      4792\n",
            "\n",
            "    accuracy                           0.70      6865\n",
            "   macro avg       0.68      0.71      0.68      6865\n",
            "weighted avg       0.75      0.70      0.71      6865\n",
            "\n"
          ]
        }
      ]
    },
    {
      "cell_type": "code",
      "source": [
        "plot_confusion_matrix(logreg, x_test, y_test)"
      ],
      "metadata": {
        "id": "4UsB3JXgSBl4",
        "outputId": "47c937a2-b659-4259-e48d-a4caef23eb77",
        "colab": {
          "base_uri": "https://localhost:8080/",
          "height": 165
        }
      },
      "execution_count": null,
      "outputs": [
        {
          "output_type": "error",
          "ename": "NameError",
          "evalue": "ignored",
          "traceback": [
            "\u001b[0;31m---------------------------------------------------------------------------\u001b[0m",
            "\u001b[0;31mNameError\u001b[0m                                 Traceback (most recent call last)",
            "\u001b[0;32m<ipython-input-238-4beb67c2bfd3>\u001b[0m in \u001b[0;36m<module>\u001b[0;34m\u001b[0m\n\u001b[0;32m----> 1\u001b[0;31m \u001b[0mplot_confusion_matrix\u001b[0m\u001b[0;34m(\u001b[0m\u001b[0mlogreg\u001b[0m\u001b[0;34m,\u001b[0m \u001b[0mx_test\u001b[0m\u001b[0;34m,\u001b[0m \u001b[0my_test\u001b[0m\u001b[0;34m)\u001b[0m\u001b[0;34m\u001b[0m\u001b[0;34m\u001b[0m\u001b[0m\n\u001b[0m",
            "\u001b[0;31mNameError\u001b[0m: name 'plot_confusion_matrix' is not defined"
          ]
        }
      ]
    },
    {
      "cell_type": "markdown",
      "source": [
        "## Naive Bayes with SMOTE"
      ],
      "metadata": {
        "id": "MXc8XtuToBNa"
      }
    },
    {
      "cell_type": "code",
      "source": [
        "gnb = GaussianNB()\n",
        "\n",
        "\n",
        "# fit the model\n",
        "gnb.fit(x_train_res, y_train_res)"
      ],
      "metadata": {
        "colab": {
          "base_uri": "https://localhost:8080/"
        },
        "id": "x6iBXNu_iETZ",
        "outputId": "e76d30f3-fd30-429f-e4be-96d3106d1633"
      },
      "execution_count": null,
      "outputs": [
        {
          "output_type": "execute_result",
          "data": {
            "text/plain": [
              "GaussianNB()"
            ]
          },
          "metadata": {},
          "execution_count": 239
        }
      ]
    },
    {
      "cell_type": "code",
      "source": [
        "predictions = gnb.predict(x_test)\n",
        "print(classification_report(y_test, predictions))"
      ],
      "metadata": {
        "colab": {
          "base_uri": "https://localhost:8080/"
        },
        "id": "oOt4VCELoFnc",
        "outputId": "f1cbc40a-d9b7-42b3-d225-d688c59ed456"
      },
      "execution_count": null,
      "outputs": [
        {
          "output_type": "stream",
          "name": "stdout",
          "text": [
            "              precision    recall  f1-score   support\n",
            "\n",
            "           0       0.47      0.80      0.59      2073\n",
            "           1       0.88      0.61      0.72      4792\n",
            "\n",
            "    accuracy                           0.67      6865\n",
            "   macro avg       0.67      0.71      0.66      6865\n",
            "weighted avg       0.75      0.67      0.68      6865\n",
            "\n"
          ]
        }
      ]
    },
    {
      "cell_type": "code",
      "source": [
        "plot_confusion_matrix(gnb, x_test, y_test)"
      ],
      "metadata": {
        "id": "Q4C9V_3sTL4a",
        "outputId": "5d536e39-3c9c-4e5e-a6e4-dc80d9491756",
        "colab": {
          "base_uri": "https://localhost:8080/",
          "height": 351
        }
      },
      "execution_count": null,
      "outputs": [
        {
          "output_type": "stream",
          "name": "stderr",
          "text": [
            "/usr/local/lib/python3.8/dist-packages/sklearn/utils/deprecation.py:87: FutureWarning: Function plot_confusion_matrix is deprecated; Function `plot_confusion_matrix` is deprecated in 1.0 and will be removed in 1.2. Use one of the class methods: ConfusionMatrixDisplay.from_predictions or ConfusionMatrixDisplay.from_estimator.\n",
            "  warnings.warn(msg, category=FutureWarning)\n"
          ]
        },
        {
          "output_type": "execute_result",
          "data": {
            "text/plain": [
              "<sklearn.metrics._plot.confusion_matrix.ConfusionMatrixDisplay at 0x7fd3c74e18b0>"
            ]
          },
          "metadata": {},
          "execution_count": 142
        },
        {
          "output_type": "display_data",
          "data": {
            "text/plain": [
              "<Figure size 432x288 with 2 Axes>"
            ],
            "image/png": "[encoded data removed]"
          },
          "metadata": {
            "needs_background": "light"
          }
        }
      ]
    },
    {
      "cell_type": "code",
      "source": [
        "gnb.score(x_train_res, y_train_res)"
      ],
      "metadata": {
        "colab": {
          "base_uri": "https://localhost:8080/"
        },
        "id": "iUZnlrSpiZYo",
        "outputId": "49d2a11e-afaf-4be4-83e0-0002ba5faa4f"
      },
      "execution_count": null,
      "outputs": [
        {
          "output_type": "execute_result",
          "data": {
            "text/plain": [
              "0.5939012302489651"
            ]
          },
          "metadata": {},
          "execution_count": 100
        }
      ]
    },
    {
      "cell_type": "markdown",
      "source": [
        "## Other models"
      ],
      "metadata": {
        "id": "WKqmVteTB6fA"
      }
    },
    {
      "cell_type": "code",
      "source": [
        "from sklearn.neighbors import KNeighborsClassifier\n",
        "from sklearn.tree import DecisionTreeClassifier\n",
        "from sklearn.ensemble import RandomForestClassifier\n",
        "from sklearn.svm import LinearSVC"
      ],
      "metadata": {
        "id": "56GlR5WlDq7Z"
      },
      "execution_count": null,
      "outputs": []
    },
    {
      "cell_type": "code",
      "source": [
        "knn = KNeighborsClassifier(algorithm = 'brute', n_jobs=-1)\n",
        "knn.fit(x_train, y_train)"
      ],
      "metadata": {
        "id": "KHkDW-JuDtER",
        "outputId": "b457b9e3-8bac-4023-fad1-6550c4892d83",
        "colab": {
          "base_uri": "https://localhost:8080/"
        }
      },
      "execution_count": null,
      "outputs": [
        {
          "output_type": "execute_result",
          "data": {
            "text/plain": [
              "KNeighborsClassifier(algorithm='brute', n_jobs=-1)"
            ]
          },
          "metadata": {},
          "execution_count": 243
        }
      ]
    },
    {
      "cell_type": "code",
      "source": [
        "predictions = knn.predict(x_test)\n",
        "print(classification_report(y_test, predictions))"
      ],
      "metadata": {
        "id": "bobeiESBD3Pa",
        "outputId": "3695fe5c-92c4-45cb-ddef-99397cb62098",
        "colab": {
          "base_uri": "https://localhost:8080/"
        }
      },
      "execution_count": null,
      "outputs": [
        {
          "output_type": "stream",
          "name": "stdout",
          "text": [
            "              precision    recall  f1-score   support\n",
            "\n",
            "           0       0.57      0.45      0.50      2073\n",
            "           1       0.78      0.85      0.82      4792\n",
            "\n",
            "    accuracy                           0.73      6865\n",
            "   macro avg       0.68      0.65      0.66      6865\n",
            "weighted avg       0.72      0.73      0.72      6865\n",
            "\n"
          ]
        }
      ]
    },
    {
      "cell_type": "code",
      "source": [
        "clf = DecisionTreeClassifier()\n",
        "clf.fit(x_train, y_train)"
      ],
      "metadata": {
        "id": "hjR3APVJECMx",
        "outputId": "245aee8a-c0b0-4a8c-9ceb-d18abf95c1e9",
        "colab": {
          "base_uri": "https://localhost:8080/"
        }
      },
      "execution_count": null,
      "outputs": [
        {
          "output_type": "execute_result",
          "data": {
            "text/plain": [
              "DecisionTreeClassifier()"
            ]
          },
          "metadata": {},
          "execution_count": 247
        }
      ]
    },
    {
      "cell_type": "code",
      "source": [
        "predictions = clf.predict(x_test)\n",
        "print(classification_report(y_test, predictions))"
      ],
      "metadata": {
        "id": "cAbd3f91EHic",
        "outputId": "d369f4af-5d13-430a-b916-287a8592500a",
        "colab": {
          "base_uri": "https://localhost:8080/"
        }
      },
      "execution_count": null,
      "outputs": [
        {
          "output_type": "stream",
          "name": "stdout",
          "text": [
            "              precision    recall  f1-score   support\n",
            "\n",
            "           0       0.46      0.49      0.48      2073\n",
            "           1       0.77      0.75      0.76      4792\n",
            "\n",
            "    accuracy                           0.67      6865\n",
            "   macro avg       0.62      0.62      0.62      6865\n",
            "weighted avg       0.68      0.67      0.68      6865\n",
            "\n"
          ]
        }
      ]
    },
    {
      "cell_type": "code",
      "source": [
        "\n",
        "\n",
        "rf = RandomForestClassifier(n_estimators=30, max_depth=9)\n",
        "rf.fit(x_train, y_train)"
      ],
      "metadata": {
        "id": "m3HJA3DiERzG",
        "outputId": "b421bc9f-4ead-46cd-ed75-916e5d1b38a8",
        "colab": {
          "base_uri": "https://localhost:8080/"
        }
      },
      "execution_count": null,
      "outputs": [
        {
          "output_type": "execute_result",
          "data": {
            "text/plain": [
              "RandomForestClassifier(max_depth=9, n_estimators=30)"
            ]
          },
          "metadata": {},
          "execution_count": 249
        }
      ]
    },
    {
      "cell_type": "code",
      "source": [
        "predictions = rf.predict(x_test)\n",
        "print(classification_report(y_test, predictions))"
      ],
      "metadata": {
        "id": "dUyCapfiEV5r",
        "outputId": "c9b48ff9-064e-438f-81b9-ff41c3f84382",
        "colab": {
          "base_uri": "https://localhost:8080/"
        }
      },
      "execution_count": null,
      "outputs": [
        {
          "output_type": "stream",
          "name": "stdout",
          "text": [
            "              precision    recall  f1-score   support\n",
            "\n",
            "           0       0.68      0.43      0.52      2073\n",
            "           1       0.79      0.91      0.85      4792\n",
            "\n",
            "    accuracy                           0.77      6865\n",
            "   macro avg       0.73      0.67      0.68      6865\n",
            "weighted avg       0.75      0.77      0.75      6865\n",
            "\n"
          ]
        }
      ]
    },
    {
      "cell_type": "code",
      "source": [
        "\n",
        "svm=LinearSVC(C=0.0001)\n",
        "svm.fit(x_train, y_train)"
      ],
      "metadata": {
        "id": "cxuv9YcgYovZ",
        "outputId": "c1725108-838e-4828-ffe0-7dc4029190e7",
        "colab": {
          "base_uri": "https://localhost:8080/"
        }
      },
      "execution_count": null,
      "outputs": [
        {
          "output_type": "execute_result",
          "data": {
            "text/plain": [
              "LinearSVC(C=0.0001)"
            ]
          },
          "metadata": {},
          "execution_count": 252
        }
      ]
    },
    {
      "cell_type": "code",
      "source": [
        "predictions = svm.predict(x_test)\n",
        "print(classification_report(y_test, predictions))"
      ],
      "metadata": {
        "id": "-WjYBeEWYr_D",
        "outputId": "2d25990a-6f79-425c-9752-2dbe92041d1b",
        "colab": {
          "base_uri": "https://localhost:8080/"
        }
      },
      "execution_count": null,
      "outputs": [
        {
          "output_type": "stream",
          "name": "stdout",
          "text": [
            "              precision    recall  f1-score   support\n",
            "\n",
            "           0       0.72      0.26      0.39      2073\n",
            "           1       0.75      0.96      0.84      4792\n",
            "\n",
            "    accuracy                           0.75      6865\n",
            "   macro avg       0.74      0.61      0.61      6865\n",
            "weighted avg       0.74      0.75      0.70      6865\n",
            "\n"
          ]
        }
      ]
    },
    {
      "cell_type": "code",
      "source": [
        "from sklearn.ensemble import VotingClassifier\n",
        "# 1) naive bias = mnb\n",
        "# 2) logistic regression =lr\n",
        "# 3) random forest =rf\n",
        "# 4) support vector machine = svm\n",
        "evc=VotingClassifier(estimators=[('lr',lr),('rf',rf),('svm',svm)],voting='hard')\n",
        "evc.fit(x_train, y_train)\n",
        "print(\"score on test: \" + str(evc.score(x_test, y_test)))\n",
        "print(\"score on train: \"+ str(evc.score(x_train, y_train)))"
      ],
      "metadata": {
        "id": "-KPGY_mHEnBI",
        "outputId": "544a28ae-6399-465f-a10f-93e26a8b56d3",
        "colab": {
          "base_uri": "https://localhost:8080/"
        }
      },
      "execution_count": null,
      "outputs": [
        {
          "output_type": "stream",
          "name": "stdout",
          "text": [
            "score on test: 0.7586307356154406\n",
            "score on train: 0.7672529953749226\n"
          ]
        }
      ]
    },
    {
      "cell_type": "code",
      "source": [
        "predictions = evc.predict(x_test)\n",
        "print(classification_report(y_test, predictions))"
      ],
      "metadata": {
        "id": "IM3niVJdFJpK",
        "outputId": "8d51df76-f967-44da-fb4a-fa3aa774af3f",
        "colab": {
          "base_uri": "https://localhost:8080/"
        }
      },
      "execution_count": null,
      "outputs": [
        {
          "output_type": "stream",
          "name": "stdout",
          "text": [
            "              precision    recall  f1-score   support\n",
            "\n",
            "           0       0.69      0.37      0.48      2073\n",
            "           1       0.77      0.93      0.84      4792\n",
            "\n",
            "    accuracy                           0.76      6865\n",
            "   macro avg       0.73      0.65      0.66      6865\n",
            "weighted avg       0.75      0.76      0.73      6865\n",
            "\n"
          ]
        }
      ]
    },
    {
      "cell_type": "code",
      "source": [
        "from sklearn.neural_network import MLPClassifier"
      ],
      "metadata": {
        "id": "DDieuqeV93zR"
      },
      "execution_count": null,
      "outputs": []
    },
    {
      "cell_type": "code",
      "source": [
        "nns = MLPClassifier(hidden_layer_sizes=(20, 2), random_state=1,max_iter=100000)"
      ],
      "metadata": {
        "id": "P8UozuKX99Cp"
      },
      "execution_count": null,
      "outputs": []
    },
    {
      "cell_type": "code",
      "source": [
        "nns.fit(x_train, y_train)"
      ],
      "metadata": {
        "id": "H7NIuKvY-E1I",
        "outputId": "28532205-2878-43ff-9dee-4ab7a3c1fa7a",
        "colab": {
          "base_uri": "https://localhost:8080/"
        }
      },
      "execution_count": null,
      "outputs": [
        {
          "output_type": "execute_result",
          "data": {
            "text/plain": [
              "MLPClassifier(hidden_layer_sizes=(20, 2), max_iter=100000, random_state=1)"
            ]
          },
          "metadata": {},
          "execution_count": 335
        }
      ]
    },
    {
      "cell_type": "code",
      "source": [
        "predictions = nns.predict(x_test)\n",
        "print(classification_report(y_test, predictions))"
      ],
      "metadata": {
        "id": "sr2I3Yy3-mIg",
        "outputId": "82069636-6b3b-4dae-f566-274f7dbc4db9",
        "colab": {
          "base_uri": "https://localhost:8080/"
        }
      },
      "execution_count": null,
      "outputs": [
        {
          "output_type": "stream",
          "name": "stdout",
          "text": [
            "              precision    recall  f1-score   support\n",
            "\n",
            "           0       0.64      0.50      0.56      1792\n",
            "           1       0.80      0.88      0.84      4110\n",
            "\n",
            "    accuracy                           0.76      5902\n",
            "   macro avg       0.72      0.69      0.70      5902\n",
            "weighted avg       0.75      0.76      0.75      5902\n",
            "\n"
          ]
        }
      ]
    }
  ]
}