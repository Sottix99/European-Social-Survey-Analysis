{
  "nbformat": 4,
  "nbformat_minor": 0,
  "metadata": {
    "colab": {
      "provenance": [],
      "include_colab_link": true
    },
    "kernelspec": {
      "name": "python3",
      "display_name": "Python 3"
    },
    "language_info": {
      "name": "python"
    }
  },
  "cells": [
    {
      "cell_type": "markdown",
      "metadata": {
        "id": "view-in-github",
        "colab_type": "text"
      },
      "source": [
        "<a href=\"https://colab.research.google.com/github/Sottix99/SMOS_Final_Project/blob/main/ESS8Dataset.ipynb\" target=\"_parent\"><img src=\"https://colab.research.google.com/assets/colab-badge.svg\" alt=\"Open In Colab\"/></a>"
      ]
    },
    {
      "cell_type": "markdown",
      "source": [
        "# Load"
      ],
      "metadata": {
        "id": "5WkwRAQLl7nK"
      }
    },
    {
      "cell_type": "code",
      "source": [
        "%%capture\n",
        "import numpy as np\n",
        "import pandas as pd \n",
        "from tqdm import tqdm\n",
        "import matplotlib.pyplot as plt\n",
        "import time\n",
        "import csv\n",
        "import os\n",
        "import missingno as msno\n",
        "from collections import Counter\n",
        "from datetime import datetime\n",
        "from scipy.cluster.hierarchy import dendrogram, linkage\n",
        "from collections import defaultdict\n",
        "import statistics\n",
        "from sklearn.preprocessing import Normalizer, StandardScaler\n",
        "from sklearn import preprocessing\n",
        "import plotly.express as px\n",
        "import seaborn as sns"
      ],
      "metadata": {
        "id": "m1QZ4Dr3sHso"
      },
      "execution_count": 155,
      "outputs": []
    },
    {
      "cell_type": "code",
      "execution_count": 2,
      "metadata": {
        "colab": {
          "base_uri": "https://localhost:8080/"
        },
        "id": "8R4YXIh9rzW9",
        "outputId": "21f7b2a7-0ff6-4e23-b8fa-77683799c8a3"
      },
      "outputs": [
        {
          "output_type": "stream",
          "name": "stdout",
          "text": [
            "Mounted at /content/drive\n"
          ]
        }
      ],
      "source": [
        "from google.colab import drive\n",
        "drive.mount('/content/drive')"
      ]
    },
    {
      "cell_type": "code",
      "source": [
        "df= pd.read_csv(r'/content/drive/MyDrive/SMOS/ESS8e02_2.csv',low_memory=False)"
      ],
      "metadata": {
        "id": "UHUf1oFmr6-B"
      },
      "execution_count": 3,
      "outputs": []
    },
    {
      "cell_type": "code",
      "source": [
        "df.head()"
      ],
      "metadata": {
        "colab": {
          "base_uri": "https://localhost:8080/",
          "height": 235
        },
        "id": "Udm8UAHlsP7R",
        "outputId": "73952a0d-d013-444a-f6bd-ad3e575a8536"
      },
      "execution_count": 4,
      "outputs": [
        {
          "output_type": "execute_result",
          "data": {
            "text/plain": [
              "        name  essround  edition    proddate  idno cntry   dweight   pspwght  \\\n",
              "0  ESS8e02_2         8      2.2  10.12.2020     1    AT  0.611677  1.178495   \n",
              "1  ESS8e02_2         8      2.2  10.12.2020     2    AT  1.223354  0.899471   \n",
              "2  ESS8e02_2         8      2.2  10.12.2020     4    AT  0.389058  0.315753   \n",
              "3  ESS8e02_2         8      2.2  10.12.2020     6    AT  0.642594  0.472467   \n",
              "4  ESS8e02_2         8      2.2  10.12.2020    10    AT  3.432402  2.246706   \n",
              "\n",
              "    pweight  anweight  ...  inwmms  inwyys  inwshh  inwsmm  inwdde  inwmme  \\\n",
              "0  0.370393  0.436506  ...      12    2016       7      37       5      12   \n",
              "1  0.370393  0.333158  ...      11    2016       9      39      25      11   \n",
              "2  0.370393  0.116953  ...      11    2016      17      17      22      11   \n",
              "3  0.370393  0.174999  ...      10    2016      19       9      11      10   \n",
              "4  0.370393  0.832164  ...      12    2016      10      31       1      12   \n",
              "\n",
              "   inwyye  inwehh  inwemm  inwtm  \n",
              "0    2016       8      33   50.0  \n",
              "1    2016      11      10   86.0  \n",
              "2    2016      18       0   38.0  \n",
              "3    2016      19      59   46.0  \n",
              "4    2016      11      49   70.0  \n",
              "\n",
              "[5 rows x 535 columns]"
            ],
            "text/html": [
              "\n",
              "  <div id=\"df-9754233c-f361-4ba2-acdb-a8e34b7fe1eb\">\n",
              "    <div class=\"colab-df-container\">\n",
              "      <div>\n",
              "<style scoped>\n",
              "    .dataframe tbody tr th:only-of-type {\n",
              "        vertical-align: middle;\n",
              "    }\n",
              "\n",
              "    .dataframe tbody tr th {\n",
              "        vertical-align: top;\n",
              "    }\n",
              "\n",
              "    .dataframe thead th {\n",
              "        text-align: right;\n",
              "    }\n",
              "</style>\n",
              "<table border=\"1\" class=\"dataframe\">\n",
              "  <thead>\n",
              "    <tr style=\"text-align: right;\">\n",
              "      <th></th>\n",
              "      <th>name</th>\n",
              "      <th>essround</th>\n",
              "      <th>edition</th>\n",
              "      <th>proddate</th>\n",
              "      <th>idno</th>\n",
              "      <th>cntry</th>\n",
              "      <th>dweight</th>\n",
              "      <th>pspwght</th>\n",
              "      <th>pweight</th>\n",
              "      <th>anweight</th>\n",
              "      <th>...</th>\n",
              "      <th>inwmms</th>\n",
              "      <th>inwyys</th>\n",
              "      <th>inwshh</th>\n",
              "      <th>inwsmm</th>\n",
              "      <th>inwdde</th>\n",
              "      <th>inwmme</th>\n",
              "      <th>inwyye</th>\n",
              "      <th>inwehh</th>\n",
              "      <th>inwemm</th>\n",
              "      <th>inwtm</th>\n",
              "    </tr>\n",
              "  </thead>\n",
              "  <tbody>\n",
              "    <tr>\n",
              "      <th>0</th>\n",
              "      <td>ESS8e02_2</td>\n",
              "      <td>8</td>\n",
              "      <td>2.2</td>\n",
              "      <td>10.12.2020</td>\n",
              "      <td>1</td>\n",
              "      <td>AT</td>\n",
              "      <td>0.611677</td>\n",
              "      <td>1.178495</td>\n",
              "      <td>0.370393</td>\n",
              "      <td>0.436506</td>\n",
              "      <td>...</td>\n",
              "      <td>12</td>\n",
              "      <td>2016</td>\n",
              "      <td>7</td>\n",
              "      <td>37</td>\n",
              "      <td>5</td>\n",
              "      <td>12</td>\n",
              "      <td>2016</td>\n",
              "      <td>8</td>\n",
              "      <td>33</td>\n",
              "      <td>50.0</td>\n",
              "    </tr>\n",
              "    <tr>\n",
              "      <th>1</th>\n",
              "      <td>ESS8e02_2</td>\n",
              "      <td>8</td>\n",
              "      <td>2.2</td>\n",
              "      <td>10.12.2020</td>\n",
              "      <td>2</td>\n",
              "      <td>AT</td>\n",
              "      <td>1.223354</td>\n",
              "      <td>0.899471</td>\n",
              "      <td>0.370393</td>\n",
              "      <td>0.333158</td>\n",
              "      <td>...</td>\n",
              "      <td>11</td>\n",
              "      <td>2016</td>\n",
              "      <td>9</td>\n",
              "      <td>39</td>\n",
              "      <td>25</td>\n",
              "      <td>11</td>\n",
              "      <td>2016</td>\n",
              "      <td>11</td>\n",
              "      <td>10</td>\n",
              "      <td>86.0</td>\n",
              "    </tr>\n",
              "    <tr>\n",
              "      <th>2</th>\n",
              "      <td>ESS8e02_2</td>\n",
              "      <td>8</td>\n",
              "      <td>2.2</td>\n",
              "      <td>10.12.2020</td>\n",
              "      <td>4</td>\n",
              "      <td>AT</td>\n",
              "      <td>0.389058</td>\n",
              "      <td>0.315753</td>\n",
              "      <td>0.370393</td>\n",
              "      <td>0.116953</td>\n",
              "      <td>...</td>\n",
              "      <td>11</td>\n",
              "      <td>2016</td>\n",
              "      <td>17</td>\n",
              "      <td>17</td>\n",
              "      <td>22</td>\n",
              "      <td>11</td>\n",
              "      <td>2016</td>\n",
              "      <td>18</td>\n",
              "      <td>0</td>\n",
              "      <td>38.0</td>\n",
              "    </tr>\n",
              "    <tr>\n",
              "      <th>3</th>\n",
              "      <td>ESS8e02_2</td>\n",
              "      <td>8</td>\n",
              "      <td>2.2</td>\n",
              "      <td>10.12.2020</td>\n",
              "      <td>6</td>\n",
              "      <td>AT</td>\n",
              "      <td>0.642594</td>\n",
              "      <td>0.472467</td>\n",
              "      <td>0.370393</td>\n",
              "      <td>0.174999</td>\n",
              "      <td>...</td>\n",
              "      <td>10</td>\n",
              "      <td>2016</td>\n",
              "      <td>19</td>\n",
              "      <td>9</td>\n",
              "      <td>11</td>\n",
              "      <td>10</td>\n",
              "      <td>2016</td>\n",
              "      <td>19</td>\n",
              "      <td>59</td>\n",
              "      <td>46.0</td>\n",
              "    </tr>\n",
              "    <tr>\n",
              "      <th>4</th>\n",
              "      <td>ESS8e02_2</td>\n",
              "      <td>8</td>\n",
              "      <td>2.2</td>\n",
              "      <td>10.12.2020</td>\n",
              "      <td>10</td>\n",
              "      <td>AT</td>\n",
              "      <td>3.432402</td>\n",
              "      <td>2.246706</td>\n",
              "      <td>0.370393</td>\n",
              "      <td>0.832164</td>\n",
              "      <td>...</td>\n",
              "      <td>12</td>\n",
              "      <td>2016</td>\n",
              "      <td>10</td>\n",
              "      <td>31</td>\n",
              "      <td>1</td>\n",
              "      <td>12</td>\n",
              "      <td>2016</td>\n",
              "      <td>11</td>\n",
              "      <td>49</td>\n",
              "      <td>70.0</td>\n",
              "    </tr>\n",
              "  </tbody>\n",
              "</table>\n",
              "<p>5 rows × 535 columns</p>\n",
              "</div>\n",
              "      <button class=\"colab-df-convert\" onclick=\"convertToInteractive('df-9754233c-f361-4ba2-acdb-a8e34b7fe1eb')\"\n",
              "              title=\"Convert this dataframe to an interactive table.\"\n",
              "              style=\"display:none;\">\n",
              "        \n",
              "  <svg xmlns=\"http://www.w3.org/2000/svg\" height=\"24px\"viewBox=\"0 0 24 24\"\n",
              "       width=\"24px\">\n",
              "    <path d=\"M0 0h24v24H0V0z\" fill=\"none\"/>\n",
              "    <path d=\"M18.56 5.44l.94 2.06.94-2.06 2.06-.94-2.06-.94-.94-2.06-.94 2.06-2.06.94zm-11 1L8.5 8.5l.94-2.06 2.06-.94-2.06-.94L8.5 2.5l-.94 2.06-2.06.94zm10 10l.94 2.06.94-2.06 2.06-.94-2.06-.94-.94-2.06-.94 2.06-2.06.94z\"/><path d=\"M17.41 7.96l-1.37-1.37c-.4-.4-.92-.59-1.43-.59-.52 0-1.04.2-1.43.59L10.3 9.45l-7.72 7.72c-.78.78-.78 2.05 0 2.83L4 21.41c.39.39.9.59 1.41.59.51 0 1.02-.2 1.41-.59l7.78-7.78 2.81-2.81c.8-.78.8-2.07 0-2.86zM5.41 20L4 18.59l7.72-7.72 1.47 1.35L5.41 20z\"/>\n",
              "  </svg>\n",
              "      </button>\n",
              "      \n",
              "  <style>\n",
              "    .colab-df-container {\n",
              "      display:flex;\n",
              "      flex-wrap:wrap;\n",
              "      gap: 12px;\n",
              "    }\n",
              "\n",
              "    .colab-df-convert {\n",
              "      background-color: #E8F0FE;\n",
              "      border: none;\n",
              "      border-radius: 50%;\n",
              "      cursor: pointer;\n",
              "      display: none;\n",
              "      fill: #1967D2;\n",
              "      height: 32px;\n",
              "      padding: 0 0 0 0;\n",
              "      width: 32px;\n",
              "    }\n",
              "\n",
              "    .colab-df-convert:hover {\n",
              "      background-color: #E2EBFA;\n",
              "      box-shadow: 0px 1px 2px rgba(60, 64, 67, 0.3), 0px 1px 3px 1px rgba(60, 64, 67, 0.15);\n",
              "      fill: #174EA6;\n",
              "    }\n",
              "\n",
              "    [theme=dark] .colab-df-convert {\n",
              "      background-color: #3B4455;\n",
              "      fill: #D2E3FC;\n",
              "    }\n",
              "\n",
              "    [theme=dark] .colab-df-convert:hover {\n",
              "      background-color: #434B5C;\n",
              "      box-shadow: 0px 1px 3px 1px rgba(0, 0, 0, 0.15);\n",
              "      filter: drop-shadow(0px 1px 2px rgba(0, 0, 0, 0.3));\n",
              "      fill: #FFFFFF;\n",
              "    }\n",
              "  </style>\n",
              "\n",
              "      <script>\n",
              "        const buttonEl =\n",
              "          document.querySelector('#df-9754233c-f361-4ba2-acdb-a8e34b7fe1eb button.colab-df-convert');\n",
              "        buttonEl.style.display =\n",
              "          google.colab.kernel.accessAllowed ? 'block' : 'none';\n",
              "\n",
              "        async function convertToInteractive(key) {\n",
              "          const element = document.querySelector('#df-9754233c-f361-4ba2-acdb-a8e34b7fe1eb');\n",
              "          const dataTable =\n",
              "            await google.colab.kernel.invokeFunction('convertToInteractive',\n",
              "                                                     [key], {});\n",
              "          if (!dataTable) return;\n",
              "\n",
              "          const docLinkHtml = 'Like what you see? Visit the ' +\n",
              "            '<a target=\"_blank\" href=https://colab.research.google.com/notebooks/data_table.ipynb>data table notebook</a>'\n",
              "            + ' to learn more about interactive tables.';\n",
              "          element.innerHTML = '';\n",
              "          dataTable['output_type'] = 'display_data';\n",
              "          await google.colab.output.renderOutput(dataTable, element);\n",
              "          const docLink = document.createElement('div');\n",
              "          docLink.innerHTML = docLinkHtml;\n",
              "          element.appendChild(docLink);\n",
              "        }\n",
              "      </script>\n",
              "    </div>\n",
              "  </div>\n",
              "  "
            ]
          },
          "metadata": {},
          "execution_count": 4
        }
      ]
    },
    {
      "cell_type": "markdown",
      "source": [
        "There are a lot of columns, we want to use only few of them, in particular:\n",
        "\n",
        "\n",
        "\n",
        "\n",
        "\n",
        "* `health`\n",
        "\n",
        "* `brncntr`\n",
        "\n",
        "* `stfeco`\n",
        "\n",
        "* `rlgdgr`\n",
        "\n",
        "\n",
        "* `wrclmch`: How worried about climate change? \n",
        "\n",
        "* `ccnthum` : Climate change caused by natural processes, human activity, or both?\n",
        "\n",
        "* `lrscale` : In politics people sometimes talk of 'left' and 'right'. Using this card, where would you place yourself on this scale, where 0 means the left and 10 means the right?\n",
        "\n",
        "* `eisced`: Highest level of education, ES - ISCED\n",
        "\n",
        "* `agea` : Age of respondent\n",
        "\n",
        "* `gndr` : Gender\n",
        "\n",
        "* `hinctnta` : Household's total net income, all sources\n",
        "\n",
        "* `cntry` : Country\n",
        "\n"
      ],
      "metadata": {
        "id": "WLBapM-msf3C"
      }
    },
    {
      "cell_type": "markdown",
      "source": [
        "# Select the columns"
      ],
      "metadata": {
        "id": "HdCEZVgImAv6"
      }
    },
    {
      "cell_type": "code",
      "source": [
        "Selected_columns=['anweight','cntry','hinctnta', 'gndr', 'agea','inctxff','rdcenr','eisced','lrscale','ccnthum','wrclmch']"
      ],
      "metadata": {
        "id": "oYD4PrebsnET"
      },
      "execution_count": 375,
      "outputs": []
    },
    {
      "cell_type": "code",
      "source": [
        "d=df[Selected_columns]"
      ],
      "metadata": {
        "id": "n5KeQJXHu5Vm"
      },
      "execution_count": 376,
      "outputs": []
    },
    {
      "cell_type": "code",
      "source": [
        "msno.bar(d, color='orange')"
      ],
      "metadata": {
        "colab": {
          "base_uri": "https://localhost:8080/",
          "height": 0
        },
        "id": "425t19datfsd",
        "outputId": "0c1bf452-dc37-43e2-b979-bc54474e2dae"
      },
      "execution_count": 377,
      "outputs": [
        {
          "output_type": "execute_result",
          "data": {
            "text/plain": [
              "<matplotlib.axes._subplots.AxesSubplot at 0x7f369b5f6a00>"
            ]
          },
          "metadata": {},
          "execution_count": 377
        },
        {
          "output_type": "display_data",
          "data": {
            "text/plain": [
              "<Figure size 1800x720 with 3 Axes>"
            ],
            "image/png": "[encoded data removed]"
          },
          "metadata": {
            "needs_background": "light"
          }
        }
      ]
    },
    {
      "cell_type": "code",
      "source": [
        "d.dropna(inplace=True)"
      ],
      "metadata": {
        "colab": {
          "base_uri": "https://localhost:8080/"
        },
        "id": "w6k6OezR4STW",
        "outputId": "3d47ba24-f956-406b-b71c-04baf4600675"
      },
      "execution_count": 378,
      "outputs": [
        {
          "output_type": "stream",
          "name": "stderr",
          "text": [
            "/usr/local/lib/python3.8/dist-packages/pandas/util/_decorators.py:311: SettingWithCopyWarning: \n",
            "A value is trying to be set on a copy of a slice from a DataFrame\n",
            "\n",
            "See the caveats in the documentation: https://pandas.pydata.org/pandas-docs/stable/user_guide/indexing.html#returning-a-view-versus-a-copy\n",
            "  return func(*args, **kwargs)\n"
          ]
        }
      ]
    },
    {
      "cell_type": "code",
      "source": [
        "d.head()"
      ],
      "metadata": {
        "colab": {
          "base_uri": "https://localhost:8080/",
          "height": 0
        },
        "id": "XIylhtW53xtL",
        "outputId": "e08f04ea-6636-4ddd-8240-d9674b1e3039"
      },
      "execution_count": 379,
      "outputs": [
        {
          "output_type": "execute_result",
          "data": {
            "text/plain": [
              "   anweight cntry  hinctnta  gndr  agea  inctxff  rdcenr  eisced  lrscale  \\\n",
              "0  0.436506    AT        77     2    34        1       4       7        0   \n",
              "1  0.333158    AT         5     1    52        1       5       4        1   \n",
              "2  0.116953    AT         2     2    68        4       4       3        5   \n",
              "3  0.174999    AT         4     1    54        3       4       3        0   \n",
              "4  0.832164    AT         2     2    20        3       6       3        5   \n",
              "\n",
              "   ccnthum  wrclmch  \n",
              "0        4        4  \n",
              "1        4        4  \n",
              "2        4        4  \n",
              "3        3        3  \n",
              "4        4        4  "
            ],
            "text/html": [
              "\n",
              "  <div id=\"df-300a0b13-b9a2-485a-9962-1468c0333eb5\">\n",
              "    <div class=\"colab-df-container\">\n",
              "      <div>\n",
              "<style scoped>\n",
              "    .dataframe tbody tr th:only-of-type {\n",
              "        vertical-align: middle;\n",
              "    }\n",
              "\n",
              "    .dataframe tbody tr th {\n",
              "        vertical-align: top;\n",
              "    }\n",
              "\n",
              "    .dataframe thead th {\n",
              "        text-align: right;\n",
              "    }\n",
              "</style>\n",
              "<table border=\"1\" class=\"dataframe\">\n",
              "  <thead>\n",
              "    <tr style=\"text-align: right;\">\n",
              "      <th></th>\n",
              "      <th>anweight</th>\n",
              "      <th>cntry</th>\n",
              "      <th>hinctnta</th>\n",
              "      <th>gndr</th>\n",
              "      <th>agea</th>\n",
              "      <th>inctxff</th>\n",
              "      <th>rdcenr</th>\n",
              "      <th>eisced</th>\n",
              "      <th>lrscale</th>\n",
              "      <th>ccnthum</th>\n",
              "      <th>wrclmch</th>\n",
              "    </tr>\n",
              "  </thead>\n",
              "  <tbody>\n",
              "    <tr>\n",
              "      <th>0</th>\n",
              "      <td>0.436506</td>\n",
              "      <td>AT</td>\n",
              "      <td>77</td>\n",
              "      <td>2</td>\n",
              "      <td>34</td>\n",
              "      <td>1</td>\n",
              "      <td>4</td>\n",
              "      <td>7</td>\n",
              "      <td>0</td>\n",
              "      <td>4</td>\n",
              "      <td>4</td>\n",
              "    </tr>\n",
              "    <tr>\n",
              "      <th>1</th>\n",
              "      <td>0.333158</td>\n",
              "      <td>AT</td>\n",
              "      <td>5</td>\n",
              "      <td>1</td>\n",
              "      <td>52</td>\n",
              "      <td>1</td>\n",
              "      <td>5</td>\n",
              "      <td>4</td>\n",
              "      <td>1</td>\n",
              "      <td>4</td>\n",
              "      <td>4</td>\n",
              "    </tr>\n",
              "    <tr>\n",
              "      <th>2</th>\n",
              "      <td>0.116953</td>\n",
              "      <td>AT</td>\n",
              "      <td>2</td>\n",
              "      <td>2</td>\n",
              "      <td>68</td>\n",
              "      <td>4</td>\n",
              "      <td>4</td>\n",
              "      <td>3</td>\n",
              "      <td>5</td>\n",
              "      <td>4</td>\n",
              "      <td>4</td>\n",
              "    </tr>\n",
              "    <tr>\n",
              "      <th>3</th>\n",
              "      <td>0.174999</td>\n",
              "      <td>AT</td>\n",
              "      <td>4</td>\n",
              "      <td>1</td>\n",
              "      <td>54</td>\n",
              "      <td>3</td>\n",
              "      <td>4</td>\n",
              "      <td>3</td>\n",
              "      <td>0</td>\n",
              "      <td>3</td>\n",
              "      <td>3</td>\n",
              "    </tr>\n",
              "    <tr>\n",
              "      <th>4</th>\n",
              "      <td>0.832164</td>\n",
              "      <td>AT</td>\n",
              "      <td>2</td>\n",
              "      <td>2</td>\n",
              "      <td>20</td>\n",
              "      <td>3</td>\n",
              "      <td>6</td>\n",
              "      <td>3</td>\n",
              "      <td>5</td>\n",
              "      <td>4</td>\n",
              "      <td>4</td>\n",
              "    </tr>\n",
              "  </tbody>\n",
              "</table>\n",
              "</div>\n",
              "      <button class=\"colab-df-convert\" onclick=\"convertToInteractive('df-300a0b13-b9a2-485a-9962-1468c0333eb5')\"\n",
              "              title=\"Convert this dataframe to an interactive table.\"\n",
              "              style=\"display:none;\">\n",
              "        \n",
              "  <svg xmlns=\"http://www.w3.org/2000/svg\" height=\"24px\"viewBox=\"0 0 24 24\"\n",
              "       width=\"24px\">\n",
              "    <path d=\"M0 0h24v24H0V0z\" fill=\"none\"/>\n",
              "    <path d=\"M18.56 5.44l.94 2.06.94-2.06 2.06-.94-2.06-.94-.94-2.06-.94 2.06-2.06.94zm-11 1L8.5 8.5l.94-2.06 2.06-.94-2.06-.94L8.5 2.5l-.94 2.06-2.06.94zm10 10l.94 2.06.94-2.06 2.06-.94-2.06-.94-.94-2.06-.94 2.06-2.06.94z\"/><path d=\"M17.41 7.96l-1.37-1.37c-.4-.4-.92-.59-1.43-.59-.52 0-1.04.2-1.43.59L10.3 9.45l-7.72 7.72c-.78.78-.78 2.05 0 2.83L4 21.41c.39.39.9.59 1.41.59.51 0 1.02-.2 1.41-.59l7.78-7.78 2.81-2.81c.8-.78.8-2.07 0-2.86zM5.41 20L4 18.59l7.72-7.72 1.47 1.35L5.41 20z\"/>\n",
              "  </svg>\n",
              "      </button>\n",
              "      \n",
              "  <style>\n",
              "    .colab-df-container {\n",
              "      display:flex;\n",
              "      flex-wrap:wrap;\n",
              "      gap: 12px;\n",
              "    }\n",
              "\n",
              "    .colab-df-convert {\n",
              "      background-color: #E8F0FE;\n",
              "      border: none;\n",
              "      border-radius: 50%;\n",
              "      cursor: pointer;\n",
              "      display: none;\n",
              "      fill: #1967D2;\n",
              "      height: 32px;\n",
              "      padding: 0 0 0 0;\n",
              "      width: 32px;\n",
              "    }\n",
              "\n",
              "    .colab-df-convert:hover {\n",
              "      background-color: #E2EBFA;\n",
              "      box-shadow: 0px 1px 2px rgba(60, 64, 67, 0.3), 0px 1px 3px 1px rgba(60, 64, 67, 0.15);\n",
              "      fill: #174EA6;\n",
              "    }\n",
              "\n",
              "    [theme=dark] .colab-df-convert {\n",
              "      background-color: #3B4455;\n",
              "      fill: #D2E3FC;\n",
              "    }\n",
              "\n",
              "    [theme=dark] .colab-df-convert:hover {\n",
              "      background-color: #434B5C;\n",
              "      box-shadow: 0px 1px 3px 1px rgba(0, 0, 0, 0.15);\n",
              "      filter: drop-shadow(0px 1px 2px rgba(0, 0, 0, 0.3));\n",
              "      fill: #FFFFFF;\n",
              "    }\n",
              "  </style>\n",
              "\n",
              "      <script>\n",
              "        const buttonEl =\n",
              "          document.querySelector('#df-300a0b13-b9a2-485a-9962-1468c0333eb5 button.colab-df-convert');\n",
              "        buttonEl.style.display =\n",
              "          google.colab.kernel.accessAllowed ? 'block' : 'none';\n",
              "\n",
              "        async function convertToInteractive(key) {\n",
              "          const element = document.querySelector('#df-300a0b13-b9a2-485a-9962-1468c0333eb5');\n",
              "          const dataTable =\n",
              "            await google.colab.kernel.invokeFunction('convertToInteractive',\n",
              "                                                     [key], {});\n",
              "          if (!dataTable) return;\n",
              "\n",
              "          const docLinkHtml = 'Like what you see? Visit the ' +\n",
              "            '<a target=\"_blank\" href=https://colab.research.google.com/notebooks/data_table.ipynb>data table notebook</a>'\n",
              "            + ' to learn more about interactive tables.';\n",
              "          element.innerHTML = '';\n",
              "          dataTable['output_type'] = 'display_data';\n",
              "          await google.colab.output.renderOutput(dataTable, element);\n",
              "          const docLink = document.createElement('div');\n",
              "          docLink.innerHTML = docLinkHtml;\n",
              "          element.appendChild(docLink);\n",
              "        }\n",
              "      </script>\n",
              "    </div>\n",
              "  </div>\n",
              "  "
            ]
          },
          "metadata": {},
          "execution_count": 379
        }
      ]
    },
    {
      "cell_type": "code",
      "source": [
        "d.cntry.value_counts()"
      ],
      "metadata": {
        "colab": {
          "base_uri": "https://localhost:8080/"
        },
        "id": "guJxfap570rY",
        "outputId": "21f88711-a7df-4373-9544-3e1f4b14f8db"
      },
      "execution_count": 380,
      "outputs": [
        {
          "output_type": "execute_result",
          "data": {
            "text/plain": [
              "DE    2852\n",
              "IE    2757\n",
              "IT    2626\n",
              "IL    2557\n",
              "RU    2430\n",
              "CZ    2269\n",
              "LT    2122\n",
              "FR    2070\n",
              "EE    2019\n",
              "AT    2010\n",
              "GB    1959\n",
              "ES    1958\n",
              "FI    1925\n",
              "BE    1766\n",
              "PL    1694\n",
              "NL    1681\n",
              "HU    1614\n",
              "SE    1551\n",
              "NO    1545\n",
              "CH    1525\n",
              "SI    1307\n",
              "PT    1270\n",
              "IS     880\n",
              "Name: cntry, dtype: int64"
            ]
          },
          "metadata": {},
          "execution_count": 380
        }
      ]
    },
    {
      "cell_type": "code",
      "source": [
        "d.hinctnta.value_counts()"
      ],
      "metadata": {
        "colab": {
          "base_uri": "https://localhost:8080/"
        },
        "id": "I0F1GTre4Xx3",
        "outputId": "9989820a-5f8e-4b13-8920-7902dad6bc8a"
      },
      "execution_count": 381,
      "outputs": [
        {
          "output_type": "execute_result",
          "data": {
            "text/plain": [
              "77    4990\n",
              "3     4136\n",
              "2     4021\n",
              "4     4017\n",
              "5     3958\n",
              "7     3918\n",
              "6     3851\n",
              "8     3686\n",
              "1     3678\n",
              "88    2902\n",
              "9     2684\n",
              "10    2496\n",
              "99      50\n",
              "Name: hinctnta, dtype: int64"
            ]
          },
          "metadata": {},
          "execution_count": 381
        }
      ]
    },
    {
      "cell_type": "code",
      "source": [
        "d.gndr.value_counts()"
      ],
      "metadata": {
        "colab": {
          "base_uri": "https://localhost:8080/"
        },
        "id": "zgb1YSjK4Axq",
        "outputId": "bc8b0f37-cda0-4d3a-8140-a863fc575d57"
      },
      "execution_count": 382,
      "outputs": [
        {
          "output_type": "execute_result",
          "data": {
            "text/plain": [
              "2    23351\n",
              "1    21027\n",
              "9        9\n",
              "Name: gndr, dtype: int64"
            ]
          },
          "metadata": {},
          "execution_count": 382
        }
      ]
    },
    {
      "cell_type": "code",
      "source": [
        "d.agea.value_counts()"
      ],
      "metadata": {
        "colab": {
          "base_uri": "https://localhost:8080/"
        },
        "id": "knnJiRWS39Cq",
        "outputId": "3ae6f847-a6ae-45ba-b06b-4f9b070766b7"
      },
      "execution_count": 383,
      "outputs": [
        {
          "output_type": "execute_result",
          "data": {
            "text/plain": [
              "60     821\n",
              "51     820\n",
              "59     806\n",
              "65     794\n",
              "52     793\n",
              "      ... \n",
              "96       5\n",
              "99       3\n",
              "98       3\n",
              "97       3\n",
              "100      1\n",
              "Name: agea, Length: 87, dtype: int64"
            ]
          },
          "metadata": {},
          "execution_count": 383
        }
      ]
    },
    {
      "cell_type": "code",
      "source": [
        "d.eisced.value_counts()"
      ],
      "metadata": {
        "colab": {
          "base_uri": "https://localhost:8080/"
        },
        "id": "-yTypy8H4M4p",
        "outputId": "483d6e84-fa36-42a1-c07e-67219ec35ba4"
      },
      "execution_count": 384,
      "outputs": [
        {
          "output_type": "execute_result",
          "data": {
            "text/plain": [
              "4     8720\n",
              "2     7388\n",
              "3     7153\n",
              "5     6275\n",
              "7     6013\n",
              "6     4760\n",
              "1     3861\n",
              "55      88\n",
              "77      82\n",
              "88      39\n",
              "99       8\n",
              "Name: eisced, dtype: int64"
            ]
          },
          "metadata": {},
          "execution_count": 384
        }
      ]
    },
    {
      "cell_type": "code",
      "source": [
        "d.lrscale.value_counts()"
      ],
      "metadata": {
        "colab": {
          "base_uri": "https://localhost:8080/"
        },
        "id": "qTpZDL0k32EA",
        "outputId": "1b6f3308-5f28-4a96-907f-ea0427508643"
      },
      "execution_count": 385,
      "outputs": [
        {
          "output_type": "execute_result",
          "data": {
            "text/plain": [
              "5     12389\n",
              "88     4305\n",
              "7      4269\n",
              "6      4105\n",
              "4      3780\n",
              "3      3754\n",
              "8      3265\n",
              "2      2121\n",
              "10     1592\n",
              "77     1487\n",
              "0      1463\n",
              "9       999\n",
              "1       846\n",
              "99       12\n",
              "Name: lrscale, dtype: int64"
            ]
          },
          "metadata": {},
          "execution_count": 385
        }
      ]
    },
    {
      "cell_type": "code",
      "source": [
        "d.wrclmch.value_counts()"
      ],
      "metadata": {
        "colab": {
          "base_uri": "https://localhost:8080/"
        },
        "id": "qlOKuLLC389r",
        "outputId": "bcc025e9-e16e-479d-b21a-6f213a75ea2a"
      },
      "execution_count": 386,
      "outputs": [
        {
          "output_type": "execute_result",
          "data": {
            "text/plain": [
              "3    19729\n",
              "4     9649\n",
              "2     8493\n",
              "1     2590\n",
              "5     2193\n",
              "6     1317\n",
              "8      364\n",
              "7       29\n",
              "9       23\n",
              "Name: wrclmch, dtype: int64"
            ]
          },
          "metadata": {},
          "execution_count": 386
        }
      ]
    },
    {
      "cell_type": "code",
      "source": [
        "d.inctxff.value_counts()"
      ],
      "metadata": {
        "colab": {
          "base_uri": "https://localhost:8080/"
        },
        "id": "TZUq8ew_hgqy",
        "outputId": "dc2cd4c7-822c-4e77-aaa3-79705eef0c0f"
      },
      "execution_count": 387,
      "outputs": [
        {
          "output_type": "execute_result",
          "data": {
            "text/plain": [
              "4    10766\n",
              "2    10559\n",
              "3     9714\n",
              "5     8034\n",
              "1     3328\n",
              "8     1870\n",
              "7      112\n",
              "9        4\n",
              "Name: inctxff, dtype: int64"
            ]
          },
          "metadata": {},
          "execution_count": 387
        }
      ]
    },
    {
      "cell_type": "code",
      "source": [
        "d.rdcenr.value_counts()"
      ],
      "metadata": {
        "colab": {
          "base_uri": "https://localhost:8080/"
        },
        "id": "xsKMTLKOhgvE",
        "outputId": "254f3b9d-cfe2-4ae7-df9b-5a0cccb4da29"
      },
      "execution_count": 388,
      "outputs": [
        {
          "output_type": "execute_result",
          "data": {
            "text/plain": [
              "4     13186\n",
              "5     10920\n",
              "3      9764\n",
              "6      6598\n",
              "2      2337\n",
              "1      1031\n",
              "88      285\n",
              "55      233\n",
              "77       24\n",
              "99        9\n",
              "Name: rdcenr, dtype: int64"
            ]
          },
          "metadata": {},
          "execution_count": 388
        }
      ]
    },
    {
      "cell_type": "code",
      "source": [
        "d.anweight.value_counts()"
      ],
      "metadata": {
        "colab": {
          "base_uri": "https://localhost:8080/"
        },
        "id": "cIe3WqK97VWA",
        "outputId": "f2a97eb9-d1f2-42fd-ea1c-90de30bf4adb"
      },
      "execution_count": 389,
      "outputs": [
        {
          "output_type": "execute_result",
          "data": {
            "text/plain": [
              "0.123189    178\n",
              "0.143850    172\n",
              "0.117111    170\n",
              "0.065006    130\n",
              "0.090705    123\n",
              "           ... \n",
              "2.011126      1\n",
              "1.913886      1\n",
              "2.074527      1\n",
              "1.706736      1\n",
              "0.134491      1\n",
              "Name: anweight, Length: 15811, dtype: int64"
            ]
          },
          "metadata": {},
          "execution_count": 389
        }
      ]
    },
    {
      "cell_type": "markdown",
      "source": [
        "# Clean the dataset"
      ],
      "metadata": {
        "id": "BhwGZuL9lujd"
      }
    },
    {
      "cell_type": "code",
      "source": [
        "cleanup = {\"hinctnta\":     {77: np.nan ,88: np.nan, 99: np.nan},\n",
        "           \"lrscale\":      {77: np.nan ,88: np.nan, 99: np.nan},\n",
        "           #1.0:0, 2.0:0, 3.0:1, 4.0:1, 5.0:1\n",
        "           \"ccnthum\":      {1.0:1, 2.0:1, 3.0:2, 4.0:2, 5.0:2,66:np.nan, 77: np.nan ,88: np.nan, 99: np.nan, 55:np.nan},\n",
        "           \"eisced\":       {77: np.nan ,88: np.nan, 99: np.nan, 55:np.nan},\n",
        "           \"gndr\":       {2: 0, 9:np.nan},\n",
        "           #\"cntry\": {'BG':1, 'FR': 2, 'CZ':3, 'FI': 4, 'EE':5, 'HU': 6, 'LT':7, 'HR': 8, 'SI':9, 'SK': 10 },\n",
        "           \"wrclmch\": {1:1,2:1,3:1,4:0,5:0, 6: np.nan ,7: np.nan, 8: np.nan, 9:np.nan},\n",
        "           \"rdcenr\": {55: np.nan ,77: np.nan ,88: np.nan, 99: np.nan},\n",
        "           \"inctxff\": {7: np.nan ,8: np.nan, 9: np.nan}\n",
        "           }"
      ],
      "metadata": {
        "id": "16pbhYOT5pki"
      },
      "execution_count": 390,
      "outputs": []
    },
    {
      "cell_type": "code",
      "source": [
        "d = d.replace(cleanup)"
      ],
      "metadata": {
        "id": "R_r2M57M59ss"
      },
      "execution_count": 391,
      "outputs": []
    },
    {
      "cell_type": "code",
      "source": [
        "d.dropna(inplace=True)"
      ],
      "metadata": {
        "id": "SmAmQ8bP6DeO"
      },
      "execution_count": 392,
      "outputs": []
    },
    {
      "cell_type": "code",
      "source": [
        "#d.cntry = pd.Categorical(d.cntry)\n",
        "#d['cntry'] = d.cntry.cat.codes"
      ],
      "metadata": {
        "id": "LXa_XMsvfTzC"
      },
      "execution_count": 176,
      "outputs": []
    },
    {
      "cell_type": "code",
      "source": [
        "d['wrclmch'] = d['wrclmch'].astype(int)\n",
        "d['ccnthum'] = d['ccnthum'].astype(int)"
      ],
      "metadata": {
        "id": "5SEZ3E5iMJNB"
      },
      "execution_count": 393,
      "outputs": []
    },
    {
      "cell_type": "code",
      "source": [
        "d.ccnthum.value_counts() # 1 natural reason, 2 human"
      ],
      "metadata": {
        "colab": {
          "base_uri": "https://localhost:8080/"
        },
        "id": "RSveXsgGElLG",
        "outputId": "f694a086-d4c5-4662-c35b-8cb896e47481"
      },
      "execution_count": 394,
      "outputs": [
        {
          "output_type": "execute_result",
          "data": {
            "text/plain": [
              "2    27783\n",
              "1     2575\n",
              "Name: ccnthum, dtype: int64"
            ]
          },
          "metadata": {},
          "execution_count": 394
        }
      ]
    },
    {
      "cell_type": "code",
      "source": [
        "d.wrclmch.value_counts() # 1 not worried , 0 worried"
      ],
      "metadata": {
        "colab": {
          "base_uri": "https://localhost:8080/"
        },
        "id": "r52Ncu7_gaad",
        "outputId": "5ab0a6d3-9e7a-4808-ba58-df32fcb57132"
      },
      "execution_count": 395,
      "outputs": [
        {
          "output_type": "execute_result",
          "data": {
            "text/plain": [
              "1    21459\n",
              "0     8899\n",
              "Name: wrclmch, dtype: int64"
            ]
          },
          "metadata": {},
          "execution_count": 395
        }
      ]
    },
    {
      "cell_type": "code",
      "source": [
        "from sklearn.preprocessing import Normalizer, StandardScaler"
      ],
      "metadata": {
        "id": "eS2ExQegRYuc"
      },
      "execution_count": 396,
      "outputs": []
    },
    {
      "cell_type": "code",
      "source": [
        "cols_to_norm = ['hinctnta',  'agea',\n",
        "       'eisced', 'lrscale','rdcenr','inctxff']"
      ],
      "metadata": {
        "id": "Aa8aEEcnRBfn"
      },
      "execution_count": 397,
      "outputs": []
    },
    {
      "cell_type": "code",
      "source": [
        "d[cols_to_norm]=StandardScaler().fit_transform(d[cols_to_norm])"
      ],
      "metadata": {
        "id": "ev8NJP8URRXi"
      },
      "execution_count": 398,
      "outputs": []
    },
    {
      "cell_type": "code",
      "source": [
        "d"
      ],
      "metadata": {
        "colab": {
          "base_uri": "https://localhost:8080/",
          "height": 423
        },
        "id": "U8vTCfbb60Ay",
        "outputId": "5f87abd1-f4bf-4bf0-ee10-478d69b7e6de"
      },
      "execution_count": 399,
      "outputs": [
        {
          "output_type": "execute_result",
          "data": {
            "text/plain": [
              "       anweight cntry  hinctnta  gndr      agea   inctxff    rdcenr    eisced  \\\n",
              "1      0.333158    AT -0.134081   1.0  0.032307 -1.748889  0.681944 -0.081023   \n",
              "2      0.116953    AT -1.238779   0.0  0.481545  0.680727 -0.178078 -0.624241   \n",
              "3      0.174999    AT -0.502314   1.0  0.088462 -0.129145 -0.178078 -0.624241   \n",
              "4      0.832164    AT -1.238779   0.0 -0.866170 -0.129145  1.541966 -0.624241   \n",
              "5      0.374608    AT  1.707081   0.0  0.397313  0.680727 -0.178078 -0.081023   \n",
              "...         ...   ...       ...   ...       ...       ...       ...       ...   \n",
              "44378  0.125447    SI -0.502314   1.0  0.425391 -0.129145  0.681944 -0.624241   \n",
              "44379  0.101995    SI  0.970616   1.0 -0.781938  1.490598 -0.178078 -0.081023   \n",
              "44382  0.112359    SI -0.502314   0.0  0.397313 -0.129145  0.681944 -0.081023   \n",
              "44384  0.115147    SI  0.602384   1.0  0.341158 -1.748889  1.541966  1.005413   \n",
              "44385  0.101719    SI  1.707081   0.0 -0.164235 -0.939017 -0.178078  1.548631   \n",
              "\n",
              "        lrscale  ccnthum  wrclmch  \n",
              "1     -1.848962        2        0  \n",
              "2     -0.045404        2        0  \n",
              "3     -2.299851        2        1  \n",
              "4     -0.045404        2        0  \n",
              "5     -0.045404        2        1  \n",
              "...         ...      ...      ...  \n",
              "44378 -0.045404        2        0  \n",
              "44379 -0.045404        2        1  \n",
              "44382 -1.848962        2        1  \n",
              "44384 -2.299851        2        0  \n",
              "44385 -0.496293        2        1  \n",
              "\n",
              "[30358 rows x 11 columns]"
            ],
            "text/html": [
              "\n",
              "  <div id=\"df-f5e7a60b-1c54-47de-9be2-17cdd82963ab\">\n",
              "    <div class=\"colab-df-container\">\n",
              "      <div>\n",
              "<style scoped>\n",
              "    .dataframe tbody tr th:only-of-type {\n",
              "        vertical-align: middle;\n",
              "    }\n",
              "\n",
              "    .dataframe tbody tr th {\n",
              "        vertical-align: top;\n",
              "    }\n",
              "\n",
              "    .dataframe thead th {\n",
              "        text-align: right;\n",
              "    }\n",
              "</style>\n",
              "<table border=\"1\" class=\"dataframe\">\n",
              "  <thead>\n",
              "    <tr style=\"text-align: right;\">\n",
              "      <th></th>\n",
              "      <th>anweight</th>\n",
              "      <th>cntry</th>\n",
              "      <th>hinctnta</th>\n",
              "      <th>gndr</th>\n",
              "      <th>agea</th>\n",
              "      <th>inctxff</th>\n",
              "      <th>rdcenr</th>\n",
              "      <th>eisced</th>\n",
              "      <th>lrscale</th>\n",
              "      <th>ccnthum</th>\n",
              "      <th>wrclmch</th>\n",
              "    </tr>\n",
              "  </thead>\n",
              "  <tbody>\n",
              "    <tr>\n",
              "      <th>1</th>\n",
              "      <td>0.333158</td>\n",
              "      <td>AT</td>\n",
              "      <td>-0.134081</td>\n",
              "      <td>1.0</td>\n",
              "      <td>0.032307</td>\n",
              "      <td>-1.748889</td>\n",
              "      <td>0.681944</td>\n",
              "      <td>-0.081023</td>\n",
              "      <td>-1.848962</td>\n",
              "      <td>2</td>\n",
              "      <td>0</td>\n",
              "    </tr>\n",
              "    <tr>\n",
              "      <th>2</th>\n",
              "      <td>0.116953</td>\n",
              "      <td>AT</td>\n",
              "      <td>-1.238779</td>\n",
              "      <td>0.0</td>\n",
              "      <td>0.481545</td>\n",
              "      <td>0.680727</td>\n",
              "      <td>-0.178078</td>\n",
              "      <td>-0.624241</td>\n",
              "      <td>-0.045404</td>\n",
              "      <td>2</td>\n",
              "      <td>0</td>\n",
              "    </tr>\n",
              "    <tr>\n",
              "      <th>3</th>\n",
              "      <td>0.174999</td>\n",
              "      <td>AT</td>\n",
              "      <td>-0.502314</td>\n",
              "      <td>1.0</td>\n",
              "      <td>0.088462</td>\n",
              "      <td>-0.129145</td>\n",
              "      <td>-0.178078</td>\n",
              "      <td>-0.624241</td>\n",
              "      <td>-2.299851</td>\n",
              "      <td>2</td>\n",
              "      <td>1</td>\n",
              "    </tr>\n",
              "    <tr>\n",
              "      <th>4</th>\n",
              "      <td>0.832164</td>\n",
              "      <td>AT</td>\n",
              "      <td>-1.238779</td>\n",
              "      <td>0.0</td>\n",
              "      <td>-0.866170</td>\n",
              "      <td>-0.129145</td>\n",
              "      <td>1.541966</td>\n",
              "      <td>-0.624241</td>\n",
              "      <td>-0.045404</td>\n",
              "      <td>2</td>\n",
              "      <td>0</td>\n",
              "    </tr>\n",
              "    <tr>\n",
              "      <th>5</th>\n",
              "      <td>0.374608</td>\n",
              "      <td>AT</td>\n",
              "      <td>1.707081</td>\n",
              "      <td>0.0</td>\n",
              "      <td>0.397313</td>\n",
              "      <td>0.680727</td>\n",
              "      <td>-0.178078</td>\n",
              "      <td>-0.081023</td>\n",
              "      <td>-0.045404</td>\n",
              "      <td>2</td>\n",
              "      <td>1</td>\n",
              "    </tr>\n",
              "    <tr>\n",
              "      <th>...</th>\n",
              "      <td>...</td>\n",
              "      <td>...</td>\n",
              "      <td>...</td>\n",
              "      <td>...</td>\n",
              "      <td>...</td>\n",
              "      <td>...</td>\n",
              "      <td>...</td>\n",
              "      <td>...</td>\n",
              "      <td>...</td>\n",
              "      <td>...</td>\n",
              "      <td>...</td>\n",
              "    </tr>\n",
              "    <tr>\n",
              "      <th>44378</th>\n",
              "      <td>0.125447</td>\n",
              "      <td>SI</td>\n",
              "      <td>-0.502314</td>\n",
              "      <td>1.0</td>\n",
              "      <td>0.425391</td>\n",
              "      <td>-0.129145</td>\n",
              "      <td>0.681944</td>\n",
              "      <td>-0.624241</td>\n",
              "      <td>-0.045404</td>\n",
              "      <td>2</td>\n",
              "      <td>0</td>\n",
              "    </tr>\n",
              "    <tr>\n",
              "      <th>44379</th>\n",
              "      <td>0.101995</td>\n",
              "      <td>SI</td>\n",
              "      <td>0.970616</td>\n",
              "      <td>1.0</td>\n",
              "      <td>-0.781938</td>\n",
              "      <td>1.490598</td>\n",
              "      <td>-0.178078</td>\n",
              "      <td>-0.081023</td>\n",
              "      <td>-0.045404</td>\n",
              "      <td>2</td>\n",
              "      <td>1</td>\n",
              "    </tr>\n",
              "    <tr>\n",
              "      <th>44382</th>\n",
              "      <td>0.112359</td>\n",
              "      <td>SI</td>\n",
              "      <td>-0.502314</td>\n",
              "      <td>0.0</td>\n",
              "      <td>0.397313</td>\n",
              "      <td>-0.129145</td>\n",
              "      <td>0.681944</td>\n",
              "      <td>-0.081023</td>\n",
              "      <td>-1.848962</td>\n",
              "      <td>2</td>\n",
              "      <td>1</td>\n",
              "    </tr>\n",
              "    <tr>\n",
              "      <th>44384</th>\n",
              "      <td>0.115147</td>\n",
              "      <td>SI</td>\n",
              "      <td>0.602384</td>\n",
              "      <td>1.0</td>\n",
              "      <td>0.341158</td>\n",
              "      <td>-1.748889</td>\n",
              "      <td>1.541966</td>\n",
              "      <td>1.005413</td>\n",
              "      <td>-2.299851</td>\n",
              "      <td>2</td>\n",
              "      <td>0</td>\n",
              "    </tr>\n",
              "    <tr>\n",
              "      <th>44385</th>\n",
              "      <td>0.101719</td>\n",
              "      <td>SI</td>\n",
              "      <td>1.707081</td>\n",
              "      <td>0.0</td>\n",
              "      <td>-0.164235</td>\n",
              "      <td>-0.939017</td>\n",
              "      <td>-0.178078</td>\n",
              "      <td>1.548631</td>\n",
              "      <td>-0.496293</td>\n",
              "      <td>2</td>\n",
              "      <td>1</td>\n",
              "    </tr>\n",
              "  </tbody>\n",
              "</table>\n",
              "<p>30358 rows × 11 columns</p>\n",
              "</div>\n",
              "      <button class=\"colab-df-convert\" onclick=\"convertToInteractive('df-f5e7a60b-1c54-47de-9be2-17cdd82963ab')\"\n",
              "              title=\"Convert this dataframe to an interactive table.\"\n",
              "              style=\"display:none;\">\n",
              "        \n",
              "  <svg xmlns=\"http://www.w3.org/2000/svg\" height=\"24px\"viewBox=\"0 0 24 24\"\n",
              "       width=\"24px\">\n",
              "    <path d=\"M0 0h24v24H0V0z\" fill=\"none\"/>\n",
              "    <path d=\"M18.56 5.44l.94 2.06.94-2.06 2.06-.94-2.06-.94-.94-2.06-.94 2.06-2.06.94zm-11 1L8.5 8.5l.94-2.06 2.06-.94-2.06-.94L8.5 2.5l-.94 2.06-2.06.94zm10 10l.94 2.06.94-2.06 2.06-.94-2.06-.94-.94-2.06-.94 2.06-2.06.94z\"/><path d=\"M17.41 7.96l-1.37-1.37c-.4-.4-.92-.59-1.43-.59-.52 0-1.04.2-1.43.59L10.3 9.45l-7.72 7.72c-.78.78-.78 2.05 0 2.83L4 21.41c.39.39.9.59 1.41.59.51 0 1.02-.2 1.41-.59l7.78-7.78 2.81-2.81c.8-.78.8-2.07 0-2.86zM5.41 20L4 18.59l7.72-7.72 1.47 1.35L5.41 20z\"/>\n",
              "  </svg>\n",
              "      </button>\n",
              "      \n",
              "  <style>\n",
              "    .colab-df-container {\n",
              "      display:flex;\n",
              "      flex-wrap:wrap;\n",
              "      gap: 12px;\n",
              "    }\n",
              "\n",
              "    .colab-df-convert {\n",
              "      background-color: #E8F0FE;\n",
              "      border: none;\n",
              "      border-radius: 50%;\n",
              "      cursor: pointer;\n",
              "      display: none;\n",
              "      fill: #1967D2;\n",
              "      height: 32px;\n",
              "      padding: 0 0 0 0;\n",
              "      width: 32px;\n",
              "    }\n",
              "\n",
              "    .colab-df-convert:hover {\n",
              "      background-color: #E2EBFA;\n",
              "      box-shadow: 0px 1px 2px rgba(60, 64, 67, 0.3), 0px 1px 3px 1px rgba(60, 64, 67, 0.15);\n",
              "      fill: #174EA6;\n",
              "    }\n",
              "\n",
              "    [theme=dark] .colab-df-convert {\n",
              "      background-color: #3B4455;\n",
              "      fill: #D2E3FC;\n",
              "    }\n",
              "\n",
              "    [theme=dark] .colab-df-convert:hover {\n",
              "      background-color: #434B5C;\n",
              "      box-shadow: 0px 1px 3px 1px rgba(0, 0, 0, 0.15);\n",
              "      filter: drop-shadow(0px 1px 2px rgba(0, 0, 0, 0.3));\n",
              "      fill: #FFFFFF;\n",
              "    }\n",
              "  </style>\n",
              "\n",
              "      <script>\n",
              "        const buttonEl =\n",
              "          document.querySelector('#df-f5e7a60b-1c54-47de-9be2-17cdd82963ab button.colab-df-convert');\n",
              "        buttonEl.style.display =\n",
              "          google.colab.kernel.accessAllowed ? 'block' : 'none';\n",
              "\n",
              "        async function convertToInteractive(key) {\n",
              "          const element = document.querySelector('#df-f5e7a60b-1c54-47de-9be2-17cdd82963ab');\n",
              "          const dataTable =\n",
              "            await google.colab.kernel.invokeFunction('convertToInteractive',\n",
              "                                                     [key], {});\n",
              "          if (!dataTable) return;\n",
              "\n",
              "          const docLinkHtml = 'Like what you see? Visit the ' +\n",
              "            '<a target=\"_blank\" href=https://colab.research.google.com/notebooks/data_table.ipynb>data table notebook</a>'\n",
              "            + ' to learn more about interactive tables.';\n",
              "          element.innerHTML = '';\n",
              "          dataTable['output_type'] = 'display_data';\n",
              "          await google.colab.output.renderOutput(dataTable, element);\n",
              "          const docLink = document.createElement('div');\n",
              "          docLink.innerHTML = docLinkHtml;\n",
              "          element.appendChild(docLink);\n",
              "        }\n",
              "      </script>\n",
              "    </div>\n",
              "  </div>\n",
              "  "
            ]
          },
          "metadata": {},
          "execution_count": 399
        }
      ]
    },
    {
      "cell_type": "code",
      "source": [
        "train = d.sample(frac=0.8, random_state=25)\n",
        "test = d.drop(train.index)\n",
        "\n",
        "print(f\"No. of training examples: {train.shape[0]}\")\n",
        "print(f\"No. of testing examples: {test.shape[0]}\")"
      ],
      "metadata": {
        "colab": {
          "base_uri": "https://localhost:8080/"
        },
        "id": "zOzKzsLO-5Rm",
        "outputId": "5e324dd3-c83a-46d0-d415-9811b161cca7"
      },
      "execution_count": 400,
      "outputs": [
        {
          "output_type": "stream",
          "name": "stdout",
          "text": [
            "No. of training examples: 24286\n",
            "No. of testing examples: 6072\n"
          ]
        }
      ]
    },
    {
      "cell_type": "code",
      "source": [
        "x_train = train[train.columns[0:len(train.columns)-1]]\n",
        "y_train = train[train.columns[-1]]\n",
        "\n",
        "x_test = test[test.columns[0:len(test.columns)-1]]\n",
        "y_test = test[test.columns[-1]]"
      ],
      "metadata": {
        "id": "K21BlB2__Wg3"
      },
      "execution_count": 346,
      "outputs": []
    },
    {
      "cell_type": "markdown",
      "source": [
        "# Modelling"
      ],
      "metadata": {
        "id": "k924XSVfma5O"
      }
    },
    {
      "cell_type": "markdown",
      "source": [
        "## Logistic regression"
      ],
      "metadata": {
        "id": "qtxNlhTYmeWa"
      }
    },
    {
      "cell_type": "markdown",
      "source": [
        "#### Without weight"
      ],
      "metadata": {
        "id": "Hc9JgD9D7tu8"
      }
    },
    {
      "cell_type": "code",
      "source": [
        "import statsmodels.formula.api as smf\n",
        "import statsmodels.api as sm"
      ],
      "metadata": {
        "id": "i2Y4hTTUqn22"
      },
      "execution_count": 401,
      "outputs": []
    },
    {
      "cell_type": "code",
      "source": [
        "formula = \" wrclmch~ hinctnta +  agea +eisced + lrscale + C(ccnthum) + rdcenr + inctxff + C(cntry, Treatment(reference=3)) + C(gndr)\"\n",
        "log_reg = smf.glm(formula, data=train,family=sm.families.Binomial()).fit()"
      ],
      "metadata": {
        "id": "QZV0cU3dqn-u"
      },
      "execution_count": 402,
      "outputs": []
    },
    {
      "cell_type": "code",
      "source": [
        "print(log_reg.summary())"
      ],
      "metadata": {
        "colab": {
          "base_uri": "https://localhost:8080/"
        },
        "id": "rQhp-RaDrn7O",
        "outputId": "925348c4-f5b5-47be-ae2c-fcac787a5c03"
      },
      "execution_count": 403,
      "outputs": [
        {
          "output_type": "stream",
          "name": "stdout",
          "text": [
            "                 Generalized Linear Model Regression Results                  \n",
            "==============================================================================\n",
            "Dep. Variable:                wrclmch   No. Observations:                24286\n",
            "Model:                            GLM   Df Residuals:                    24255\n",
            "Model Family:                Binomial   Df Model:                           30\n",
            "Link Function:                  logit   Scale:                          1.0000\n",
            "Method:                          IRLS   Log-Likelihood:                -13331.\n",
            "Date:                Sun, 04 Dec 2022   Deviance:                       26661.\n",
            "Time:                        11:48:44   Pearson chi2:                 2.47e+04\n",
            "No. Iterations:                     5                                         \n",
            "Covariance Type:            nonrobust                                         \n",
            "==========================================================================================================\n",
            "                                             coef    std err          z      P>|z|      [0.025      0.975]\n",
            "----------------------------------------------------------------------------------------------------------\n",
            "Intercept                                  2.0941      0.101     20.676      0.000       1.896       2.293\n",
            "C(ccnthum)[T.2]                           -0.9633      0.072    -13.316      0.000      -1.105      -0.822\n",
            "C(cntry, Treatment(reference=3))[T.AT]    -0.3286      0.101     -3.239      0.001      -0.527      -0.130\n",
            "C(cntry, Treatment(reference=3))[T.BE]    -0.4519      0.096     -4.691      0.000      -0.641      -0.263\n",
            "C(cntry, Treatment(reference=3))[T.CH]    -0.2493      0.105     -2.379      0.017      -0.455      -0.044\n",
            "C(cntry, Treatment(reference=3))[T.DE]    -0.8519      0.088     -9.668      0.000      -1.025      -0.679\n",
            "C(cntry, Treatment(reference=3))[T.EE]     0.3422      0.106      3.228      0.001       0.134       0.550\n",
            "C(cntry, Treatment(reference=3))[T.ES]    -1.4307      0.100    -14.237      0.000      -1.628      -1.234\n",
            "C(cntry, Treatment(reference=3))[T.FI]    -0.0006      0.098     -0.006      0.995      -0.192       0.191\n",
            "C(cntry, Treatment(reference=3))[T.FR]    -0.6127      0.094     -6.499      0.000      -0.798      -0.428\n",
            "C(cntry, Treatment(reference=3))[T.GB]     0.0214      0.102      0.209      0.834      -0.179       0.221\n",
            "C(cntry, Treatment(reference=3))[T.HU]    -0.5032      0.116     -4.321      0.000      -0.731      -0.275\n",
            "C(cntry, Treatment(reference=3))[T.IE]     0.1705      0.103      1.657      0.097      -0.031       0.372\n",
            "C(cntry, Treatment(reference=3))[T.IL]    -0.1274      0.105     -1.216      0.224      -0.333       0.078\n",
            "C(cntry, Treatment(reference=3))[T.IS]    -0.4415      0.116     -3.818      0.000      -0.668      -0.215\n",
            "C(cntry, Treatment(reference=3))[T.IT]    -0.6436      0.106     -6.099      0.000      -0.850      -0.437\n",
            "C(cntry, Treatment(reference=3))[T.LT]    -0.2403      0.110     -2.190      0.029      -0.455      -0.025\n",
            "C(cntry, Treatment(reference=3))[T.NL]    -0.0204      0.104     -0.197      0.844      -0.223       0.183\n",
            "C(cntry, Treatment(reference=3))[T.NO]    -0.0067      0.103     -0.065      0.948      -0.209       0.195\n",
            "C(cntry, Treatment(reference=3))[T.PL]     0.2025      0.122      1.660      0.097      -0.037       0.442\n",
            "C(cntry, Treatment(reference=3))[T.PT]    -1.4108      0.104    -13.620      0.000      -1.614      -1.208\n",
            "C(cntry, Treatment(reference=3))[T.RU]     0.0576      0.122      0.471      0.637      -0.182       0.297\n",
            "C(cntry, Treatment(reference=3))[T.SE]     0.3392      0.108      3.155      0.002       0.129       0.550\n",
            "C(cntry, Treatment(reference=3))[T.SI]    -0.4364      0.111     -3.931      0.000      -0.654      -0.219\n",
            "C(gndr)[T.1.0]                             0.1274      0.030      4.217      0.000       0.068       0.187\n",
            "hinctnta                                   0.0513      0.017      3.082      0.002       0.019       0.084\n",
            "agea                                       0.0637      0.022      2.939      0.003       0.021       0.106\n",
            "eisced                                    -0.1046      0.017     -6.237      0.000      -0.138      -0.072\n",
            "lrscale                                    0.1543      0.015     10.048      0.000       0.124       0.184\n",
            "rdcenr                                    -0.3654      0.016    -22.795      0.000      -0.397      -0.334\n",
            "inctxff                                    0.2904      0.016     18.298      0.000       0.259       0.321\n",
            "==========================================================================================================\n"
          ]
        }
      ]
    },
    {
      "cell_type": "markdown",
      "source": [
        "#### With weight"
      ],
      "metadata": {
        "id": "4JJk0zOd72Bh"
      }
    },
    {
      "cell_type": "code",
      "source": [
        "formula1 = \" wrclmch~ hinctnta +  agea +eisced + lrscale + C(ccnthum) + rdcenr + inctxff + C(cntry, Treatment(reference=3)) + C(gndr)\"\n",
        "log_reg1 = smf.glm(formula1, data=train,family=sm.families.Binomial(),freq_weights=train.anweight).fit()"
      ],
      "metadata": {
        "id": "ZSYpotR9qoDH"
      },
      "execution_count": 404,
      "outputs": []
    },
    {
      "cell_type": "code",
      "source": [
        "print(log_reg1.summary())"
      ],
      "metadata": {
        "colab": {
          "base_uri": "https://localhost:8080/"
        },
        "id": "cRqRMLle75Dv",
        "outputId": "7a238d1c-4469-45ac-d635-811ac394271f"
      },
      "execution_count": 405,
      "outputs": [
        {
          "output_type": "stream",
          "name": "stdout",
          "text": [
            "                 Generalized Linear Model Regression Results                  \n",
            "==============================================================================\n",
            "Dep. Variable:                wrclmch   No. Observations:                24286\n",
            "Model:                            GLM   Df Residuals:                 25400.60\n",
            "Model Family:                Binomial   Df Model:                           30\n",
            "Link Function:                  logit   Scale:                          1.0000\n",
            "Method:                          IRLS   Log-Likelihood:                -14451.\n",
            "Date:                Sun, 04 Dec 2022   Deviance:                       28902.\n",
            "Time:                        11:49:37   Pearson chi2:                 2.63e+04\n",
            "No. Iterations:                     5                                         \n",
            "Covariance Type:            nonrobust                                         \n",
            "==========================================================================================================\n",
            "                                             coef    std err          z      P>|z|      [0.025      0.975]\n",
            "----------------------------------------------------------------------------------------------------------\n",
            "Intercept                                  2.1146      0.136     15.575      0.000       1.849       2.381\n",
            "C(ccnthum)[T.2]                           -0.9736      0.070    -13.933      0.000      -1.111      -0.837\n",
            "C(cntry, Treatment(reference=3))[T.AT]    -0.3360      0.166     -2.025      0.043      -0.661      -0.011\n",
            "C(cntry, Treatment(reference=3))[T.BE]    -0.4378      0.146     -3.008      0.003      -0.723      -0.153\n",
            "C(cntry, Treatment(reference=3))[T.CH]    -0.2533      0.160     -1.581      0.114      -0.567       0.061\n",
            "C(cntry, Treatment(reference=3))[T.DE]    -0.9336      0.122     -7.672      0.000      -1.172      -0.695\n",
            "C(cntry, Treatment(reference=3))[T.EE]     0.3367      0.341      0.986      0.324      -0.332       1.006\n",
            "C(cntry, Treatment(reference=3))[T.ES]    -1.4416      0.127    -11.311      0.000      -1.691      -1.192\n",
            "C(cntry, Treatment(reference=3))[T.FI]    -0.0174      0.175     -0.099      0.921      -0.361       0.327\n",
            "C(cntry, Treatment(reference=3))[T.FR]    -0.6400      0.123     -5.188      0.000      -0.882      -0.398\n",
            "C(cntry, Treatment(reference=3))[T.GB]    -0.0048      0.125     -0.039      0.969      -0.250       0.240\n",
            "C(cntry, Treatment(reference=3))[T.HU]    -0.5123      0.173     -2.955      0.003      -0.852      -0.173\n",
            "C(cntry, Treatment(reference=3))[T.IE]     0.1481      0.229      0.647      0.518      -0.301       0.597\n",
            "C(cntry, Treatment(reference=3))[T.IL]    -0.2426      0.195     -1.246      0.213      -0.624       0.139\n",
            "C(cntry, Treatment(reference=3))[T.IS]    -0.5391      0.522     -1.032      0.302      -1.563       0.485\n",
            "C(cntry, Treatment(reference=3))[T.IT]    -0.6594      0.129     -5.092      0.000      -0.913      -0.406\n",
            "C(cntry, Treatment(reference=3))[T.LT]    -0.1992      0.271     -0.736      0.462      -0.730       0.331\n",
            "C(cntry, Treatment(reference=3))[T.NL]    -0.0461      0.143     -0.322      0.748      -0.327       0.235\n",
            "C(cntry, Treatment(reference=3))[T.NO]    -0.0596      0.179     -0.333      0.739      -0.411       0.291\n",
            "C(cntry, Treatment(reference=3))[T.PL]     0.1907      0.137      1.392      0.164      -0.078       0.459\n",
            "C(cntry, Treatment(reference=3))[T.PT]    -1.4697      0.147    -10.007      0.000      -1.758      -1.182\n",
            "C(cntry, Treatment(reference=3))[T.RU]    -0.0032      0.127     -0.025      0.980      -0.251       0.245\n",
            "C(cntry, Treatment(reference=3))[T.SE]     0.3372      0.160      2.112      0.035       0.024       0.650\n",
            "C(cntry, Treatment(reference=3))[T.SI]    -0.4144      0.256     -1.616      0.106      -0.917       0.088\n",
            "C(gndr)[T.1.0]                             0.1277      0.029      4.449      0.000       0.071       0.184\n",
            "hinctnta                                   0.0698      0.016      4.496      0.000       0.039       0.100\n",
            "agea                                       0.1820      0.029      6.254      0.000       0.125       0.239\n",
            "eisced                                    -0.1164      0.016     -7.442      0.000      -0.147      -0.086\n",
            "lrscale                                    0.1300      0.015      8.557      0.000       0.100       0.160\n",
            "rdcenr                                    -0.3594      0.015    -23.667      0.000      -0.389      -0.330\n",
            "inctxff                                    0.2931      0.015     19.173      0.000       0.263       0.323\n",
            "==========================================================================================================\n"
          ]
        }
      ]
    },
    {
      "cell_type": "code",
      "source": [
        "from sklearn import metrics"
      ],
      "metadata": {
        "id": "oVRWQ9F7DnYB"
      },
      "execution_count": 186,
      "outputs": []
    },
    {
      "cell_type": "code",
      "source": [
        "from sklearn.linear_model import LogisticRegression\n",
        "from sklearn.metrics import classification_report, confusion_matrix\n",
        "from sklearn.metrics import log_loss, roc_auc_score, recall_score, precision_score, average_precision_score, f1_score, classification_report, accuracy_score, plot_roc_curve, plot_precision_recall_curve, plot_confusion_matrix\n",
        "from sklearn import metrics\n",
        "\n",
        "# instantiate the model\n",
        "logreg = LogisticRegression(solver='liblinear', random_state=0)\n",
        "\n",
        "\n",
        "# fit the model\n",
        "logreg.fit(x_train, y_train)"
      ],
      "metadata": {
        "colab": {
          "base_uri": "https://localhost:8080/"
        },
        "id": "HVl2tblh-SKW",
        "outputId": "b31c6b88-ac02-4566-de72-cae7e6abbe79"
      },
      "execution_count": 205,
      "outputs": [
        {
          "output_type": "execute_result",
          "data": {
            "text/plain": [
              "LogisticRegression(random_state=0, solver='liblinear')"
            ]
          },
          "metadata": {},
          "execution_count": 205
        }
      ]
    },
    {
      "cell_type": "code",
      "source": [
        "logreg.coef_"
      ],
      "metadata": {
        "colab": {
          "base_uri": "https://localhost:8080/"
        },
        "id": "B2JHmS5qjylH",
        "outputId": "f6946d8b-8bda-4bd9-accf-419eb9e385bc"
      },
      "execution_count": 188,
      "outputs": [
        {
          "output_type": "execute_result",
          "data": {
            "text/plain": [
              "array([[-0.01466116,  0.1394548 , -0.29794264, -0.04591214, -0.20356503,\n",
              "         0.00195462,  0.04249988, -0.14536669,  0.74039529]])"
            ]
          },
          "metadata": {},
          "execution_count": 188
        }
      ]
    },
    {
      "cell_type": "code",
      "source": [
        "predictions = logreg.predict(x_test)\n",
        "print(classification_report(y_test, predictions))"
      ],
      "metadata": {
        "colab": {
          "base_uri": "https://localhost:8080/"
        },
        "id": "wcG8B-Q8j5B7",
        "outputId": "b345ff51-45e1-43ab-855e-14cf9e394d73"
      },
      "execution_count": 206,
      "outputs": [
        {
          "output_type": "stream",
          "name": "stdout",
          "text": [
            "              precision    recall  f1-score   support\n",
            "\n",
            "           0       0.00      0.00      0.00       523\n",
            "           1       0.92      1.00      0.96      5664\n",
            "\n",
            "    accuracy                           0.92      6187\n",
            "   macro avg       0.46      0.50      0.48      6187\n",
            "weighted avg       0.84      0.92      0.87      6187\n",
            "\n"
          ]
        }
      ]
    },
    {
      "cell_type": "code",
      "source": [
        "print(confusion_matrix(y_test, predictions))"
      ],
      "metadata": {
        "colab": {
          "base_uri": "https://localhost:8080/"
        },
        "id": "peAx4aB_j-_U",
        "outputId": "b8a18e90-1fc9-4019-e75e-c51c8430f369"
      },
      "execution_count": 192,
      "outputs": [
        {
          "output_type": "stream",
          "name": "stdout",
          "text": [
            "[[   0  523]\n",
            " [   2 5662]]\n"
          ]
        }
      ]
    },
    {
      "cell_type": "code",
      "source": [
        "plot_roc_curve(logreg, x_test, y_test)"
      ],
      "metadata": {
        "colab": {
          "base_uri": "https://localhost:8080/",
          "height": 351
        },
        "id": "RCXoAbThCjiZ",
        "outputId": "cec41aa7-3000-4d9e-ec48-90213d71c804"
      },
      "execution_count": 193,
      "outputs": [
        {
          "output_type": "stream",
          "name": "stderr",
          "text": [
            "/usr/local/lib/python3.8/dist-packages/sklearn/utils/deprecation.py:87: FutureWarning: Function plot_roc_curve is deprecated; Function :func:`plot_roc_curve` is deprecated in 1.0 and will be removed in 1.2. Use one of the class methods: :meth:`sklearn.metric.RocCurveDisplay.from_predictions` or :meth:`sklearn.metric.RocCurveDisplay.from_estimator`.\n",
            "  warnings.warn(msg, category=FutureWarning)\n"
          ]
        },
        {
          "output_type": "execute_result",
          "data": {
            "text/plain": [
              "<sklearn.metrics._plot.roc_curve.RocCurveDisplay at 0x7f36a75fac40>"
            ]
          },
          "metadata": {},
          "execution_count": 193
        },
        {
          "output_type": "display_data",
          "data": {
            "text/plain": [
              "<Figure size 432x288 with 1 Axes>"
            ],
            "image/png": "[encoded data removed]"
          },
          "metadata": {
            "needs_background": "light"
          }
        }
      ]
    },
    {
      "cell_type": "markdown",
      "source": [
        "## Naive Bayes"
      ],
      "metadata": {
        "id": "psZbC9_6nMOR"
      }
    },
    {
      "cell_type": "code",
      "source": [
        "from sklearn.naive_bayes import GaussianNB\n",
        "\n",
        "\n",
        "# instantiate the model\n",
        "gnb = GaussianNB()\n",
        "\n",
        "\n",
        "# fit the model\n",
        "gnb.fit(x_train, y_train)"
      ],
      "metadata": {
        "colab": {
          "base_uri": "https://localhost:8080/"
        },
        "id": "OkrJ_mX3Hh-e",
        "outputId": "21df78b1-b7bf-4fe1-f5bb-fbcd21eac969"
      },
      "execution_count": 196,
      "outputs": [
        {
          "output_type": "execute_result",
          "data": {
            "text/plain": [
              "GaussianNB()"
            ]
          },
          "metadata": {},
          "execution_count": 196
        }
      ]
    },
    {
      "cell_type": "code",
      "source": [
        "predictions = gnb.predict(x_test)"
      ],
      "metadata": {
        "id": "4DNI0ZCQm0a9"
      },
      "execution_count": 197,
      "outputs": []
    },
    {
      "cell_type": "code",
      "source": [
        "print(classification_report(y_test, predictions))"
      ],
      "metadata": {
        "colab": {
          "base_uri": "https://localhost:8080/"
        },
        "id": "UGgOvmA9m5Vf",
        "outputId": "615c29cc-c199-47ff-b6cb-601ce4e1bab0"
      },
      "execution_count": 198,
      "outputs": [
        {
          "output_type": "stream",
          "name": "stdout",
          "text": [
            "              precision    recall  f1-score   support\n",
            "\n",
            "           0       0.20      0.03      0.05       523\n",
            "           1       0.92      0.99      0.95      5664\n",
            "\n",
            "    accuracy                           0.91      6187\n",
            "   macro avg       0.56      0.51      0.50      6187\n",
            "weighted avg       0.86      0.91      0.88      6187\n",
            "\n"
          ]
        }
      ]
    },
    {
      "cell_type": "code",
      "source": [
        "print(confusion_matrix(y_test, predictions))"
      ],
      "metadata": {
        "colab": {
          "base_uri": "https://localhost:8080/"
        },
        "id": "BOURHSx0HwKw",
        "outputId": "62d3ca70-58c2-4625-f293-a1c9dbccb2f9"
      },
      "execution_count": 199,
      "outputs": [
        {
          "output_type": "stream",
          "name": "stdout",
          "text": [
            "[[  15  508]\n",
            " [  61 5603]]\n"
          ]
        }
      ]
    },
    {
      "cell_type": "markdown",
      "source": [
        "## Logistic with smote"
      ],
      "metadata": {
        "id": "et9tH_gjnHqc"
      }
    },
    {
      "cell_type": "code",
      "source": [
        "from imblearn.over_sampling import SMOTE"
      ],
      "metadata": {
        "id": "URnSyxrVR9LV"
      },
      "execution_count": 200,
      "outputs": []
    },
    {
      "cell_type": "code",
      "source": [
        "smt = SMOTE()\n",
        "x_smote, y_smote = smt.fit_resample(x_train, y_train.ravel())"
      ],
      "metadata": {
        "id": "1d-uLckbR7VR"
      },
      "execution_count": 201,
      "outputs": []
    },
    {
      "cell_type": "code",
      "source": [
        "print(\"Before OverSampling, counts of label '1': {}\".format(sum(y_train==1)))\n",
        "print(\"Before OverSampling, counts of label '0': {} \\n\".format(sum(y_train==0)))\n",
        "\n",
        "sm = SMOTE(random_state=2)\n",
        "x_train_res, y_train_res = sm.fit_resample(x_train, y_train.ravel())\n",
        "\n",
        "print('After OverSampling, the shape of train_X: {}'.format(x_train_res.shape))\n",
        "print('After OverSampling, the shape of train_y: {} \\n'.format(y_train_res.shape))\n",
        "\n",
        "print(\"After OverSampling, counts of label '1': {}\".format(sum(y_train_res==1)))\n",
        "print(\"After OverSampling, counts of label '0': {}\".format(sum(y_train_res==0)))\n"
      ],
      "metadata": {
        "id": "cQaTIYx_SfCz",
        "outputId": "1eb51e93-8d9c-46bc-b889-717d2279a5d7",
        "colab": {
          "base_uri": "https://localhost:8080/"
        }
      },
      "execution_count": 202,
      "outputs": [
        {
          "output_type": "stream",
          "name": "stdout",
          "text": [
            "Before OverSampling, counts of label '1': 22627\n",
            "Before OverSampling, counts of label '0': 2121 \n",
            "\n",
            "After OverSampling, the shape of train_X: (45254, 9)\n",
            "After OverSampling, the shape of train_y: (45254,) \n",
            "\n",
            "After OverSampling, counts of label '1': 22627\n",
            "After OverSampling, counts of label '0': 22627\n"
          ]
        }
      ]
    },
    {
      "cell_type": "code",
      "source": [
        "logreg = LogisticRegression(solver='liblinear', random_state=0)\n",
        "\n",
        "\n",
        "# fit the model\n",
        "logreg.fit( x_train_res, y_train_res)"
      ],
      "metadata": {
        "colab": {
          "base_uri": "https://localhost:8080/"
        },
        "id": "8pW352_FiLfe",
        "outputId": "50d0009d-d4b6-46ab-9e8e-c9a080eecbe4"
      },
      "execution_count": 207,
      "outputs": [
        {
          "output_type": "execute_result",
          "data": {
            "text/plain": [
              "LogisticRegression(random_state=0, solver='liblinear')"
            ]
          },
          "metadata": {},
          "execution_count": 207
        }
      ]
    },
    {
      "cell_type": "code",
      "source": [
        "predictions = logreg.predict(x_test)\n",
        "print(classification_report(y_test, predictions))"
      ],
      "metadata": {
        "colab": {
          "base_uri": "https://localhost:8080/"
        },
        "id": "MjUhcH3OniGE",
        "outputId": "b0543e24-1c94-4715-b1b3-6a99a75a8c35"
      },
      "execution_count": 208,
      "outputs": [
        {
          "output_type": "stream",
          "name": "stdout",
          "text": [
            "              precision    recall  f1-score   support\n",
            "\n",
            "           0       0.16      0.65      0.26       523\n",
            "           1       0.96      0.69      0.80      5664\n",
            "\n",
            "    accuracy                           0.69      6187\n",
            "   macro avg       0.56      0.67      0.53      6187\n",
            "weighted avg       0.89      0.69      0.76      6187\n",
            "\n"
          ]
        }
      ]
    },
    {
      "cell_type": "code",
      "source": [
        "plot_confusion_matrix(logreg, x_test, y_test)"
      ],
      "metadata": {
        "id": "4UsB3JXgSBl4",
        "outputId": "189ed29b-b4d8-4eea-b6b4-4e47a5563a43",
        "colab": {
          "base_uri": "https://localhost:8080/",
          "height": 351
        }
      },
      "execution_count": 212,
      "outputs": [
        {
          "output_type": "stream",
          "name": "stderr",
          "text": [
            "/usr/local/lib/python3.8/dist-packages/sklearn/utils/deprecation.py:87: FutureWarning: Function plot_confusion_matrix is deprecated; Function `plot_confusion_matrix` is deprecated in 1.0 and will be removed in 1.2. Use one of the class methods: ConfusionMatrixDisplay.from_predictions or ConfusionMatrixDisplay.from_estimator.\n",
            "  warnings.warn(msg, category=FutureWarning)\n"
          ]
        },
        {
          "output_type": "execute_result",
          "data": {
            "text/plain": [
              "<sklearn.metrics._plot.confusion_matrix.ConfusionMatrixDisplay at 0x7f36a74155b0>"
            ]
          },
          "metadata": {},
          "execution_count": 212
        },
        {
          "output_type": "display_data",
          "data": {
            "text/plain": [
              "<Figure size 432x288 with 2 Axes>"
            ],
            "image/png": "[encoded data removed]"
          },
          "metadata": {
            "needs_background": "light"
          }
        }
      ]
    },
    {
      "cell_type": "markdown",
      "source": [
        "## Naive Bayes with SMOTE"
      ],
      "metadata": {
        "id": "MXc8XtuToBNa"
      }
    },
    {
      "cell_type": "code",
      "source": [
        "gnb = GaussianNB()\n",
        "\n",
        "\n",
        "# fit the model\n",
        "gnb.fit(x_train_res, y_train_res)"
      ],
      "metadata": {
        "colab": {
          "base_uri": "https://localhost:8080/"
        },
        "id": "x6iBXNu_iETZ",
        "outputId": "2b883c62-1c31-40e9-b351-fcbd24947534"
      },
      "execution_count": 213,
      "outputs": [
        {
          "output_type": "execute_result",
          "data": {
            "text/plain": [
              "GaussianNB()"
            ]
          },
          "metadata": {},
          "execution_count": 213
        }
      ]
    },
    {
      "cell_type": "code",
      "source": [
        "predictions = gnb.predict(x_test)\n",
        "print(classification_report(y_test, predictions))"
      ],
      "metadata": {
        "colab": {
          "base_uri": "https://localhost:8080/"
        },
        "id": "oOt4VCELoFnc",
        "outputId": "d56e973f-82e0-4902-cfbd-f833074cd362"
      },
      "execution_count": 214,
      "outputs": [
        {
          "output_type": "stream",
          "name": "stdout",
          "text": [
            "              precision    recall  f1-score   support\n",
            "\n",
            "           0       0.15      0.61      0.25       523\n",
            "           1       0.95      0.69      0.80      5664\n",
            "\n",
            "    accuracy                           0.68      6187\n",
            "   macro avg       0.55      0.65      0.52      6187\n",
            "weighted avg       0.88      0.68      0.75      6187\n",
            "\n"
          ]
        }
      ]
    },
    {
      "cell_type": "code",
      "source": [
        "plot_confusion_matrix(gnb, x_test, y_test)"
      ],
      "metadata": {
        "id": "Q4C9V_3sTL4a",
        "outputId": "a6663988-78be-4ff9-8a2e-34a66180c5d9",
        "colab": {
          "base_uri": "https://localhost:8080/",
          "height": 351
        }
      },
      "execution_count": 216,
      "outputs": [
        {
          "output_type": "stream",
          "name": "stderr",
          "text": [
            "/usr/local/lib/python3.8/dist-packages/sklearn/utils/deprecation.py:87: FutureWarning: Function plot_confusion_matrix is deprecated; Function `plot_confusion_matrix` is deprecated in 1.0 and will be removed in 1.2. Use one of the class methods: ConfusionMatrixDisplay.from_predictions or ConfusionMatrixDisplay.from_estimator.\n",
            "  warnings.warn(msg, category=FutureWarning)\n"
          ]
        },
        {
          "output_type": "execute_result",
          "data": {
            "text/plain": [
              "<sklearn.metrics._plot.confusion_matrix.ConfusionMatrixDisplay at 0x7f36a75717f0>"
            ]
          },
          "metadata": {},
          "execution_count": 216
        },
        {
          "output_type": "display_data",
          "data": {
            "text/plain": [
              "<Figure size 432x288 with 2 Axes>"
            ],
            "image/png": "[encoded data removed]"
          },
          "metadata": {
            "needs_background": "light"
          }
        }
      ]
    },
    {
      "cell_type": "code",
      "source": [
        "gnb.score(x_train_res, y_train_res)"
      ],
      "metadata": {
        "colab": {
          "base_uri": "https://localhost:8080/"
        },
        "id": "iUZnlrSpiZYo",
        "outputId": "285ac909-dd37-4b8b-d725-9c354912bf60"
      },
      "execution_count": 139,
      "outputs": [
        {
          "output_type": "execute_result",
          "data": {
            "text/plain": [
              "0.6696715184028846"
            ]
          },
          "metadata": {},
          "execution_count": 139
        }
      ]
    }
  ]
}